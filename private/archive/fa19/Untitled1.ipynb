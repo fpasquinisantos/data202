{
 "cells": [
  {
   "cell_type": "code",
   "execution_count": 1,
   "metadata": {},
   "outputs": [],
   "source": [
    "import pandas as pd"
   ]
  },
  {
   "cell_type": "code",
   "execution_count": 2,
   "metadata": {},
   "outputs": [],
   "source": [
    "ggrades = pd.read_excel(\"/Users/kcarnold/Downloads/19FA CS-108-A Grades-1.xlsx\")"
   ]
  },
  {
   "cell_type": "code",
   "execution_count": 5,
   "metadata": {},
   "outputs": [
    {
     "name": "stdout",
     "output_type": "stream",
     "text": [
      "<class 'pandas.core.frame.DataFrame'>\n",
      "RangeIndex: 63 entries, 0 to 62\n",
      "Data columns (total 68 columns):\n",
      "First name                          63 non-null object\n",
      "Last name                           63 non-null object\n",
      "ID number                           63 non-null int64\n",
      "Institution                         0 non-null float64\n",
      "Department                          0 non-null float64\n",
      "Email address                       63 non-null object\n",
      "Guide 1 (Real)                      63 non-null object\n",
      "Guide 2 (Real)                      63 non-null object\n",
      "Guide 3 (Real)                      63 non-null object\n",
      "Guide 4 (Real)                      63 non-null object\n",
      "Guide 5 (Real)                      63 non-null object\n",
      "Guide 6 (Real)                      63 non-null object\n",
      "Guide 7 (Real)                      63 non-null object\n",
      "Guide 8 (Real)                      63 non-null object\n",
      "Guide 9 (Real)                      63 non-null object\n",
      "Guide 10 (Real)                     63 non-null object\n",
      "Guide 11 (Real)                     63 non-null object\n",
      "Guide 12 (Real)                     63 non-null object\n",
      "Guide 13 (Real)                     63 non-null object\n",
      "Guide 14 (Real)                     63 non-null object\n",
      "guide total (Real)                  63 non-null object\n",
      "Assignment:Lab 1 (Real)             63 non-null object\n",
      "Assignment:Lab 2 (Real)             63 non-null object\n",
      "Assignment:Lab 3 (Real)             63 non-null object\n",
      "Assignment:Lab 4 (Real)             63 non-null object\n",
      "Assignment:Lab 5 (Real)             63 non-null object\n",
      "Assignment:Lab 6 (Real)             63 non-null object\n",
      "Assignment:Lab 7 (Real)             63 non-null object\n",
      "Assignment:Lab 8 (Real)             63 non-null object\n",
      "Assignment:Lab 9 (Real)             63 non-null object\n",
      "Assignment:Lab 10 (Real)            63 non-null object\n",
      "Assignment:Lab 11 (Real)            63 non-null object\n",
      "Assignment:Lab 12 (Real)            63 non-null object\n",
      "Assignment:Lab 13 (Real)            63 non-null object\n",
      "Assignment:Lab 14 (Real)            63 non-null object\n",
      "lab total (Real)                    63 non-null object\n",
      "Assignment:Homework 1 (Real)        63 non-null object\n",
      "Assignment:Homework 2 (Real)        63 non-null object\n",
      "Assignment:Homework 3 (Real)        63 non-null object\n",
      "Assignment:Homework 4 (Real)        63 non-null object\n",
      "Assignment:Homework 5 (Real)        63 non-null object\n",
      "Assignment:Homework 6 (Real)        63 non-null object\n",
      "Assignment:Homework 7 (Real)        63 non-null object\n",
      "Assignment:Homework 8 (Real)        63 non-null object\n",
      "Assignment:Homework 9 (Real)        63 non-null object\n",
      "Assignment:Homework 10 (Real)       63 non-null object\n",
      "Assignment:Homework 11 (Real)       63 non-null object\n",
      "Assignment:Homework 12 (Real)       63 non-null object\n",
      "Assignment:Homework 13 (Real)       63 non-null object\n",
      "Assignment:Homework 14 (Real)       63 non-null object\n",
      "homework total (Real)               63 non-null object\n",
      "Quiz 1 (Real)                       63 non-null object\n",
      "Quiz 2 (Real)                       63 non-null object\n",
      "Quiz 3 (Real)                       63 non-null object\n",
      "Quiz 4 (Real)                       63 non-null object\n",
      "Quiz 5 (Real)                       63 non-null object\n",
      "Quiz 6 (Real)                       63 non-null object\n",
      "quiz total (Real)                   63 non-null object\n",
      "Assignment:Project 1 (Real)         63 non-null object\n",
      "Assignment:Project 2 (Real)         63 non-null object\n",
      "Assignment:Project 3 (Real)         63 non-null object\n",
      "Assignment:Project 4 (Real)         63 non-null object\n",
      "Assignment:Project 5 (Real)         63 non-null object\n",
      "project total (Real)                63 non-null object\n",
      "Section (Real)                      63 non-null object\n",
      "Grace (Real)                        63 non-null object\n",
      "Course total (Real)                 63 non-null object\n",
      "Last downloaded from this course    63 non-null int64\n",
      "dtypes: float64(2), int64(2), object(64)\n",
      "memory usage: 33.5+ KB\n"
     ]
    }
   ],
   "source": [
    "ggrades.info()"
   ]
  },
  {
   "cell_type": "code",
   "execution_count": 10,
   "metadata": {},
   "outputs": [
    {
     "ename": "AttributeError",
     "evalue": "'DataFrame' object has no attribute 'map'",
     "output_type": "error",
     "traceback": [
      "\u001b[0;31m---------------------------------------------------------------------------\u001b[0m",
      "\u001b[0;31mAttributeError\u001b[0m                            Traceback (most recent call last)",
      "\u001b[0;32m<ipython-input-10-e6e16c32c103>\u001b[0m in \u001b[0;36m<module>\u001b[0;34m\u001b[0m\n\u001b[0;32m----> 1\u001b[0;31m \u001b[0mggrades\u001b[0m\u001b[0;34m.\u001b[0m\u001b[0mmap\u001b[0m\u001b[0;34m(\u001b[0m\u001b[0;34m{\u001b[0m\u001b[0;34m'-'\u001b[0m\u001b[0;34m,\u001b[0m \u001b[0;32mNone\u001b[0m\u001b[0;34m}\u001b[0m\u001b[0;34m)\u001b[0m\u001b[0;34m\u001b[0m\u001b[0;34m\u001b[0m\u001b[0m\n\u001b[0m",
      "\u001b[0;32m//anaconda3/lib/python3.7/site-packages/pandas/core/generic.py\u001b[0m in \u001b[0;36m__getattr__\u001b[0;34m(self, name)\u001b[0m\n\u001b[1;32m   5065\u001b[0m             \u001b[0;32mif\u001b[0m \u001b[0mself\u001b[0m\u001b[0;34m.\u001b[0m\u001b[0m_info_axis\u001b[0m\u001b[0;34m.\u001b[0m\u001b[0m_can_hold_identifiers_and_holds_name\u001b[0m\u001b[0;34m(\u001b[0m\u001b[0mname\u001b[0m\u001b[0;34m)\u001b[0m\u001b[0;34m:\u001b[0m\u001b[0;34m\u001b[0m\u001b[0;34m\u001b[0m\u001b[0m\n\u001b[1;32m   5066\u001b[0m                 \u001b[0;32mreturn\u001b[0m \u001b[0mself\u001b[0m\u001b[0;34m[\u001b[0m\u001b[0mname\u001b[0m\u001b[0;34m]\u001b[0m\u001b[0;34m\u001b[0m\u001b[0;34m\u001b[0m\u001b[0m\n\u001b[0;32m-> 5067\u001b[0;31m             \u001b[0;32mreturn\u001b[0m \u001b[0mobject\u001b[0m\u001b[0;34m.\u001b[0m\u001b[0m__getattribute__\u001b[0m\u001b[0;34m(\u001b[0m\u001b[0mself\u001b[0m\u001b[0;34m,\u001b[0m \u001b[0mname\u001b[0m\u001b[0;34m)\u001b[0m\u001b[0;34m\u001b[0m\u001b[0;34m\u001b[0m\u001b[0m\n\u001b[0m\u001b[1;32m   5068\u001b[0m \u001b[0;34m\u001b[0m\u001b[0m\n\u001b[1;32m   5069\u001b[0m     \u001b[0;32mdef\u001b[0m \u001b[0m__setattr__\u001b[0m\u001b[0;34m(\u001b[0m\u001b[0mself\u001b[0m\u001b[0;34m,\u001b[0m \u001b[0mname\u001b[0m\u001b[0;34m,\u001b[0m \u001b[0mvalue\u001b[0m\u001b[0;34m)\u001b[0m\u001b[0;34m:\u001b[0m\u001b[0;34m\u001b[0m\u001b[0;34m\u001b[0m\u001b[0m\n",
      "\u001b[0;31mAttributeError\u001b[0m: 'DataFrame' object has no attribute 'map'"
     ]
    }
   ],
   "source": [
    "ggrades.map({'-', None})"
   ]
  },
  {
   "cell_type": "code",
   "execution_count": 19,
   "metadata": {},
   "outputs": [
    {
     "data": {
      "text/plain": [
       "Section (Real)\n",
       "1    12.136364\n",
       "2    12.240741\n",
       "-          NaN\n",
       "Name: Quiz 5 (Real), dtype: float64"
      ]
     },
     "execution_count": 19,
     "metadata": {},
     "output_type": "execute_result"
    }
   ],
   "source": [
    "pd.to_numeric(ggrades['Quiz 5 (Real)'], errors='coerce').groupby(ggrades['Section (Real)']).mean()"
   ]
  },
  {
   "cell_type": "code",
   "execution_count": 8,
   "metadata": {},
   "outputs": [
    {
     "ename": "DataError",
     "evalue": "No numeric types to aggregate",
     "output_type": "error",
     "traceback": [
      "\u001b[0;31m---------------------------------------------------------------------------\u001b[0m",
      "\u001b[0;31mDataError\u001b[0m                                 Traceback (most recent call last)",
      "\u001b[0;32m<ipython-input-8-b9ad4240ec3e>\u001b[0m in \u001b[0;36m<module>\u001b[0;34m\u001b[0m\n\u001b[0;32m----> 1\u001b[0;31m \u001b[0mggrades\u001b[0m\u001b[0;34m.\u001b[0m\u001b[0mgroupby\u001b[0m\u001b[0;34m(\u001b[0m\u001b[0;34m'Section (Real)'\u001b[0m\u001b[0;34m)\u001b[0m\u001b[0;34m[\u001b[0m\u001b[0;34m'Quiz 5 (Real)'\u001b[0m\u001b[0;34m]\u001b[0m\u001b[0;34m.\u001b[0m\u001b[0mmean\u001b[0m\u001b[0;34m(\u001b[0m\u001b[0;34m)\u001b[0m\u001b[0;34m\u001b[0m\u001b[0;34m\u001b[0m\u001b[0m\n\u001b[0m",
      "\u001b[0;32m//anaconda3/lib/python3.7/site-packages/pandas/core/groupby/groupby.py\u001b[0m in \u001b[0;36mmean\u001b[0;34m(self, *args, **kwargs)\u001b[0m\n\u001b[1;32m   1130\u001b[0m         \u001b[0mnv\u001b[0m\u001b[0;34m.\u001b[0m\u001b[0mvalidate_groupby_func\u001b[0m\u001b[0;34m(\u001b[0m\u001b[0;34m'mean'\u001b[0m\u001b[0;34m,\u001b[0m \u001b[0margs\u001b[0m\u001b[0;34m,\u001b[0m \u001b[0mkwargs\u001b[0m\u001b[0;34m,\u001b[0m \u001b[0;34m[\u001b[0m\u001b[0;34m'numeric_only'\u001b[0m\u001b[0;34m]\u001b[0m\u001b[0;34m)\u001b[0m\u001b[0;34m\u001b[0m\u001b[0;34m\u001b[0m\u001b[0m\n\u001b[1;32m   1131\u001b[0m         \u001b[0;32mtry\u001b[0m\u001b[0;34m:\u001b[0m\u001b[0;34m\u001b[0m\u001b[0;34m\u001b[0m\u001b[0m\n\u001b[0;32m-> 1132\u001b[0;31m             \u001b[0;32mreturn\u001b[0m \u001b[0mself\u001b[0m\u001b[0;34m.\u001b[0m\u001b[0m_cython_agg_general\u001b[0m\u001b[0;34m(\u001b[0m\u001b[0;34m'mean'\u001b[0m\u001b[0;34m,\u001b[0m \u001b[0;34m**\u001b[0m\u001b[0mkwargs\u001b[0m\u001b[0;34m)\u001b[0m\u001b[0;34m\u001b[0m\u001b[0;34m\u001b[0m\u001b[0m\n\u001b[0m\u001b[1;32m   1133\u001b[0m         \u001b[0;32mexcept\u001b[0m \u001b[0mGroupByError\u001b[0m\u001b[0;34m:\u001b[0m\u001b[0;34m\u001b[0m\u001b[0;34m\u001b[0m\u001b[0m\n\u001b[1;32m   1134\u001b[0m             \u001b[0;32mraise\u001b[0m\u001b[0;34m\u001b[0m\u001b[0;34m\u001b[0m\u001b[0m\n",
      "\u001b[0;32m//anaconda3/lib/python3.7/site-packages/pandas/core/groupby/groupby.py\u001b[0m in \u001b[0;36m_cython_agg_general\u001b[0;34m(self, how, alt, numeric_only, min_count)\u001b[0m\n\u001b[1;32m    836\u001b[0m \u001b[0;34m\u001b[0m\u001b[0m\n\u001b[1;32m    837\u001b[0m         \u001b[0;32mif\u001b[0m \u001b[0mlen\u001b[0m\u001b[0;34m(\u001b[0m\u001b[0moutput\u001b[0m\u001b[0;34m)\u001b[0m \u001b[0;34m==\u001b[0m \u001b[0;36m0\u001b[0m\u001b[0;34m:\u001b[0m\u001b[0;34m\u001b[0m\u001b[0;34m\u001b[0m\u001b[0m\n\u001b[0;32m--> 838\u001b[0;31m             \u001b[0;32mraise\u001b[0m \u001b[0mDataError\u001b[0m\u001b[0;34m(\u001b[0m\u001b[0;34m'No numeric types to aggregate'\u001b[0m\u001b[0;34m)\u001b[0m\u001b[0;34m\u001b[0m\u001b[0;34m\u001b[0m\u001b[0m\n\u001b[0m\u001b[1;32m    839\u001b[0m \u001b[0;34m\u001b[0m\u001b[0m\n\u001b[1;32m    840\u001b[0m         \u001b[0;32mreturn\u001b[0m \u001b[0mself\u001b[0m\u001b[0;34m.\u001b[0m\u001b[0m_wrap_aggregated_output\u001b[0m\u001b[0;34m(\u001b[0m\u001b[0moutput\u001b[0m\u001b[0;34m,\u001b[0m \u001b[0mnames\u001b[0m\u001b[0;34m)\u001b[0m\u001b[0;34m\u001b[0m\u001b[0;34m\u001b[0m\u001b[0m\n",
      "\u001b[0;31mDataError\u001b[0m: No numeric types to aggregate"
     ]
    }
   ],
   "source": [
    "ggrades.groupby('Section (Real)')['Quiz 5 (Real)'].mean()"
   ]
  },
  {
   "cell_type": "code",
   "execution_count": null,
   "metadata": {},
   "outputs": [],
   "source": []
  }
 ],
 "metadata": {
  "kernelspec": {
   "display_name": "Python 3",
   "language": "python",
   "name": "python3"
  },
  "language_info": {
   "codemirror_mode": {
    "name": "ipython",
    "version": 3
   },
   "file_extension": ".py",
   "mimetype": "text/x-python",
   "name": "python",
   "nbconvert_exporter": "python",
   "pygments_lexer": "ipython3",
   "version": "3.7.3"
  }
 },
 "nbformat": 4,
 "nbformat_minor": 2
}
