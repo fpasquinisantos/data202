{
 "cells": [
  {
   "cell_type": "markdown",
   "metadata": {},
   "source": [
    "# Homework 5: Feature Engineering\n",
    "DATA 202 @ Calvin, FA19\n"
   ]
  },
  {
   "cell_type": "code",
   "execution_count": null,
   "metadata": {},
   "outputs": [],
   "source": [
    "# Imports\n",
    "import numpy as np\n",
    "import pandas as pd\n",
    "import matplotlib.pyplot as plt\n",
    "import seaborn as sns\n",
    "from pandas.plotting import register_matplotlib_converters\n",
    "register_matplotlib_converters()\n",
    "from sklearn.neighbors import KNeighborsRegressor\n",
    "from sklearn.linear_model import LinearRegression\n",
    "from sklearn import metrics\n",
    "%matplotlib inline\n",
    "\n",
    "# Set some display settings.\n",
    "sns.set(context='notebook')"
   ]
  },
  {
   "cell_type": "code",
   "execution_count": null,
   "metadata": {},
   "outputs": [],
   "source": [
    "# Here is a convenient function for you to use.\n",
    "def show_coefficients(model, feature_names):\n",
    "    '''\n",
    "    Show the coeffients and intercept of a linear model in a nice format.\n",
    "    \n",
    "    model: a LinearRegression object\n",
    "    feature_names: a sequence of column names (e.g., train_X.columns)\n",
    "    '''\n",
    "    coefs_with_intercept = np.r_[[model.intercept_], model.coef_]\n",
    "    feature_names_with_intercept = [\"intercept\"] + list(feature_names)\n",
    "    display(\n",
    "        pd.Series(coefs_with_intercept, index=feature_names_with_intercept)\n",
    "        .to_frame('coefficient')\n",
    "        .rename_axis(index=\"feature\")\n",
    "        .style.bar(align='mid'))"
   ]
  },
  {
   "cell_type": "markdown",
   "metadata": {},
   "source": [
    "# Setup\n",
    "\n",
    "We started working with the Capital Bike Share dataset in Homework 2 and 4. In this exercise we will use *multiple features* and *feature engineering* to dramatically improve our prediction performance. But as we saw in Lab 5, these tools also run the risk of *overfitting*, so be careful...\n",
    "\n",
    "As before, our basic goal will be to try to predict ridership in 2012 based on ridership data in 2011. So the 2011 data will be our *training set* and the 2012 data will be our *test set* (aka *held-out* data or sometimes *validation* data).\n",
    "\n",
    "First, we'll load up the data."
   ]
  },
  {
   "cell_type": "code",
   "execution_count": null,
   "metadata": {},
   "outputs": [],
   "source": [
    "hourly_counts_orig = pd.read_csv('data/hour.csv')\n",
    "print(len(hourly_counts_orig), \"observations\")\n",
    "hourly_counts_orig.head()"
   ]
  },
  {
   "cell_type": "markdown",
   "metadata": {},
   "source": [
    "## Renaming\n",
    "Some of those column names are pretty awful. Let's fix a few of them up."
   ]
  },
  {
   "cell_type": "code",
   "execution_count": null,
   "metadata": {},
   "outputs": [],
   "source": [
    "hourly_counts = hourly_counts_orig.rename(columns={\n",
    "    'dteday': 'date',\n",
    "    'hr': \"hour\",\n",
    "    'mnth': \"month\",\n",
    "    'weekday': \"day_of_week\",\n",
    "    'holiday': \"is_holiday\",\n",
    "    'workingday': \"is_workingday\",\n",
    "\n",
    "    'weathersit': \"precip_type\",\n",
    "    \"hum\": \"humidity\",\n",
    "    'cnt': \"rides\"\n",
    "}).drop([\"instant\", \"casual\", \"registered\"], axis=1)\n",
    "hourly_counts['day_of_year'] = pd.to_datetime(hourly_counts['date']).dt.dayofyear\n",
    "\n",
    "# Rearrange the column order\n",
    "hourly_counts = hourly_counts[['date', 'day_of_year', 'season', 'yr', 'day_of_week', 'month',\n",
    "       'hour', 'is_holiday', 'is_workingday', 'precip_type', 'temp', 'atemp',\n",
    "       'humidity', 'windspeed', 'rides']]\n",
    "hourly_counts.head()"
   ]
  },
  {
   "cell_type": "code",
   "execution_count": null,
   "metadata": {},
   "outputs": [],
   "source": [
    "plt.plot(\n",
    "    hourly_counts.groupby(\n",
    "        pd.to_datetime(hourly_counts['date'])\n",
    "    ).rides.sum(),\n",
    "    '.')\n",
    "plt.xlabel(\"Date\")\n",
    "plt.ylabel(\"# Rides\");"
   ]
  },
  {
   "cell_type": "markdown",
   "metadata": {},
   "source": [
    "# HACK!\n",
    "*(You may safely ignore this section.)*\n",
    "\n",
    "Since the bike share program was overall more popular in 2012 than in 2011, predicting based on 2011 data will systematically under-predict ridership in 2012. More advanced modeling and validation techniques can handle this shift directly, but for now we'll do this little hack to make our current tools work. (Only do this in real life if you have a *really* good explanation for why, and be *totally* transparent about it if you do.)"
   ]
  },
  {
   "cell_type": "markdown",
   "metadata": {},
   "source": [
    "First, we notice that there were many more rides in 2012 than in 2011."
   ]
  },
  {
   "cell_type": "code",
   "execution_count": null,
   "metadata": {},
   "outputs": [],
   "source": [
    "hourly_counts.groupby('yr').rides.sum()"
   ]
  },
  {
   "cell_type": "markdown",
   "metadata": {},
   "source": [
    "To make things comparable, let's normalize by popularity. Of course we wouldn't actually *know* the total popularity of 2012 during that year, which is why this particular approach is labeled \"HACK!\"."
   ]
  },
  {
   "cell_type": "code",
   "execution_count": null,
   "metadata": {},
   "outputs": [],
   "source": [
    "year_counts = hourly_counts.groupby('yr').rides.sum()\n",
    "ratio = year_counts[1] / year_counts[0]\n",
    "print(\"Scaling test set by\", ratio)\n",
    "\n",
    "hourly_counts['rides'] = np.where(hourly_counts.yr == 0, hourly_counts.rides, hourly_counts.rides / ratio)\n",
    "print(\"New ridership totals by year:\", hourly_counts.groupby('yr').rides.sum())"
   ]
  },
  {
   "cell_type": "markdown",
   "metadata": {},
   "source": [
    "## Train-Test Split\n",
    "We're going to use 2011 as the training set and 2012 as the test set."
   ]
  },
  {
   "cell_type": "code",
   "execution_count": null,
   "metadata": {},
   "outputs": [],
   "source": [
    "train = hourly_counts[hourly_counts.yr == 0]\n",
    "test = hourly_counts[hourly_counts.yr == 1]"
   ]
  },
  {
   "cell_type": "code",
   "execution_count": null,
   "metadata": {},
   "outputs": [],
   "source": [
    "assert train['date'].iloc[0] == '2011-01-01'\n",
    "assert test['date'].iloc[0] == '2012-01-01'\n",
    "assert all(train['date'].str.startswith('2011'))\n",
    "assert all(test['date'].str.startswith('2012'))\n",
    "assert len(train) + len(test) == len(hourly_counts)"
   ]
  },
  {
   "cell_type": "code",
   "execution_count": null,
   "metadata": {},
   "outputs": [],
   "source": [
    "train.drop([\"yr\"], axis=1).head()"
   ]
  },
  {
   "cell_type": "markdown",
   "metadata": {},
   "source": [
    "# A Single Feature"
   ]
  },
  {
   "cell_type": "markdown",
   "metadata": {},
   "source": [
    "Does apparent temperature (\"feels like\") affect ridership? Let's make a quick plot (we did this already last homework)."
   ]
  },
  {
   "cell_type": "code",
   "execution_count": null,
   "metadata": {},
   "outputs": [],
   "source": [
    "plt.scatter(train['atemp'], train['rides'], s=.1)"
   ]
  },
  {
   "cell_type": "markdown",
   "metadata": {},
   "source": [
    "It looks like it does.\n",
    "\n",
    "# Exercise 1: Fit a linear regression predicting `rides` from `atemp`\n",
    "\n",
    "## 1a: Make a model called `temp_only_model`."
   ]
  },
  {
   "cell_type": "code",
   "execution_count": null,
   "metadata": {},
   "outputs": [],
   "source": [
    "def transform(data):\n",
    "    ...\n",
    "    ...\n",
    "    return X, y\n",
    "\n",
    "..."
   ]
  },
  {
   "cell_type": "markdown",
   "metadata": {},
   "source": [
    "## 1b: Show the model's MSE and R2 for the training and test set\n",
    "Use a function to computate and display the scores so you don't have to repeat quite so much code."
   ]
  },
  {
   "cell_type": "code",
   "execution_count": null,
   "metadata": {},
   "outputs": [],
   "source": [
    "def show_scores(train_y, train_y_pred, test_y, test_y_pred):\n",
    "    ...\n"
   ]
  },
  {
   "cell_type": "markdown",
   "metadata": {},
   "source": [
    "# Exercise 2: Add `month` as a continuous feature\n",
    "## 2a: Make a model called `temp_and_month_model`"
   ]
  },
  {
   "cell_type": "code",
   "execution_count": 4,
   "metadata": {},
   "outputs": [],
   "source": [
    "# your code here"
   ]
  },
  {
   "cell_type": "markdown",
   "metadata": {},
   "source": [
    "## 2b: Show the model's MSE and R2 for the training and test set\n",
    "Use a function to computate and display the scores so you don't have to repeat quite so much code."
   ]
  },
  {
   "cell_type": "markdown",
   "metadata": {},
   "source": [
    "Does `temp_and_month_model` predict better or worse than `temp_only_model`? How can you tell?"
   ]
  },
  {
   "cell_type": "markdown",
   "metadata": {},
   "source": [
    "*answer*"
   ]
  },
  {
   "cell_type": "markdown",
   "metadata": {},
   "source": [
    "For each of the following hypothetical kinds of relationships, can `temp_and_month_model` model them? Answer just *yes* or *no*:\n",
    "\n",
    "1. There were more rides in summer months than winter months\n",
    "2. The number of rides increased overall throughout the year.\n",
    "3. A 1-degree increase in temperature has a larger effect on ridership in winter months than in summer months."
   ]
  },
  {
   "cell_type": "markdown",
   "metadata": {},
   "source": [
    "*Answer*:\n",
    "\n",
    "1. __\n",
    "2. __\n",
    "3. __"
   ]
  },
  {
   "cell_type": "markdown",
   "metadata": {},
   "source": [
    "# Exercise 3: Add `month` as a one-hot-encoded feature instead"
   ]
  },
  {
   "cell_type": "code",
   "execution_count": 5,
   "metadata": {},
   "outputs": [],
   "source": [
    "# your code here"
   ]
  },
  {
   "cell_type": "markdown",
   "metadata": {},
   "source": [
    "Why would it have been redundant to include `month_1`?"
   ]
  },
  {
   "cell_type": "markdown",
   "metadata": {},
   "source": [
    "*answer*"
   ]
  },
  {
   "cell_type": "markdown",
   "metadata": {},
   "source": [
    "Does `temp_and_month_model` predict better or worse than `temp_only_model`? How can you tell?"
   ]
  },
  {
   "cell_type": "markdown",
   "metadata": {},
   "source": [
    "*answer*"
   ]
  },
  {
   "cell_type": "markdown",
   "metadata": {},
   "source": [
    "For each of the following hypothetical kinds of relationships, can `temp_and_month_model` model (now with the one-hot encoding) model them? Answer just *yes* or *no*:\n",
    "\n",
    "1. There were more rides in summer months than winter months\n",
    "2. The number of rides increased overall throughout the year.\n",
    "3. A 1-degree increase in temperature has a larger effect on ridership in winter months than in summer months."
   ]
  },
  {
   "cell_type": "markdown",
   "metadata": {},
   "source": [
    "*Answer*:\n",
    "\n",
    "1. __\n",
    "2. __\n",
    "3. __"
   ]
  },
  {
   "cell_type": "markdown",
   "metadata": {},
   "source": [
    "# Exercise 4: Instead of `month`, one-hot encode `date`."
   ]
  },
  {
   "cell_type": "code",
   "execution_count": 6,
   "metadata": {},
   "outputs": [
    {
     "ename": "NameError",
     "evalue": "name 'train' is not defined",
     "output_type": "error",
     "traceback": [
      "\u001b[0;31m---------------------------------------------------------------------------\u001b[0m",
      "\u001b[0;31mNameError\u001b[0m                                 Traceback (most recent call last)",
      "\u001b[0;32m<ipython-input-6-8060e2624379>\u001b[0m in \u001b[0;36m<module>\u001b[0;34m\u001b[0m\n\u001b[0;32m----> 1\u001b[0;31m \u001b[0mdates\u001b[0m \u001b[0;34m=\u001b[0m \u001b[0msorted\u001b[0m\u001b[0;34m(\u001b[0m\u001b[0mset\u001b[0m\u001b[0;34m(\u001b[0m\u001b[0mtrain\u001b[0m\u001b[0;34m[\u001b[0m\u001b[0;34m'date'\u001b[0m\u001b[0;34m]\u001b[0m\u001b[0;34m)\u001b[0m\u001b[0;34m)\u001b[0m\u001b[0;34m\u001b[0m\u001b[0;34m\u001b[0m\u001b[0m\n\u001b[0m",
      "\u001b[0;31mNameError\u001b[0m: name 'train' is not defined"
     ]
    }
   ],
   "source": [
    "dates = sorted(set(train['date']))"
   ]
  },
  {
   "cell_type": "markdown",
   "metadata": {},
   "source": [
    "What happened? Why?"
   ]
  },
  {
   "cell_type": "markdown",
   "metadata": {},
   "source": [
    "*answer*"
   ]
  },
  {
   "cell_type": "markdown",
   "metadata": {},
   "source": [
    "# Exercise 5: Add a one-hot encoding for `hour`\n"
   ]
  },
  {
   "cell_type": "code",
   "execution_count": 7,
   "metadata": {},
   "outputs": [],
   "source": [
    "# your code here"
   ]
  },
  {
   "cell_type": "markdown",
   "metadata": {},
   "source": [
    "How does the performance of this new model compare to the best previous model?"
   ]
  },
  {
   "cell_type": "markdown",
   "metadata": {},
   "source": [
    "*your answer here*"
   ]
  },
  {
   "cell_type": "markdown",
   "metadata": {},
   "source": [
    "Why did adding features for `month` and `hour` improve performance on the test set, while adding `date` did not?"
   ]
  },
  {
   "cell_type": "markdown",
   "metadata": {},
   "source": [
    "*your answer here*"
   ]
  },
  {
   "cell_type": "markdown",
   "metadata": {},
   "source": [
    "# Exercise 6: Change the scale of the indicator variables\n",
    "\n",
    "When we did one-hot encoding, we arbitrarily picked 1.0 to be the value that would indicate the active month. What if we used 10.0 instead of 1.0? **Copy your code for `temp_and_month_model` to here** and **change the 1.0 to 10.0** for the indicator scale."
   ]
  },
  {
   "cell_type": "markdown",
   "metadata": {},
   "source": [
    "How does the **accuracy** of the 10.0 model on the training and test set compare with the 1.0 model?"
   ]
  },
  {
   "cell_type": "markdown",
   "metadata": {},
   "source": [
    "*answer*"
   ]
  },
  {
   "cell_type": "markdown",
   "metadata": {},
   "source": [
    "How do the **coefficients** of the 10.0 model compare with the coefficients of the 1.0 model?"
   ]
  },
  {
   "cell_type": "markdown",
   "metadata": {},
   "source": [
    "*answer*"
   ]
  },
  {
   "cell_type": "markdown",
   "metadata": {},
   "source": [
    "**True or False**: The larger the coefficient of a feature is, the more important that feature is to the model."
   ]
  },
  {
   "cell_type": "markdown",
   "metadata": {},
   "source": [
    "*answer*"
   ]
  },
  {
   "cell_type": "markdown",
   "metadata": {},
   "source": [
    "# Exercise 7: Add a 2nd-degree polynomial term for `atemp`\n",
    "The model should now include the following features:\n",
    "* `atemp`\n",
    "* `atemp ** 2`\n",
    "* `month` (one-hot encoded)\n",
    "* `hour` (one-hot encoded)"
   ]
  },
  {
   "cell_type": "markdown",
   "metadata": {},
   "source": [
    "How does the performance of this new model compare to the best previous model?"
   ]
  },
  {
   "cell_type": "markdown",
   "metadata": {},
   "source": [
    "*your answer here*"
   ]
  },
  {
   "cell_type": "markdown",
   "metadata": {},
   "source": [
    "# Exercise 8: Use a k-NN model\n",
    "\n",
    "Try using a KNeighborsRegressor instead of the LinearRegression. Note that you'll need to set a value for n_neighbors. What do you notice?"
   ]
  },
  {
   "cell_type": "code",
   "execution_count": null,
   "metadata": {},
   "outputs": [],
   "source": []
  }
 ],
 "metadata": {
  "kernelspec": {
   "display_name": "Python 3",
   "language": "python",
   "name": "python3"
  },
  "language_info": {
   "codemirror_mode": {
    "name": "ipython",
    "version": 3
   },
   "file_extension": ".py",
   "mimetype": "text/x-python",
   "name": "python",
   "nbconvert_exporter": "python",
   "pygments_lexer": "ipython3",
   "version": "3.7.3"
  }
 },
 "nbformat": 4,
 "nbformat_minor": 2
}
