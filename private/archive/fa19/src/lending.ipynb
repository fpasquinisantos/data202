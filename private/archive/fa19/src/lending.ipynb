{
 "cells": [
  {
   "cell_type": "code",
   "execution_count": 3,
   "metadata": {},
   "outputs": [],
   "source": [
    "import pandas as pd"
   ]
  },
  {
   "cell_type": "code",
   "execution_count": 1,
   "metadata": {},
   "outputs": [],
   "source": [
    "!mv /Users/kcarnold/Downloads/hmda_2017_nationwide_first-lien-owner-occupied-1-4-family-records_labels.zip ."
   ]
  },
  {
   "cell_type": "code",
   "execution_count": 4,
   "metadata": {},
   "outputs": [
    {
     "name": "stderr",
     "output_type": "stream",
     "text": [
      "//anaconda3/lib/python3.7/site-packages/IPython/core/interactiveshell.py:3057: DtypeWarning: Columns (34,36,38,44,46,48) have mixed types. Specify dtype option on import or set low_memory=False.\n",
      "  interactivity=interactivity, compiler=compiler, result=result)\n"
     ]
    }
   ],
   "source": [
    "data = pd.read_csv('hmda_2017_nationwide_first-lien-owner-occupied-1-4-family-records_labels.zip')"
   ]
  },
  {
   "cell_type": "code",
   "execution_count": 18,
   "metadata": {},
   "outputs": [],
   "source": [
    "del data"
   ]
  },
  {
   "cell_type": "code",
   "execution_count": 19,
   "metadata": {},
   "outputs": [
    {
     "name": "stderr",
     "output_type": "stream",
     "text": [
      "//anaconda3/lib/python3.7/site-packages/IPython/core/interactiveshell.py:3057: DtypeWarning: Columns (34,36,38,44,46,48,61) have mixed types. Specify dtype option on import or set low_memory=False.\n",
      "  interactivity=interactivity, compiler=compiler, result=result)\n"
     ]
    }
   ],
   "source": [
    "data = pd.read_csv(\"https://files.consumerfinance.gov/hmda-historic-loan-data/hmda_2017_mi_all-records_labels.zip\")"
   ]
  },
  {
   "cell_type": "code",
   "execution_count": 20,
   "metadata": {},
   "outputs": [
    {
     "name": "stdout",
     "output_type": "stream",
     "text": [
      "<class 'pandas.core.frame.DataFrame'>\n",
      "RangeIndex: 437181 entries, 0 to 437180\n",
      "Data columns (total 78 columns):\n",
      "as_of_year                        437181 non-null int64\n",
      "respondent_id                     437181 non-null object\n",
      "agency_name                       437181 non-null object\n",
      "agency_abbr                       437181 non-null object\n",
      "agency_code                       437181 non-null int64\n",
      "loan_type_name                    437181 non-null object\n",
      "loan_type                         437181 non-null int64\n",
      "property_type_name                437181 non-null object\n",
      "property_type                     437181 non-null int64\n",
      "loan_purpose_name                 437181 non-null object\n",
      "loan_purpose                      437181 non-null int64\n",
      "owner_occupancy_name              437181 non-null object\n",
      "owner_occupancy                   437181 non-null int64\n",
      "loan_amount_000s                  437181 non-null int64\n",
      "preapproval_name                  437181 non-null object\n",
      "preapproval                       437181 non-null int64\n",
      "action_taken_name                 437181 non-null object\n",
      "action_taken                      437181 non-null int64\n",
      "msamd_name                        362961 non-null object\n",
      "msamd                             363087 non-null float64\n",
      "state_name                        437181 non-null object\n",
      "state_abbr                        437181 non-null object\n",
      "state_code                        437181 non-null int64\n",
      "county_name                       429676 non-null object\n",
      "county_code                       429676 non-null float64\n",
      "census_tract_number               428301 non-null float64\n",
      "applicant_ethnicity_name          437181 non-null object\n",
      "applicant_ethnicity               437181 non-null int64\n",
      "co_applicant_ethnicity_name       437181 non-null object\n",
      "co_applicant_ethnicity            437181 non-null int64\n",
      "applicant_race_name_1             437181 non-null object\n",
      "applicant_race_1                  437181 non-null int64\n",
      "applicant_race_name_2             1783 non-null object\n",
      "applicant_race_2                  1783 non-null float64\n",
      "applicant_race_name_3             104 non-null object\n",
      "applicant_race_3                  104 non-null float64\n",
      "applicant_race_name_4             17 non-null object\n",
      "applicant_race_4                  17 non-null float64\n",
      "applicant_race_name_5             12 non-null object\n",
      "applicant_race_5                  12 non-null float64\n",
      "co_applicant_race_name_1          437181 non-null object\n",
      "co_applicant_race_1               437181 non-null int64\n",
      "co_applicant_race_name_2          438 non-null object\n",
      "co_applicant_race_2               438 non-null float64\n",
      "co_applicant_race_name_3          25 non-null object\n",
      "co_applicant_race_3               25 non-null float64\n",
      "co_applicant_race_name_4          3 non-null object\n",
      "co_applicant_race_4               3 non-null float64\n",
      "co_applicant_race_name_5          3 non-null object\n",
      "co_applicant_race_5               3 non-null float64\n",
      "applicant_sex_name                437181 non-null object\n",
      "applicant_sex                     437181 non-null int64\n",
      "co_applicant_sex_name             437181 non-null object\n",
      "co_applicant_sex                  437181 non-null int64\n",
      "applicant_income_000s             389854 non-null float64\n",
      "purchaser_type_name               437181 non-null object\n",
      "purchaser_type                    437181 non-null int64\n",
      "denial_reason_name_1              40744 non-null object\n",
      "denial_reason_1                   40744 non-null float64\n",
      "denial_reason_name_2              6861 non-null object\n",
      "denial_reason_2                   6861 non-null float64\n",
      "denial_reason_name_3              957 non-null object\n",
      "denial_reason_3                   957 non-null float64\n",
      "rate_spread                       19861 non-null float64\n",
      "hoepa_status_name                 437181 non-null object\n",
      "hoepa_status                      437181 non-null int64\n",
      "lien_status_name                  437181 non-null object\n",
      "lien_status                       437181 non-null int64\n",
      "edit_status_name                  0 non-null float64\n",
      "edit_status                       0 non-null float64\n",
      "sequence_number                   0 non-null float64\n",
      "population                        428301 non-null float64\n",
      "minority_population               428301 non-null float64\n",
      "hud_median_family_income          428301 non-null float64\n",
      "tract_to_msamd_income             428301 non-null float64\n",
      "number_of_owner_occupied_units    428301 non-null float64\n",
      "number_of_1_to_4_family_units     428301 non-null float64\n",
      "application_date_indicator        0 non-null float64\n",
      "dtypes: float64(26), int64(19), object(33)\n",
      "memory usage: 260.2+ MB\n"
     ]
    }
   ],
   "source": [
    "data.info()"
   ]
  },
  {
   "cell_type": "code",
   "execution_count": 21,
   "metadata": {},
   "outputs": [
    {
     "data": {
      "text/plain": [
       "Loan originated                                        241945\n",
       "Application denied by financial institution             65175\n",
       "Loan purchased by the institution                       50977\n",
       "Application withdrawn by applicant                      46782\n",
       "File closed for incompleteness                          20168\n",
       "Application approved but not accepted                   12102\n",
       "Preapproval request denied by financial institution        26\n",
       "Preapproval request approved but not accepted               6\n",
       "Name: action_taken_name, dtype: int64"
      ]
     },
     "execution_count": 21,
     "metadata": {},
     "output_type": "execute_result"
    }
   ],
   "source": [
    "data['action_taken_name'].value_counts()"
   ]
  },
  {
   "cell_type": "code",
   "execution_count": 28,
   "metadata": {},
   "outputs": [
    {
     "name": "stdout",
     "output_type": "stream",
     "text": [
      "307120\n"
     ]
    },
    {
     "data": {
      "text/plain": [
       "Loan originated                                241945\n",
       "Application denied by financial institution     65175\n",
       "Name: action_taken_name, dtype: int64"
      ]
     },
     "execution_count": 28,
     "metadata": {},
     "output_type": "execute_result"
    }
   ],
   "source": [
    "subset = data[data.action_taken.isin([1, 3])].copy()\n",
    "print(len(subset))\n",
    "subset.action_taken_name.value_counts()"
   ]
  },
  {
   "cell_type": "code",
   "execution_count": 31,
   "metadata": {},
   "outputs": [
    {
     "data": {
      "text/plain": [
       "True     241945\n",
       "False     65175\n",
       "Name: approved, dtype: int64"
      ]
     },
     "execution_count": 31,
     "metadata": {},
     "output_type": "execute_result"
    }
   ],
   "source": [
    "subset['approved'] = data['action_taken'] == 1 \n",
    "subset['approved'].value_counts()"
   ]
  },
  {
   "cell_type": "code",
   "execution_count": 32,
   "metadata": {},
   "outputs": [],
   "source": [
    "import seaborn as sns"
   ]
  },
  {
   "cell_type": "code",
   "execution_count": 41,
   "metadata": {},
   "outputs": [
    {
     "data": {
      "text/plain": [
       "<matplotlib.axes._subplots.AxesSubplot at 0x13bcab908>"
      ]
     },
     "execution_count": 41,
     "metadata": {},
     "output_type": "execute_result"
    },
    {
     "data": {
      "image/png": "[encoded data removed]",
      "text/plain": [
       "<Figure size 432x288 with 1 Axes>"
      ]
     },
     "metadata": {
      "needs_background": "light"
     },
     "output_type": "display_data"
    }
   ],
   "source": [
    "sns.violinplot(y=\"applicant_race_name_1\", hue='approved', split=True, x='applicant_income_000s', data=subset.query('applicant_income_000s < 1e2'))"
   ]
  },
  {
   "cell_type": "code",
   "execution_count": 6,
   "metadata": {},
   "outputs": [
    {
     "data": {
      "text/html": [
       "<div>\n",
       "<style scoped>\n",
       "    .dataframe tbody tr th:only-of-type {\n",
       "        vertical-align: middle;\n",
       "    }\n",
       "\n",
       "    .dataframe tbody tr th {\n",
       "        vertical-align: top;\n",
       "    }\n",
       "\n",
       "    .dataframe thead th {\n",
       "        text-align: right;\n",
       "    }\n",
       "</style>\n",
       "<table border=\"1\" class=\"dataframe\">\n",
       "  <thead>\n",
       "    <tr style=\"text-align: right;\">\n",
       "      <th></th>\n",
       "      <th>as_of_year</th>\n",
       "      <th>respondent_id</th>\n",
       "      <th>agency_name</th>\n",
       "      <th>agency_abbr</th>\n",
       "      <th>agency_code</th>\n",
       "      <th>loan_type_name</th>\n",
       "      <th>loan_type</th>\n",
       "      <th>property_type_name</th>\n",
       "      <th>property_type</th>\n",
       "      <th>loan_purpose_name</th>\n",
       "      <th>...</th>\n",
       "      <th>edit_status_name</th>\n",
       "      <th>edit_status</th>\n",
       "      <th>sequence_number</th>\n",
       "      <th>population</th>\n",
       "      <th>minority_population</th>\n",
       "      <th>hud_median_family_income</th>\n",
       "      <th>tract_to_msamd_income</th>\n",
       "      <th>number_of_owner_occupied_units</th>\n",
       "      <th>number_of_1_to_4_family_units</th>\n",
       "      <th>application_date_indicator</th>\n",
       "    </tr>\n",
       "  </thead>\n",
       "  <tbody>\n",
       "    <tr>\n",
       "      <th>0</th>\n",
       "      <td>2017</td>\n",
       "      <td>0000068601</td>\n",
       "      <td>National Credit Union Administration</td>\n",
       "      <td>NCUA</td>\n",
       "      <td>5</td>\n",
       "      <td>Conventional</td>\n",
       "      <td>1</td>\n",
       "      <td>One-to-four family dwelling (other than manufa...</td>\n",
       "      <td>1</td>\n",
       "      <td>Home purchase</td>\n",
       "      <td>...</td>\n",
       "      <td>NaN</td>\n",
       "      <td>NaN</td>\n",
       "      <td>NaN</td>\n",
       "      <td>4272.0</td>\n",
       "      <td>2.790000</td>\n",
       "      <td>55800.0</td>\n",
       "      <td>99.970001</td>\n",
       "      <td>1609.0</td>\n",
       "      <td>2271.0</td>\n",
       "      <td>NaN</td>\n",
       "    </tr>\n",
       "    <tr>\n",
       "      <th>1</th>\n",
       "      <td>2017</td>\n",
       "      <td>0000063194</td>\n",
       "      <td>National Credit Union Administration</td>\n",
       "      <td>NCUA</td>\n",
       "      <td>5</td>\n",
       "      <td>FHA-insured</td>\n",
       "      <td>2</td>\n",
       "      <td>One-to-four family dwelling (other than manufa...</td>\n",
       "      <td>1</td>\n",
       "      <td>Home purchase</td>\n",
       "      <td>...</td>\n",
       "      <td>NaN</td>\n",
       "      <td>NaN</td>\n",
       "      <td>NaN</td>\n",
       "      <td>5451.0</td>\n",
       "      <td>10.790000</td>\n",
       "      <td>56800.0</td>\n",
       "      <td>128.639999</td>\n",
       "      <td>1601.0</td>\n",
       "      <td>1814.0</td>\n",
       "      <td>NaN</td>\n",
       "    </tr>\n",
       "    <tr>\n",
       "      <th>2</th>\n",
       "      <td>2017</td>\n",
       "      <td>0000451965</td>\n",
       "      <td>Consumer Financial Protection Bureau</td>\n",
       "      <td>CFPB</td>\n",
       "      <td>9</td>\n",
       "      <td>Conventional</td>\n",
       "      <td>1</td>\n",
       "      <td>One-to-four family dwelling (other than manufa...</td>\n",
       "      <td>1</td>\n",
       "      <td>Home purchase</td>\n",
       "      <td>...</td>\n",
       "      <td>NaN</td>\n",
       "      <td>NaN</td>\n",
       "      <td>NaN</td>\n",
       "      <td>3372.0</td>\n",
       "      <td>33.189999</td>\n",
       "      <td>97400.0</td>\n",
       "      <td>141.740005</td>\n",
       "      <td>592.0</td>\n",
       "      <td>1105.0</td>\n",
       "      <td>NaN</td>\n",
       "    </tr>\n",
       "    <tr>\n",
       "      <th>3</th>\n",
       "      <td>2017</td>\n",
       "      <td>41-1842999</td>\n",
       "      <td>Department of Housing and Urban Development</td>\n",
       "      <td>HUD</td>\n",
       "      <td>7</td>\n",
       "      <td>Conventional</td>\n",
       "      <td>1</td>\n",
       "      <td>One-to-four family dwelling (other than manufa...</td>\n",
       "      <td>1</td>\n",
       "      <td>Refinancing</td>\n",
       "      <td>...</td>\n",
       "      <td>NaN</td>\n",
       "      <td>NaN</td>\n",
       "      <td>NaN</td>\n",
       "      <td>12551.0</td>\n",
       "      <td>6.490000</td>\n",
       "      <td>89800.0</td>\n",
       "      <td>135.779999</td>\n",
       "      <td>3463.0</td>\n",
       "      <td>3782.0</td>\n",
       "      <td>NaN</td>\n",
       "    </tr>\n",
       "    <tr>\n",
       "      <th>4</th>\n",
       "      <td>2017</td>\n",
       "      <td>0000613307</td>\n",
       "      <td>Consumer Financial Protection Bureau</td>\n",
       "      <td>CFPB</td>\n",
       "      <td>9</td>\n",
       "      <td>Conventional</td>\n",
       "      <td>1</td>\n",
       "      <td>One-to-four family dwelling (other than manufa...</td>\n",
       "      <td>1</td>\n",
       "      <td>Refinancing</td>\n",
       "      <td>...</td>\n",
       "      <td>NaN</td>\n",
       "      <td>NaN</td>\n",
       "      <td>NaN</td>\n",
       "      <td>3755.0</td>\n",
       "      <td>62.639999</td>\n",
       "      <td>73700.0</td>\n",
       "      <td>132.720001</td>\n",
       "      <td>623.0</td>\n",
       "      <td>742.0</td>\n",
       "      <td>NaN</td>\n",
       "    </tr>\n",
       "  </tbody>\n",
       "</table>\n",
       "<p>5 rows × 78 columns</p>\n",
       "</div>"
      ],
      "text/plain": [
       "   as_of_year respondent_id                                  agency_name  \\\n",
       "0        2017    0000068601         National Credit Union Administration   \n",
       "1        2017    0000063194         National Credit Union Administration   \n",
       "2        2017    0000451965         Consumer Financial Protection Bureau   \n",
       "3        2017    41-1842999  Department of Housing and Urban Development   \n",
       "4        2017    0000613307         Consumer Financial Protection Bureau   \n",
       "\n",
       "  agency_abbr  agency_code loan_type_name  loan_type  \\\n",
       "0        NCUA            5   Conventional          1   \n",
       "1        NCUA            5    FHA-insured          2   \n",
       "2        CFPB            9   Conventional          1   \n",
       "3         HUD            7   Conventional          1   \n",
       "4        CFPB            9   Conventional          1   \n",
       "\n",
       "                                  property_type_name  property_type  \\\n",
       "0  One-to-four family dwelling (other than manufa...              1   \n",
       "1  One-to-four family dwelling (other than manufa...              1   \n",
       "2  One-to-four family dwelling (other than manufa...              1   \n",
       "3  One-to-four family dwelling (other than manufa...              1   \n",
       "4  One-to-four family dwelling (other than manufa...              1   \n",
       "\n",
       "  loan_purpose_name  ...  edit_status_name edit_status  sequence_number  \\\n",
       "0     Home purchase  ...               NaN         NaN              NaN   \n",
       "1     Home purchase  ...               NaN         NaN              NaN   \n",
       "2     Home purchase  ...               NaN         NaN              NaN   \n",
       "3       Refinancing  ...               NaN         NaN              NaN   \n",
       "4       Refinancing  ...               NaN         NaN              NaN   \n",
       "\n",
       "   population minority_population  hud_median_family_income  \\\n",
       "0      4272.0            2.790000                   55800.0   \n",
       "1      5451.0           10.790000                   56800.0   \n",
       "2      3372.0           33.189999                   97400.0   \n",
       "3     12551.0            6.490000                   89800.0   \n",
       "4      3755.0           62.639999                   73700.0   \n",
       "\n",
       "  tract_to_msamd_income  number_of_owner_occupied_units  \\\n",
       "0             99.970001                          1609.0   \n",
       "1            128.639999                          1601.0   \n",
       "2            141.740005                           592.0   \n",
       "3            135.779999                          3463.0   \n",
       "4            132.720001                           623.0   \n",
       "\n",
       "  number_of_1_to_4_family_units  application_date_indicator  \n",
       "0                        2271.0                         NaN  \n",
       "1                        1814.0                         NaN  \n",
       "2                        1105.0                         NaN  \n",
       "3                        3782.0                         NaN  \n",
       "4                         742.0                         NaN  \n",
       "\n",
       "[5 rows x 78 columns]"
      ]
     },
     "execution_count": 6,
     "metadata": {},
     "output_type": "execute_result"
    }
   ],
   "source": [
    "data.head()"
   ]
  },
  {
   "cell_type": "code",
   "execution_count": 9,
   "metadata": {},
   "outputs": [
    {
     "name": "stdout",
     "output_type": "stream",
     "text": [
      "<class 'pandas.core.frame.DataFrame'>\n",
      "RangeIndex: 5986659 entries, 0 to 5986658\n",
      "Data columns (total 78 columns):\n",
      "as_of_year                        int64\n",
      "respondent_id                     object\n",
      "agency_name                       object\n",
      "agency_abbr                       object\n",
      "agency_code                       int64\n",
      "loan_type_name                    object\n",
      "loan_type                         int64\n",
      "property_type_name                object\n",
      "property_type                     int64\n",
      "loan_purpose_name                 object\n",
      "loan_purpose                      int64\n",
      "owner_occupancy_name              object\n",
      "owner_occupancy                   int64\n",
      "loan_amount_000s                  float64\n",
      "preapproval_name                  object\n",
      "preapproval                       int64\n",
      "action_taken_name                 object\n",
      "action_taken                      int64\n",
      "msamd_name                        object\n",
      "msamd                             float64\n",
      "state_name                        object\n",
      "state_abbr                        object\n",
      "state_code                        float64\n",
      "county_name                       object\n",
      "county_code                       float64\n",
      "census_tract_number               float64\n",
      "applicant_ethnicity_name          object\n",
      "applicant_ethnicity               int64\n",
      "co_applicant_ethnicity_name       object\n",
      "co_applicant_ethnicity            int64\n",
      "applicant_race_name_1             object\n",
      "applicant_race_1                  int64\n",
      "applicant_race_name_2             object\n",
      "applicant_race_2                  float64\n",
      "applicant_race_name_3             object\n",
      "applicant_race_3                  float64\n",
      "applicant_race_name_4             object\n",
      "applicant_race_4                  float64\n",
      "applicant_race_name_5             object\n",
      "applicant_race_5                  float64\n",
      "co_applicant_race_name_1          object\n",
      "co_applicant_race_1               int64\n",
      "co_applicant_race_name_2          object\n",
      "co_applicant_race_2               float64\n",
      "co_applicant_race_name_3          object\n",
      "co_applicant_race_3               float64\n",
      "co_applicant_race_name_4          object\n",
      "co_applicant_race_4               float64\n",
      "co_applicant_race_name_5          object\n",
      "co_applicant_race_5               float64\n",
      "applicant_sex_name                object\n",
      "applicant_sex                     int64\n",
      "co_applicant_sex_name             object\n",
      "co_applicant_sex                  int64\n",
      "applicant_income_000s             float64\n",
      "purchaser_type_name               object\n",
      "purchaser_type                    int64\n",
      "denial_reason_name_1              float64\n",
      "denial_reason_1                   float64\n",
      "denial_reason_name_2              float64\n",
      "denial_reason_2                   float64\n",
      "denial_reason_name_3              float64\n",
      "denial_reason_3                   float64\n",
      "rate_spread                       float64\n",
      "hoepa_status_name                 object\n",
      "hoepa_status                      int64\n",
      "lien_status_name                  object\n",
      "lien_status                       int64\n",
      "edit_status_name                  float64\n",
      "edit_status                       float64\n",
      "sequence_number                   float64\n",
      "population                        float64\n",
      "minority_population               float64\n",
      "hud_median_family_income          float64\n",
      "tract_to_msamd_income             float64\n",
      "number_of_owner_occupied_units    float64\n",
      "number_of_1_to_4_family_units     float64\n",
      "application_date_indicator        float64\n",
      "dtypes: float64(31), int64(17), object(30)\n",
      "memory usage: 3.5+ GB\n"
     ]
    }
   ],
   "source": [
    "data.info()"
   ]
  },
  {
   "cell_type": "code",
   "execution_count": 11,
   "metadata": {},
   "outputs": [],
   "source": [
    "%matplotlib inline"
   ]
  },
  {
   "cell_type": "code",
   "execution_count": 15,
   "metadata": {},
   "outputs": [
    {
     "data": {
      "text/plain": [
       "<matplotlib.axes._subplots.AxesSubplot at 0x1233d1198>"
      ]
     },
     "execution_count": 15,
     "metadata": {},
     "output_type": "execute_result"
    },
    {
     "data": {
      "image/png": "[encoded data removed]",
      "text/plain": [
       "<Figure size 432x288 with 1 Axes>"
      ]
     },
     "metadata": {
      "needs_background": "light"
     },
     "output_type": "display_data"
    }
   ],
   "source": [
    "data['applicant_income_000s'][data.applicant_income_000s < 1e3].hist()"
   ]
  },
  {
   "cell_type": "code",
   "execution_count": 17,
   "metadata": {},
   "outputs": [
    {
     "data": {
      "text/plain": [
       "Loan originated    5986659\n",
       "Name: action_taken_name, dtype: int64"
      ]
     },
     "execution_count": 17,
     "metadata": {},
     "output_type": "execute_result"
    }
   ],
   "source": [
    "data['action_taken_name'].value_counts()"
   ]
  },
  {
   "cell_type": "code",
   "execution_count": 7,
   "metadata": {},
   "outputs": [
    {
     "data": {
      "text/plain": [
       "Department of Housing and Urban Development    3264512\n",
       "Consumer Financial Protection Bureau           1342897\n",
       "Federal Deposit Insurance Corporation           548904\n",
       "National Credit Union Administration            413911\n",
       "Office of the Comptroller of the Currency       223485\n",
       "Federal Reserve System                          192950\n",
       "Name: agency_name, dtype: int64"
      ]
     },
     "execution_count": 7,
     "metadata": {},
     "output_type": "execute_result"
    }
   ],
   "source": [
    "data['agency_name'].value_counts()"
   ]
  },
  {
   "cell_type": "code",
   "execution_count": 8,
   "metadata": {},
   "outputs": [
    {
     "data": {
      "text/plain": [
       "0                 National Credit Union Administration\n",
       "1                 National Credit Union Administration\n",
       "2                 Consumer Financial Protection Bureau\n",
       "3          Department of Housing and Urban Development\n",
       "4                 Consumer Financial Protection Bureau\n",
       "5                 Consumer Financial Protection Bureau\n",
       "6                Federal Deposit Insurance Corporation\n",
       "7          Department of Housing and Urban Development\n",
       "8                 National Credit Union Administration\n",
       "9                 Consumer Financial Protection Bureau\n",
       "10                National Credit Union Administration\n",
       "11         Department of Housing and Urban Development\n",
       "12         Department of Housing and Urban Development\n",
       "13                Consumer Financial Protection Bureau\n",
       "14         Department of Housing and Urban Development\n",
       "15                Consumer Financial Protection Bureau\n",
       "16         Department of Housing and Urban Development\n",
       "17         Department of Housing and Urban Development\n",
       "18                Consumer Financial Protection Bureau\n",
       "19                Consumer Financial Protection Bureau\n",
       "20         Department of Housing and Urban Development\n",
       "21                Consumer Financial Protection Bureau\n",
       "22         Department of Housing and Urban Development\n",
       "23                Consumer Financial Protection Bureau\n",
       "24                National Credit Union Administration\n",
       "25         Department of Housing and Urban Development\n",
       "26                National Credit Union Administration\n",
       "27           Office of the Comptroller of the Currency\n",
       "28                Consumer Financial Protection Bureau\n",
       "29         Department of Housing and Urban Development\n",
       "                              ...                     \n",
       "5986629    Department of Housing and Urban Development\n",
       "5986630    Department of Housing and Urban Development\n",
       "5986631          Federal Deposit Insurance Corporation\n",
       "5986632           Consumer Financial Protection Bureau\n",
       "5986633    Department of Housing and Urban Development\n",
       "5986634           National Credit Union Administration\n",
       "5986635    Department of Housing and Urban Development\n",
       "5986636    Department of Housing and Urban Development\n",
       "5986637           National Credit Union Administration\n",
       "5986638    Department of Housing and Urban Development\n",
       "5986639    Department of Housing and Urban Development\n",
       "5986640           Consumer Financial Protection Bureau\n",
       "5986641                         Federal Reserve System\n",
       "5986642    Department of Housing and Urban Development\n",
       "5986643    Department of Housing and Urban Development\n",
       "5986644      Office of the Comptroller of the Currency\n",
       "5986645      Office of the Comptroller of the Currency\n",
       "5986646    Department of Housing and Urban Development\n",
       "5986647    Department of Housing and Urban Development\n",
       "5986648          Federal Deposit Insurance Corporation\n",
       "5986649           Consumer Financial Protection Bureau\n",
       "5986650    Department of Housing and Urban Development\n",
       "5986651    Department of Housing and Urban Development\n",
       "5986652           Consumer Financial Protection Bureau\n",
       "5986653          Federal Deposit Insurance Corporation\n",
       "5986654           Consumer Financial Protection Bureau\n",
       "5986655    Department of Housing and Urban Development\n",
       "5986656    Department of Housing and Urban Development\n",
       "5986657           Consumer Financial Protection Bureau\n",
       "5986658                         Federal Reserve System\n",
       "Name: agency_name, Length: 5986659, dtype: category\n",
       "Categories (6, object): [Consumer Financial Protection Bureau, Department of Housing and Urban Development, Federal Deposit Insurance Corporation, Federal Reserve System, National Credit Union Administration, Office of the Comptroller of the Currency]"
      ]
     },
     "execution_count": 8,
     "metadata": {},
     "output_type": "execute_result"
    }
   ],
   "source": [
    "for \n",
    "data['agency_name'].astype('category')"
   ]
  },
  {
   "cell_type": "code",
   "execution_count": null,
   "metadata": {},
   "outputs": [],
   "source": [
    "\n"
   ]
  }
 ],
 "metadata": {
  "kernelspec": {
   "display_name": "Python 3",
   "language": "python",
   "name": "python3"
  },
  "language_info": {
   "codemirror_mode": {
    "name": "ipython",
    "version": 3
   },
   "file_extension": ".py",
   "mimetype": "text/x-python",
   "name": "python",
   "nbconvert_exporter": "python",
   "pygments_lexer": "ipython3",
   "version": "3.7.3"
  }
 },
 "nbformat": 4,
 "nbformat_minor": 2
}
