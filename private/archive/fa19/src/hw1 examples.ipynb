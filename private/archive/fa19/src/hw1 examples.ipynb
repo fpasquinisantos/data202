{
 "cells": [
  {
   "cell_type": "code",
   "execution_count": 2,
   "metadata": {},
   "outputs": [],
   "source": [
    "import pandas as pd\n",
    "import matplotlib.pyplot as plt\n",
    "import seaborn as sns\n",
    "%matplotlib inline"
   ]
  },
  {
   "cell_type": "code",
   "execution_count": 3,
   "metadata": {},
   "outputs": [],
   "source": [
    "player_of_the_week = pd.read_csv('NBA_player_of_the_week.csv')"
   ]
  },
  {
   "cell_type": "code",
   "execution_count": 4,
   "metadata": {},
   "outputs": [
    {
     "data": {
      "text/html": [
       "<div>\n",
       "<style scoped>\n",
       "    .dataframe tbody tr th:only-of-type {\n",
       "        vertical-align: middle;\n",
       "    }\n",
       "\n",
       "    .dataframe tbody tr th {\n",
       "        vertical-align: top;\n",
       "    }\n",
       "\n",
       "    .dataframe thead th {\n",
       "        text-align: right;\n",
       "    }\n",
       "</style>\n",
       "<table border=\"1\" class=\"dataframe\">\n",
       "  <thead>\n",
       "    <tr style=\"text-align: right;\">\n",
       "      <th></th>\n",
       "      <th>Active season</th>\n",
       "      <th>Player</th>\n",
       "      <th>Team</th>\n",
       "      <th>Conference</th>\n",
       "      <th>Date</th>\n",
       "      <th>Position</th>\n",
       "      <th>Height</th>\n",
       "      <th>Weight</th>\n",
       "      <th>Age</th>\n",
       "      <th>Draft Year</th>\n",
       "      <th>Seasons in league</th>\n",
       "      <th>Season</th>\n",
       "      <th>Season short</th>\n",
       "      <th>Real_value</th>\n",
       "    </tr>\n",
       "  </thead>\n",
       "  <tbody>\n",
       "    <tr>\n",
       "      <th>0</th>\n",
       "      <td>0</td>\n",
       "      <td>Micheal Ray Richardson</td>\n",
       "      <td>New Jersey Nets</td>\n",
       "      <td>NaN</td>\n",
       "      <td>Apr 14, 1985</td>\n",
       "      <td>PG</td>\n",
       "      <td>6-5</td>\n",
       "      <td>189</td>\n",
       "      <td>29</td>\n",
       "      <td>1978</td>\n",
       "      <td>6</td>\n",
       "      <td>1984-1985</td>\n",
       "      <td>1985</td>\n",
       "      <td>1.0</td>\n",
       "    </tr>\n",
       "    <tr>\n",
       "      <th>1</th>\n",
       "      <td>0</td>\n",
       "      <td>Derek Smith</td>\n",
       "      <td>Los Angeles Clippers</td>\n",
       "      <td>NaN</td>\n",
       "      <td>Apr 7, 1985</td>\n",
       "      <td>SG</td>\n",
       "      <td>6-6</td>\n",
       "      <td>205</td>\n",
       "      <td>23</td>\n",
       "      <td>1982</td>\n",
       "      <td>2</td>\n",
       "      <td>1984-1985</td>\n",
       "      <td>1985</td>\n",
       "      <td>1.0</td>\n",
       "    </tr>\n",
       "    <tr>\n",
       "      <th>2</th>\n",
       "      <td>0</td>\n",
       "      <td>Calvin Natt</td>\n",
       "      <td>Denver Nuggets</td>\n",
       "      <td>NaN</td>\n",
       "      <td>Apr 1, 1985</td>\n",
       "      <td>F</td>\n",
       "      <td>6-6</td>\n",
       "      <td>220</td>\n",
       "      <td>28</td>\n",
       "      <td>1979</td>\n",
       "      <td>5</td>\n",
       "      <td>1984-1985</td>\n",
       "      <td>1985</td>\n",
       "      <td>1.0</td>\n",
       "    </tr>\n",
       "    <tr>\n",
       "      <th>3</th>\n",
       "      <td>0</td>\n",
       "      <td>Kareem Abdul-Jabbar</td>\n",
       "      <td>Los Angeles Lakers</td>\n",
       "      <td>NaN</td>\n",
       "      <td>Mar 24, 1985</td>\n",
       "      <td>C</td>\n",
       "      <td>7-2</td>\n",
       "      <td>225</td>\n",
       "      <td>37</td>\n",
       "      <td>1969</td>\n",
       "      <td>15</td>\n",
       "      <td>1984-1985</td>\n",
       "      <td>1985</td>\n",
       "      <td>1.0</td>\n",
       "    </tr>\n",
       "    <tr>\n",
       "      <th>4</th>\n",
       "      <td>0</td>\n",
       "      <td>Larry Bird</td>\n",
       "      <td>Boston Celtics</td>\n",
       "      <td>NaN</td>\n",
       "      <td>Mar 17, 1985</td>\n",
       "      <td>SF</td>\n",
       "      <td>6-9</td>\n",
       "      <td>220</td>\n",
       "      <td>28</td>\n",
       "      <td>1978</td>\n",
       "      <td>5</td>\n",
       "      <td>1984-1985</td>\n",
       "      <td>1985</td>\n",
       "      <td>1.0</td>\n",
       "    </tr>\n",
       "  </tbody>\n",
       "</table>\n",
       "</div>"
      ],
      "text/plain": [
       "   Active season                  Player                  Team Conference  \\\n",
       "0              0  Micheal Ray Richardson       New Jersey Nets        NaN   \n",
       "1              0             Derek Smith  Los Angeles Clippers        NaN   \n",
       "2              0             Calvin Natt        Denver Nuggets        NaN   \n",
       "3              0     Kareem Abdul-Jabbar    Los Angeles Lakers        NaN   \n",
       "4              0              Larry Bird        Boston Celtics        NaN   \n",
       "\n",
       "           Date Position Height  Weight  Age  Draft Year  Seasons in league  \\\n",
       "0  Apr 14, 1985       PG    6-5     189   29        1978                  6   \n",
       "1   Apr 7, 1985       SG    6-6     205   23        1982                  2   \n",
       "2   Apr 1, 1985        F    6-6     220   28        1979                  5   \n",
       "3  Mar 24, 1985        C    7-2     225   37        1969                 15   \n",
       "4  Mar 17, 1985       SF    6-9     220   28        1978                  5   \n",
       "\n",
       "      Season  Season short  Real_value  \n",
       "0  1984-1985          1985         1.0  \n",
       "1  1984-1985          1985         1.0  \n",
       "2  1984-1985          1985         1.0  \n",
       "3  1984-1985          1985         1.0  \n",
       "4  1984-1985          1985         1.0  "
      ]
     },
     "execution_count": 4,
     "metadata": {},
     "output_type": "execute_result"
    }
   ],
   "source": [
    "player_of_the_week.head()"
   ]
  },
  {
   "cell_type": "code",
   "execution_count": 8,
   "metadata": {
    "slideshow": {
     "slide_type": "slide"
    }
   },
   "outputs": [
    {
     "data": {
      "text/plain": [
       "Text(0.5, 1.0, 'Distribution of player experience')"
      ]
     },
     "execution_count": 8,
     "metadata": {},
     "output_type": "execute_result"
    },
    {
     "data": {
      "image/png": "[encoded data removed]",
      "text/plain": [
       "<Figure size 432x288 with 1 Axes>"
      ]
     },
     "metadata": {
      "needs_background": "light"
     },
     "output_type": "display_data"
    }
   ],
   "source": [
    "plt.hist(player_of_the_week[\"Seasons in league\"]);\n",
    "plt.xlabel(\"Seasons in league\");\n",
    "plt.ylabel(\"Player count\");\n",
    "plt.title(\"Distribution of player experience\")"
   ]
  },
  {
   "cell_type": "code",
   "execution_count": 13,
   "metadata": {},
   "outputs": [
    {
     "data": {
      "text/plain": [
       "18"
      ]
     },
     "execution_count": 13,
     "metadata": {},
     "output_type": "execute_result"
    }
   ],
   "source": [
    "len(player_of_the_week[\"Seasons in league\"].value_counts())"
   ]
  },
  {
   "cell_type": "code",
   "execution_count": 14,
   "metadata": {},
   "outputs": [
    {
     "data": {
      "image/png": "[encoded data removed]",
      "text/plain": [
       "<Figure size 432x288 with 1 Axes>"
      ]
     },
     "metadata": {
      "needs_background": "light"
     },
     "output_type": "display_data"
    }
   ],
   "source": [
    "plt.hist(player_of_the_week[\"Seasons in league\"], bins=18);"
   ]
  },
  {
   "cell_type": "code",
   "execution_count": 15,
   "metadata": {},
   "outputs": [
    {
     "data": {
      "text/plain": [
       "<matplotlib.axes._subplots.AxesSubplot at 0x1835fa13e48>"
      ]
     },
     "execution_count": 15,
     "metadata": {},
     "output_type": "execute_result"
    },
    {
     "data": {
      "image/png": "[encoded data removed]",
      "text/plain": [
       "<Figure size 432x288 with 1 Axes>"
      ]
     },
     "metadata": {
      "needs_background": "light"
     },
     "output_type": "display_data"
    }
   ],
   "source": [
    "sns.distplot(player_of_the_week[\"Seasons in league\"])"
   ]
  },
  {
   "cell_type": "code",
   "execution_count": 14,
   "metadata": {
    "slideshow": {
     "slide_type": "slide"
    }
   },
   "outputs": [
    {
     "data": {
      "text/plain": [
       "(array([84., 74., 38., 34., 19., 11.,  3.,  2.,  3.,  3.]),\n",
       " array([ 1.72,  2.89,  4.06,  5.23,  6.4 ,  7.57,  8.74,  9.91, 11.08,\n",
       "        12.25, 13.42]),\n",
       " <a list of 10 Patch objects>)"
      ]
     },
     "execution_count": 14,
     "metadata": {},
     "output_type": "execute_result"
    },
    {
     "data": {
      "image/png": "[encoded data removed]",
      "text/plain": [
       "<Figure size 432x288 with 1 Axes>"
      ]
     },
     "metadata": {
      "needs_background": "light"
     },
     "output_type": "display_data"
    }
   ],
   "source": [
    "plt.hist(gas_df.Price)"
   ]
  },
  {
   "cell_type": "code",
   "execution_count": null,
   "metadata": {},
   "outputs": [],
   "source": []
  },
  {
   "cell_type": "code",
   "execution_count": 60,
   "metadata": {
    "slideshow": {
     "slide_type": "slide"
    }
   },
   "outputs": [
    {
     "name": "stderr",
     "output_type": "stream",
     "text": [
      "/opt/anaconda/lib/python3.7/site-packages/numpy/lib/histograms.py:824: RuntimeWarning: invalid value encountered in greater_equal\n",
      "  keep = (tmp_a >= first_edge)\n",
      "/opt/anaconda/lib/python3.7/site-packages/numpy/lib/histograms.py:825: RuntimeWarning: invalid value encountered in less_equal\n",
      "  keep &= (tmp_a <= last_edge)\n"
     ]
    },
    {
     "data": {
      "text/plain": [
       "(array([1.2997e+04, 5.7810e+03, 3.2460e+03, 1.6640e+03, 6.9600e+02,\n",
       "        1.9700e+02, 3.4000e+01, 7.0000e+00, 1.0000e+00, 1.0000e+00]),\n",
       " array([   0. ,  402.9,  805.8, 1208.7, 1611.6, 2014.5, 2417.4, 2820.3,\n",
       "        3223.2, 3626.1, 4029. ]),\n",
       " <a list of 10 Patch objects>)"
      ]
     },
     "execution_count": 60,
     "metadata": {},
     "output_type": "execute_result"
    },
    {
     "data": {
      "image/png": "[encoded data removed]",
      "text/plain": [
       "<Figure size 432x288 with 1 Axes>"
      ]
     },
     "metadata": {
      "needs_background": "light"
     },
     "output_type": "display_data"
    }
   ],
   "source": [
    "x = (PTS)\n",
    "plt.hist(x)\n"
   ]
  },
  {
   "cell_type": "markdown",
   "metadata": {},
   "source": [
    "This column shows the amount of points scored per player per season. At first I thought it was a players points for their whole career but I was wrong. The most points ever scored in one season was 4029 points."
   ]
  },
  {
   "cell_type": "code",
   "execution_count": 39,
   "metadata": {
    "slideshow": {
     "slide_type": "slide"
    }
   },
   "outputs": [
    {
     "data": {
      "text/plain": [
       "6-7     473\n",
       "6-8     426\n",
       "6-9     424\n",
       "6-5     418\n",
       "6-6     403\n",
       "6-3     401\n",
       "6-4     340\n",
       "6-2     327\n",
       "6-10    324\n",
       "6-1     229\n",
       "6-11    229\n",
       "7-0     164\n",
       "6-0     150\n",
       "5-11     61\n",
       "7-1      52\n",
       "5-10     48\n",
       "7-2      26\n",
       "5-9      15\n",
       "7-3      13\n",
       "5-7       6\n",
       "7-5       4\n",
       "7-4       4\n",
       "5-8       3\n",
       "7-6       2\n",
       "5-3       2\n",
       "7-7       2\n",
       "5-6       2\n",
       "5-5       1\n",
       "Name: height, dtype: int64"
      ]
     },
     "execution_count": 39,
     "metadata": {},
     "output_type": "execute_result"
    }
   ],
   "source": [
    "NBA1_df['height'].value_counts()"
   ]
  },
  {
   "cell_type": "code",
   "execution_count": 4,
   "metadata": {
    "slideshow": {
     "slide_type": "slide"
    }
   },
   "outputs": [
    {
     "data": {
      "text/html": [
       "<div>\n",
       "<style scoped>\n",
       "    .dataframe tbody tr th:only-of-type {\n",
       "        vertical-align: middle;\n",
       "    }\n",
       "\n",
       "    .dataframe tbody tr th {\n",
       "        vertical-align: top;\n",
       "    }\n",
       "\n",
       "    .dataframe thead th {\n",
       "        text-align: right;\n",
       "    }\n",
       "</style>\n",
       "<table border=\"1\" class=\"dataframe\">\n",
       "  <thead>\n",
       "    <tr style=\"text-align: right;\">\n",
       "      <th></th>\n",
       "      <th>BEGIN_YEARMONTH</th>\n",
       "      <th>BEGIN_DAY</th>\n",
       "      <th>BEGIN_TIME</th>\n",
       "      <th>END_YEARMONTH</th>\n",
       "      <th>END_DAY</th>\n",
       "      <th>END_TIME</th>\n",
       "      <th>EPISODE_ID</th>\n",
       "      <th>EVENT_ID</th>\n",
       "      <th>STATE</th>\n",
       "      <th>STATE_FIPS</th>\n",
       "      <th>...</th>\n",
       "      <th>END_RANGE</th>\n",
       "      <th>END_AZIMUTH</th>\n",
       "      <th>END_LOCATION</th>\n",
       "      <th>BEGIN_LAT</th>\n",
       "      <th>BEGIN_LON</th>\n",
       "      <th>END_LAT</th>\n",
       "      <th>END_LON</th>\n",
       "      <th>EPISODE_NARRATIVE</th>\n",
       "      <th>EVENT_NARRATIVE</th>\n",
       "      <th>DATA_SOURCE</th>\n",
       "    </tr>\n",
       "  </thead>\n",
       "  <tbody>\n",
       "    <tr>\n",
       "      <th>count</th>\n",
       "      <td>29047.000000</td>\n",
       "      <td>29047.000000</td>\n",
       "      <td>29047.000000</td>\n",
       "      <td>29047.000000</td>\n",
       "      <td>29047.000000</td>\n",
       "      <td>29047.000000</td>\n",
       "      <td>29047.000000</td>\n",
       "      <td>29047.000000</td>\n",
       "      <td>29047</td>\n",
       "      <td>29047.000000</td>\n",
       "      <td>...</td>\n",
       "      <td>15680.000000</td>\n",
       "      <td>15680</td>\n",
       "      <td>15680</td>\n",
       "      <td>15680.000000</td>\n",
       "      <td>15680.000000</td>\n",
       "      <td>15680.000000</td>\n",
       "      <td>15680.000000</td>\n",
       "      <td>29047</td>\n",
       "      <td>22686</td>\n",
       "      <td>29047</td>\n",
       "    </tr>\n",
       "    <tr>\n",
       "      <th>unique</th>\n",
       "      <td>NaN</td>\n",
       "      <td>NaN</td>\n",
       "      <td>NaN</td>\n",
       "      <td>NaN</td>\n",
       "      <td>NaN</td>\n",
       "      <td>NaN</td>\n",
       "      <td>NaN</td>\n",
       "      <td>NaN</td>\n",
       "      <td>65</td>\n",
       "      <td>NaN</td>\n",
       "      <td>...</td>\n",
       "      <td>NaN</td>\n",
       "      <td>16</td>\n",
       "      <td>8419</td>\n",
       "      <td>NaN</td>\n",
       "      <td>NaN</td>\n",
       "      <td>NaN</td>\n",
       "      <td>NaN</td>\n",
       "      <td>3590</td>\n",
       "      <td>20556</td>\n",
       "      <td>1</td>\n",
       "    </tr>\n",
       "    <tr>\n",
       "      <th>top</th>\n",
       "      <td>NaN</td>\n",
       "      <td>NaN</td>\n",
       "      <td>NaN</td>\n",
       "      <td>NaN</td>\n",
       "      <td>NaN</td>\n",
       "      <td>NaN</td>\n",
       "      <td>NaN</td>\n",
       "      <td>NaN</td>\n",
       "      <td>TEXAS</td>\n",
       "      <td>NaN</td>\n",
       "      <td>...</td>\n",
       "      <td>NaN</td>\n",
       "      <td>N</td>\n",
       "      <td>AMARILLO</td>\n",
       "      <td>NaN</td>\n",
       "      <td>NaN</td>\n",
       "      <td>NaN</td>\n",
       "      <td>NaN</td>\n",
       "      <td>An atmospheric river with an associated cold f...</td>\n",
       "      <td>The combination of cold temperatures and stron...</td>\n",
       "      <td>CSV</td>\n",
       "    </tr>\n",
       "    <tr>\n",
       "      <th>freq</th>\n",
       "      <td>NaN</td>\n",
       "      <td>NaN</td>\n",
       "      <td>NaN</td>\n",
       "      <td>NaN</td>\n",
       "      <td>NaN</td>\n",
       "      <td>NaN</td>\n",
       "      <td>NaN</td>\n",
       "      <td>NaN</td>\n",
       "      <td>2135</td>\n",
       "      <td>NaN</td>\n",
       "      <td>...</td>\n",
       "      <td>NaN</td>\n",
       "      <td>2754</td>\n",
       "      <td>43</td>\n",
       "      <td>NaN</td>\n",
       "      <td>NaN</td>\n",
       "      <td>NaN</td>\n",
       "      <td>NaN</td>\n",
       "      <td>167</td>\n",
       "      <td>57</td>\n",
       "      <td>29047</td>\n",
       "    </tr>\n",
       "    <tr>\n",
       "      <th>mean</th>\n",
       "      <td>201903.150446</td>\n",
       "      <td>16.338486</td>\n",
       "      <td>1237.919510</td>\n",
       "      <td>201903.150446</td>\n",
       "      <td>17.227218</td>\n",
       "      <td>1352.418288</td>\n",
       "      <td>135267.753916</td>\n",
       "      <td>811966.759390</td>\n",
       "      <td>NaN</td>\n",
       "      <td>32.368128</td>\n",
       "      <td>...</td>\n",
       "      <td>2.530995</td>\n",
       "      <td>NaN</td>\n",
       "      <td>NaN</td>\n",
       "      <td>36.836391</td>\n",
       "      <td>-91.259872</td>\n",
       "      <td>36.833455</td>\n",
       "      <td>-91.248898</td>\n",
       "      <td>NaN</td>\n",
       "      <td>NaN</td>\n",
       "      <td>NaN</td>\n",
       "    </tr>\n",
       "    <tr>\n",
       "      <th>std</th>\n",
       "      <td>1.479002</td>\n",
       "      <td>8.657153</td>\n",
       "      <td>671.625623</td>\n",
       "      <td>1.479002</td>\n",
       "      <td>8.675332</td>\n",
       "      <td>637.920028</td>\n",
       "      <td>1512.590905</td>\n",
       "      <td>10487.629471</td>\n",
       "      <td>NaN</td>\n",
       "      <td>18.137524</td>\n",
       "      <td>...</td>\n",
       "      <td>4.854966</td>\n",
       "      <td>NaN</td>\n",
       "      <td>NaN</td>\n",
       "      <td>4.462548</td>\n",
       "      <td>11.775657</td>\n",
       "      <td>4.459311</td>\n",
       "      <td>11.770863</td>\n",
       "      <td>NaN</td>\n",
       "      <td>NaN</td>\n",
       "      <td>NaN</td>\n",
       "    </tr>\n",
       "    <tr>\n",
       "      <th>min</th>\n",
       "      <td>201901.000000</td>\n",
       "      <td>1.000000</td>\n",
       "      <td>0.000000</td>\n",
       "      <td>201901.000000</td>\n",
       "      <td>1.000000</td>\n",
       "      <td>0.000000</td>\n",
       "      <td>132253.000000</td>\n",
       "      <td>791304.000000</td>\n",
       "      <td>NaN</td>\n",
       "      <td>1.000000</td>\n",
       "      <td>...</td>\n",
       "      <td>0.000000</td>\n",
       "      <td>NaN</td>\n",
       "      <td>NaN</td>\n",
       "      <td>-14.331600</td>\n",
       "      <td>-171.032700</td>\n",
       "      <td>-14.332700</td>\n",
       "      <td>-170.878700</td>\n",
       "      <td>NaN</td>\n",
       "      <td>NaN</td>\n",
       "      <td>NaN</td>\n",
       "    </tr>\n",
       "    <tr>\n",
       "      <th>25%</th>\n",
       "      <td>201902.000000</td>\n",
       "      <td>9.000000</td>\n",
       "      <td>700.000000</td>\n",
       "      <td>201902.000000</td>\n",
       "      <td>10.000000</td>\n",
       "      <td>900.000000</td>\n",
       "      <td>134018.000000</td>\n",
       "      <td>803341.500000</td>\n",
       "      <td>NaN</td>\n",
       "      <td>19.000000</td>\n",
       "      <td>...</td>\n",
       "      <td>1.000000</td>\n",
       "      <td>NaN</td>\n",
       "      <td>NaN</td>\n",
       "      <td>33.900000</td>\n",
       "      <td>-97.280000</td>\n",
       "      <td>33.916075</td>\n",
       "      <td>-97.264725</td>\n",
       "      <td>NaN</td>\n",
       "      <td>NaN</td>\n",
       "      <td>NaN</td>\n",
       "    </tr>\n",
       "    <tr>\n",
       "      <th>50%</th>\n",
       "      <td>201903.000000</td>\n",
       "      <td>17.000000</td>\n",
       "      <td>1400.000000</td>\n",
       "      <td>201903.000000</td>\n",
       "      <td>18.000000</td>\n",
       "      <td>1435.000000</td>\n",
       "      <td>135197.000000</td>\n",
       "      <td>811297.000000</td>\n",
       "      <td>NaN</td>\n",
       "      <td>31.000000</td>\n",
       "      <td>...</td>\n",
       "      <td>1.000000</td>\n",
       "      <td>NaN</td>\n",
       "      <td>NaN</td>\n",
       "      <td>37.260000</td>\n",
       "      <td>-90.743000</td>\n",
       "      <td>37.260000</td>\n",
       "      <td>-90.722200</td>\n",
       "      <td>NaN</td>\n",
       "      <td>NaN</td>\n",
       "      <td>NaN</td>\n",
       "    </tr>\n",
       "    <tr>\n",
       "      <th>75%</th>\n",
       "      <td>201905.000000</td>\n",
       "      <td>24.000000</td>\n",
       "      <td>1800.000000</td>\n",
       "      <td>201905.000000</td>\n",
       "      <td>25.000000</td>\n",
       "      <td>1838.000000</td>\n",
       "      <td>136436.000000</td>\n",
       "      <td>820425.500000</td>\n",
       "      <td>NaN</td>\n",
       "      <td>46.000000</td>\n",
       "      <td>...</td>\n",
       "      <td>3.000000</td>\n",
       "      <td>NaN</td>\n",
       "      <td>NaN</td>\n",
       "      <td>40.020000</td>\n",
       "      <td>-82.164900</td>\n",
       "      <td>40.018275</td>\n",
       "      <td>-82.142400</td>\n",
       "      <td>NaN</td>\n",
       "      <td>NaN</td>\n",
       "      <td>NaN</td>\n",
       "    </tr>\n",
       "    <tr>\n",
       "      <th>max</th>\n",
       "      <td>201905.000000</td>\n",
       "      <td>31.000000</td>\n",
       "      <td>2359.000000</td>\n",
       "      <td>201905.000000</td>\n",
       "      <td>31.000000</td>\n",
       "      <td>2359.000000</td>\n",
       "      <td>138793.000000</td>\n",
       "      <td>834603.000000</td>\n",
       "      <td>NaN</td>\n",
       "      <td>99.000000</td>\n",
       "      <td>...</td>\n",
       "      <td>152.000000</td>\n",
       "      <td>NaN</td>\n",
       "      <td>NaN</td>\n",
       "      <td>66.563800</td>\n",
       "      <td>-64.819800</td>\n",
       "      <td>66.559400</td>\n",
       "      <td>-64.787300</td>\n",
       "      <td>NaN</td>\n",
       "      <td>NaN</td>\n",
       "      <td>NaN</td>\n",
       "    </tr>\n",
       "  </tbody>\n",
       "</table>\n",
       "<p>11 rows × 51 columns</p>\n",
       "</div>"
      ],
      "text/plain": [
       "        BEGIN_YEARMONTH     BEGIN_DAY    BEGIN_TIME  END_YEARMONTH  \\\n",
       "count      29047.000000  29047.000000  29047.000000   29047.000000   \n",
       "unique              NaN           NaN           NaN            NaN   \n",
       "top                 NaN           NaN           NaN            NaN   \n",
       "freq                NaN           NaN           NaN            NaN   \n",
       "mean      201903.150446     16.338486   1237.919510  201903.150446   \n",
       "std            1.479002      8.657153    671.625623       1.479002   \n",
       "min       201901.000000      1.000000      0.000000  201901.000000   \n",
       "25%       201902.000000      9.000000    700.000000  201902.000000   \n",
       "50%       201903.000000     17.000000   1400.000000  201903.000000   \n",
       "75%       201905.000000     24.000000   1800.000000  201905.000000   \n",
       "max       201905.000000     31.000000   2359.000000  201905.000000   \n",
       "\n",
       "             END_DAY      END_TIME     EPISODE_ID       EVENT_ID  STATE  \\\n",
       "count   29047.000000  29047.000000   29047.000000   29047.000000  29047   \n",
       "unique           NaN           NaN            NaN            NaN     65   \n",
       "top              NaN           NaN            NaN            NaN  TEXAS   \n",
       "freq             NaN           NaN            NaN            NaN   2135   \n",
       "mean       17.227218   1352.418288  135267.753916  811966.759390    NaN   \n",
       "std         8.675332    637.920028    1512.590905   10487.629471    NaN   \n",
       "min         1.000000      0.000000  132253.000000  791304.000000    NaN   \n",
       "25%        10.000000    900.000000  134018.000000  803341.500000    NaN   \n",
       "50%        18.000000   1435.000000  135197.000000  811297.000000    NaN   \n",
       "75%        25.000000   1838.000000  136436.000000  820425.500000    NaN   \n",
       "max        31.000000   2359.000000  138793.000000  834603.000000    NaN   \n",
       "\n",
       "          STATE_FIPS  ...     END_RANGE END_AZIMUTH END_LOCATION  \\\n",
       "count   29047.000000  ...  15680.000000       15680        15680   \n",
       "unique           NaN  ...           NaN          16         8419   \n",
       "top              NaN  ...           NaN           N     AMARILLO   \n",
       "freq             NaN  ...           NaN        2754           43   \n",
       "mean       32.368128  ...      2.530995         NaN          NaN   \n",
       "std        18.137524  ...      4.854966         NaN          NaN   \n",
       "min         1.000000  ...      0.000000         NaN          NaN   \n",
       "25%        19.000000  ...      1.000000         NaN          NaN   \n",
       "50%        31.000000  ...      1.000000         NaN          NaN   \n",
       "75%        46.000000  ...      3.000000         NaN          NaN   \n",
       "max        99.000000  ...    152.000000         NaN          NaN   \n",
       "\n",
       "           BEGIN_LAT     BEGIN_LON       END_LAT       END_LON  \\\n",
       "count   15680.000000  15680.000000  15680.000000  15680.000000   \n",
       "unique           NaN           NaN           NaN           NaN   \n",
       "top              NaN           NaN           NaN           NaN   \n",
       "freq             NaN           NaN           NaN           NaN   \n",
       "mean       36.836391    -91.259872     36.833455    -91.248898   \n",
       "std         4.462548     11.775657      4.459311     11.770863   \n",
       "min       -14.331600   -171.032700    -14.332700   -170.878700   \n",
       "25%        33.900000    -97.280000     33.916075    -97.264725   \n",
       "50%        37.260000    -90.743000     37.260000    -90.722200   \n",
       "75%        40.020000    -82.164900     40.018275    -82.142400   \n",
       "max        66.563800    -64.819800     66.559400    -64.787300   \n",
       "\n",
       "                                        EPISODE_NARRATIVE  \\\n",
       "count                                               29047   \n",
       "unique                                               3590   \n",
       "top     An atmospheric river with an associated cold f...   \n",
       "freq                                                  167   \n",
       "mean                                                  NaN   \n",
       "std                                                   NaN   \n",
       "min                                                   NaN   \n",
       "25%                                                   NaN   \n",
       "50%                                                   NaN   \n",
       "75%                                                   NaN   \n",
       "max                                                   NaN   \n",
       "\n",
       "                                          EVENT_NARRATIVE DATA_SOURCE  \n",
       "count                                               22686       29047  \n",
       "unique                                              20556           1  \n",
       "top     The combination of cold temperatures and stron...         CSV  \n",
       "freq                                                   57       29047  \n",
       "mean                                                  NaN         NaN  \n",
       "std                                                   NaN         NaN  \n",
       "min                                                   NaN         NaN  \n",
       "25%                                                   NaN         NaN  \n",
       "50%                                                   NaN         NaN  \n",
       "75%                                                   NaN         NaN  \n",
       "max                                                   NaN         NaN  \n",
       "\n",
       "[11 rows x 51 columns]"
      ]
     },
     "execution_count": 4,
     "metadata": {},
     "output_type": "execute_result"
    }
   ],
   "source": [
    "storm_events.describe(include ='all')"
   ]
  },
  {
   "cell_type": "code",
   "execution_count": 20,
   "metadata": {
    "slideshow": {
     "slide_type": "slide"
    }
   },
   "outputs": [
    {
     "data": {
      "text/plain": [
       "(array([3.151e+03, 3.350e+02, 1.540e+02, 1.130e+02, 2.600e+01, 4.500e+01,\n",
       "        1.400e+01, 8.000e+00, 8.000e+00, 2.000e+00, 1.800e+01, 6.000e+00,\n",
       "        0.000e+00, 1.600e+01, 1.500e+01, 1.900e+01, 1.000e+00, 0.000e+00,\n",
       "        1.500e+01, 2.000e+00, 0.000e+00, 0.000e+00, 0.000e+00, 1.000e+00,\n",
       "        0.000e+00, 0.000e+00, 5.000e+00, 1.000e+00, 0.000e+00, 0.000e+00,\n",
       "        0.000e+00, 0.000e+00, 0.000e+00, 0.000e+00, 0.000e+00, 0.000e+00,\n",
       "        0.000e+00, 0.000e+00, 0.000e+00, 1.000e+00, 0.000e+00, 0.000e+00,\n",
       "        0.000e+00, 0.000e+00, 0.000e+00, 0.000e+00, 0.000e+00, 9.000e+00,\n",
       "        0.000e+00, 0.000e+00, 0.000e+00, 0.000e+00, 0.000e+00, 0.000e+00,\n",
       "        0.000e+00, 0.000e+00, 0.000e+00, 0.000e+00, 0.000e+00, 0.000e+00,\n",
       "        0.000e+00, 0.000e+00, 0.000e+00, 0.000e+00, 0.000e+00, 0.000e+00,\n",
       "        4.000e+00, 0.000e+00, 0.000e+00, 0.000e+00, 0.000e+00, 0.000e+00,\n",
       "        0.000e+00, 0.000e+00, 0.000e+00, 0.000e+00, 0.000e+00, 0.000e+00,\n",
       "        0.000e+00, 0.000e+00, 0.000e+00, 0.000e+00, 0.000e+00, 0.000e+00,\n",
       "        0.000e+00, 0.000e+00, 0.000e+00, 0.000e+00, 0.000e+00, 0.000e+00,\n",
       "        0.000e+00, 0.000e+00, 0.000e+00, 0.000e+00, 0.000e+00, 0.000e+00,\n",
       "        0.000e+00, 0.000e+00, 0.000e+00, 1.000e+00]),\n",
       " array([1.40000000e-04, 1.50000139e+02, 3.00000137e+02, 4.50000136e+02,\n",
       "        6.00000134e+02, 7.50000133e+02, 9.00000132e+02, 1.05000013e+03,\n",
       "        1.20000013e+03, 1.35000013e+03, 1.50000013e+03, 1.65000012e+03,\n",
       "        1.80000012e+03, 1.95000012e+03, 2.10000012e+03, 2.25000012e+03,\n",
       "        2.40000012e+03, 2.55000012e+03, 2.70000011e+03, 2.85000011e+03,\n",
       "        3.00000011e+03, 3.15000011e+03, 3.30000011e+03, 3.45000011e+03,\n",
       "        3.60000011e+03, 3.75000011e+03, 3.90000010e+03, 4.05000010e+03,\n",
       "        4.20000010e+03, 4.35000010e+03, 4.50000010e+03, 4.65000010e+03,\n",
       "        4.80000010e+03, 4.95000009e+03, 5.10000009e+03, 5.25000009e+03,\n",
       "        5.40000009e+03, 5.55000009e+03, 5.70000009e+03, 5.85000009e+03,\n",
       "        6.00000008e+03, 6.15000008e+03, 6.30000008e+03, 6.45000008e+03,\n",
       "        6.60000008e+03, 6.75000008e+03, 6.90000008e+03, 7.05000007e+03,\n",
       "        7.20000007e+03, 7.35000007e+03, 7.50000007e+03, 7.65000007e+03,\n",
       "        7.80000007e+03, 7.95000007e+03, 8.10000006e+03, 8.25000006e+03,\n",
       "        8.40000006e+03, 8.55000006e+03, 8.70000006e+03, 8.85000006e+03,\n",
       "        9.00000006e+03, 9.15000005e+03, 9.30000005e+03, 9.45000005e+03,\n",
       "        9.60000005e+03, 9.75000005e+03, 9.90000005e+03, 1.00500000e+04,\n",
       "        1.02000000e+04, 1.03500000e+04, 1.05000000e+04, 1.06500000e+04,\n",
       "        1.08000000e+04, 1.09500000e+04, 1.11000000e+04, 1.12500000e+04,\n",
       "        1.14000000e+04, 1.15500000e+04, 1.17000000e+04, 1.18500000e+04,\n",
       "        1.20000000e+04, 1.21500000e+04, 1.23000000e+04, 1.24500000e+04,\n",
       "        1.26000000e+04, 1.27500000e+04, 1.29000000e+04, 1.30500000e+04,\n",
       "        1.32000000e+04, 1.33500000e+04, 1.35000000e+04, 1.36500000e+04,\n",
       "        1.38000000e+04, 1.39500000e+04, 1.41000000e+04, 1.42500000e+04,\n",
       "        1.44000000e+04, 1.45500000e+04, 1.47000000e+04, 1.48500000e+04,\n",
       "        1.50000000e+04]),\n",
       " <a list of 100 Patch objects>)"
      ]
     },
     "execution_count": 20,
     "metadata": {},
     "output_type": "execute_result"
    },
    {
     "data": {
      "image/png": "[encoded data removed]",
      "text/plain": [
       "<Figure size 432x288 with 1 Axes>"
      ]
     },
     "metadata": {
      "needs_background": "light"
     },
     "output_type": "display_data"
    }
   ],
   "source": [
    "x = (china_aid['usd_current'] / 1000000)\n",
    "plt.hist(x, bins = 100)"
   ]
  },
  {
   "cell_type": "code",
   "execution_count": 5,
   "metadata": {
    "slideshow": {
     "slide_type": "slide"
    }
   },
   "outputs": [
    {
     "data": {
      "text/plain": [
       "<matplotlib.axes._subplots.AxesSubplot at 0x7f2db96b0ef0>"
      ]
     },
     "execution_count": 5,
     "metadata": {},
     "output_type": "execute_result"
    },
    {
     "data": {
      "image/png": "[encoded data removed]",
      "text/plain": [
       "<Figure size 432x288 with 1 Axes>"
      ]
     },
     "metadata": {
      "needs_background": "light"
     },
     "output_type": "display_data"
    }
   ],
   "source": [
    "x = (f_aid['current_amount'] / 1000000)\n",
    "y = (f_aid['constant_amount'] / 1000000)\n",
    "\n",
    "sns.distplot(x)"
   ]
  },
  {
   "cell_type": "code",
   "execution_count": 18,
   "metadata": {
    "slideshow": {
     "slide_type": "slide"
    }
   },
   "outputs": [
    {
     "data": {
      "text/plain": [
       "Cambodia                                        92\n",
       "Zimbabwe                                        55\n",
       "Liberia                                         43\n",
       "Kenya                                           42\n",
       "Zambia                                          41\n",
       "Tanzania                                        38\n",
       "Niger                                           37\n",
       "Myanmar [Burma]                                 36\n",
       "Ghana                                           34\n",
       "Uganda                                          34\n",
       "Lesotho                                         30\n",
       "Laos                                            28\n",
       "Sierra Leone                                    28\n",
       "Pakistan                                        27\n",
       "Ethiopia                                        27\n",
       "Dar es Salaam                                   26\n",
       "Burundi                                         26\n",
       "Sudan                                           26\n",
       "Accra                                           25\n",
       "Phnom Penh                                      25\n",
       "Angola                                          25\n",
       "Namibia                                         24\n",
       "Bangladesh                                      24\n",
       "Harare                                          24\n",
       "East Timor                                      23\n",
       "Sri Lanka                                       23\n",
       "Cameroon                                        23\n",
       "Kampala                                         22\n",
       "Brazzaville                                     22\n",
       "Indonesia                                       21\n",
       "                                                ..\n",
       "Kozjak Hydropower Plant                          1\n",
       "Koinadugu                                        1\n",
       "Kumi District                                    1\n",
       "Manam Island                                     1\n",
       "Tehran                                           1\n",
       "Ouled Fayet                                      1\n",
       "Tsumkwe                                          1\n",
       "Morupule B Power Station                         1\n",
       "Embu                                             1\n",
       "Bafoussam                                        1\n",
       "Hikkaduwa                                        1\n",
       "Fiji Defense Ministry                            1\n",
       "Ilala                                            1\n",
       "Baba Yara Stadium                                1\n",
       "Limbe Stadium                                    1\n",
       "Tyack                                            1\n",
       "Province of Ilocos Sur                           1\n",
       "Surabaya                                         1\n",
       "Desa Mbay Satu                                   1\n",
       "Kossoh Town                                      1\n",
       "Ungogo                                           1\n",
       "Elorza                                           1\n",
       "Maina Soko Military Hospital                     1\n",
       "Osh Oblasty                                      1\n",
       "Santa Maria de Jetibá                            1\n",
       "Ministry of Finance                              1\n",
       "Prasat Preăh Vihéar                              1\n",
       "Taras Shevchenko National University of Kyiv     1\n",
       "N'dalatando                                      1\n",
       "Bindura District                                 1\n",
       "Name: place_name, Length: 2958, dtype: int64"
      ]
     },
     "execution_count": 18,
     "metadata": {},
     "output_type": "execute_result"
    }
   ],
   "source": [
    "# Categorical Variable\n",
    "\n",
    "china_aid['place_name'].value_counts()"
   ]
  },
  {
   "cell_type": "markdown",
   "metadata": {},
   "source": [
    "**Notice, e.g., both `Dar es Salaam` and `Tanzania`!**"
   ]
  },
  {
   "cell_type": "code",
   "execution_count": 127,
   "metadata": {
    "scrolled": true,
    "slideshow": {
     "slide_type": "slide"
    }
   },
   "outputs": [
    {
     "name": "stdout",
     "output_type": "stream",
     "text": [
      "1.0\n",
      "0.0\n",
      "311.0\n",
      "0        NaN\n",
      "1        1.0\n",
      "2        1.0\n",
      "3        0.0\n",
      "4      311.0\n",
      "5        4.0\n",
      "6        1.0\n",
      "7        0.0\n",
      "8        1.0\n",
      "9        2.0\n",
      "10       2.0\n",
      "11       1.0\n",
      "12       1.0\n",
      "13       5.0\n",
      "14       NaN\n",
      "15       3.0\n",
      "16       1.0\n",
      "17       0.0\n",
      "18       NaN\n",
      "19       0.0\n",
      "20       5.0\n",
      "21       0.0\n",
      "22       0.0\n",
      "23       0.0\n",
      "24       1.0\n",
      "25       2.0\n",
      "26       1.0\n",
      "27     100.0\n",
      "28       0.0\n",
      "29       NaN\n",
      "       ...  \n",
      "96       0.0\n",
      "97       2.0\n",
      "98       1.0\n",
      "99       0.0\n",
      "100      0.0\n",
      "101      1.0\n",
      "102      1.0\n",
      "103      2.0\n",
      "104     16.0\n",
      "105      1.0\n",
      "106     11.0\n",
      "107      3.0\n",
      "108     43.0\n",
      "109      0.0\n",
      "110      1.0\n",
      "111      5.0\n",
      "112      NaN\n",
      "113      0.0\n",
      "114      1.0\n",
      "115      1.0\n",
      "116      0.0\n",
      "117      0.0\n",
      "118      0.0\n",
      "119      0.0\n",
      "120      NaN\n",
      "121      1.0\n",
      "122      1.0\n",
      "123      0.0\n",
      "124      0.0\n",
      "125      0.0\n",
      "Name: FATALITIES, Length: 126, dtype: float64\n"
     ]
    },
    {
     "data": {
      "text/plain": [
       "<matplotlib.axes._subplots.AxesSubplot at 0x7fb43beb1cc0>"
      ]
     },
     "execution_count": 127,
     "metadata": {},
     "output_type": "execute_result"
    },
    {
     "data": {
      "image/png": "[encoded data removed]",
      "text/plain": [
       "<Figure size 432x288 with 1 Axes>"
      ]
     },
     "metadata": {
      "needs_background": "light"
     },
     "output_type": "display_data"
    }
   ],
   "source": [
    "print('Median fatality rate', rel_ter['FATALITIES'].median())\n",
    "print(rel_ter['FATALITIES'].min())\n",
    "print(rel_ter['FATALITIES'].max())\n",
    "print(rel_ter['FATALITIES'])\n",
    "rel_ter['FATALITIES'].plot.hist()"
   ]
  },
  {
   "cell_type": "code",
   "execution_count": 10,
   "metadata": {
    "slideshow": {
     "slide_type": "slide"
    }
   },
   "outputs": [
    {
     "data": {
      "text/plain": [
       "<function matplotlib.pyplot.show(*args, **kw)>"
      ]
     },
     "execution_count": 10,
     "metadata": {},
     "output_type": "execute_result"
    },
    {
     "data": {
      "image/png": "[encoded data removed]",
      "text/plain": [
       "<Figure size 432x288 with 1 Axes>"
      ]
     },
     "metadata": {
      "needs_background": "light"
     },
     "output_type": "display_data"
    }
   ],
   "source": [
    "plt.hist(x= \"open\", data=stock_df.sample(frac=.1), bins = 20)\n",
    "plt.show"
   ]
  },
  {
   "cell_type": "code",
   "execution_count": 12,
   "metadata": {
    "slideshow": {
     "slide_type": "-"
    }
   },
   "outputs": [
    {
     "data": {
      "text/plain": [
       "<function matplotlib.pyplot.show(*args, **kw)>"
      ]
     },
     "execution_count": 12,
     "metadata": {},
     "output_type": "execute_result"
    },
    {
     "data": {
      "image/png": "[encoded data removed]",
      "text/plain": [
       "<Figure size 432x288 with 1 Axes>"
      ]
     },
     "metadata": {
      "needs_background": "light"
     },
     "output_type": "display_data"
    }
   ],
   "source": [
    "plt.hist(x= \"Seasons in league\", alpha = 1, data=nba_df, bins = 18)\n",
    "plt.show"
   ]
  },
  {
   "cell_type": "code",
   "execution_count": 23,
   "metadata": {
    "scrolled": true,
    "slideshow": {
     "slide_type": "slide"
    }
   },
   "outputs": [
    {
     "name": "stdout",
     "output_type": "stream",
     "text": [
      "PF       4966\n",
      "SG       4811\n",
      "C        4759\n",
      "SF       4699\n",
      "PG       4648\n",
      "G         139\n",
      "F         123\n",
      "F-C        81\n",
      "G-F        79\n",
      "F-G        60\n",
      "C-F        35\n",
      "C-PF       33\n",
      "SF-SG      30\n",
      "PG-SG      28\n",
      "PF-C       27\n",
      "SG-PG      27\n",
      "SG-SF      26\n",
      "PF-SF      25\n",
      "SF-PF      21\n",
      "SG-PF       3\n",
      "C-SF        2\n",
      "PG-SF       1\n",
      "SF-PG       1\n",
      "Name: Pos, dtype: int64\n"
     ]
    }
   ],
   "source": [
    "\n",
    "# had to clean data\n",
    "positionData = seasonStatsCSV['Pos'].dropna()\n",
    "print (positionData.value_counts())"
   ]
  },
  {
   "cell_type": "markdown",
   "metadata": {},
   "source": [
    "The Pos column records the positions of the players. Some players play multiple positions, so they get their own category. They could easily be recorded in their primary postion, or members of both, but this way is more clear."
   ]
  },
  {
   "cell_type": "code",
   "execution_count": 27,
   "metadata": {
    "slideshow": {
     "slide_type": "slide"
    }
   },
   "outputs": [
    {
     "data": {
      "image/png": "[encoded data removed]",
      "text/plain": [
       "<Figure size 432x288 with 1 Axes>"
      ]
     },
     "metadata": {
      "needs_background": "light"
     },
     "output_type": "display_data"
    }
   ],
   "source": [
    " sns.distplot( price_per_serving );"
   ]
  },
  {
   "cell_type": "code",
   "execution_count": 47,
   "metadata": {
    "scrolled": true,
    "slideshow": {
     "slide_type": "slide"
    }
   },
   "outputs": [
    {
     "name": "stdout",
     "output_type": "stream",
     "text": [
      "Whey Protein                92\n",
      "BCAAs                       46\n",
      "Creatine Monohydrate        40\n",
      "Amino Acids                 38\n",
      "Whey Protein Isolate        34\n",
      "Improve Workout Products    31\n",
      "Build Muscle Products       30\n",
      "Caffeine                    28\n",
      "Glutamine                   25\n",
      "Beta-Alanine                23\n",
      "Tribulus                    19\n",
      "Multivitamins               16\n",
      "Carbohydrates               14\n",
      "Plant Protein               13\n",
      "Glucosamine                 12\n",
      "Name: product_category, dtype: int64\n"
     ]
    }
   ],
   "source": [
    "\n",
    "# had to clean data\n",
    "category = NutritionProducts_DF[\"product_category\"].value_counts()\n",
    "print(category.head(15))"
   ]
  },
  {
   "cell_type": "code",
   "execution_count": null,
   "metadata": {
    "slideshow": {
     "slide_type": "notes"
    }
   },
   "outputs": [],
   "source": [
    "(Whey Protein vs Whey Protein Isolate etc.)"
   ]
  },
  {
   "cell_type": "code",
   "execution_count": null,
   "metadata": {},
   "outputs": [],
   "source": []
  },
  {
   "cell_type": "code",
   "execution_count": null,
   "metadata": {},
   "outputs": [],
   "source": []
  },
  {
   "cell_type": "markdown",
   "metadata": {},
   "source": [
    "This dataset might not be representative because it only has less than half of 2019, so you could not generalize the data to the whole year since it only has 5 months of the year. It not be as representative of smaller storms that are less easy to document."
   ]
  },
  {
   "cell_type": "markdown",
   "metadata": {
    "slideshow": {
     "slide_type": "slide"
    }
   },
   "source": [
    "Uber Eats collects data from all my orders and based on those orders, theycan recommend me the same restaurants or similar type of restaurants. While it isa clever way to make me usethe application, it is also impressive the effort that Uber Eats uses to try to have people use the application by sending discount codesand other promotions to users to incentivize them to use their application."
   ]
  }
 ],
 "metadata": {
  "celltoolbar": "Slideshow",
  "kernelspec": {
   "display_name": "Python 3",
   "language": "python",
   "name": "python3"
  },
  "language_info": {
   "codemirror_mode": {
    "name": "ipython",
    "version": 3
   },
   "file_extension": ".py",
   "mimetype": "text/x-python",
   "name": "python",
   "nbconvert_exporter": "python",
   "pygments_lexer": "ipython3",
   "version": "3.7.3"
  }
 },
 "nbformat": 4,
 "nbformat_minor": 2
}
