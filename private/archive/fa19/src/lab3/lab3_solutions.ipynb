{
 "cells": [
  {
   "cell_type": "markdown",
   "metadata": {},
   "source": [
    "* Name: \n",
    "* Collaborators:\n"
   ]
  },
  {
   "cell_type": "markdown",
   "metadata": {},
   "source": [
    "# Lab 3: What makes a good prediction?\n",
    "\n",
    "Adapted with permission from Berkeley DATA100 Summer19 Lab7\n",
    "\n",
    "Predictive modeling is central to data-driven decision-making. The goal of this lab is to introduce some of the basic concepts of predictive modeling through the lens of the guiding question, \"What makes a good prediction?\" (We will be considering that question purely numerically at this point; we will address that question more broadly soon.)\n",
    "\n",
    "This lab will also introduce you to the idea of transforming numerical data using \"broadcast\" operations. These powerful tools enable you to perform mathematical operations on large amounts of data with just a single (and usually simple) expression.\n",
    "\n",
    "In this lab you will:\n",
    "1. transform df columns\n",
    "1. define and compare loss functions\n",
    "1. measure overall prediction error using MSE and R2.\n",
    "\n",
    "### Collaboration Policy\n",
    "\n",
    "Data science is a collaborative activity. While you may talk with others about the labs, we ask that you **write your solutions individually**. If you do discuss the assignments with others, please **include their names** at the top of this notebook."
   ]
  },
  {
   "cell_type": "markdown",
   "metadata": {},
   "source": [
    "## Setup"
   ]
  },
  {
   "cell_type": "code",
   "execution_count": 1,
   "metadata": {
    "_cell_guid": "33c63379-d85b-4638-8183-d008fdb96de7",
    "_uuid": "7ad7f9f24df7dba8ac92d234890835f6b9970834",
    "nbgrader": {
     "grade": false,
     "grade_id": "imports1",
     "locked": true,
     "schema_version": 3,
     "solution": false
    }
   },
   "outputs": [],
   "source": [
    "import pandas as pd\n",
    "import numpy as np\n",
    "import seaborn as sns\n",
    "import matplotlib.pyplot as plt\n",
    "np.random.seed(42)\n",
    "plt.style.use('fivethirtyeight')\n",
    "sns.set()\n",
    "sns.set_context(\"talk\")\n",
    "%matplotlib inline"
   ]
  },
  {
   "cell_type": "markdown",
   "metadata": {
    "nbgrader": {
     "grade": false,
     "grade_id": "loadsummary",
     "locked": true,
     "schema_version": 3,
     "solution": false
    }
   },
   "source": [
    "# Loading the Tips Dataset\n",
    "\n",
    "To begin with, we load the tips dataset from the `seaborn` library.  The tips data contains records of tips, total bill, and information about the person who paid the bill."
   ]
  },
  {
   "cell_type": "code",
   "execution_count": 2,
   "metadata": {
    "nbgrader": {
     "grade": false,
     "grade_id": "loaddata",
     "locked": true,
     "schema_version": 3,
     "solution": false
    }
   },
   "outputs": [
    {
     "name": "stdout",
     "output_type": "stream",
     "text": [
      "Number of Records: 244\n"
     ]
    },
    {
     "data": {
      "text/html": [
       "<div>\n",
       "<style scoped>\n",
       "    .dataframe tbody tr th:only-of-type {\n",
       "        vertical-align: middle;\n",
       "    }\n",
       "\n",
       "    .dataframe tbody tr th {\n",
       "        vertical-align: top;\n",
       "    }\n",
       "\n",
       "    .dataframe thead th {\n",
       "        text-align: right;\n",
       "    }\n",
       "</style>\n",
       "<table border=\"1\" class=\"dataframe\">\n",
       "  <thead>\n",
       "    <tr style=\"text-align: right;\">\n",
       "      <th></th>\n",
       "      <th>total_bill</th>\n",
       "      <th>tip</th>\n",
       "      <th>sex</th>\n",
       "      <th>smoker</th>\n",
       "      <th>day</th>\n",
       "      <th>time</th>\n",
       "      <th>size</th>\n",
       "    </tr>\n",
       "  </thead>\n",
       "  <tbody>\n",
       "    <tr>\n",
       "      <th>0</th>\n",
       "      <td>16.99</td>\n",
       "      <td>1.01</td>\n",
       "      <td>Female</td>\n",
       "      <td>No</td>\n",
       "      <td>Sun</td>\n",
       "      <td>Dinner</td>\n",
       "      <td>2</td>\n",
       "    </tr>\n",
       "    <tr>\n",
       "      <th>1</th>\n",
       "      <td>10.34</td>\n",
       "      <td>1.66</td>\n",
       "      <td>Male</td>\n",
       "      <td>No</td>\n",
       "      <td>Sun</td>\n",
       "      <td>Dinner</td>\n",
       "      <td>3</td>\n",
       "    </tr>\n",
       "    <tr>\n",
       "      <th>2</th>\n",
       "      <td>21.01</td>\n",
       "      <td>3.50</td>\n",
       "      <td>Male</td>\n",
       "      <td>No</td>\n",
       "      <td>Sun</td>\n",
       "      <td>Dinner</td>\n",
       "      <td>3</td>\n",
       "    </tr>\n",
       "    <tr>\n",
       "      <th>3</th>\n",
       "      <td>23.68</td>\n",
       "      <td>3.31</td>\n",
       "      <td>Male</td>\n",
       "      <td>No</td>\n",
       "      <td>Sun</td>\n",
       "      <td>Dinner</td>\n",
       "      <td>2</td>\n",
       "    </tr>\n",
       "    <tr>\n",
       "      <th>4</th>\n",
       "      <td>24.59</td>\n",
       "      <td>3.61</td>\n",
       "      <td>Female</td>\n",
       "      <td>No</td>\n",
       "      <td>Sun</td>\n",
       "      <td>Dinner</td>\n",
       "      <td>4</td>\n",
       "    </tr>\n",
       "  </tbody>\n",
       "</table>\n",
       "</div>"
      ],
      "text/plain": [
       "   total_bill   tip     sex smoker  day    time  size\n",
       "0       16.99  1.01  Female     No  Sun  Dinner     2\n",
       "1       10.34  1.66    Male     No  Sun  Dinner     3\n",
       "2       21.01  3.50    Male     No  Sun  Dinner     3\n",
       "3       23.68  3.31    Male     No  Sun  Dinner     2\n",
       "4       24.59  3.61  Female     No  Sun  Dinner     4"
      ]
     },
     "execution_count": 2,
     "metadata": {},
     "output_type": "execute_result"
    }
   ],
   "source": [
    "data = sns.load_dataset(\"tips\")\n",
    "\n",
    "print(\"Number of Records:\", len(data))\n",
    "data.head()"
   ]
  },
  {
   "cell_type": "markdown",
   "metadata": {},
   "source": [
    "## Question 1: Transforming Data (and broadcast operations)\n",
    "Let's create a new column named '%' to reflect what percent of the total bill."
   ]
  },
  {
   "cell_type": "code",
   "execution_count": 3,
   "metadata": {
    "nbgrader": {
     "grade": false,
     "grade_id": "q1-xform-broadcast",
     "locked": false,
     "schema_version": 3,
     "solution": true,
     "task": false
    }
   },
   "outputs": [],
   "source": [
    "# your code here\n",
    "data['%'] = data['tip'] / data['total_bill'] * 100"
   ]
  },
  {
   "cell_type": "code",
   "execution_count": 4,
   "metadata": {
    "nbgrader": {
     "grade": true,
     "grade_id": "q1-xform-test",
     "locked": true,
     "points": 1,
     "schema_version": 3,
     "solution": false,
     "task": false
    }
   },
   "outputs": [],
   "source": [
    "assert data['%'].between(0, 100).mean() == 1"
   ]
  },
  {
   "cell_type": "markdown",
   "metadata": {
    "nbgrader": {
     "grade": false,
     "grade_id": "q1-check-visual",
     "locked": true,
     "points": 0,
     "schema_version": 3,
     "solution": false,
     "task": true
    }
   },
   "source": [
    "Make a simple visualization to convince yourself that your new column is correct."
   ]
  },
  {
   "cell_type": "code",
   "execution_count": 5,
   "metadata": {},
   "outputs": [
    {
     "data": {
      "text/plain": [
       "<seaborn.axisgrid.FacetGrid at 0x1a23efcb70>"
      ]
     },
     "execution_count": 5,
     "metadata": {},
     "output_type": "execute_result"
    },
    {
     "data": {
      "image/png": "[encoded data removed]",
      "text/plain": [
       "<Figure size 432x288 with 1 Axes>"
      ]
     },
     "metadata": {
      "needs_background": "light"
     },
     "output_type": "display_data"
    },
    {
     "data": {
      "image/png": "[encoded data removed]",
      "text/plain": [
       "<Figure size 360x360 with 1 Axes>"
      ]
     },
     "metadata": {
      "needs_background": "light"
     },
     "output_type": "display_data"
    }
   ],
   "source": [
    "# === BEGIN MARK SCHEME ===\n",
    "sns.boxplot(data['%'])\n",
    "sns.lmplot(x='total_bill', y='%', data=data)\n",
    "# === END MARK SCHEME ==="
   ]
  },
  {
   "cell_type": "markdown",
   "metadata": {
    "nbgrader": {
     "grade": false,
     "grade_id": "q1-check-stats",
     "locked": true,
     "points": 0,
     "schema_version": 3,
     "solution": false,
     "task": true
    }
   },
   "source": [
    "Get some summary statistics to additionally convince yourself that your new `%` column is correct."
   ]
  },
  {
   "cell_type": "code",
   "execution_count": 6,
   "metadata": {},
   "outputs": [
    {
     "data": {
      "text/plain": [
       "count    244.000000\n",
       "mean      16.080258\n",
       "std        6.107220\n",
       "min        3.563814\n",
       "25%       12.912736\n",
       "50%       15.476977\n",
       "75%       19.147549\n",
       "max       71.034483\n",
       "Name: %, dtype: float64"
      ]
     },
     "execution_count": 6,
     "metadata": {},
     "output_type": "execute_result"
    }
   ],
   "source": [
    "# === BEGIN SOLUTION ===\n",
    "data['%'].describe()\n",
    "# === END SOLUTION ==="
   ]
  },
  {
   "cell_type": "markdown",
   "metadata": {},
   "source": [
    "---\n",
    "<br/><br/><br/>\n",
    "\n",
    "# Loss Functions\n",
    "\n",
    "Let's try to predict the tip percentage!\n",
    "\n",
    "Suppose I predict that everyone tips 15%. Is that a *good* prediction? How could I measure that?\n",
    "\n",
    "Loss functions quantify how much \"off\" a prediction is.  In this lab we will implement the squared loss and the absolute loss functions.  \n",
    "\n",
    "Suppose we predict that everyone will tip $\\hat{y}$=15 percent. Now we observe a tip $y$. To quantify how far off $\\hat{y}$ is, we might use one of the following **loss functions**\n",
    "\n",
    "1. **Squared Loss** (also known as the $L^2$ loss pronounced \"ell-two\"):\n",
    "$$\\Large\n",
    "% the \\hspace{0pt} is added to address a bug in safari mathjax\n",
    "L\\left(y, \\hat{\\hspace{0pt}y} \\right) = \\left( y - \\hat{\\hspace{0pt}y} \\right)^2\n",
    "$$\n",
    "1. **Absolute Loss** (also known as the $L^1$ loss pronounced \"ell-one\"):\n",
    "$$\\Large\n",
    "% the \\hspace{0pt} is added to address a bug in safari mathjax\n",
    "L\\left(y, \\hat{\\hspace{0pt}y} \\right) = \\left| y - \\hat{\\hspace{0pt}y} \\right|\n",
    "$$\n",
    "\n",
    "---\n",
    "<br></br>\n",
    "In this question, you are going to define functions for **squared loss** and **absolute loss**. "
   ]
  },
  {
   "cell_type": "markdown",
   "metadata": {
    "deletable": false,
    "editable": false,
    "nbgrader": {
     "grade": false,
     "grade_id": "q2a",
     "locked": true,
     "schema_version": 3,
     "solution": false
    }
   },
   "source": [
    "## Question 2a: Implement the squared loss function\n",
    "\n",
    "\n",
    "$$\\Large\n",
    "L\\left(y, \\hat{\\hspace{0pt}y} \\right) = \\left( y - \\hat{\\hspace{0pt}y} \\right)^2\n",
    "$$\n",
    "\n",
    "Using the comments below, implement the squared loss function. Your answer should not use any loops.\n",
    "\n",
    "<!--\n",
    "BEGIN QUESTION\n",
    "name: q2a\n",
    "-->"
   ]
  },
  {
   "cell_type": "code",
   "execution_count": 7,
   "metadata": {
    "nbgrader": {
     "grade": false,
     "grade_id": "q2a-answer",
     "locked": false,
     "schema_version": 3,
     "solution": true
    },
    "tags": [
     "student"
    ]
   },
   "outputs": [],
   "source": [
    "def squared_loss(y_obs, y_hat):\n",
    "    \"\"\"\n",
    "    Calculate the squared loss of the observed data and predicted data.\n",
    "    \n",
    "    Parameters\n",
    "    ------------\n",
    "    y_obs: an array of observed values\n",
    "    y_hat: an array of predicted values\n",
    "    \n",
    "    Returns\n",
    "    ------------\n",
    "    An array of loss values corresponding to the squared loss for each prediction\n",
    "    \"\"\"\n",
    "    # === BEGIN SOLUTION ===\n",
    "    return (y_obs - y_hat) ** 2\n",
    "    # === END SOLUTION ==="
   ]
  },
  {
   "cell_type": "code",
   "execution_count": 8,
   "metadata": {
    "nbgrader": {
     "grade": true,
     "grade_id": "q2a-tests",
     "locked": true,
     "points": 0,
     "schema_version": 3,
     "solution": false,
     "task": false
    }
   },
   "outputs": [],
   "source": [
    "assert squared_loss(5., 5.) == 0.\n",
    "assert squared_loss(5., 7.) == 4.\n",
    "assert np.allclose(squared_loss(np.array([5., 7.]), np.array([5., 7.])), np.array([0.0, 0.0]))\n",
    "assert np.allclose(squared_loss(np.array([5., 7.]), np.array([5., 5.])), np.array([0.0, 4.0]))"
   ]
  },
  {
   "cell_type": "markdown",
   "metadata": {
    "nbgrader": {
     "grade": false,
     "grade_id": "cell-6d266194101c01a5",
     "locked": true,
     "schema_version": 3,
     "solution": false,
     "task": false
    }
   },
   "source": [
    "## Question 2b: Plotting Squared Loss\n",
    "\n",
    "Suppose you observe a bill of \\\\$10 with a tip \\\\$1.50, so the tip was $y$=15 percent.\n",
    "\n",
    "Now suppose we pick a range of $\\hat{y}$'s (average-for-everyone tip percents) for you. Use the `squared_loss` function defined above to plot the loss for a range of values:"
   ]
  },
  {
   "cell_type": "code",
   "execution_count": 9,
   "metadata": {
    "nbgrader": {
     "grade": false,
     "grade_id": "q2b-answer",
     "locked": false,
     "schema_version": 3,
     "solution": true
    },
    "tags": [
     "student"
    ]
   },
   "outputs": [],
   "source": [
    "y_obs = 15.\n",
    "yhats = np.linspace(0, 50, 200) # A range of possible values to predict\n",
    "\n",
    "## Finish this by replacing 0.0 with the correct calculation \n",
    "## Hint: You will use squared_loss, y_obs, and y_hat\n",
    "#loss should be a numpy array where the ith entry corresponds to the loss for the ith theta\n",
    "loss = np.array([ 0.0 for y_hat in yhats])\n",
    "\n",
    "# === BEGIN SOLUTION ===\n",
    "loss = np.array([ squared_loss(y_obs, y_hat) for y_hat in yhats])\n",
    "# === END SOLUTION ==="
   ]
  },
  {
   "cell_type": "markdown",
   "metadata": {
    "nbgrader": {
     "grade": false,
     "grade_id": "q2b-plot",
     "locked": true,
     "schema_version": 3,
     "solution": false
    }
   },
   "source": [
    "To test your loss calculation above, run the cell below, and it should produce this picture:\n",
    "\n",
    "![squared loss](squared_loss.png)"
   ]
  },
  {
   "cell_type": "code",
   "execution_count": 10,
   "metadata": {
    "nbgrader": {
     "grade": false,
     "grade_id": "q2b-makeplot",
     "locked": true,
     "schema_version": 3,
     "solution": false
    },
    "tags": [
     "student",
     "written"
    ]
   },
   "outputs": [
    {
     "data": {
      "image/png": "[encoded data removed]",
      "text/plain": [
       "<Figure size 432x288 with 1 Axes>"
      ]
     },
     "metadata": {
      "needs_background": "light"
     },
     "output_type": "display_data"
    }
   ],
   "source": [
    "plt.plot(yhats, loss, label=\"Squared Loss\")\n",
    "plt.title(\"Squared Loss of Observed and Predicted Tip (percentage)\")\n",
    "plt.xlabel(r\"Choice for $\\hat{y}$ (tip percent)\")\n",
    "plt.ylabel(r\"Loss\")\n",
    "plt.legend(loc='best')\n",
    "#plt.savefig(\"squared_loss_my_plot.png\",  bbox_inches = 'tight')"
   ]
  },
  {
   "cell_type": "markdown",
   "metadata": {
    "deletable": false,
    "editable": false,
    "nbgrader": {
     "grade": false,
     "grade_id": "q2c",
     "locked": true,
     "schema_version": 3,
     "solution": false
    }
   },
   "source": [
    "## Question 2c: Implement the absolute loss \n",
    "\n",
    "$$\\Large\n",
    "L\\left(y, \\hat{\\hspace{0pt}y} \\right) = \\left| y - \\hat{\\hspace{0pt}y} \\right|\n",
    "$$\n",
    "\n",
    "<!--\n",
    "BEGIN QUESTION\n",
    "name: q2c\n",
    "-->"
   ]
  },
  {
   "cell_type": "code",
   "execution_count": 11,
   "metadata": {
    "nbgrader": {
     "grade": false,
     "grade_id": "q2c-answer",
     "locked": false,
     "schema_version": 3,
     "solution": true
    },
    "tags": [
     "student"
    ]
   },
   "outputs": [],
   "source": [
    "def abs_loss(y_obs, y_hat):\n",
    "    \"\"\"\n",
    "    Calculate the absolute loss of the observed data and predicted data.\n",
    "    \n",
    "    Parameters\n",
    "    ------------\n",
    "    y_obs: an array of observed values\n",
    "    y_hat: an array of predicted values\n",
    "    \n",
    "    Returns\n",
    "    ------------\n",
    "    An array of loss values corresponding to the absolute loss for each prediction\n",
    "    \"\"\"\n",
    "    # === BEGIN SOLUTION ===\n",
    "    return np.abs(y_obs - y_hat)\n",
    "    # === END SOLUTION ==="
   ]
  },
  {
   "cell_type": "code",
   "execution_count": 12,
   "metadata": {
    "nbgrader": {
     "grade": true,
     "grade_id": "q2c-tests",
     "locked": true,
     "points": 0,
     "schema_version": 3,
     "solution": false,
     "task": false
    }
   },
   "outputs": [],
   "source": [
    "assert np.allclose(abs_loss(np.array([5., 7.]), np.array([5., 7.])), np.array([0.0, 0.0]))\n",
    "assert np.allclose(abs_loss(np.array([5., 7.]), np.array([5., 5.])), np.array([0.0, 2.0]))"
   ]
  },
  {
   "cell_type": "markdown",
   "metadata": {
    "nbgrader": {
     "grade": false,
     "grade_id": "cell-81bb5873c162e5ef",
     "locked": true,
     "schema_version": 3,
     "solution": false,
     "task": false
    }
   },
   "source": [
    "## 2c: Plot the absolute loss.\n",
    "Make the same plot as above, but now for the absolute loss."
   ]
  },
  {
   "cell_type": "code",
   "execution_count": null,
   "metadata": {
    "nbgrader": {
     "grade": true,
     "grade_id": "q2c-plot-task",
     "locked": false,
     "points": 0,
     "schema_version": 3,
     "solution": true,
     "task": false
    }
   },
   "outputs": [],
   "source": []
  },
  {
   "cell_type": "markdown",
   "metadata": {
    "nbgrader": {
     "grade": false,
     "grade_id": "q2d",
     "locked": true,
     "schema_version": 3,
     "solution": false
    }
   },
   "source": [
    "\n",
    "\n",
    "## Question 2d: Plotting **Average Loss** for our Data\n",
    "\n",
    "Now, we can extend the above loss functions to an entire dataset by taking the average. Let the dataset $\\mathcal{D}$ be the set of observations:\n",
    "\n",
    "$$\\Large\n",
    "\\mathcal{D} = \\{(x_1, y_1), \\ldots, (x_n, y_n)\\}\n",
    "$$\n",
    "\n",
    "where $x_i$ is the data we have about the restaurant visit (we're ignoring it right now) and $y_i$ is the tip percentage.\n",
    "\n",
    "We can define the average loss over the dataset as:\n",
    "\n",
    "$$\\Large\n",
    "L\\left(\\hat{y}, \\mathcal{D}\\right) = \\frac{1}{n} \\sum_{i=1}^n L(\\hat{y}, y_i)\n",
    "$$\n",
    "\n",
    "**Complete the following code block to render a plot of the average absolute and squared loss for different values of $\\hat{y}$**"
   ]
  },
  {
   "cell_type": "code",
   "execution_count": 13,
   "metadata": {
    "nbgrader": {
     "grade": true,
     "grade_id": "cell-b87196c0d08a07b1",
     "locked": false,
     "points": 0,
     "schema_version": 3,
     "solution": true,
     "task": false
    },
    "tags": [
     "student"
    ]
   },
   "outputs": [],
   "source": [
    "yhats = np.linspace(0, 50, 200) # A range of possible values to predict\n",
    "y_obs = data['%']\n",
    "\n",
    "# Replace 0.0 with the correct value computed \n",
    "# Use the loss functions from above\n",
    "\n",
    "# This time, each loss array should be a numpy array where the ith entry corresponds to the \n",
    "# average loss across all data points for the ith yhat\n",
    "\n",
    "avg_squared_loss = np.array([0.0 for y_hat in yhats])\n",
    "avg_absolute_loss = np.array([0.0 for y_hat in yhats])\n",
    "\n",
    "# == BEGIN SOLUTION ===\n",
    "avg_squared_loss = np.array([squared_loss(y_obs, y_hat).mean() for y_hat in yhats])\n",
    "avg_absolute_loss = np.array([abs_loss(y_obs, y_hat).mean()  for y_hat in yhats])\n",
    "# === END SOLUTION ==="
   ]
  },
  {
   "cell_type": "markdown",
   "metadata": {
    "nbgrader": {
     "grade": false,
     "grade_id": "q2d-plot",
     "locked": true,
     "schema_version": 3,
     "solution": false
    }
   },
   "source": [
    "To test your loss calculations, run the cell below. If your code was correct, the following plot should look like:\n",
    "\n",
    "![Average Loss](average_loss.png)\n",
    "\n",
    "Note: Your colors might be different."
   ]
  },
  {
   "cell_type": "code",
   "execution_count": 14,
   "metadata": {
    "nbgrader": {
     "grade": false,
     "grade_id": "q2d-makeplot",
     "locked": true,
     "schema_version": 3,
     "solution": false
    },
    "tags": [
     "student",
     "written"
    ]
   },
   "outputs": [
    {
     "data": {
      "image/png": "[encoded data removed]",
      "text/plain": [
       "<Figure size 432x288 with 1 Axes>"
      ]
     },
     "metadata": {
      "needs_background": "light"
     },
     "output_type": "display_data"
    }
   ],
   "source": [
    "plt.plot(yhats, avg_squared_loss, label = \"Average Squared Loss\")\n",
    "plt.plot(yhats, avg_absolute_loss * 10, label = \"Average Absolute Loss (* 10)\")\n",
    "plt.title(\"Average Squared and Absolute Loss of Observed and Predicted Tip (in percent)\")\n",
    "plt.xlabel(r\"Choice for $\\hat{y}$ (tip percent)\")\n",
    "plt.ylabel(r\"Loss\")\n",
    "plt.legend()\n",
    "#plt.savefig(\"average_loss_my_plot.png\",  bbox_inches = 'tight')"
   ]
  },
  {
   "cell_type": "markdown",
   "metadata": {
    "nbgrader": {
     "grade": false,
     "grade_id": "cell-896580605adb2db2",
     "locked": true,
     "schema_version": 3,
     "solution": false
    }
   },
   "source": [
    "**Based on the plot above, approximately what is the optimal value of theta you would choose for this model?**"
   ]
  },
  {
   "cell_type": "markdown",
   "metadata": {},
   "source": [
    "## How to minimize that loss?"
   ]
  },
  {
   "cell_type": "markdown",
   "metadata": {},
   "source": [
    "What is the average loss you get for each of the following tip percentages (fill in the table)"
   ]
  },
  {
   "cell_type": "markdown",
   "metadata": {},
   "source": [
    "guess | mean squared error | mean absolute error\n",
    "-----|---|---\n",
    "15 |? | ?\n",
    "4 | ? | ?\n",
    "`data['%'].mean()` | ? | ?\n",
    "`data['%'].mean() + .005` | ? | ?\n",
    "`data['%'].mean() - .005` | ? | ?\n",
    "`data['%'].median()` | ? | ?\n",
    "`data['%'].median() + .005` | ? | ?\n",
    "`data['%'].median() - .005` | ? | ?\n"
   ]
  },
  {
   "cell_type": "code",
   "execution_count": 15,
   "metadata": {},
   "outputs": [
    {
     "data": {
      "text/html": [
       "<div>\n",
       "<style scoped>\n",
       "    .dataframe tbody tr th:only-of-type {\n",
       "        vertical-align: middle;\n",
       "    }\n",
       "\n",
       "    .dataframe tbody tr th {\n",
       "        vertical-align: top;\n",
       "    }\n",
       "\n",
       "    .dataframe thead th {\n",
       "        text-align: right;\n",
       "    }\n",
       "</style>\n",
       "<table border=\"1\" class=\"dataframe\">\n",
       "  <thead>\n",
       "    <tr style=\"text-align: right;\">\n",
       "      <th></th>\n",
       "      <th>guess</th>\n",
       "      <th>MSE</th>\n",
       "      <th>MAE</th>\n",
       "    </tr>\n",
       "  </thead>\n",
       "  <tbody>\n",
       "    <tr>\n",
       "      <th>0</th>\n",
       "      <td>15.000000</td>\n",
       "      <td>38.312238</td>\n",
       "      <td>3.991214</td>\n",
       "    </tr>\n",
       "    <tr>\n",
       "      <th>1</th>\n",
       "      <td>4.000000</td>\n",
       "      <td>183.077918</td>\n",
       "      <td>12.083833</td>\n",
       "    </tr>\n",
       "    <tr>\n",
       "      <th>2</th>\n",
       "      <td>16.080258</td>\n",
       "      <td>37.145280</td>\n",
       "      <td>4.000907</td>\n",
       "    </tr>\n",
       "    <tr>\n",
       "      <th>3</th>\n",
       "      <td>16.085258</td>\n",
       "      <td>37.145305</td>\n",
       "      <td>4.001522</td>\n",
       "    </tr>\n",
       "    <tr>\n",
       "      <th>4</th>\n",
       "      <td>16.075258</td>\n",
       "      <td>37.145305</td>\n",
       "      <td>4.000293</td>\n",
       "    </tr>\n",
       "    <tr>\n",
       "      <th>5</th>\n",
       "      <td>15.476977</td>\n",
       "      <td>37.509228</td>\n",
       "      <td>3.963595</td>\n",
       "    </tr>\n",
       "    <tr>\n",
       "      <th>6</th>\n",
       "      <td>15.481977</td>\n",
       "      <td>37.503220</td>\n",
       "      <td>3.963595</td>\n",
       "    </tr>\n",
       "    <tr>\n",
       "      <th>7</th>\n",
       "      <td>15.471977</td>\n",
       "      <td>37.515286</td>\n",
       "      <td>3.963595</td>\n",
       "    </tr>\n",
       "  </tbody>\n",
       "</table>\n",
       "</div>"
      ],
      "text/plain": [
       "       guess         MSE        MAE\n",
       "0  15.000000   38.312238   3.991214\n",
       "1   4.000000  183.077918  12.083833\n",
       "2  16.080258   37.145280   4.000907\n",
       "3  16.085258   37.145305   4.001522\n",
       "4  16.075258   37.145305   4.000293\n",
       "5  15.476977   37.509228   3.963595\n",
       "6  15.481977   37.503220   3.963595\n",
       "7  15.471977   37.515286   3.963595"
      ]
     },
     "execution_count": 15,
     "metadata": {},
     "output_type": "execute_result"
    }
   ],
   "source": [
    "guesses = [\n",
    "    15., 4.,\n",
    "    data['%'].mean(), data['%'].mean() + .005, data['%'].mean() - .005,\n",
    "    data['%'].median(), data['%'].median() + .005, data['%'].median() - .005\n",
    "]\n",
    "pd.DataFrame({\n",
    "    \"guess\": guesses, \n",
    "    \"MSE\": [np.mean(squared_loss(guess, y_obs)) for guess in guesses],\n",
    "    \"MAE\": [np.mean(abs_loss(guess, y_obs)) for guess in guesses],\n",
    "})"
   ]
  },
  {
   "cell_type": "markdown",
   "metadata": {},
   "source": [
    "Based on your observations, what guess minimizes the MSE? the MAE?"
   ]
  },
  {
   "cell_type": "markdown",
   "metadata": {},
   "source": [
    "The MSE of predicting the mean has another name -- probably one that is very familiar to you. It even has a built-in function in NumPy. Can you figure out what it is?"
   ]
  },
  {
   "cell_type": "code",
   "execution_count": 16,
   "metadata": {},
   "outputs": [
    {
     "data": {
      "text/plain": [
       "37.1452800135469"
      ]
     },
     "execution_count": 16,
     "metadata": {},
     "output_type": "execute_result"
    }
   ],
   "source": [
    "# === BEGIN SOLUTION ===\n",
    "np.var(data['%'])\n",
    "# === END SOLUTION ==="
   ]
  },
  {
   "cell_type": "markdown",
   "metadata": {},
   "source": [
    "## Using a model to make predictions"
   ]
  },
  {
   "cell_type": "markdown",
   "metadata": {},
   "source": [
    "Our predictive model was too simple: we assumed that everyone would leave the same tip. But we might be able to make a better guess by taking into account some characteristics. Look at the data (repeated again below) -- there are several columns that might plausibly help us make that prediction. Maybe men and women tip different amounts? Maybe people tip more or less on certain days of the week? Maybe larger parties tip more--or less? Maybe people tip more for fancier meals (reflected in the total bill)?"
   ]
  },
  {
   "cell_type": "markdown",
   "metadata": {},
   "source": [
    "## Q: Predict using sex"
   ]
  },
  {
   "cell_type": "markdown",
   "metadata": {},
   "source": [
    "Fill in the template below to try to predict the tip amount given the bill-payer's sex."
   ]
  },
  {
   "cell_type": "code",
   "execution_count": 17,
   "metadata": {},
   "outputs": [
    {
     "name": "stdout",
     "output_type": "stream",
     "text": [
      "Error:  38.31223773226083\n"
     ]
    }
   ],
   "source": [
    "tip_amounts_by_sex = {\n",
    "    \"Male\": 15.,\n",
    "    \"Female\": 15.\n",
    "}\n",
    "\n",
    "def predict_pct_from_sexes(sexes, tip_amounts_by_sex):\n",
    "    '''\n",
    "    Predict a response by looking up a predictor in a dictionary.\n",
    "\n",
    "    Parameters\n",
    "    ----------\n",
    "    sexes: a list (or Series) of predictor values\n",
    "    tip_amounts_by_sex: a dict of {predictor: output}\n",
    "    \n",
    "    Returns\n",
    "    ------------\n",
    "    An array of predictions corresponding to looking up each predictor value in the dictionary.\n",
    "    '''\n",
    "    return np.array([tip_amounts_by_sex[sex] for sex in sexes])\n",
    "\n",
    "sexes = data['sex']\n",
    "yhats = predict_pct_from_sexes(sexes, tip_amounts_by_sex)\n",
    "mse = np.mean(squared_loss(y_obs, yhats))\n",
    "print(\"Error: \", mse)"
   ]
  },
  {
   "cell_type": "markdown",
   "metadata": {},
   "source": [
    "2. How could we do it in a more principled way?"
   ]
  },
  {
   "cell_type": "code",
   "execution_count": 18,
   "metadata": {},
   "outputs": [
    {
     "data": {
      "text/plain": [
       "15.765054700429744"
      ]
     },
     "execution_count": 18,
     "metadata": {},
     "output_type": "execute_result"
    }
   ],
   "source": [
    "data['%'][data['sex'] == \"Male\"].mean()"
   ]
  },
  {
   "cell_type": "code",
   "execution_count": 19,
   "metadata": {},
   "outputs": [
    {
     "data": {
      "text/plain": [
       "sex\n",
       "Male      15.765055\n",
       "Female    16.649074\n",
       "Name: %, dtype: float64"
      ]
     },
     "execution_count": 19,
     "metadata": {},
     "output_type": "execute_result"
    }
   ],
   "source": [
    "data.groupby('sex')['%'].mean()"
   ]
  },
  {
   "cell_type": "code",
   "execution_count": 20,
   "metadata": {},
   "outputs": [
    {
     "data": {
      "text/plain": [
       "sex\n",
       "Male      15.765055\n",
       "Female    16.649074\n",
       "Name: %, dtype: float64"
      ]
     },
     "execution_count": 20,
     "metadata": {},
     "output_type": "execute_result"
    }
   ],
   "source": [
    "tip_amounts_by_sex = data['%'].groupby(data['sex']).mean()\n",
    "tip_amounts_by_sex"
   ]
  },
  {
   "cell_type": "markdown",
   "metadata": {
    "nbgrader": {
     "grade": false,
     "grade_id": "cell-fe9f46d816654361",
     "locked": true,
     "points": 0,
     "schema_version": 3,
     "solution": false,
     "task": true
    }
   },
   "source": [
    "## How good of a prediction can we make by using the sex information?\n",
    "\n",
    "Compute the MSE of our new prediction."
   ]
  },
  {
   "cell_type": "code",
   "execution_count": 21,
   "metadata": {},
   "outputs": [
    {
     "name": "stdout",
     "output_type": "stream",
     "text": [
      "Error:  36.965987405527216\n"
     ]
    }
   ],
   "source": [
    "# copy and paste... but use the computed mean tip amounts\n",
    "sexes = data['sex']\n",
    "yhats = predict_pct_from_sexes(sexes, tip_amounts_by_sex)\n",
    "mse = np.mean(squared_loss(y_obs, yhats))\n",
    "print(\"Error: \", mse)"
   ]
  },
  {
   "cell_type": "markdown",
   "metadata": {},
   "source": [
    "## Compare that error with the error we got when predicting the mean.\n",
    "\n",
    "Complete the following:"
   ]
  },
  {
   "cell_type": "code",
   "execution_count": 22,
   "metadata": {},
   "outputs": [
    {
     "name": "stdout",
     "output_type": "stream",
     "text": [
      "MSE predicting mean: 37.145, MSE using gender: 36.966, R^2: 0.005\n"
     ]
    }
   ],
   "source": [
    "mse_predicting_mean = np.var(y_obs)\n",
    "mse_using_gender = mse # from above\n",
    "r2 = 1 - mse_using_gender / mse_predicting_mean\n",
    "print('MSE predicting mean: {:.3f}, MSE using gender: {:.3f}, R^2: {:.3f}'.format(\n",
    "    mse_predicting_mean,\n",
    "    mse_using_gender,\n",
    "    r2\n",
    "))"
   ]
  },
  {
   "cell_type": "markdown",
   "metadata": {},
   "source": [
    "R^2 makes a relative comparison between the prediction errors. Have you seen it before in other contexts?"
   ]
  },
  {
   "cell_type": "markdown",
   "metadata": {
    "nbgrader": {
     "grade": false,
     "grade_id": "cell-c1eb5222f21bb584",
     "locked": true,
     "schema_version": 3,
     "solution": false,
     "task": false
    }
   },
   "source": [
    "### Question:\n",
    "What is the maximum value that $R^2$ might take?"
   ]
  },
  {
   "cell_type": "markdown",
   "metadata": {
    "nbgrader": {
     "grade": true,
     "grade_id": "max-r2",
     "locked": false,
     "points": 0,
     "schema_version": 3,
     "solution": true,
     "task": false
    }
   },
   "source": [
    "1.0"
   ]
  },
  {
   "cell_type": "markdown",
   "metadata": {
    "nbgrader": {
     "grade": false,
     "grade_id": "cell-3490cc3ca18b53da",
     "locked": true,
     "schema_version": 3,
     "solution": false,
     "task": false
    }
   },
   "source": [
    "### Question:\n",
    "What is the minimum value that $R^2$ might take?"
   ]
  },
  {
   "cell_type": "markdown",
   "metadata": {
    "nbgrader": {
     "grade": true,
     "grade_id": "min-r2",
     "locked": false,
     "points": 0,
     "schema_version": 3,
     "solution": true,
     "task": false
    }
   },
   "source": [
    "-infinity"
   ]
  },
  {
   "cell_type": "markdown",
   "metadata": {},
   "source": [
    "### Question\n",
    "What value of $R^2$ would be considered the \"best\" prediction?"
   ]
  },
  {
   "cell_type": "markdown",
   "metadata": {
    "nbgrader": {
     "grade": true,
     "grade_id": "r2-best",
     "locked": false,
     "points": 0,
     "schema_version": 3,
     "solution": true,
     "task": false
    }
   },
   "source": [
    "1.0"
   ]
  }
 ],
 "metadata": {
  "celltoolbar": "Edit Metadata",
  "kernelspec": {
   "display_name": "Python 3",
   "language": "python",
   "name": "python3"
  },
  "language_info": {
   "codemirror_mode": {
    "name": "ipython",
    "version": 3
   },
   "file_extension": ".py",
   "mimetype": "text/x-python",
   "name": "python",
   "nbconvert_exporter": "python",
   "pygments_lexer": "ipython3",
   "version": "3.7.3"
  }
 },
 "nbformat": 4,
 "nbformat_minor": 2
}
