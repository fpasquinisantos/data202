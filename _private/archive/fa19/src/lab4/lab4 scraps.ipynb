{
 "cells": [
  {
   "cell_type": "code",
   "execution_count": 54,
   "metadata": {},
   "outputs": [
    {
     "name": "stdout",
     "output_type": "stream",
     "text": [
      "coef: [-2.07199820e-01 -4.05410818e-04 -7.97624397e-01 -5.53313486e-01\n",
      "  9.04371146e-01 -3.08865651e+00 -6.02197052e-01  4.58173477e-01]\n",
      "MSE: 24.760645696216567\n",
      "R2: 0.14265087035567414\n",
      "MAE: 4.131691277877269\n"
     ]
    }
   ],
   "source": [
    "X = pd.get_dummies(train, columns=[\"time\", \"sex\", \"smoker\", \"day\"], drop_first=True).drop(['tip', '%'], axis=1)\n",
    "show_regression_stats(LinearRegression().fit(X, y), X, y)"
   ]
  },
  {
   "cell_type": "code",
   "execution_count": null,
   "metadata": {},
   "outputs": [],
   "source": []
  }
 ],
 "metadata": {
  "kernelspec": {
   "display_name": "Python 3",
   "language": "python",
   "name": "python3"
  },
  "language_info": {
   "codemirror_mode": {
    "name": "ipython",
    "version": 3
   },
   "file_extension": ".py",
   "mimetype": "text/x-python",
   "name": "python",
   "nbconvert_exporter": "python",
   "pygments_lexer": "ipython3",
   "version": "3.7.3"
  }
 },
 "nbformat": 4,
 "nbformat_minor": 2
}
