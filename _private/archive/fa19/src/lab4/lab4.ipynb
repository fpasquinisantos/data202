{
  "cells": [
    {
      "cell_type": "markdown",
      "metadata": {},
      "source": [
        "# DATA 202 Lab 4: Multiple Predictors and Feature Engineering"
      ]
    },
    {
      "cell_type": "markdown",
      "metadata": {},
      "source": [
        "The goal of this lab is to practice applying linear regression to a wider range of problems, such as when data aren't just numbers."
      ]
    },
    {
      "cell_type": "code",
      "execution_count": 8,
      "metadata": {
        "_cell_guid": "33c63379-d85b-4638-8183-d008fdb96de7",
        "_uuid": "7ad7f9f24df7dba8ac92d234890835f6b9970834",
        "nbgrader": {
          "grade": false,
          "grade_id": "imports1",
          "locked": true,
          "schema_version": 3,
          "solution": false
        }
      },
      "outputs": [],
      "source": [
        "import pandas as pd\n",
        "import numpy as np\n",
        "import seaborn as sns\n",
        "import matplotlib.pyplot as plt\n",
        "from sklearn.linear_model import LinearRegression\n",
        "from sklearn.model_selection import train_test_split\n",
        "\n",
        "sns.set()\n",
        "sns.set_context(\"notebook\")\n",
        "%matplotlib inline"
      ]
    },
    {
      "cell_type": "code",
      "execution_count": 9,
      "metadata": {},
      "outputs": [],
      "source": [
        "data = sns.load_dataset(\"tips\")\n",
        "data.head()"
      ]
    },
    {
      "cell_type": "code",
      "execution_count": 10,
      "metadata": {},
      "outputs": [],
      "source": [
        "data.info()"
      ]
    },
    {
      "cell_type": "code",
      "execution_count": 11,
      "metadata": {
        "nbgrader": {
          "grade": false,
          "grade_id": "q1-xform-broadcast",
          "locked": false,
          "schema_version": 3,
          "solution": true,
          "task": false
        }
      },
      "outputs": [],
      "source": [
        "# Construct the tip percentage column\n",
        "data['%'] = data['tip'] / data['total_bill'] * 100"
      ]
    },
    {
      "cell_type": "markdown",
      "metadata": {},
      "source": [
        "# Prep: train-test split"
      ]
    },
    {
      "cell_type": "markdown",
      "metadata": {},
      "source": [
        "Split the data *randomly* into a training set and test set. We'll ask you to write something similar yourself later, but for now we'll just give you this line:"
      ]
    },
    {
      "cell_type": "code",
      "execution_count": 92,
      "metadata": {},
      "outputs": [],
      "source": [
        "train, test = train_test_split(data, train_size=.8, random_state=0)\n",
        "len(train), len(test)"
      ]
    },
    {
      "cell_type": "markdown",
      "metadata": {},
      "source": [
        "# Exercise 1: More Predictors\n",
        "As before, let's try to predict the tip percent. So the `%` column will be the *response*. We'll use the training set the whole time."
      ]
    },
    {
      "cell_type": "code",
      "execution_count": 93,
      "metadata": {},
      "outputs": [],
      "source": [
        "y = train['%']\n",
        "# We'll set X to different things below."
      ]
    },
    {
      "cell_type": "markdown",
      "metadata": {},
      "source": [
        "## 1.1: No Predictors\n",
        "Suppose we predict a constant value for each data point.\n",
        "1. What constant should we predict?\n",
        "2. What MSE do we get?\n",
        "3. What R^2 does this model get?\n",
        "4. What Mean Absolute Error do we get?\n",
        "5. How good or bad is this prediction? Connect it to the real world somehow.\n",
        "\n",
        "For now, don't touch the *test set*; do all of this on the training set only."
      ]
    },
    {
      "cell_type": "code",
      "execution_count": 94,
      "metadata": {},
      "outputs": [],
      "source": [
        "# your code here\n"
      ]
    },
    {
      "cell_type": "code",
      "execution_count": 95,
      "metadata": {},
      "outputs": [],
      "source": [
        "# your code here\n"
      ]
    },
    {
      "cell_type": "code",
      "execution_count": 96,
      "metadata": {},
      "outputs": [],
      "source": [
        "# your code here\n"
      ]
    },
    {
      "cell_type": "code",
      "execution_count": 97,
      "metadata": {},
      "outputs": [],
      "source": [
        "# your code here\n"
      ]
    },
    {
      "cell_type": "markdown",
      "metadata": {},
      "source": [
        "*your answer here*\n"
      ]
    },
    {
      "cell_type": "markdown",
      "metadata": {},
      "source": [
        "## 1.2: One predictor"
      ]
    },
    {
      "cell_type": "markdown",
      "metadata": {},
      "source": [
        "Now let's use `total_bill` to help predict `%`.\n",
        "\n",
        "First, make a matrix of observations by features (just one feature for now). Call it `X`. Use only training set points. Hint: use a one-element list of column names."
      ]
    },
    {
      "cell_type": "code",
      "execution_count": 98,
      "metadata": {},
      "outputs": [],
      "source": [
        "# your code here\n"
      ]
    },
    {
      "cell_type": "code",
      "execution_count": 99,
      "metadata": {},
      "outputs": [],
      "source": [
        "assert X.shape == (len(train), 1)"
      ]
    },
    {
      "cell_type": "markdown",
      "metadata": {},
      "source": [
        "Use the sklearn `LinearRegression` function to predict `y` from `X`.\n",
        "\n",
        "1. As the total bill amount increases, does the tip *percentage* generally increase or decrease? (hint: `linreg.coef_`)\n",
        "2. What MSE do we get?\n",
        "3. What R^2 does this model get?\n",
        "4. What Mean Absolute Error do we get?\n",
        "5. How good or bad is this prediction? Is that better or worse than the constant predictor?\n",
        "\n",
        "Since we'll be doing this a few more times, go ahead and make a *function* that prints out the caluclations you need for parts 1-4, given a LinearRegression object and an X and y."
      ]
    },
    {
      "cell_type": "code",
      "execution_count": 100,
      "metadata": {},
      "outputs": [],
      "source": [
        "def show_regression_stats(linreg, X, y):\n",
        "    '''Show coefficients, MSE, R^2, and MAE of a fitted LinearRegression.'''\n",
        "    # your code here\n"
      ]
    },
    {
      "cell_type": "code",
      "execution_count": 101,
      "metadata": {},
      "outputs": [],
      "source": [
        "# your code here\n"
      ]
    },
    {
      "cell_type": "markdown",
      "metadata": {},
      "source": [
        "*your answer here*\n"
      ]
    },
    {
      "cell_type": "markdown",
      "metadata": {},
      "source": [
        "## 1.3: Two predictors"
      ]
    },
    {
      "cell_type": "markdown",
      "metadata": {},
      "source": [
        "Now let's use both `total_bill` and `size` (number of people in the party) to predict `%`."
      ]
    },
    {
      "cell_type": "markdown",
      "metadata": {},
      "source": [
        "First, make your `X` matrix."
      ]
    },
    {
      "cell_type": "code",
      "execution_count": 102,
      "metadata": {},
      "outputs": [],
      "source": [
        "# your code here\n"
      ]
    },
    {
      "cell_type": "code",
      "execution_count": 103,
      "metadata": {},
      "outputs": [],
      "source": [
        "assert X.shape == (len(train), 2)"
      ]
    },
    {
      "cell_type": "markdown",
      "metadata": {},
      "source": [
        "Use the sklearn `LinearRegression` function to predict `y` from `X`. Use your show_regression_stats function from above.\n",
        "\n",
        "1. As the total bill amount increases, how does the tip percentage change? Is it the same as in ex1.2?\n",
        "2. As the party size increases, does the tip *percentage* generally increase or decrease?\n",
        "3. What MSE, R^2, and MAE do we get?\n",
        "4. How good or bad is this prediction? Is that better or worse than our previous models?"
      ]
    },
    {
      "cell_type": "code",
      "execution_count": 104,
      "metadata": {},
      "outputs": [],
      "source": [
        "# your code here\n"
      ]
    },
    {
      "cell_type": "markdown",
      "metadata": {},
      "source": [
        "*your answer here*"
      ]
    },
    {
      "cell_type": "markdown",
      "metadata": {},
      "source": [
        "# Exercise 2: Dealing with Categorical Variables"
      ]
    },
    {
      "cell_type": "markdown",
      "metadata": {},
      "source": [
        "## 2.1: Error!\n",
        "Try including the `time` column now too, in exactly the same way as you included the `size` column. Observe that you get an error. Why do you get that error?"
      ]
    },
    {
      "cell_type": "code",
      "execution_count": 105,
      "metadata": {},
      "outputs": [],
      "source": [
        "# your code here\n"
      ]
    },
    {
      "cell_type": "markdown",
      "metadata": {},
      "source": [
        "*Your answer here*\n"
      ]
    },
    {
      "cell_type": "code",
      "execution_count": 106,
      "metadata": {},
      "outputs": [],
      "source": [
        "train['time'].value_counts()"
      ]
    },
    {
      "cell_type": "markdown",
      "metadata": {},
      "source": [
        "## 2.2: One-Hot Encoding\n",
        "To solve this problem, we often \"encode\" categorical data as separate columns. So we'll end up with a model that looks like\n",
        "\n",
        "20 + 5 * time_Lunch + 6 * time_Dinner\n",
        "\n",
        "(if you've studied this before, there is a caveat here, shhhh...)"
      ]
    },
    {
      "cell_type": "markdown",
      "metadata": {},
      "source": [
        "What should time_Lunch and time_Dinner be? Think for a moment before moving on.\n",
        "\n",
        ".\n",
        "\n",
        ".\n",
        "\n",
        ".\n",
        "\n",
        ".\n",
        "\n",
        "\n",
        "`time_Lunch` should be a column that's 1 (or some other constant) when `time` is \"Lunch\" and 0 otherwise. `time_Dinner` is likewise."
      ]
    },
    {
      "cell_type": "markdown",
      "metadata": {},
      "source": [
        "This is called \"one-hot\" encoding because only one of the columns is \"hot\" (non-zero) at a time."
      ]
    },
    {
      "cell_type": "markdown",
      "metadata": {},
      "source": [
        "We can construct these columns easily by using the fact that `True` is interpreted as `1`."
      ]
    },
    {
      "cell_type": "code",
      "execution_count": 107,
      "metadata": {},
      "outputs": [],
      "source": [
        "time_Lunch = train['time'] == 'Lunch'\n",
        "time_Lunch.head()"
      ]
    },
    {
      "cell_type": "code",
      "execution_count": 108,
      "metadata": {},
      "outputs": [],
      "source": [
        "time_Lunch = time_Lunch.astype(float) # in some situations you don't even need to explicitly convert the type\n",
        "time_Lunch.head()"
      ]
    },
    {
      "cell_type": "markdown",
      "metadata": {},
      "source": [
        "The easiest way to include these variables in the regression is to add them to the dataframe. To avoid a warning that almost every Pandas user dreads (`SettingWithCopyWarning`), we won't *modify* the original DataFrame; instead, we'll make a *new* dataframe that includes the new columns. The syntax is:"
      ]
    },
    {
      "cell_type": "code",
      "execution_count": 109,
      "metadata": {},
      "outputs": [],
      "source": [
        "train_transformed = train.assign(time_Lunch=1) # replacing that RHS with the desired value\n",
        "train_transformed.head()"
      ]
    },
    {
      "cell_type": "markdown",
      "metadata": {},
      "source": [
        "Use that to make a new variable, `train_transformed`, that has encoded columns for both Lunch and Dinner. Try to do it in a single assignment statement."
      ]
    },
    {
      "cell_type": "code",
      "execution_count": 110,
      "metadata": {},
      "outputs": [],
      "source": [
        "# your code here\n"
      ]
    },
    {
      "cell_type": "code",
      "execution_count": 111,
      "metadata": {},
      "outputs": [],
      "source": [
        "assert 0 < train_transformed['time_Lunch'].mean() < 1\n",
        "assert 0 < train_transformed['time_Dinner'].mean() < 1\n",
        "assert np.allclose(train_transformed['time_Lunch'] + train_transformed['time_Dinner'], 1.0)"
      ]
    },
    {
      "cell_type": "markdown",
      "metadata": {},
      "source": [
        "## 2.3: Fitting a regression with one-hot encoding."
      ]
    },
    {
      "cell_type": "markdown",
      "metadata": {},
      "source": [
        "Now construct an X matrix containing all of the predictors we want to use: total_bill, size, and the two encoded columns for `sex`."
      ]
    },
    {
      "cell_type": "code",
      "execution_count": 112,
      "metadata": {},
      "outputs": [],
      "source": [
        "# your code here\n"
      ]
    },
    {
      "cell_type": "markdown",
      "metadata": {},
      "source": [
        "And fit a linear regression predicting `y` from our new `X`. Answer the same questions as in 1.3."
      ]
    },
    {
      "cell_type": "code",
      "execution_count": 113,
      "metadata": {},
      "outputs": [],
      "source": [
        "# your code here\n"
      ]
    },
    {
      "cell_type": "markdown",
      "metadata": {},
      "source": [
        "## 2.4: Inference given a one-hot encoding\n",
        "\n",
        "Use the coefficients of the linear model you found to write out a prediction function for this dataset. Hard-code the coefficients to 2 or 3 decimal places. You may need:"
      ]
    },
    {
      "cell_type": "code",
      "execution_count": 114,
      "metadata": {},
      "outputs": [],
      "source": [
        "linreg.intercept_"
      ]
    },
    {
      "cell_type": "code",
      "execution_count": 127,
      "metadata": {},
      "outputs": [],
      "source": [
        "def predict(data):\n",
        "    \"\"\"\n",
        "    Predict the tip percentage. Hard-codes a specific fitted model.\n",
        "    \"\"\"\n",
        "    # your code here\n"
      ]
    },
    {
      "cell_type": "markdown",
      "metadata": {},
      "source": [
        "Test this function by calling it on the original training set."
      ]
    },
    {
      "cell_type": "code",
      "execution_count": 126,
      "metadata": {},
      "outputs": [],
      "source": [
        "y_pred = predict(train)\n",
        "print(np.mean((train['%'] - y_pred) ** 2))"
      ]
    },
    {
      "cell_type": "markdown",
      "metadata": {},
      "source": [
        "If this isn't within 2 decimal places of the MSE you found in 2.3, check your work."
      ]
    },
    {
      "cell_type": "markdown",
      "metadata": {},
      "source": [
        "## 2.5: Critiquing the one-hot encoding"
      ]
    },
    {
      "cell_type": "markdown",
      "metadata": {},
      "source": [
        "What do you notice about the coefficients of the two encoded columns? (Suppose you lost access to the `Dinner` column. Could you figure out a way to get the same predictions?)"
      ]
    },
    {
      "cell_type": "markdown",
      "metadata": {},
      "source": [
        "*your answer here*"
      ]
    },
    {
      "cell_type": "code",
      "execution_count": null,
      "metadata": {},
      "outputs": [],
      "source": []
    }
  ],
  "metadata": {
    "kernelspec": {
      "display_name": "Python 3",
      "language": "python",
      "name": "python3"
    },
    "language_info": {
      "codemirror_mode": {
        "name": "ipython",
        "version": 3
      },
      "file_extension": ".py",
      "mimetype": "text/x-python",
      "name": "python",
      "nbconvert_exporter": "python",
      "pygments_lexer": "ipython3",
      "version": "3.7.3"
    }
  },
  "nbformat": 4,
  "nbformat_minor": 2
}