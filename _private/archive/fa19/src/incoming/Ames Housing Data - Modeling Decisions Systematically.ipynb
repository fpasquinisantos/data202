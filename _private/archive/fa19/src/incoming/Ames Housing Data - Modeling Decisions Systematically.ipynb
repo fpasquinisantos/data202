{
 "cells": [
  {
   "cell_type": "markdown",
   "metadata": {},
   "source": [
    "Overall goal:\n",
    "\n",
    "* Increase awareness of what kinds of modeling decisions we can make\n",
    "  * Model choice: kNN vs LinReg\n",
    "  * Hyperparameters: number of neighbors\n",
    "  * Feature engineering:\n",
    "    * one-hot encode a categorical feature\n",
    "    * binning continuous features\n"
   ]
  },
  {
   "cell_type": "markdown",
   "metadata": {},
   "source": [
    "Strategy: we do it together for one dataset, you do it alone for another."
   ]
  },
  {
   "cell_type": "code",
   "execution_count": 26,
   "metadata": {},
   "outputs": [],
   "source": [
    "import numpy as np\n",
    "import pandas as pd\n",
    "import matplotlib.pyplot as plt\n",
    "import seaborn as sns\n",
    "from sklearn import preprocessing\n",
    "from sklearn.compose import ColumnTransformer\n",
    "from sklearn.neighbors import KNeighborsRegressor\n",
    "from sklearn.linear_model import LinearRegression\n",
    "from sklearn.model_selection import train_test_split\n",
    "from sklearn import metrics\n",
    "\n",
    "# Set some display settings.\n",
    "%matplotlib inline\n",
    "sns.set(context='notebook')"
   ]
  },
  {
   "cell_type": "code",
   "execution_count": 34,
   "metadata": {},
   "outputs": [],
   "source": [
    "all_training_data = pd.read_csv('data/ames_train_cleaned.csv')\n",
    "# per recommendations of the original dataset authors:\n",
    "all_training_data = all_training_data.query(\"Sale_Condition == 'Normal'\").query(\"Gr_Liv_Area < 4000\")\n",
    "all_training_data['Age'] = all_training_data['Yr_Sold'] - all_training_data['Year_Built']\n",
    "all_training_data[\"Full_Bath_total\"] = all_training_data['Full_Bath'] + all_training_data['Bsmt_Full_Bath']\n",
    "all_training_data[\"Half_Bath_total\"] = all_training_data['Half_Bath'] + all_training_data['Bsmt_Half_Bath']\n",
    "all_neighborhoods = list(all_training_data[\"Neighborhood\"].unique())"
   ]
  },
  {
   "cell_type": "code",
   "execution_count": 35,
   "metadata": {},
   "outputs": [
    {
     "name": "stdout",
     "output_type": "stream",
     "text": [
      "1306 observations in training set\n",
      "327 observations in validation set\n"
     ]
    },
    {
     "data": {
      "text/html": [
       "<div>\n",
       "<style scoped>\n",
       "    .dataframe tbody tr th:only-of-type {\n",
       "        vertical-align: middle;\n",
       "    }\n",
       "\n",
       "    .dataframe tbody tr th {\n",
       "        vertical-align: top;\n",
       "    }\n",
       "\n",
       "    .dataframe thead th {\n",
       "        text-align: right;\n",
       "    }\n",
       "</style>\n",
       "<table border=\"1\" class=\"dataframe\">\n",
       "  <thead>\n",
       "    <tr style=\"text-align: right;\">\n",
       "      <th></th>\n",
       "      <th>Order</th>\n",
       "      <th>PID</th>\n",
       "      <th>MS_SubClass</th>\n",
       "      <th>MS_Zoning</th>\n",
       "      <th>Lot_Frontage</th>\n",
       "      <th>Lot_Area</th>\n",
       "      <th>Street</th>\n",
       "      <th>Alley</th>\n",
       "      <th>Lot_Shape</th>\n",
       "      <th>Land_Contour</th>\n",
       "      <th>...</th>\n",
       "      <th>Misc_Val</th>\n",
       "      <th>Mo_Sold</th>\n",
       "      <th>Yr_Sold</th>\n",
       "      <th>Sale_Type</th>\n",
       "      <th>Sale_Condition</th>\n",
       "      <th>SalePrice</th>\n",
       "      <th>TotalBathrooms</th>\n",
       "      <th>Age</th>\n",
       "      <th>Full_Bath_total</th>\n",
       "      <th>Half_Bath_total</th>\n",
       "    </tr>\n",
       "  </thead>\n",
       "  <tbody>\n",
       "    <tr>\n",
       "      <th>1674</th>\n",
       "      <td>2476</td>\n",
       "      <td>531376030</td>\n",
       "      <td>60</td>\n",
       "      <td>RL</td>\n",
       "      <td>65.0</td>\n",
       "      <td>7800</td>\n",
       "      <td>Pave</td>\n",
       "      <td>NaN</td>\n",
       "      <td>Reg</td>\n",
       "      <td>Lvl</td>\n",
       "      <td>...</td>\n",
       "      <td>0</td>\n",
       "      <td>4</td>\n",
       "      <td>2006</td>\n",
       "      <td>WD</td>\n",
       "      <td>Normal</td>\n",
       "      <td>178000</td>\n",
       "      <td>2.5</td>\n",
       "      <td>1</td>\n",
       "      <td>2.0</td>\n",
       "      <td>1.0</td>\n",
       "    </tr>\n",
       "    <tr>\n",
       "      <th>726</th>\n",
       "      <td>1080</td>\n",
       "      <td>528190010</td>\n",
       "      <td>120</td>\n",
       "      <td>RM</td>\n",
       "      <td>59.0</td>\n",
       "      <td>8198</td>\n",
       "      <td>Pave</td>\n",
       "      <td>NaN</td>\n",
       "      <td>Reg</td>\n",
       "      <td>Lvl</td>\n",
       "      <td>...</td>\n",
       "      <td>0</td>\n",
       "      <td>7</td>\n",
       "      <td>2008</td>\n",
       "      <td>WD</td>\n",
       "      <td>Normal</td>\n",
       "      <td>214900</td>\n",
       "      <td>3.0</td>\n",
       "      <td>4</td>\n",
       "      <td>3.0</td>\n",
       "      <td>0.0</td>\n",
       "    </tr>\n",
       "    <tr>\n",
       "      <th>1997</th>\n",
       "      <td>2930</td>\n",
       "      <td>924151050</td>\n",
       "      <td>60</td>\n",
       "      <td>RL</td>\n",
       "      <td>74.0</td>\n",
       "      <td>9627</td>\n",
       "      <td>Pave</td>\n",
       "      <td>NaN</td>\n",
       "      <td>Reg</td>\n",
       "      <td>Lvl</td>\n",
       "      <td>...</td>\n",
       "      <td>0</td>\n",
       "      <td>11</td>\n",
       "      <td>2006</td>\n",
       "      <td>WD</td>\n",
       "      <td>Normal</td>\n",
       "      <td>193900</td>\n",
       "      <td>2.5</td>\n",
       "      <td>13</td>\n",
       "      <td>2.0</td>\n",
       "      <td>1.0</td>\n",
       "    </tr>\n",
       "    <tr>\n",
       "      <th>657</th>\n",
       "      <td>976</td>\n",
       "      <td>923226270</td>\n",
       "      <td>180</td>\n",
       "      <td>RM</td>\n",
       "      <td>21.0</td>\n",
       "      <td>1526</td>\n",
       "      <td>Pave</td>\n",
       "      <td>NaN</td>\n",
       "      <td>Reg</td>\n",
       "      <td>Lvl</td>\n",
       "      <td>...</td>\n",
       "      <td>0</td>\n",
       "      <td>5</td>\n",
       "      <td>2009</td>\n",
       "      <td>WD</td>\n",
       "      <td>Normal</td>\n",
       "      <td>76700</td>\n",
       "      <td>2.0</td>\n",
       "      <td>39</td>\n",
       "      <td>2.0</td>\n",
       "      <td>0.0</td>\n",
       "    </tr>\n",
       "    <tr>\n",
       "      <th>664</th>\n",
       "      <td>987</td>\n",
       "      <td>923400110</td>\n",
       "      <td>60</td>\n",
       "      <td>RL</td>\n",
       "      <td>62.0</td>\n",
       "      <td>10429</td>\n",
       "      <td>Pave</td>\n",
       "      <td>NaN</td>\n",
       "      <td>Reg</td>\n",
       "      <td>Lvl</td>\n",
       "      <td>...</td>\n",
       "      <td>0</td>\n",
       "      <td>7</td>\n",
       "      <td>2009</td>\n",
       "      <td>WD</td>\n",
       "      <td>Normal</td>\n",
       "      <td>120900</td>\n",
       "      <td>1.5</td>\n",
       "      <td>17</td>\n",
       "      <td>1.0</td>\n",
       "      <td>1.0</td>\n",
       "    </tr>\n",
       "  </tbody>\n",
       "</table>\n",
       "<p>5 rows × 86 columns</p>\n",
       "</div>"
      ],
      "text/plain": [
       "      Order        PID  MS_SubClass MS_Zoning  Lot_Frontage  Lot_Area Street  \\\n",
       "1674   2476  531376030           60        RL          65.0      7800   Pave   \n",
       "726    1080  528190010          120        RM          59.0      8198   Pave   \n",
       "1997   2930  924151050           60        RL          74.0      9627   Pave   \n",
       "657     976  923226270          180        RM          21.0      1526   Pave   \n",
       "664     987  923400110           60        RL          62.0     10429   Pave   \n",
       "\n",
       "     Alley Lot_Shape Land_Contour  ... Misc_Val Mo_Sold Yr_Sold Sale_Type  \\\n",
       "1674   NaN       Reg          Lvl  ...        0       4    2006        WD   \n",
       "726    NaN       Reg          Lvl  ...        0       7    2008        WD   \n",
       "1997   NaN       Reg          Lvl  ...        0      11    2006        WD   \n",
       "657    NaN       Reg          Lvl  ...        0       5    2009        WD   \n",
       "664    NaN       Reg          Lvl  ...        0       7    2009        WD   \n",
       "\n",
       "     Sale_Condition SalePrice TotalBathrooms Age  Full_Bath_total  \\\n",
       "1674         Normal    178000            2.5   1              2.0   \n",
       "726          Normal    214900            3.0   4              3.0   \n",
       "1997         Normal    193900            2.5  13              2.0   \n",
       "657          Normal     76700            2.0  39              2.0   \n",
       "664          Normal    120900            1.5  17              1.0   \n",
       "\n",
       "      Half_Bath_total  \n",
       "1674              1.0  \n",
       "726               0.0  \n",
       "1997              1.0  \n",
       "657               0.0  \n",
       "664               1.0  \n",
       "\n",
       "[5 rows x 86 columns]"
      ]
     },
     "execution_count": 35,
     "metadata": {},
     "output_type": "execute_result"
    }
   ],
   "source": [
    "# Hold out a validation set to measure on\n",
    "training_data, validation_data = train_test_split(all_training_data, test_size=.2, random_state=0)\n",
    "print(len(training_data), \"observations in training set\")\n",
    "print(len(validation_data), \"observations in validation set\")\n",
    "training_data.head()"
   ]
  },
  {
   "cell_type": "code",
   "execution_count": 36,
   "metadata": {},
   "outputs": [
    {
     "data": {
      "text/plain": [
       "'Order PID MS_SubClass MS_Zoning Lot_Frontage Lot_Area Street Alley Lot_Shape Land_Contour Utilities Lot_Config Land_Slope Neighborhood Condition_1 Condition_2 Bldg_Type House_Style Overall_Qual Overall_Cond Year_Built Year_Remod/Add Roof_Style Roof_Matl Exterior_1st Exterior_2nd Mas_Vnr_Type Mas_Vnr_Area Exter_Qual Exter_Cond Foundation Bsmt_Qual Bsmt_Cond Bsmt_Exposure BsmtFin_Type_1 BsmtFin_SF_1 BsmtFin_Type_2 BsmtFin_SF_2 Bsmt_Unf_SF Total_Bsmt_SF Heating Heating_QC Central_Air Electrical 1st_Flr_SF 2nd_Flr_SF Low_Qual_Fin_SF Gr_Liv_Area Bsmt_Full_Bath Bsmt_Half_Bath Full_Bath Half_Bath Bedroom_AbvGr Kitchen_AbvGr Kitchen_Qual TotRms_AbvGrd Functional Fireplaces Fireplace_Qu Garage_Type Garage_Yr_Blt Garage_Finish Garage_Cars Garage_Area Garage_Qual Garage_Cond Paved_Drive Wood_Deck_SF Open_Porch_SF Enclosed_Porch 3Ssn_Porch Screen_Porch Pool_Area Pool_QC Fence Misc_Feature Misc_Val Mo_Sold Yr_Sold Sale_Type Sale_Condition SalePrice TotalBathrooms Age Full_Bath_total Half_Bath_total'"
      ]
     },
     "execution_count": 36,
     "metadata": {},
     "output_type": "execute_result"
    }
   ],
   "source": [
    "' '.join(training_data.columns)"
   ]
  },
  {
   "cell_type": "code",
   "execution_count": 65,
   "metadata": {},
   "outputs": [
    {
     "data": {
      "text/plain": [
       "<matplotlib.collections.PathCollection at 0x1a23bd7048>"
      ]
     },
     "execution_count": 65,
     "metadata": {},
     "output_type": "execute_result"
    },
    {
     "data": {
      "image/png": "[encoded data removed]",
      "text/plain": [
       "<Figure size 432x288 with 1 Axes>"
      ]
     },
     "metadata": {},
     "output_type": "display_data"
    }
   ],
   "source": [
    "plt.scatter(training_data.Age, training_data.SalePrice)"
   ]
  },
  {
   "cell_type": "code",
   "execution_count": 69,
   "metadata": {},
   "outputs": [
    {
     "data": {
      "text/plain": [
       "<matplotlib.axes._subplots.AxesSubplot at 0x1a24e8c470>"
      ]
     },
     "execution_count": 69,
     "metadata": {},
     "output_type": "execute_result"
    },
    {
     "data": {
      "image/png": "[encoded data removed]",
      "text/plain": [
       "<Figure size 432x288 with 1 Axes>"
      ]
     },
     "metadata": {},
     "output_type": "display_data"
    }
   ],
   "source": [
    "np.log(training_data.Lot_Area).hist(bins=30)"
   ]
  },
  {
   "cell_type": "code",
   "execution_count": 73,
   "metadata": {},
   "outputs": [
    {
     "data": {
      "text/plain": [
       "<matplotlib.axes._subplots.AxesSubplot at 0x1a25be8860>"
      ]
     },
     "execution_count": 73,
     "metadata": {},
     "output_type": "execute_result"
    },
    {
     "data": {
      "image/png": "[encoded data removed]",
      "text/plain": [
       "<Figure size 432x288 with 1 Axes>"
      ]
     },
     "metadata": {},
     "output_type": "display_data"
    }
   ],
   "source": [
    "training_data.Age.hist(bins=30)"
   ]
  },
  {
   "cell_type": "code",
   "execution_count": 66,
   "metadata": {},
   "outputs": [
    {
     "data": {
      "text/plain": [
       "<seaborn.axisgrid.FacetGrid at 0x1a23c62780>"
      ]
     },
     "execution_count": 66,
     "metadata": {},
     "output_type": "execute_result"
    },
    {
     "data": {
      "image/png": "[encoded data removed]",
      "text/plain": [
       "<Figure size 360x360 with 1 Axes>"
      ]
     },
     "metadata": {},
     "output_type": "display_data"
    }
   ],
   "source": [
    "sns.lmplot(x=\"Age\", y=\"SalePrice\", data=training_data)"
   ]
  },
  {
   "cell_type": "code",
   "execution_count": 38,
   "metadata": {},
   "outputs": [
    {
     "data": {
      "text/plain": [
       "<matplotlib.collections.PathCollection at 0x1a22ee4cf8>"
      ]
     },
     "execution_count": 38,
     "metadata": {},
     "output_type": "execute_result"
    },
    {
     "data": {
      "image/png": "[encoded data removed]",
      "text/plain": [
       "<Figure size 432x288 with 1 Axes>"
      ]
     },
     "metadata": {},
     "output_type": "display_data"
    }
   ],
   "source": [
    "plt.scatter(np.log(training_data.Lot_Area), np.log(training_data.SalePrice))"
   ]
  },
  {
   "cell_type": "code",
   "execution_count": 76,
   "metadata": {},
   "outputs": [],
   "source": [
    "def try_model(model_type, n_features, include_neighborhood, bin_age=True, n_neighbors=None):\n",
    "    '''\n",
    "    use the global training_data and validation_data\n",
    "    '''\n",
    "\n",
    "    # Which numeric features to use?\n",
    "    if n_features == 1:\n",
    "        numeric_features = [\"Gr_Liv_Area\"]\n",
    "    elif n_features == 2:\n",
    "        numeric_features = [\"Gr_Liv_Area\", \"Total_Bsmt_SF\"]\n",
    "    elif n_features == 3:\n",
    "        numeric_features = [\"Gr_Liv_Area\", \"Total_Bsmt_SF\", \"Full_Bath_total\"]#, \"Half_Bath_total\"]\n",
    "    else:\n",
    "        raise ValueError(f\"Unknown n_features {n_features}\")\n",
    "\n",
    "\n",
    "    # Transform the data\n",
    "    def transform(data):\n",
    "        X = data[numeric_features].copy()\n",
    "        \n",
    "        if include_neighborhood:\n",
    "            # One-hot encode Neighborhood\n",
    "            for neighborhood in all_neighborhoods:\n",
    "                X[f'neighborhood_{neighborhood}'] = data['Neighborhood'] == neighborhood\n",
    "\n",
    "        if bin_age:\n",
    "            X['age<5'] = data[\"Age\"] < 5\n",
    "            X['age_5-25'] = data[\"Age\"].between(5, 25)\n",
    "                \n",
    "        y = data['SalePrice']\n",
    "        return X, y\n",
    "    \n",
    "    train_X, train_y = transform(training_data)\n",
    "    valid_X, valid_y = transform(validation_data)\n",
    "    \n",
    "    # Create a model instance of the requested type\n",
    "    if model_type == \"knn\":\n",
    "        assert n_neighbors is not None\n",
    "        model = KNeighborsRegressor(n_neighbors=n_neighbors)\n",
    "    elif model_type == \"linreg\":\n",
    "        assert n_neighbors is None\n",
    "        model = LinearRegression()\n",
    "    else:\n",
    "        raise ValueError(f\"Unknown model_type {model_type}\")\n",
    "\n",
    "    # Fit the model on the training set.\n",
    "    model.fit(train_X, train_y)\n",
    "    \n",
    "    # Get model predictions on training and validation sets.\n",
    "    train_y_pred = model.predict(train_X)\n",
    "    valid_y_pred = model.predict(valid_X)\n",
    "    \n",
    "    # Compute accuracy scores\n",
    "    \n",
    "    return {\n",
    "        \"model_type\": model_type,\n",
    "        \"n_features\": n_features,\n",
    "        \"n_neighbors\": n_neighbors,\n",
    "        \"include_neighborhood\": include_neighborhood,\n",
    "        \"train_r2\": metrics.r2_score(train_y, train_y_pred),\n",
    "        \"valid_r2\": metrics.r2_score(valid_y, valid_y_pred)\n",
    "    }\n",
    "\n",
    "scores = []\n",
    "for n_features in [1, 2, 3]:\n",
    "    for include_neighborhood in [True, False]:\n",
    "        for n_neighbors in [5, 10, 15, 20, 25]:\n",
    "            scores.append(try_model(model_type=\"knn\", n_neighbors=n_neighbors,\n",
    "                                    n_features=n_features, include_neighborhood=include_neighborhood))\n",
    "        scores.append(try_model(model_type=\"linreg\",\n",
    "                                n_features=n_features, include_neighborhood=include_neighborhood))\n",
    "\n",
    "scores_df = pd.DataFrame(scores)"
   ]
  },
  {
   "cell_type": "code",
   "execution_count": 77,
   "metadata": {},
   "outputs": [
    {
     "data": {
      "text/plain": [
       "<matplotlib.collections.PathCollection at 0x1a25df6978>"
      ]
     },
     "execution_count": 77,
     "metadata": {},
     "output_type": "execute_result"
    },
    {
     "data": {
      "image/png": "[encoded data removed]",
      "text/plain": [
       "<Figure size 432x288 with 1 Axes>"
      ]
     },
     "metadata": {},
     "output_type": "display_data"
    }
   ],
   "source": [
    "plt.scatter(scores_df.n_neighbors, scores_df.train_r2)\n",
    "plt.scatter(scores_df.n_neighbors, scores_df.valid_r2)"
   ]
  },
  {
   "cell_type": "code",
   "execution_count": 78,
   "metadata": {},
   "outputs": [
    {
     "data": {
      "text/plain": [
       "<matplotlib.axes._subplots.AxesSubplot at 0x1a25bf3e48>"
      ]
     },
     "execution_count": 78,
     "metadata": {},
     "output_type": "execute_result"
    },
    {
     "data": {
      "image/png": "[encoded data removed]",
      "text/plain": [
       "<Figure size 432x288 with 1 Axes>"
      ]
     },
     "metadata": {},
     "output_type": "display_data"
    }
   ],
   "source": [
    "sns.barplot(x=\"model_type\", y=\"valid_r2\", hue=\"n_features\", data=scores_df)"
   ]
  },
  {
   "cell_type": "code",
   "execution_count": 79,
   "metadata": {},
   "outputs": [
    {
     "data": {
      "text/plain": [
       "<matplotlib.axes._subplots.AxesSubplot at 0x1a241aa128>"
      ]
     },
     "execution_count": 79,
     "metadata": {},
     "output_type": "execute_result"
    },
    {
     "data": {
      "image/png": "[encoded data removed]",
      "text/plain": [
       "<Figure size 432x288 with 1 Axes>"
      ]
     },
     "metadata": {},
     "output_type": "display_data"
    }
   ],
   "source": [
    "sns.barplot(x='model_type', y='valid_r2', hue=\"include_neighborhood\", data=scores_df)"
   ]
  },
  {
   "cell_type": "code",
   "execution_count": 80,
   "metadata": {},
   "outputs": [
    {
     "data": {
      "text/html": [
       "<div>\n",
       "<style scoped>\n",
       "    .dataframe tbody tr th:only-of-type {\n",
       "        vertical-align: middle;\n",
       "    }\n",
       "\n",
       "    .dataframe tbody tr th {\n",
       "        vertical-align: top;\n",
       "    }\n",
       "\n",
       "    .dataframe thead th {\n",
       "        text-align: right;\n",
       "    }\n",
       "</style>\n",
       "<table border=\"1\" class=\"dataframe\">\n",
       "  <thead>\n",
       "    <tr style=\"text-align: right;\">\n",
       "      <th></th>\n",
       "      <th>include_neighborhood</th>\n",
       "      <th>model_type</th>\n",
       "      <th>n_features</th>\n",
       "      <th>n_neighbors</th>\n",
       "      <th>train_r2</th>\n",
       "      <th>valid_r2</th>\n",
       "    </tr>\n",
       "  </thead>\n",
       "  <tbody>\n",
       "    <tr>\n",
       "      <th>24</th>\n",
       "      <td>True</td>\n",
       "      <td>knn</td>\n",
       "      <td>3</td>\n",
       "      <td>5.0</td>\n",
       "      <td>0.784869</td>\n",
       "      <td>0.644833</td>\n",
       "    </tr>\n",
       "    <tr>\n",
       "      <th>25</th>\n",
       "      <td>True</td>\n",
       "      <td>knn</td>\n",
       "      <td>3</td>\n",
       "      <td>10.0</td>\n",
       "      <td>0.744744</td>\n",
       "      <td>0.662855</td>\n",
       "    </tr>\n",
       "    <tr>\n",
       "      <th>26</th>\n",
       "      <td>True</td>\n",
       "      <td>knn</td>\n",
       "      <td>3</td>\n",
       "      <td>15.0</td>\n",
       "      <td>0.725514</td>\n",
       "      <td>0.666287</td>\n",
       "    </tr>\n",
       "    <tr>\n",
       "      <th>27</th>\n",
       "      <td>True</td>\n",
       "      <td>knn</td>\n",
       "      <td>3</td>\n",
       "      <td>20.0</td>\n",
       "      <td>0.717636</td>\n",
       "      <td>0.655080</td>\n",
       "    </tr>\n",
       "    <tr>\n",
       "      <th>28</th>\n",
       "      <td>True</td>\n",
       "      <td>knn</td>\n",
       "      <td>3</td>\n",
       "      <td>25.0</td>\n",
       "      <td>0.712588</td>\n",
       "      <td>0.640719</td>\n",
       "    </tr>\n",
       "    <tr>\n",
       "      <th>29</th>\n",
       "      <td>True</td>\n",
       "      <td>linreg</td>\n",
       "      <td>3</td>\n",
       "      <td>NaN</td>\n",
       "      <td>0.819153</td>\n",
       "      <td>0.774550</td>\n",
       "    </tr>\n",
       "    <tr>\n",
       "      <th>30</th>\n",
       "      <td>False</td>\n",
       "      <td>knn</td>\n",
       "      <td>3</td>\n",
       "      <td>5.0</td>\n",
       "      <td>0.784057</td>\n",
       "      <td>0.644897</td>\n",
       "    </tr>\n",
       "    <tr>\n",
       "      <th>31</th>\n",
       "      <td>False</td>\n",
       "      <td>knn</td>\n",
       "      <td>3</td>\n",
       "      <td>10.0</td>\n",
       "      <td>0.744872</td>\n",
       "      <td>0.662015</td>\n",
       "    </tr>\n",
       "    <tr>\n",
       "      <th>32</th>\n",
       "      <td>False</td>\n",
       "      <td>knn</td>\n",
       "      <td>3</td>\n",
       "      <td>15.0</td>\n",
       "      <td>0.725395</td>\n",
       "      <td>0.666091</td>\n",
       "    </tr>\n",
       "    <tr>\n",
       "      <th>33</th>\n",
       "      <td>False</td>\n",
       "      <td>knn</td>\n",
       "      <td>3</td>\n",
       "      <td>20.0</td>\n",
       "      <td>0.717558</td>\n",
       "      <td>0.654789</td>\n",
       "    </tr>\n",
       "    <tr>\n",
       "      <th>34</th>\n",
       "      <td>False</td>\n",
       "      <td>knn</td>\n",
       "      <td>3</td>\n",
       "      <td>25.0</td>\n",
       "      <td>0.712587</td>\n",
       "      <td>0.640641</td>\n",
       "    </tr>\n",
       "    <tr>\n",
       "      <th>35</th>\n",
       "      <td>False</td>\n",
       "      <td>linreg</td>\n",
       "      <td>3</td>\n",
       "      <td>NaN</td>\n",
       "      <td>0.768879</td>\n",
       "      <td>0.703635</td>\n",
       "    </tr>\n",
       "  </tbody>\n",
       "</table>\n",
       "</div>"
      ],
      "text/plain": [
       "    include_neighborhood model_type  n_features  n_neighbors  train_r2  \\\n",
       "24                  True        knn           3          5.0  0.784869   \n",
       "25                  True        knn           3         10.0  0.744744   \n",
       "26                  True        knn           3         15.0  0.725514   \n",
       "27                  True        knn           3         20.0  0.717636   \n",
       "28                  True        knn           3         25.0  0.712588   \n",
       "29                  True     linreg           3          NaN  0.819153   \n",
       "30                 False        knn           3          5.0  0.784057   \n",
       "31                 False        knn           3         10.0  0.744872   \n",
       "32                 False        knn           3         15.0  0.725395   \n",
       "33                 False        knn           3         20.0  0.717558   \n",
       "34                 False        knn           3         25.0  0.712587   \n",
       "35                 False     linreg           3          NaN  0.768879   \n",
       "\n",
       "    valid_r2  \n",
       "24  0.644833  \n",
       "25  0.662855  \n",
       "26  0.666287  \n",
       "27  0.655080  \n",
       "28  0.640719  \n",
       "29  0.774550  \n",
       "30  0.644897  \n",
       "31  0.662015  \n",
       "32  0.666091  \n",
       "33  0.654789  \n",
       "34  0.640641  \n",
       "35  0.703635  "
      ]
     },
     "execution_count": 80,
     "metadata": {},
     "output_type": "execute_result"
    }
   ],
   "source": [
    "scores_df[scores_df.n_features == 3]"
   ]
  },
  {
   "cell_type": "code",
   "execution_count": null,
   "metadata": {},
   "outputs": [],
   "source": []
  }
 ],
 "metadata": {
  "kernelspec": {
   "display_name": "Python 3",
   "language": "python",
   "name": "python3"
  },
  "language_info": {
   "codemirror_mode": {
    "name": "ipython",
    "version": 3
   },
   "file_extension": ".py",
   "mimetype": "text/x-python",
   "name": "python",
   "nbconvert_exporter": "python",
   "pygments_lexer": "ipython3",
   "version": "3.7.3"
  }
 },
 "nbformat": 4,
 "nbformat_minor": 2
}
