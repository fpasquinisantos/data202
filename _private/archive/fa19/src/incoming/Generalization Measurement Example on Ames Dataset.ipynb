{
 "cells": [
  {
   "cell_type": "code",
   "execution_count": 1,
   "metadata": {},
   "outputs": [],
   "source": [
    "import numpy as np\n",
    "import pandas as pd\n",
    "import matplotlib.pyplot as plt\n",
    "import seaborn as sns\n",
    "from sklearn.neighbors import KNeighborsRegressor\n",
    "from sklearn.linear_model import LinearRegression\n",
    "from sklearn import metrics\n",
    "\n",
    "# Set some display settings.\n",
    "%matplotlib inline\n",
    "sns.set(context='notebook')"
   ]
  },
  {
   "cell_type": "code",
   "execution_count": 10,
   "metadata": {},
   "outputs": [
    {
     "data": {
      "text/html": [
       "<div>\n",
       "<style scoped>\n",
       "    .dataframe tbody tr th:only-of-type {\n",
       "        vertical-align: middle;\n",
       "    }\n",
       "\n",
       "    .dataframe tbody tr th {\n",
       "        vertical-align: top;\n",
       "    }\n",
       "\n",
       "    .dataframe thead th {\n",
       "        text-align: right;\n",
       "    }\n",
       "</style>\n",
       "<table border=\"1\" class=\"dataframe\">\n",
       "  <thead>\n",
       "    <tr style=\"text-align: right;\">\n",
       "      <th></th>\n",
       "      <th>Order</th>\n",
       "      <th>PID</th>\n",
       "      <th>MS_SubClass</th>\n",
       "      <th>MS_Zoning</th>\n",
       "      <th>Lot_Frontage</th>\n",
       "      <th>Lot_Area</th>\n",
       "      <th>Street</th>\n",
       "      <th>Alley</th>\n",
       "      <th>Lot_Shape</th>\n",
       "      <th>Land_Contour</th>\n",
       "      <th>...</th>\n",
       "      <th>Pool_QC</th>\n",
       "      <th>Fence</th>\n",
       "      <th>Misc_Feature</th>\n",
       "      <th>Misc_Val</th>\n",
       "      <th>Mo_Sold</th>\n",
       "      <th>Yr_Sold</th>\n",
       "      <th>Sale_Type</th>\n",
       "      <th>Sale_Condition</th>\n",
       "      <th>SalePrice</th>\n",
       "      <th>TotalBathrooms</th>\n",
       "    </tr>\n",
       "  </thead>\n",
       "  <tbody>\n",
       "    <tr>\n",
       "      <th>0</th>\n",
       "      <td>1</td>\n",
       "      <td>526301100</td>\n",
       "      <td>20</td>\n",
       "      <td>RL</td>\n",
       "      <td>141.0</td>\n",
       "      <td>31770</td>\n",
       "      <td>Pave</td>\n",
       "      <td>NaN</td>\n",
       "      <td>IR1</td>\n",
       "      <td>Lvl</td>\n",
       "      <td>...</td>\n",
       "      <td>NaN</td>\n",
       "      <td>NaN</td>\n",
       "      <td>NaN</td>\n",
       "      <td>0</td>\n",
       "      <td>5</td>\n",
       "      <td>2010</td>\n",
       "      <td>WD</td>\n",
       "      <td>Normal</td>\n",
       "      <td>204900</td>\n",
       "      <td>2.0</td>\n",
       "    </tr>\n",
       "    <tr>\n",
       "      <th>1</th>\n",
       "      <td>2</td>\n",
       "      <td>526350040</td>\n",
       "      <td>20</td>\n",
       "      <td>RH</td>\n",
       "      <td>80.0</td>\n",
       "      <td>11622</td>\n",
       "      <td>Pave</td>\n",
       "      <td>NaN</td>\n",
       "      <td>Reg</td>\n",
       "      <td>Lvl</td>\n",
       "      <td>...</td>\n",
       "      <td>NaN</td>\n",
       "      <td>MnPrv</td>\n",
       "      <td>NaN</td>\n",
       "      <td>0</td>\n",
       "      <td>6</td>\n",
       "      <td>2010</td>\n",
       "      <td>WD</td>\n",
       "      <td>Normal</td>\n",
       "      <td>95300</td>\n",
       "      <td>1.0</td>\n",
       "    </tr>\n",
       "    <tr>\n",
       "      <th>2</th>\n",
       "      <td>3</td>\n",
       "      <td>526351010</td>\n",
       "      <td>20</td>\n",
       "      <td>RL</td>\n",
       "      <td>81.0</td>\n",
       "      <td>14267</td>\n",
       "      <td>Pave</td>\n",
       "      <td>NaN</td>\n",
       "      <td>IR1</td>\n",
       "      <td>Lvl</td>\n",
       "      <td>...</td>\n",
       "      <td>NaN</td>\n",
       "      <td>NaN</td>\n",
       "      <td>Gar2</td>\n",
       "      <td>12500</td>\n",
       "      <td>6</td>\n",
       "      <td>2010</td>\n",
       "      <td>WD</td>\n",
       "      <td>Normal</td>\n",
       "      <td>181900</td>\n",
       "      <td>1.5</td>\n",
       "    </tr>\n",
       "    <tr>\n",
       "      <th>3</th>\n",
       "      <td>4</td>\n",
       "      <td>526353030</td>\n",
       "      <td>20</td>\n",
       "      <td>RL</td>\n",
       "      <td>93.0</td>\n",
       "      <td>11160</td>\n",
       "      <td>Pave</td>\n",
       "      <td>NaN</td>\n",
       "      <td>Reg</td>\n",
       "      <td>Lvl</td>\n",
       "      <td>...</td>\n",
       "      <td>NaN</td>\n",
       "      <td>NaN</td>\n",
       "      <td>NaN</td>\n",
       "      <td>0</td>\n",
       "      <td>4</td>\n",
       "      <td>2010</td>\n",
       "      <td>WD</td>\n",
       "      <td>Normal</td>\n",
       "      <td>254100</td>\n",
       "      <td>3.5</td>\n",
       "    </tr>\n",
       "    <tr>\n",
       "      <th>4</th>\n",
       "      <td>5</td>\n",
       "      <td>527105010</td>\n",
       "      <td>60</td>\n",
       "      <td>RL</td>\n",
       "      <td>74.0</td>\n",
       "      <td>13830</td>\n",
       "      <td>Pave</td>\n",
       "      <td>NaN</td>\n",
       "      <td>IR1</td>\n",
       "      <td>Lvl</td>\n",
       "      <td>...</td>\n",
       "      <td>NaN</td>\n",
       "      <td>MnPrv</td>\n",
       "      <td>NaN</td>\n",
       "      <td>0</td>\n",
       "      <td>3</td>\n",
       "      <td>2010</td>\n",
       "      <td>WD</td>\n",
       "      <td>Normal</td>\n",
       "      <td>199700</td>\n",
       "      <td>2.5</td>\n",
       "    </tr>\n",
       "  </tbody>\n",
       "</table>\n",
       "<p>5 rows × 83 columns</p>\n",
       "</div>"
      ],
      "text/plain": [
       "   Order        PID  MS_SubClass MS_Zoning  Lot_Frontage  Lot_Area Street  \\\n",
       "0      1  526301100           20        RL         141.0     31770   Pave   \n",
       "1      2  526350040           20        RH          80.0     11622   Pave   \n",
       "2      3  526351010           20        RL          81.0     14267   Pave   \n",
       "3      4  526353030           20        RL          93.0     11160   Pave   \n",
       "4      5  527105010           60        RL          74.0     13830   Pave   \n",
       "\n",
       "  Alley Lot_Shape Land_Contour  ... Pool_QC  Fence Misc_Feature Misc_Val  \\\n",
       "0   NaN       IR1          Lvl  ...     NaN    NaN          NaN        0   \n",
       "1   NaN       Reg          Lvl  ...     NaN  MnPrv          NaN        0   \n",
       "2   NaN       IR1          Lvl  ...     NaN    NaN         Gar2    12500   \n",
       "3   NaN       Reg          Lvl  ...     NaN    NaN          NaN        0   \n",
       "4   NaN       IR1          Lvl  ...     NaN  MnPrv          NaN        0   \n",
       "\n",
       "  Mo_Sold Yr_Sold Sale_Type Sale_Condition  SalePrice  TotalBathrooms  \n",
       "0       5    2010        WD         Normal     204900             2.0  \n",
       "1       6    2010        WD         Normal      95300             1.0  \n",
       "2       6    2010        WD         Normal     181900             1.5  \n",
       "3       4    2010        WD         Normal     254100             3.5  \n",
       "4       3    2010        WD         Normal     199700             2.5  \n",
       "\n",
       "[5 rows x 83 columns]"
      ]
     },
     "execution_count": 10,
     "metadata": {},
     "output_type": "execute_result"
    }
   ],
   "source": [
    "training_data = pd.read_csv('data/ames_train_cleaned.csv')\n",
    "testing_data = pd.read_csv('data/ames_test_cleaned.csv')\n",
    "training_data = training_data.query(\"Sale_Condition == 'Normal'\")\n",
    "training_data.head()"
   ]
  },
  {
   "cell_type": "code",
   "execution_count": 3,
   "metadata": {},
   "outputs": [
    {
     "name": "stdout",
     "output_type": "stream",
     "text": [
      "<class 'pandas.core.frame.DataFrame'>\n",
      "Int64Index: 1634 entries, 0 to 1997\n",
      "Data columns (total 83 columns):\n",
      "Order              1634 non-null int64\n",
      "PID                1634 non-null int64\n",
      "MS_SubClass        1634 non-null int64\n",
      "MS_Zoning          1634 non-null object\n",
      "Lot_Frontage       1315 non-null float64\n",
      "Lot_Area           1634 non-null int64\n",
      "Street             1634 non-null object\n",
      "Alley              102 non-null object\n",
      "Lot_Shape          1634 non-null object\n",
      "Land_Contour       1634 non-null object\n",
      "Utilities          1634 non-null object\n",
      "Lot_Config         1634 non-null object\n",
      "Land_Slope         1634 non-null object\n",
      "Neighborhood       1634 non-null object\n",
      "Condition_1        1634 non-null object\n",
      "Condition_2        1634 non-null object\n",
      "Bldg_Type          1634 non-null object\n",
      "House_Style        1634 non-null object\n",
      "Overall_Qual       1634 non-null int64\n",
      "Overall_Cond       1634 non-null int64\n",
      "Year_Built         1634 non-null int64\n",
      "Year_Remod/Add     1634 non-null int64\n",
      "Roof_Style         1634 non-null object\n",
      "Roof_Matl          1634 non-null object\n",
      "Exterior_1st       1634 non-null object\n",
      "Exterior_2nd       1634 non-null object\n",
      "Mas_Vnr_Type       1625 non-null object\n",
      "Mas_Vnr_Area       1625 non-null float64\n",
      "Exter_Qual         1634 non-null object\n",
      "Exter_Cond         1634 non-null object\n",
      "Foundation         1634 non-null object\n",
      "Bsmt_Qual          1589 non-null object\n",
      "Bsmt_Cond          1589 non-null object\n",
      "Bsmt_Exposure      1589 non-null object\n",
      "BsmtFin_Type_1     1589 non-null object\n",
      "BsmtFin_SF_1       1634 non-null float64\n",
      "BsmtFin_Type_2     1589 non-null object\n",
      "BsmtFin_SF_2       1634 non-null float64\n",
      "Bsmt_Unf_SF        1634 non-null float64\n",
      "Total_Bsmt_SF      1634 non-null float64\n",
      "Heating            1634 non-null object\n",
      "Heating_QC         1634 non-null object\n",
      "Central_Air        1634 non-null object\n",
      "Electrical         1633 non-null object\n",
      "1st_Flr_SF         1634 non-null int64\n",
      "2nd_Flr_SF         1634 non-null int64\n",
      "Low_Qual_Fin_SF    1634 non-null int64\n",
      "Gr_Liv_Area        1634 non-null int64\n",
      "Bsmt_Full_Bath     1634 non-null float64\n",
      "Bsmt_Half_Bath     1634 non-null float64\n",
      "Full_Bath          1634 non-null int64\n",
      "Half_Bath          1634 non-null int64\n",
      "Bedroom_AbvGr      1634 non-null int64\n",
      "Kitchen_AbvGr      1634 non-null int64\n",
      "Kitchen_Qual       1634 non-null object\n",
      "TotRms_AbvGrd      1634 non-null int64\n",
      "Functional         1634 non-null object\n",
      "Fireplaces         1634 non-null int64\n",
      "Fireplace_Qu       842 non-null object\n",
      "Garage_Type        1552 non-null object\n",
      "Garage_Yr_Blt      1551 non-null float64\n",
      "Garage_Finish      1551 non-null object\n",
      "Garage_Cars        1634 non-null int64\n",
      "Garage_Area        1634 non-null int64\n",
      "Garage_Qual        1551 non-null object\n",
      "Garage_Cond        1551 non-null object\n",
      "Paved_Drive        1634 non-null object\n",
      "Wood_Deck_SF       1634 non-null int64\n",
      "Open_Porch_SF      1634 non-null int64\n",
      "Enclosed_Porch     1634 non-null int64\n",
      "3Ssn_Porch         1634 non-null int64\n",
      "Screen_Porch       1634 non-null int64\n",
      "Pool_Area          1634 non-null int64\n",
      "Pool_QC            6 non-null object\n",
      "Fence              347 non-null object\n",
      "Misc_Feature       68 non-null object\n",
      "Misc_Val           1634 non-null int64\n",
      "Mo_Sold            1634 non-null int64\n",
      "Yr_Sold            1634 non-null int64\n",
      "Sale_Type          1634 non-null object\n",
      "Sale_Condition     1634 non-null object\n",
      "SalePrice          1634 non-null int64\n",
      "TotalBathrooms     1634 non-null float64\n",
      "dtypes: float64(10), int64(30), object(43)\n",
      "memory usage: 1.0+ MB\n"
     ]
    }
   ],
   "source": [
    "training_data.info()"
   ]
  },
  {
   "cell_type": "code",
   "execution_count": 41,
   "metadata": {},
   "outputs": [
    {
     "data": {
      "text/plain": [
       "Y    1470\n",
       "N     128\n",
       "P      36\n",
       "Name: Paved_Drive, dtype: int64"
      ]
     },
     "execution_count": 41,
     "metadata": {},
     "output_type": "execute_result"
    }
   ],
   "source": [
    "training_data.Paved_Drive.value_counts()"
   ]
  },
  {
   "cell_type": "code",
   "execution_count": 14,
   "metadata": {},
   "outputs": [],
   "source": [
    "training_data['logSalePrice'] = np.log(training_data.SalePrice)"
   ]
  },
  {
   "cell_type": "code",
   "execution_count": 15,
   "metadata": {},
   "outputs": [
    {
     "data": {
      "text/plain": [
       "<seaborn.axisgrid.FacetGrid at 0x1a182341d0>"
      ]
     },
     "execution_count": 15,
     "metadata": {},
     "output_type": "execute_result"
    },
    {
     "data": {
      "image/png": "[encoded data removed]",
      "text/plain": [
       "<Figure size 360x360 with 1 Axes>"
      ]
     },
     "metadata": {
      "needs_background": "light"
     },
     "output_type": "display_data"
    }
   ],
   "source": [
    "sns.lmplot(x=\"Gr_Liv_Area\", y=\"SalePrice\", data=training_data)"
   ]
  },
  {
   "cell_type": "code",
   "execution_count": 16,
   "metadata": {},
   "outputs": [
    {
     "data": {
      "text/plain": [
       "<seaborn.axisgrid.FacetGrid at 0x1a19c626a0>"
      ]
     },
     "execution_count": 16,
     "metadata": {},
     "output_type": "execute_result"
    },
    {
     "data": {
      "image/png": "[encoded data removed]",
      "text/plain": [
       "<Figure size 360x360 with 1 Axes>"
      ]
     },
     "metadata": {
      "needs_background": "light"
     },
     "output_type": "display_data"
    }
   ],
   "source": [
    "sns.lmplot(x=\"Gr_Liv_Area\", y=\"logSalePrice\", data=training_data)"
   ]
  },
  {
   "cell_type": "code",
   "execution_count": 17,
   "metadata": {},
   "outputs": [],
   "source": [
    "from statsmodels.formula import api as smf"
   ]
  },
  {
   "cell_type": "code",
   "execution_count": 26,
   "metadata": {},
   "outputs": [
    {
     "data": {
      "text/html": [
       "<table class=\"simpletable\">\n",
       "<caption>OLS Regression Results</caption>\n",
       "<tr>\n",
       "  <th>Dep. Variable:</th>        <td>SalePrice</td>    <th>  R-squared:         </th> <td>   0.619</td> \n",
       "</tr>\n",
       "<tr>\n",
       "  <th>Model:</th>                   <td>OLS</td>       <th>  Adj. R-squared:    </th> <td>   0.618</td> \n",
       "</tr>\n",
       "<tr>\n",
       "  <th>Method:</th>             <td>Least Squares</td>  <th>  F-statistic:       </th> <td>   882.3</td> \n",
       "</tr>\n",
       "<tr>\n",
       "  <th>Date:</th>             <td>Fri, 25 Oct 2019</td> <th>  Prob (F-statistic):</th>  <td>  0.00</td>  \n",
       "</tr>\n",
       "<tr>\n",
       "  <th>Time:</th>                 <td>11:41:57</td>     <th>  Log-Likelihood:    </th> <td> -19811.</td> \n",
       "</tr>\n",
       "<tr>\n",
       "  <th>No. Observations:</th>      <td>  1634</td>      <th>  AIC:               </th> <td>3.963e+04</td>\n",
       "</tr>\n",
       "<tr>\n",
       "  <th>Df Residuals:</th>          <td>  1630</td>      <th>  BIC:               </th> <td>3.965e+04</td>\n",
       "</tr>\n",
       "<tr>\n",
       "  <th>Df Model:</th>              <td>     3</td>      <th>                     </th>     <td> </td>    \n",
       "</tr>\n",
       "<tr>\n",
       "  <th>Covariance Type:</th>      <td>nonrobust</td>    <th>                     </th>     <td> </td>    \n",
       "</tr>\n",
       "</table>\n",
       "<table class=\"simpletable\">\n",
       "<tr>\n",
       "               <td></td>                 <th>coef</th>     <th>std err</th>      <th>t</th>      <th>P>|t|</th>  <th>[0.025</th>    <th>0.975]</th>  \n",
       "</tr>\n",
       "<tr>\n",
       "  <th>Intercept</th>                  <td> 2.974e+04</td> <td> 9076.789</td> <td>    3.276</td> <td> 0.001</td> <td> 1.19e+04</td> <td> 4.75e+04</td>\n",
       "</tr>\n",
       "<tr>\n",
       "  <th>Gr_Liv_Area</th>                <td>   55.3671</td> <td>    6.349</td> <td>    8.721</td> <td> 0.000</td> <td>   42.915</td> <td>   67.820</td>\n",
       "</tr>\n",
       "<tr>\n",
       "  <th>TotalBathrooms</th>             <td> 1.373e+04</td> <td> 4010.140</td> <td>    3.424</td> <td> 0.001</td> <td> 5864.916</td> <td> 2.16e+04</td>\n",
       "</tr>\n",
       "<tr>\n",
       "  <th>Gr_Liv_Area:TotalBathrooms</th> <td>    9.8491</td> <td>    2.315</td> <td>    4.254</td> <td> 0.000</td> <td>    5.308</td> <td>   14.390</td>\n",
       "</tr>\n",
       "</table>\n",
       "<table class=\"simpletable\">\n",
       "<tr>\n",
       "  <th>Omnibus:</th>       <td>375.644</td> <th>  Durbin-Watson:     </th> <td>   1.387</td>\n",
       "</tr>\n",
       "<tr>\n",
       "  <th>Prob(Omnibus):</th> <td> 0.000</td>  <th>  Jarque-Bera (JB):  </th> <td>3250.377</td>\n",
       "</tr>\n",
       "<tr>\n",
       "  <th>Skew:</th>          <td> 0.822</td>  <th>  Prob(JB):          </th> <td>    0.00</td>\n",
       "</tr>\n",
       "<tr>\n",
       "  <th>Kurtosis:</th>      <td> 9.711</td>  <th>  Cond. No.          </th> <td>3.88e+04</td>\n",
       "</tr>\n",
       "</table><br/><br/>Warnings:<br/>[1] Standard Errors assume that the covariance matrix of the errors is correctly specified.<br/>[2] The condition number is large, 3.88e+04. This might indicate that there are<br/>strong multicollinearity or other numerical problems."
      ],
      "text/plain": [
       "<class 'statsmodels.iolib.summary.Summary'>\n",
       "\"\"\"\n",
       "                            OLS Regression Results                            \n",
       "==============================================================================\n",
       "Dep. Variable:              SalePrice   R-squared:                       0.619\n",
       "Model:                            OLS   Adj. R-squared:                  0.618\n",
       "Method:                 Least Squares   F-statistic:                     882.3\n",
       "Date:                Fri, 25 Oct 2019   Prob (F-statistic):               0.00\n",
       "Time:                        11:41:57   Log-Likelihood:                -19811.\n",
       "No. Observations:                1634   AIC:                         3.963e+04\n",
       "Df Residuals:                    1630   BIC:                         3.965e+04\n",
       "Df Model:                           3                                         \n",
       "Covariance Type:            nonrobust                                         \n",
       "==============================================================================================\n",
       "                                 coef    std err          t      P>|t|      [0.025      0.975]\n",
       "----------------------------------------------------------------------------------------------\n",
       "Intercept                   2.974e+04   9076.789      3.276      0.001    1.19e+04    4.75e+04\n",
       "Gr_Liv_Area                   55.3671      6.349      8.721      0.000      42.915      67.820\n",
       "TotalBathrooms              1.373e+04   4010.140      3.424      0.001    5864.916    2.16e+04\n",
       "Gr_Liv_Area:TotalBathrooms     9.8491      2.315      4.254      0.000       5.308      14.390\n",
       "==============================================================================\n",
       "Omnibus:                      375.644   Durbin-Watson:                   1.387\n",
       "Prob(Omnibus):                  0.000   Jarque-Bera (JB):             3250.377\n",
       "Skew:                           0.822   Prob(JB):                         0.00\n",
       "Kurtosis:                       9.711   Cond. No.                     3.88e+04\n",
       "==============================================================================\n",
       "\n",
       "Warnings:\n",
       "[1] Standard Errors assume that the covariance matrix of the errors is correctly specified.\n",
       "[2] The condition number is large, 3.88e+04. This might indicate that there are\n",
       "strong multicollinearity or other numerical problems.\n",
       "\"\"\""
      ]
     },
     "execution_count": 26,
     "metadata": {},
     "output_type": "execute_result"
    }
   ],
   "source": [
    "smf.ols('SalePrice ~ Gr_Liv_Area * TotalBathrooms', data=training_data).fit().summary()"
   ]
  },
  {
   "cell_type": "code",
   "execution_count": 27,
   "metadata": {},
   "outputs": [
    {
     "data": {
      "text/html": [
       "<table class=\"simpletable\">\n",
       "<caption>OLS Regression Results</caption>\n",
       "<tr>\n",
       "  <th>Dep. Variable:</th>      <td>logSalePrice</td>   <th>  R-squared:         </th> <td>   0.631</td>\n",
       "</tr>\n",
       "<tr>\n",
       "  <th>Model:</th>                   <td>OLS</td>       <th>  Adj. R-squared:    </th> <td>   0.631</td>\n",
       "</tr>\n",
       "<tr>\n",
       "  <th>Method:</th>             <td>Least Squares</td>  <th>  F-statistic:       </th> <td>   930.0</td>\n",
       "</tr>\n",
       "<tr>\n",
       "  <th>Date:</th>             <td>Fri, 25 Oct 2019</td> <th>  Prob (F-statistic):</th>  <td>  0.00</td> \n",
       "</tr>\n",
       "<tr>\n",
       "  <th>Time:</th>                 <td>11:42:02</td>     <th>  Log-Likelihood:    </th> <td>  82.849</td>\n",
       "</tr>\n",
       "<tr>\n",
       "  <th>No. Observations:</th>      <td>  1634</td>      <th>  AIC:               </th> <td>  -157.7</td>\n",
       "</tr>\n",
       "<tr>\n",
       "  <th>Df Residuals:</th>          <td>  1630</td>      <th>  BIC:               </th> <td>  -136.1</td>\n",
       "</tr>\n",
       "<tr>\n",
       "  <th>Df Model:</th>              <td>     3</td>      <th>                     </th>     <td> </td>   \n",
       "</tr>\n",
       "<tr>\n",
       "  <th>Covariance Type:</th>      <td>nonrobust</td>    <th>                     </th>     <td> </td>   \n",
       "</tr>\n",
       "</table>\n",
       "<table class=\"simpletable\">\n",
       "<tr>\n",
       "               <td></td>                 <th>coef</th>     <th>std err</th>      <th>t</th>      <th>P>|t|</th>  <th>[0.025</th>    <th>0.975]</th>  \n",
       "</tr>\n",
       "<tr>\n",
       "  <th>Intercept</th>                  <td>   10.7807</td> <td>    0.047</td> <td>  230.224</td> <td> 0.000</td> <td>   10.689</td> <td>   10.873</td>\n",
       "</tr>\n",
       "<tr>\n",
       "  <th>Gr_Liv_Area</th>                <td>    0.0006</td> <td> 3.28e-05</td> <td>   17.440</td> <td> 0.000</td> <td>    0.001</td> <td>    0.001</td>\n",
       "</tr>\n",
       "<tr>\n",
       "  <th>TotalBathrooms</th>             <td>    0.2907</td> <td>    0.021</td> <td>   14.053</td> <td> 0.000</td> <td>    0.250</td> <td>    0.331</td>\n",
       "</tr>\n",
       "<tr>\n",
       "  <th>Gr_Liv_Area:TotalBathrooms</th> <td>-7.404e-05</td> <td> 1.19e-05</td> <td>   -6.199</td> <td> 0.000</td> <td>-9.75e-05</td> <td>-5.06e-05</td>\n",
       "</tr>\n",
       "</table>\n",
       "<table class=\"simpletable\">\n",
       "<tr>\n",
       "  <th>Omnibus:</th>       <td>150.824</td> <th>  Durbin-Watson:     </th> <td>   1.404</td>\n",
       "</tr>\n",
       "<tr>\n",
       "  <th>Prob(Omnibus):</th> <td> 0.000</td>  <th>  Jarque-Bera (JB):  </th> <td> 292.117</td>\n",
       "</tr>\n",
       "<tr>\n",
       "  <th>Skew:</th>          <td>-0.604</td>  <th>  Prob(JB):          </th> <td>3.69e-64</td>\n",
       "</tr>\n",
       "<tr>\n",
       "  <th>Kurtosis:</th>      <td> 4.683</td>  <th>  Cond. No.          </th> <td>3.88e+04</td>\n",
       "</tr>\n",
       "</table><br/><br/>Warnings:<br/>[1] Standard Errors assume that the covariance matrix of the errors is correctly specified.<br/>[2] The condition number is large, 3.88e+04. This might indicate that there are<br/>strong multicollinearity or other numerical problems."
      ],
      "text/plain": [
       "<class 'statsmodels.iolib.summary.Summary'>\n",
       "\"\"\"\n",
       "                            OLS Regression Results                            \n",
       "==============================================================================\n",
       "Dep. Variable:           logSalePrice   R-squared:                       0.631\n",
       "Model:                            OLS   Adj. R-squared:                  0.631\n",
       "Method:                 Least Squares   F-statistic:                     930.0\n",
       "Date:                Fri, 25 Oct 2019   Prob (F-statistic):               0.00\n",
       "Time:                        11:42:02   Log-Likelihood:                 82.849\n",
       "No. Observations:                1634   AIC:                            -157.7\n",
       "Df Residuals:                    1630   BIC:                            -136.1\n",
       "Df Model:                           3                                         \n",
       "Covariance Type:            nonrobust                                         \n",
       "==============================================================================================\n",
       "                                 coef    std err          t      P>|t|      [0.025      0.975]\n",
       "----------------------------------------------------------------------------------------------\n",
       "Intercept                     10.7807      0.047    230.224      0.000      10.689      10.873\n",
       "Gr_Liv_Area                    0.0006   3.28e-05     17.440      0.000       0.001       0.001\n",
       "TotalBathrooms                 0.2907      0.021     14.053      0.000       0.250       0.331\n",
       "Gr_Liv_Area:TotalBathrooms -7.404e-05   1.19e-05     -6.199      0.000   -9.75e-05   -5.06e-05\n",
       "==============================================================================\n",
       "Omnibus:                      150.824   Durbin-Watson:                   1.404\n",
       "Prob(Omnibus):                  0.000   Jarque-Bera (JB):              292.117\n",
       "Skew:                          -0.604   Prob(JB):                     3.69e-64\n",
       "Kurtosis:                       4.683   Cond. No.                     3.88e+04\n",
       "==============================================================================\n",
       "\n",
       "Warnings:\n",
       "[1] Standard Errors assume that the covariance matrix of the errors is correctly specified.\n",
       "[2] The condition number is large, 3.88e+04. This might indicate that there are\n",
       "strong multicollinearity or other numerical problems.\n",
       "\"\"\""
      ]
     },
     "execution_count": 27,
     "metadata": {},
     "output_type": "execute_result"
    }
   ],
   "source": [
    "smf.ols('logSalePrice ~ Gr_Liv_Area * TotalBathrooms', data=training_data).fit().summary()"
   ]
  },
  {
   "cell_type": "code",
   "execution_count": 7,
   "metadata": {},
   "outputs": [
    {
     "data": {
      "text/plain": [
       "[<matplotlib.lines.Line2D at 0x1a19e73128>]"
      ]
     },
     "execution_count": 7,
     "metadata": {},
     "output_type": "execute_result"
    },
    {
     "data": {
      "image/png": "[encoded data removed]",
      "text/plain": [
       "<Figure size 432x288 with 1 Axes>"
      ]
     },
     "metadata": {
      "needs_background": "light"
     },
     "output_type": "display_data"
    }
   ],
   "source": [
    "plt.plot(training_data.SalePrice)"
   ]
  },
  {
   "cell_type": "code",
   "execution_count": 9,
   "metadata": {},
   "outputs": [
    {
     "data": {
      "text/plain": [
       "[<matplotlib.lines.Line2D at 0x1a19c898d0>]"
      ]
     },
     "execution_count": 9,
     "metadata": {},
     "output_type": "execute_result"
    },
    {
     "data": {
      "image/png": "[encoded data removed]",
      "text/plain": [
       "<Figure size 432x288 with 1 Axes>"
      ]
     },
     "metadata": {
      "needs_background": "light"
     },
     "output_type": "display_data"
    }
   ],
   "source": [
    "plt.plot(training_data.Yr_Sold)"
   ]
  },
  {
   "cell_type": "markdown",
   "metadata": {},
   "source": [
    "Compare the effect on validation accuracy of choosing the *first* 500 home sales as our validation set vs the *last* 500 home sales.\n",
    "\n",
    "* gotta know that the training set is everything else\n",
    "* validation sets differ by year. first 500 is all recent; last 500 is all old.\n",
    "* If our goal is to do well on 2011 and beyond, then we'd want to use 2010 as validation.\n",
    "* If we've only seen some of the data for each year and want to predict the rest, then we'd want to shuffle.\n",
    "\n",
    "-> Randomize order!"
   ]
  },
  {
   "cell_type": "code",
   "execution_count": 11,
   "metadata": {},
   "outputs": [
    {
     "data": {
      "text/plain": [
       "[<matplotlib.lines.Line2D at 0x1a1b9cdcc0>]"
      ]
     },
     "execution_count": 11,
     "metadata": {},
     "output_type": "execute_result"
    },
    {
     "data": {
      "image/png": "[encoded data removed]",
      "text/plain": [
       "<Figure size 432x288 with 1 Axes>"
      ]
     },
     "metadata": {
      "needs_background": "light"
     },
     "output_type": "display_data"
    }
   ],
   "source": [
    "plt.plot(testing_data.Yr_Sold)"
   ]
  },
  {
   "cell_type": "markdown",
   "metadata": {},
   "source": [
    "# Simple Validation Split"
   ]
  },
  {
   "cell_type": "code",
   "execution_count": 12,
   "metadata": {},
   "outputs": [],
   "source": [
    "from sklearn import model_selection"
   ]
  },
  {
   "cell_type": "code",
   "execution_count": null,
   "metadata": {},
   "outputs": [],
   "source": []
  },
  {
   "cell_type": "code",
   "execution_count": null,
   "metadata": {},
   "outputs": [],
   "source": [
    "np.random.seed(0)\n",
    "n_training_obs = len(training_data)\n",
    "\n",
    "# Pick a random ordering for the observations.\n",
    "indices = np.random.permutation(n_training_obs)\n",
    "\n",
    "# Pick a cut-off point\n",
    "n_validation_obs = int(n_training_obs * .2)\n",
    "\n",
    "# Split into "
   ]
  },
  {
   "cell_type": "code",
   "execution_count": null,
   "metadata": {},
   "outputs": [],
   "source": []
  },
  {
   "cell_type": "code",
   "execution_count": 13,
   "metadata": {},
   "outputs": [
    {
     "data": {
      "text/plain": [
       "2.0    508\n",
       "2.5    315\n",
       "1.0    256\n",
       "3.0    203\n",
       "1.5    178\n",
       "3.5    151\n",
       "4.0     13\n",
       "4.5      5\n",
       "7.0      3\n",
       "5.0      2\n",
       "Name: TotalBathrooms, dtype: int64"
      ]
     },
     "execution_count": 13,
     "metadata": {},
     "output_type": "execute_result"
    }
   ],
   "source": [
    "training_data.TotalBathrooms.value_counts()"
   ]
  },
  {
   "cell_type": "markdown",
   "metadata": {},
   "source": [
    "Things I need to decide:\n",
    "\n",
    "* How much to use the sklearn functionality vs do it yourself\n",
    "* Do we do a simple validation split first?\n",
    "* Do we shuffle?\n",
    "\n",
    "Overall goal:\n",
    "\n",
    "* Increase awareness of what kinds of modeling decisions we can make\n",
    "  * Model choice: kNN vs LinReg\n",
    "  * Hyperparameters: number of neighbors\n",
    "  * Feature engineering:\n",
    "    * one-hot encode a categorical feature\n",
    "    * binning continuous features\n",
    "* Measure effects of modeling decisions on accuracy in training, validation, and test\n",
    "  * Generalization error is a *noisy measurement*\n",
    "    * We get different errors for the *same* model on different validation splits\n",
    "    * We get different errors on the *same* validation data for models trained on different splits"
   ]
  },
  {
   "cell_type": "code",
   "execution_count": 28,
   "metadata": {},
   "outputs": [],
   "source": [
    "def transform(data):\n",
    "    X = data[['Gr_Liv_Area', 'TotalBathrooms']].copy()\n",
    "    return X\n",
    "\n",
    "all_train_X = transform(training_data)\n",
    "all_train_y = training_data['SalePrice']"
   ]
  },
  {
   "cell_type": "code",
   "execution_count": 29,
   "metadata": {},
   "outputs": [
    {
     "data": {
      "text/plain": [
       "1634"
      ]
     },
     "execution_count": 29,
     "metadata": {},
     "output_type": "execute_result"
    }
   ],
   "source": [
    "len(all_train_X)"
   ]
  },
  {
   "cell_type": "code",
   "execution_count": 30,
   "metadata": {},
   "outputs": [],
   "source": [
    "train_X = all_train_X[:500]\n",
    "train_y = all_train_y[:500]\n",
    "\n",
    "model = LinearRegression().fit(train_X, train_y)"
   ]
  },
  {
   "cell_type": "markdown",
   "metadata": {},
   "source": [
    "Evaluate on different validation sets"
   ]
  },
  {
   "cell_type": "code",
   "execution_count": 35,
   "metadata": {},
   "outputs": [],
   "source": [
    "all_validation_X = all_train_X[500:]\n",
    "all_validation_y = all_train_y[500:]\n",
    "\n",
    "valid_mses = []\n",
    "valid_r2s = []\n",
    "for i in range(5):\n",
    "    valid_X = all_validation_X[i::5]\n",
    "    valid_y = all_validation_y[i::5]\n",
    "\n",
    "    valid_mses.append(\n",
    "        metrics.mean_squared_error(valid_y, model.predict(valid_X))\n",
    "    )\n",
    "    valid_r2s.append(\n",
    "        metrics.r2_score(valid_y, model.predict(valid_X))\n",
    "    )"
   ]
  },
  {
   "cell_type": "code",
   "execution_count": 36,
   "metadata": {},
   "outputs": [
    {
     "data": {
      "text/plain": [
       "[0.7040283232071243,\n",
       " 0.6144055492606674,\n",
       " 0.6469444825018951,\n",
       " 0.612144891607086,\n",
       " 0.5704668218621982]"
      ]
     },
     "execution_count": 36,
     "metadata": {},
     "output_type": "execute_result"
    }
   ],
   "source": [
    "valid_r2s"
   ]
  },
  {
   "cell_type": "code",
   "execution_count": null,
   "metadata": {},
   "outputs": [],
   "source": []
  }
 ],
 "metadata": {
  "kernelspec": {
   "display_name": "Python 3",
   "language": "python",
   "name": "python3"
  },
  "language_info": {
   "codemirror_mode": {
    "name": "ipython",
    "version": 3
   },
   "file_extension": ".py",
   "mimetype": "text/x-python",
   "name": "python",
   "nbconvert_exporter": "python",
   "pygments_lexer": "ipython3",
   "version": "3.7.3"
  }
 },
 "nbformat": 4,
 "nbformat_minor": 2
}
