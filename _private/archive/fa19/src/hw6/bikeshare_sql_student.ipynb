{
 "cells": [
  {
   "cell_type": "code",
   "execution_count": null,
   "metadata": {},
   "outputs": [],
   "source": [
    "import pandas as pd\n",
    "from pandas.tseries.holiday import USFederalHolidayCalendar\n",
    "import datetime"
   ]
  },
  {
   "cell_type": "markdown",
   "metadata": {},
   "source": [
    "Helpful references:\n",
    "* https://cs.calvin.edu/courses/data/202/ka37/topics/sql.html\n",
    "* https://www.sqlite.org/lang_select.html\n",
    "* https://www.sqlite.org/lang_corefunc.html"
   ]
  },
  {
   "cell_type": "code",
   "execution_count": null,
   "metadata": {},
   "outputs": [],
   "source": [
    "db_connection = \"sqlite:///rides.db\""
   ]
  },
  {
   "cell_type": "markdown",
   "metadata": {},
   "source": [
    "# Preprocess the data and create the SQL database\n",
    "Run the code in this section unchanged."
   ]
  },
  {
   "cell_type": "code",
   "execution_count": null,
   "metadata": {},
   "outputs": [],
   "source": [
    "rides = pd.read_csv(\"2011-capitalbikeshare-tripdata.zip\",\n",
    "                    usecols=[\"Duration\", \"Start date\", \"End date\", \"Start station number\", \"End station number\", \"Member type\"])\n",
    "rides.info()"
   ]
  },
  {
   "cell_type": "code",
   "execution_count": null,
   "metadata": {},
   "outputs": [],
   "source": [
    "# rename columns\n",
    "rides = (\n",
    "    rides\n",
    "    .rename(columns=lambda x: x.lower().replace(' ', '_'))\n",
    "    .rename(columns={'start_date': 'start_timestamp', 'end_date': 'end_timestamp'})\n",
    ")"
   ]
  },
  {
   "cell_type": "code",
   "execution_count": null,
   "metadata": {},
   "outputs": [],
   "source": [
    "rides.head()"
   ]
  },
  {
   "cell_type": "code",
   "execution_count": null,
   "metadata": {},
   "outputs": [],
   "source": [
    "rides.to_sql(\"rides\", db_connection, if_exists=\"replace\", index=False)"
   ]
  },
  {
   "cell_type": "code",
   "execution_count": null,
   "metadata": {},
   "outputs": [],
   "source": [
    "# Run this code unchanged.\n",
    "holidays = pd.DataFrame({\n",
    "    'date': USFederalHolidayCalendar().holidays(datetime.date(2011,1,1), datetime.date(2015,12,31)).date,\n",
    "    'is_holiday': True})\n",
    "holidays.head()"
   ]
  },
  {
   "cell_type": "code",
   "execution_count": null,
   "metadata": {},
   "outputs": [],
   "source": [
    "holidays.to_sql(\"holidays\", db_connection, if_exists=\"replace\", index=False)"
   ]
  },
  {
   "cell_type": "markdown",
   "metadata": {},
   "source": [
    "# `head`"
   ]
  },
  {
   "cell_type": "code",
   "execution_count": null,
   "metadata": {},
   "outputs": [],
   "source": [
    "rides.head(n=5) # Pandas way"
   ]
  },
  {
   "cell_type": "code",
   "execution_count": null,
   "metadata": {},
   "outputs": [],
   "source": [
    "# SQL way\n",
    "pd.read_sql_query(\"\"\"\n",
    "    SELECT\n",
    "      *\n",
    "      FROM rides\n",
    "      ORDER BY start_timestamp ASC\n",
    "      LIMIT 5\n",
    "\"\"\", db_connection)"
   ]
  },
  {
   "cell_type": "markdown",
   "metadata": {},
   "source": [
    "## Exercise 1\n",
    "Get the last 10 rides of the year.\n",
    "\n",
    "**Note**: ordering options are \"ASC\" and \"DESC\"."
   ]
  },
  {
   "cell_type": "code",
   "execution_count": null,
   "metadata": {},
   "outputs": [],
   "source": [
    "# Pandas way:\n",
    "rides.sort_values('start_timestamp', ascending=False).head(10)"
   ]
  },
  {
   "cell_type": "code",
   "execution_count": null,
   "metadata": {},
   "outputs": [],
   "source": [
    "# SQL way\n",
    "# your code here\n"
   ]
  },
  {
   "cell_type": "markdown",
   "metadata": {},
   "source": [
    "## Exercise 2\n",
    "Get only the 'start_timestamp' and 'member_type' columns for the first 5 rides.\n",
    "\n",
    "Note: you'll need to replace the `*`."
   ]
  },
  {
   "cell_type": "code",
   "execution_count": null,
   "metadata": {},
   "outputs": [],
   "source": [
    "# Pandas way:\n",
    "rides[['start_timestamp', 'member_type']].head(5)"
   ]
  },
  {
   "cell_type": "code",
   "execution_count": null,
   "metadata": {},
   "outputs": [],
   "source": [
    "# SQL way\n",
    "# your code here\n"
   ]
  },
  {
   "cell_type": "markdown",
   "metadata": {},
   "source": [
    "# `query` / `filter`"
   ]
  },
  {
   "cell_type": "markdown",
   "metadata": {},
   "source": [
    "`WHERE` lets you filter to include only certain rows"
   ]
  },
  {
   "cell_type": "code",
   "execution_count": null,
   "metadata": {},
   "outputs": [],
   "source": [
    "# pandas way:\n",
    "(\n",
    "    rides\n",
    "    .query(\"start_station_number == 31620\")\n",
    "    [['start_station_number', 'start_timestamp', 'member_type']]\n",
    "    .head(5)\n",
    ")"
   ]
  },
  {
   "cell_type": "code",
   "execution_count": null,
   "metadata": {},
   "outputs": [],
   "source": [
    "# SQL way\n",
    "pd.read_sql_query(\"\"\"\n",
    "    SELECT\n",
    "      start_station_number, start_timestamp, member_type\n",
    "      FROM rides\n",
    "      WHERE start_station_number = 31620\n",
    "      ORDER BY start_timestamp ASC\n",
    "      LIMIT 5\n",
    "\"\"\", db_connection)"
   ]
  },
  {
   "cell_type": "markdown",
   "metadata": {},
   "source": [
    "## Exercise 3\n",
    "Get the first 5 rides by Members.\n",
    "\n",
    "Note:\n",
    "* you'll need to `'quote'` strings, just like in Python---but the quotes should be *single* quotes (`'`) **not** double quotes (`\"`)\n",
    "* but unlike Python, the \"equal\" operator is just `=`, not `==`."
   ]
  },
  {
   "cell_type": "code",
   "execution_count": null,
   "metadata": {},
   "outputs": [],
   "source": [
    "# SQL way\n",
    "# your code here\n"
   ]
  },
  {
   "cell_type": "markdown",
   "metadata": {},
   "source": [
    "You can also get a single value by using an aggregation function, like `count`:"
   ]
  },
  {
   "cell_type": "code",
   "execution_count": null,
   "metadata": {},
   "outputs": [],
   "source": [
    "pd.read_sql_query(\"\"\"\n",
    "    SELECT\n",
    "      COUNT(*)\n",
    "      FROM rides\n",
    "\"\"\", db_connection)"
   ]
  },
  {
   "cell_type": "markdown",
   "metadata": {},
   "source": [
    "# Exercise 3.2\n",
    "Get the total number of rides from Members."
   ]
  },
  {
   "cell_type": "code",
   "execution_count": null,
   "metadata": {},
   "outputs": [],
   "source": [
    "# SQL way\n",
    "# your code here"
   ]
  },
  {
   "cell_type": "markdown",
   "metadata": {},
   "source": [
    "# `grouping`\n",
    "\n",
    "SQL gets powerful (and complicated) when you start grouping.\n",
    "\n",
    "The basic template is: `SELECT` *things* `GROUP BY` *grouping expression*\n",
    "\n",
    "*things* can include [**aggregation functions**](https://www.sqlite.org/lang_aggfunc.html) like `count`."
   ]
  },
  {
   "cell_type": "code",
   "execution_count": null,
   "metadata": {},
   "outputs": [],
   "source": [
    "# Pandas way:\n",
    "rides['member_type'].value_counts()"
   ]
  },
  {
   "cell_type": "code",
   "execution_count": null,
   "metadata": {},
   "outputs": [],
   "source": [
    "# get the number of rides by member type\n",
    "pd.read_sql_query(\"\"\"\n",
    "    SELECT\n",
    "      member_type, COUNT(*)\n",
    "      FROM rides\n",
    "      GROUP BY member_type\n",
    "\"\"\", db_connection)"
   ]
  },
  {
   "cell_type": "code",
   "execution_count": null,
   "metadata": {},
   "outputs": [],
   "source": [
    "# get the number of departures from each station\n",
    "pd.read_sql_query(\"\"\"\n",
    "    SELECT\n",
    "      start_station_number, COUNT(*)\n",
    "      FROM rides\n",
    "      GROUP BY start_station_number\n",
    "      LIMIT 5\n",
    "\"\"\", db_connection)"
   ]
  },
  {
   "cell_type": "markdown",
   "metadata": {},
   "source": [
    "It's often helpful to rename the results of aggregation functions. The `AS` keyword can rename any result column."
   ]
  },
  {
   "cell_type": "code",
   "execution_count": null,
   "metadata": {},
   "outputs": [],
   "source": [
    "# get the number of departures from each station\n",
    "pd.read_sql_query(\"\"\"\n",
    "    SELECT\n",
    "      start_station_number, COUNT(*) AS num_departures\n",
    "      FROM rides\n",
    "      GROUP BY start_station_number\n",
    "      LIMIT 5\n",
    "\"\"\", db_connection)"
   ]
  },
  {
   "cell_type": "markdown",
   "metadata": {},
   "source": [
    "## Exercise 4\n",
    "Get the number of departures from each station, but only for Members."
   ]
  },
  {
   "cell_type": "code",
   "execution_count": null,
   "metadata": {},
   "outputs": [],
   "source": [
    "# Pandas way:\n",
    "(\n",
    "    rides\n",
    "    .query(\"member_type == 'Member'\")\n",
    "    .groupby('start_station_number')\n",
    "    .size().to_frame('num_departures')\n",
    "    .head(5)\n",
    ")"
   ]
  },
  {
   "cell_type": "code",
   "execution_count": null,
   "metadata": {},
   "outputs": [],
   "source": [
    "# SQL way\n",
    "# your code here"
   ]
  },
  {
   "cell_type": "markdown",
   "metadata": {},
   "source": [
    "## Exercise 5\n",
    "Break down those counts by member type. You'll need to:\n",
    "* Include a column for `member_type`\n",
    "* add `member_type` to the grouping expression\n",
    "\n",
    "The result should look like:\n",
    "\n",
    "<table border=\"1\" class=\"dataframe\">\n",
    "  <thead>\n",
    "    <tr style=\"text-align: right;\">\n",
    "      <th></th>\n",
    "      <th>start_station_number</th>\n",
    "      <th>member_type</th>\n",
    "      <th>num_departures</th>\n",
    "    </tr>\n",
    "  </thead>\n",
    "  <tbody>\n",
    "    <tr>\n",
    "      <th>0</th>\n",
    "      <td>31000</td>\n",
    "      <td>Casual</td>\n",
    "      <td>302</td>\n",
    "    </tr>\n",
    "    <tr>\n",
    "      <th>1</th>\n",
    "      <td>31000</td>\n",
    "      <td>Member</td>\n",
    "      <td>869</td>\n",
    "    </tr>\n",
    "    <tr>\n",
    "      <th>2</th>\n",
    "      <td>31001</td>\n",
    "      <td>Casual</td>\n",
    "      <td>826</td>\n",
    "    </tr>\n",
    "    <tr>\n",
    "      <th>3</th>\n",
    "      <td>31001</td>\n",
    "      <td>Member</td>\n",
    "      <td>2666</td>\n",
    "    </tr>\n",
    "    <tr>\n",
    "      <th>4</th>\n",
    "      <td>31002</td>\n",
    "      <td>Casual</td>\n",
    "      <td>894</td>\n",
    "    </tr>\n",
    "  </tbody>\n",
    "</table>"
   ]
  },
  {
   "cell_type": "code",
   "execution_count": null,
   "metadata": {},
   "outputs": [],
   "source": [
    "# your code here\n"
   ]
  },
  {
   "cell_type": "markdown",
   "metadata": {},
   "source": [
    "## Exercise 6\n",
    "Compute the number of rides per day.\n",
    "\n",
    "Note: You'll need to use `date(start_timestamp)`, which is one of sqlite's [built-in date/time functions](https://www.sqlite.org/lang_datefunc.html)"
   ]
  },
  {
   "cell_type": "code",
   "execution_count": null,
   "metadata": {},
   "outputs": [],
   "source": [
    "# your code here"
   ]
  },
  {
   "cell_type": "markdown",
   "metadata": {},
   "source": [
    "# `join`"
   ]
  },
  {
   "cell_type": "markdown",
   "metadata": {},
   "source": [
    "As before, let's mark which rides are on federal holidays. To do that, we'll use the `holidays` table. Notice how it's structured:"
   ]
  },
  {
   "cell_type": "code",
   "execution_count": null,
   "metadata": {},
   "outputs": [],
   "source": [
    "df = pd.read_sql_query(\"\"\"\n",
    "    SELECT\n",
    "      *\n",
    "      FROM holidays\n",
    "\"\"\", db_connection)\n",
    "print(len(df), \"rows\")\n",
    "df.head()"
   ]
  },
  {
   "cell_type": "markdown",
   "metadata": {},
   "source": [
    "We'll need a `rides_by_date` table... (don't worry about this.)"
   ]
  },
  {
   "cell_type": "code",
   "execution_count": null,
   "metadata": {},
   "outputs": [],
   "source": [
    "pd.io.sql.execute(\"\"\"DROP TABLE IF EXISTS rides_by_date\"\"\", db_connection)\n",
    "pd.io.sql.execute(\"\"\"CREATE TABLE rides_by_date AS SELECT\n",
    "      date(start_timestamp) as start_day, COUNT(*) as num_rides\n",
    "      FROM rides\n",
    "      GROUP BY start_day\"\"\", db_connection);"
   ]
  },
  {
   "cell_type": "markdown",
   "metadata": {},
   "source": [
    "Consider the example below. Think about why only 9 rows come out. Then:\n",
    "\n",
    "* Change `JOIN` to `LEFT JOIN`; how many rows do you get then? Does that make sense?\n",
    "* What values does `is_holiday` take on? Try replacing `is_holiday` by `IFNULL(is_holiday, 0)` (sqlite specific) or `COALESCE(is_holiday, 0)` (standard SQL). Does that achieve the result you hope for?\n",
    "* Add an `AS is_holiday` clause to rename the `is_holiday` column to a more useful name.\n",
    "\n",
    "(You don't need to include textual answers, just change the code as directed.)"
   ]
  },
  {
   "cell_type": "code",
   "execution_count": null,
   "metadata": {},
   "outputs": [],
   "source": [
    "df = pd.read_sql_query(\"\"\"\n",
    "    SELECT\n",
    "      start_day, num_rides, COALESCE(is_holiday, 0)\n",
    "      FROM rides_by_date\n",
    "      LEFT JOIN holidays ON rides_by_date.start_day = holidays.date\n",
    "\"\"\", db_connection)\n",
    "print(len(df), \"rows\")\n",
    "df.head(n=31)"
   ]
  }
 ],
 "metadata": {
  "kernelspec": {
   "display_name": "Python 3",
   "language": "python",
   "name": "python3"
  },
  "language_info": {
   "codemirror_mode": {
    "name": "ipython",
    "version": 3
   },
   "file_extension": ".py",
   "mimetype": "text/x-python",
   "name": "python",
   "nbconvert_exporter": "python",
   "pygments_lexer": "ipython3",
   "version": "3.7.3"
  }
 },
 "nbformat": 4,
 "nbformat_minor": 2
}
