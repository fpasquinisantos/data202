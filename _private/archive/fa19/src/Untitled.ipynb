{
 "cells": [
  {
   "cell_type": "code",
   "execution_count": 6,
   "metadata": {},
   "outputs": [],
   "source": [
    "from sklearn.linear_model import LinearRegression"
   ]
  },
  {
   "cell_type": "code",
   "execution_count": 27,
   "metadata": {},
   "outputs": [],
   "source": [
    "from sklearn.metrics import r2_score"
   ]
  },
  {
   "cell_type": "code",
   "execution_count": 1,
   "metadata": {},
   "outputs": [],
   "source": [
    "import statsmodels.formula.api as smf"
   ]
  },
  {
   "cell_type": "code",
   "execution_count": 2,
   "metadata": {},
   "outputs": [],
   "source": [
    "import numpy as np"
   ]
  },
  {
   "cell_type": "code",
   "execution_count": 28,
   "metadata": {},
   "outputs": [],
   "source": [
    "X = np.random.randn(1000, 500)"
   ]
  },
  {
   "cell_type": "code",
   "execution_count": 29,
   "metadata": {},
   "outputs": [
    {
     "data": {
      "text/plain": [
       "(1000, 500)"
      ]
     },
     "execution_count": 29,
     "metadata": {},
     "output_type": "execute_result"
    }
   ],
   "source": [
    "X.shape"
   ]
  },
  {
   "cell_type": "code",
   "execution_count": 18,
   "metadata": {},
   "outputs": [],
   "source": [
    "# y = X * 50 + 2"
   ]
  },
  {
   "cell_type": "code",
   "execution_count": 19,
   "metadata": {},
   "outputs": [],
   "source": [
    "y = np.random.randn(1000)"
   ]
  },
  {
   "cell_type": "code",
   "execution_count": 34,
   "metadata": {},
   "outputs": [
    {
     "data": {
      "text/plain": [
       "(500, 1)"
      ]
     },
     "execution_count": 34,
     "metadata": {},
     "output_type": "execute_result"
    }
   ],
   "source": [
    "np.ones(500)[:,None].shape"
   ]
  },
  {
   "cell_type": "code",
   "execution_count": 38,
   "metadata": {},
   "outputs": [],
   "source": [
    "%matplotlib inline"
   ]
  },
  {
   "cell_type": "code",
   "execution_count": 39,
   "metadata": {},
   "outputs": [],
   "source": [
    "import matplotlib.pyplot as plt"
   ]
  },
  {
   "cell_type": "markdown",
   "metadata": {},
   "source": [
    "$E[X1 + X2] = E[X1] + E[X2]$"
   ]
  },
  {
   "cell_type": "markdown",
   "metadata": {},
   "source": [
    "$Var[X1 + X2] = Var[X1] + Var[X2]$"
   ]
  },
  {
   "cell_type": "code",
   "execution_count": 43,
   "metadata": {},
   "outputs": [],
   "source": [
    "x1 = np.random.standard_normal(size=(100000))\n",
    "x2 = np.random.randn(100000)"
   ]
  },
  {
   "cell_type": "code",
   "execution_count": 46,
   "metadata": {},
   "outputs": [
    {
     "data": {
      "text/plain": [
       "(-0.0030188048102209935, 0.9968840292862349, 0.9937777678459587)"
      ]
     },
     "execution_count": 46,
     "metadata": {},
     "output_type": "execute_result"
    }
   ],
   "source": [
    "np.mean(x1), np.std(x1), np.var(x1)"
   ]
  },
  {
   "cell_type": "code",
   "execution_count": 49,
   "metadata": {},
   "outputs": [
    {
     "data": {
      "text/plain": [
       "(-0.004839893634912495, -0.004839893634912496)"
      ]
     },
     "execution_count": 49,
     "metadata": {},
     "output_type": "execute_result"
    }
   ],
   "source": [
    "np.mean(x1 + x2), np.mean(x1) + np.mean(x2)"
   ]
  },
  {
   "cell_type": "code",
   "execution_count": 50,
   "metadata": {},
   "outputs": [
    {
     "data": {
      "text/plain": [
       "(2.001953250629642, 0.9937777678459587, 1.0006416460543768)"
      ]
     },
     "execution_count": 50,
     "metadata": {},
     "output_type": "execute_result"
    }
   ],
   "source": [
    "np.var(x1 + x2), np.var(x1), np.var(x2)"
   ]
  },
  {
   "cell_type": "code",
   "execution_count": 41,
   "metadata": {},
   "outputs": [
    {
     "data": {
      "text/plain": [
       "0.9997825145123638"
      ]
     },
     "execution_count": 41,
     "metadata": {},
     "output_type": "execute_result"
    }
   ],
   "source": [
    "np.var(X)"
   ]
  },
  {
   "cell_type": "code",
   "execution_count": 40,
   "metadata": {},
   "outputs": [
    {
     "data": {
      "text/plain": [
       "(array([  2.,   6.,  34., 107., 214., 272., 230.,  95.,  34.,   6.]),\n",
       " array([-85.09477356, -69.64316907, -54.19156457, -38.73996008,\n",
       "        -23.28835559,  -7.8367511 ,   7.61485339,  23.06645789,\n",
       "         38.51806238,  53.96966687,  69.42127136]),\n",
       " <a list of 10 Patch objects>)"
      ]
     },
     "execution_count": 40,
     "metadata": {},
     "output_type": "execute_result"
    },
    {
     "data": {
      "image/png": "[encoded data removed]",
      "text/plain": [
       "<Figure size 432x288 with 1 Axes>"
      ]
     },
     "metadata": {
      "needs_background": "light"
     },
     "output_type": "display_data"
    }
   ],
   "source": [
    "plt.hist(np.dot(X, np.ones(500)))"
   ]
  },
  {
   "cell_type": "code",
   "execution_count": 35,
   "metadata": {},
   "outputs": [
    {
     "data": {
      "text/plain": [
       "-538.0966949645897"
      ]
     },
     "execution_count": 35,
     "metadata": {},
     "output_type": "execute_result"
    }
   ],
   "source": [
    "r2_score(y, np.dot(X, np.ones(500)) + 1.)"
   ]
  },
  {
   "cell_type": "code",
   "execution_count": 26,
   "metadata": {},
   "outputs": [
    {
     "data": {
      "text/plain": [
       "-4.779606288692635"
      ]
     },
     "execution_count": 26,
     "metadata": {},
     "output_type": "execute_result"
    }
   ],
   "source": [
    "clf = LinearRegression().fit(X[:900], y[:900])\n",
    "clf.score(X[900:], y[900:])"
   ]
  },
  {
   "cell_type": "code",
   "execution_count": 25,
   "metadata": {},
   "outputs": [
    {
     "data": {
      "text/plain": [
       "(array([-7.39062003e-01,  7.88901135e-02, -7.12320693e-01, -3.80714967e-01,\n",
       "        -1.28808649e-01,  1.54022827e+00,  8.06584198e-01, -3.43845542e-01,\n",
       "         1.84789416e-01,  2.16425922e-01, -2.88070126e-01,  2.65176176e-01,\n",
       "        -3.19466620e-01, -7.90364764e-01,  1.29262760e+00,  1.29135564e-01,\n",
       "        -1.23412702e+00,  1.62530458e-01, -4.44400257e-02,  5.02867110e-01,\n",
       "        -3.31449970e-01,  1.18201850e+00,  2.31516247e-01,  6.47887680e-01,\n",
       "        -1.15895823e+00,  5.92015582e-02,  7.63980210e-01,  1.06012332e+00,\n",
       "         1.14824742e-01, -3.54161795e-01, -1.61955014e+00,  1.41458033e-01,\n",
       "         3.23327596e-01, -1.11297064e+00, -1.74009375e-01,  4.59509738e-01,\n",
       "         7.28442896e-01,  2.63629744e-01,  3.63442693e-01,  1.51782976e+00,\n",
       "        -1.68902054e-01,  2.55556093e-01, -6.87508883e-01, -8.40260831e-02,\n",
       "        -9.43885942e-02, -4.48024679e-01, -1.89616090e-01,  4.35606935e-01,\n",
       "        -1.55484924e-01, -8.35681686e-01,  3.73739418e-01, -2.55878030e-01,\n",
       "        -6.33722575e-01,  5.34768547e-01,  8.11372720e-01,  4.82354375e-01,\n",
       "         7.73570019e-01,  7.74977527e-01,  4.82295160e-01, -1.10286462e+00,\n",
       "        -2.32918346e-01, -7.87863058e-02,  1.49493281e+00,  1.44209853e+00,\n",
       "        -2.48461033e-01, -3.81334334e-01, -3.56334214e-01,  9.93180321e-01,\n",
       "        -8.37009377e-01,  1.72091355e-01, -3.29255629e-01,  1.80760694e-01,\n",
       "        -8.63530394e-01, -1.41047251e+00,  3.94273935e-01, -1.01625383e+00,\n",
       "        -2.97326667e-01, -1.10240449e+00, -3.14374368e-01, -1.68065434e-01,\n",
       "         3.96702836e-01, -6.73160484e-01,  8.34946226e-01, -6.11526947e-01,\n",
       "         5.94246768e-01,  3.17612518e-01, -1.30575342e-01, -1.18788397e-01,\n",
       "         6.81633423e-01,  4.42858802e-01, -3.38102489e-01, -5.10771996e-01,\n",
       "         2.02194498e-01,  1.74528948e-01,  3.06745969e-01,  9.22426065e-02,\n",
       "         9.30817771e-02, -5.54198257e-01, -5.13161546e-02,  6.48090139e-01,\n",
       "         5.70348899e-02,  8.38108286e-01,  7.44858661e-01, -9.19923227e-01,\n",
       "         8.03902169e-01, -9.55064797e-01, -1.05801085e+00,  5.40001532e-02,\n",
       "         3.55841346e-01,  8.44172455e-01,  4.05522698e-01,  1.73212846e+00,\n",
       "         6.06796391e-02, -6.51673248e-01,  6.57114183e-01, -5.00836355e-01,\n",
       "         2.97163298e-01,  3.93146551e-01,  6.35927679e-02,  5.45680861e-01,\n",
       "         3.80944025e-01, -4.23369852e-02,  4.19725757e-01,  4.70839546e-02,\n",
       "         1.22336772e+00,  5.04848038e-01,  4.13754631e-01, -1.27352215e-01,\n",
       "        -3.20354037e-01,  5.50699207e-02,  1.95248386e-01, -1.44082815e+00,\n",
       "        -2.45498813e-01, -5.04935739e-01, -5.56094957e-02, -3.52814652e-01,\n",
       "         2.34370013e-01, -3.31507557e-01,  7.43322205e-02,  1.07933235e+00,\n",
       "        -2.66321230e-01, -1.08854635e+00, -1.33955692e+00,  1.41838147e+00,\n",
       "        -1.21078228e+00,  9.15302496e-01,  1.02196170e+00,  2.68734936e-01,\n",
       "         9.54901310e-01,  3.40597923e-01,  4.82889801e-01,  7.00318368e-01,\n",
       "        -2.64031950e-02, -7.96482736e-01, -3.98848525e-01, -5.28546447e-01,\n",
       "         4.62780188e-01,  6.13981855e-01,  7.10733130e-01,  7.78903234e-01,\n",
       "         2.18695883e-01,  2.30601806e-01, -6.75717259e-01,  3.65358917e-01,\n",
       "         9.44867315e-02, -7.30853592e-01, -3.14921069e-01,  1.52046520e+00,\n",
       "         3.03476697e-01,  8.26396335e-02, -2.18053375e-01, -2.33201102e-01,\n",
       "        -9.54046448e-01, -3.67571358e-01,  2.50462802e-01, -7.09144541e-01,\n",
       "         5.89034525e-02,  3.00256261e-01, -3.05948147e-01,  6.83951609e-01,\n",
       "        -5.02430398e-01, -1.21645973e+00,  7.66846294e-01, -3.48572463e-02,\n",
       "        -1.82835452e-01,  9.06789008e-01, -1.35934205e+00,  3.42598478e-01,\n",
       "        -7.00776283e-01, -2.52696763e-01, -8.00118981e-01,  6.10900166e-01,\n",
       "         6.86998998e-01,  1.13154826e-01,  2.70603109e-01,  1.29048826e-02,\n",
       "         3.57629758e-01,  8.43385987e-02,  5.85523448e-01,  5.57117013e-03,\n",
       "        -2.71279315e-01, -5.54497245e-01, -1.03604151e-01, -8.46576788e-01,\n",
       "         1.20010958e+00, -4.32563318e-01,  1.77275050e-01, -4.87682053e-01,\n",
       "         4.15582141e-01,  5.73757079e-01, -8.22896922e-01, -2.64425016e-01,\n",
       "        -7.66001541e-01,  3.08839941e-01,  7.90346374e-02, -1.51465109e+00,\n",
       "         6.12233730e-01, -1.30109282e+00,  6.86839900e-01,  1.91463594e-01,\n",
       "         1.57087331e+00, -1.07932534e+00,  1.64761355e-01, -1.87831488e-01,\n",
       "        -2.10927908e-01, -1.22641092e+00,  1.07889023e+00,  8.52428135e-01,\n",
       "        -8.52800489e-03,  5.30209979e-01,  9.92207774e-04,  6.46847040e-01,\n",
       "        -3.76092161e-01,  5.95171387e-01, -3.89134501e-01, -8.06098078e-02,\n",
       "         3.23287699e-01, -5.81837310e-01, -1.19454910e+00, -1.13019730e+00,\n",
       "         1.49336436e-01, -1.19905514e-01, -8.18960484e-02,  1.22904573e+00,\n",
       "        -4.35794656e-02,  4.98844897e-01, -1.12716618e+00,  1.02993203e+00,\n",
       "         3.41908661e-01, -6.01207535e-02, -3.88658290e-01,  8.47527911e-01,\n",
       "        -5.08275087e-01,  8.90037170e-01,  7.03111615e-03,  9.66485797e-01,\n",
       "        -1.27237382e+00,  1.32349182e-02,  4.00689553e-01, -9.59890117e-01,\n",
       "        -3.50276572e-01,  1.10812095e+00,  1.36856084e-02, -5.04087116e-01,\n",
       "        -1.62194842e-01, -4.56626932e-01, -1.09796794e+00,  1.68121184e-01,\n",
       "         1.05526954e+00,  9.44085058e-02,  1.52491057e-01,  7.56084679e-01,\n",
       "         1.04250763e-01,  5.39767274e-02,  1.15452452e+00, -8.62105065e-01,\n",
       "         7.22327867e-01, -4.65127824e-01, -1.04809019e+00, -9.39635611e-01,\n",
       "        -9.38165710e-01, -2.93880231e-01,  8.45134317e-01, -1.65953013e-01,\n",
       "        -6.36325020e-02,  5.77058951e-01,  1.31378972e+00,  5.53033234e-01,\n",
       "        -7.96917374e-02, -1.25336395e+00, -1.76690444e-01,  4.47645282e-01,\n",
       "         9.47551441e-01, -2.90063468e-01, -3.71734470e-01,  6.11613853e-01,\n",
       "         7.67915914e-01,  1.20925281e+00,  1.48086530e-01,  6.70647363e-01,\n",
       "        -7.38293213e-01,  5.09470110e-01,  5.74705294e-01,  2.94335511e-01,\n",
       "        -1.13541155e-01,  2.40531990e-02, -2.68776836e-01,  1.56274578e+00,\n",
       "        -3.43478829e-01, -6.72566516e-01,  2.25319035e-01,  2.92670301e-01,\n",
       "        -1.56409199e+00, -8.78746848e-01, -5.27933436e-02, -6.84039345e-01,\n",
       "         3.53084152e-01,  1.69275117e-01, -8.09755740e-01,  7.19835917e-01,\n",
       "         5.46565247e-01,  1.20738891e+00, -1.07260595e+00,  7.90539149e-01,\n",
       "         5.10162973e-01,  5.14306077e-01,  1.29529240e+00, -3.13338359e-01,\n",
       "         5.14370464e-01, -2.69756241e-01, -8.94425332e-01, -6.75605444e-01,\n",
       "        -3.88788506e-01, -4.94048113e-01, -1.60739036e-01,  9.33774547e-01,\n",
       "        -3.79625843e-01,  9.61104363e-01, -8.45820384e-01, -6.71010178e-01,\n",
       "        -1.00524161e-01,  9.75680191e-02, -1.19218844e-01, -4.51080559e-01,\n",
       "         1.27300304e+00, -1.53313900e+00,  6.16778482e-01, -1.06871298e+00,\n",
       "        -7.35342835e-02, -2.61739801e-01,  4.69009905e-01,  4.66862116e-01,\n",
       "         1.54240507e-01,  3.85578164e-01, -4.78412546e-01,  7.21080130e-01,\n",
       "        -9.54131035e-01, -3.56048672e-01,  1.24261893e-02,  4.46034475e-01,\n",
       "        -1.22507313e-01,  7.84613754e-01, -8.94934929e-01,  7.43713915e-01,\n",
       "        -6.17035189e-01,  1.43469579e-01, -2.60976428e-01,  6.99945458e-01,\n",
       "         1.04405328e+00, -4.93596969e-02, -9.59426871e-01, -8.30371101e-01,\n",
       "         1.07704712e-01,  3.55114095e-01, -9.89118533e-01,  5.04800092e-01,\n",
       "        -7.29174188e-02,  5.38754508e-01,  4.18548544e-01,  7.93187083e-01,\n",
       "        -7.28269373e-01,  2.49467245e-01,  7.40818440e-01,  3.42471482e-01,\n",
       "        -4.74370873e-02,  6.43051654e-02, -3.86736481e-01,  8.10424639e-01,\n",
       "         6.39820431e-01,  5.79098434e-01,  1.26779186e+00, -6.79227963e-02,\n",
       "        -6.26373371e-01, -3.86106968e-01, -6.57430828e-01, -7.28058282e-01,\n",
       "        -7.05960980e-01, -2.40148151e-01,  1.66262442e+00, -3.18317150e-01,\n",
       "        -6.83345590e-01,  4.92034523e-01,  7.73757682e-01,  7.29108276e-01,\n",
       "         1.03958384e+00,  1.05737747e+00,  4.39301697e-01, -1.80447701e-01,\n",
       "        -8.99081705e-01,  5.00013739e-01,  2.19920566e-01, -6.27341312e-01,\n",
       "         7.54405940e-01, -4.42032916e-01, -6.70907400e-01,  5.51955876e-01,\n",
       "        -2.40982787e-01, -6.33268273e-01, -8.95461430e-01, -3.10706358e-01,\n",
       "        -8.09373549e-01,  2.79389852e-01,  5.20183980e-01, -9.81082320e-02,\n",
       "         1.07513232e+00, -4.60429011e-01, -3.21837131e-01, -1.12579864e+00,\n",
       "        -7.75075053e-01, -3.43832106e-01,  7.08759426e-01,  1.58270076e+00,\n",
       "        -5.01026527e-01,  4.64761604e-01,  9.16586294e-01, -6.40622488e-01,\n",
       "        -3.82009339e-01, -1.17130441e-01, -3.92116041e-01, -8.01757397e-01,\n",
       "        -1.28203140e+00,  2.79943893e-01, -1.45705132e-01,  5.66513450e-02,\n",
       "         4.22492509e-01,  1.28145640e-01, -4.43600396e-01,  8.81085229e-01,\n",
       "         7.34313003e-01, -7.29751743e-02,  5.52913880e-01, -2.56542046e-01,\n",
       "         6.07454265e-01,  3.79128185e-01, -6.73128971e-01,  2.34012760e-01,\n",
       "         8.08159942e-01, -5.90791947e-01, -7.04706388e-01,  4.09248720e-01,\n",
       "         3.63857750e-03, -6.63248173e-01, -4.65852951e-01,  4.37276993e-01,\n",
       "         4.97482014e-01,  1.16651166e-01, -4.10668874e-01,  5.14717272e-02,\n",
       "        -5.37978944e-02,  1.30011629e-01,  7.60897982e-01, -5.65934366e-02,\n",
       "         4.87786907e-01, -5.60038743e-01, -8.10235811e-03, -7.27849068e-01,\n",
       "        -3.24096193e-01, -5.22565930e-01, -6.40497799e-01,  6.68470049e-01,\n",
       "         3.10034791e-01, -1.10680036e-01, -4.65926266e-01,  7.93288905e-01,\n",
       "         6.13005336e-02, -2.77421749e-01, -4.77317015e-01, -4.99858122e-01,\n",
       "        -6.12244042e-02,  4.36962613e-01, -1.10106445e+00, -5.92845965e-01,\n",
       "        -6.94203328e-01, -1.10671641e+00, -6.94572314e-01,  1.13166520e-01,\n",
       "        -1.37233272e+00, -9.76117425e-01,  9.78987427e-01,  3.07843931e-01,\n",
       "        -1.19863533e-02, -3.07578263e-01,  3.20810567e-01,  1.33132195e+00,\n",
       "         1.38226995e+00, -8.63562339e-01, -1.44839731e+00, -5.43828605e-03,\n",
       "        -1.46908155e-01, -5.65949212e-01,  8.68543531e-02, -7.60697085e-01,\n",
       "         2.67086953e-01,  2.15085058e-01,  3.14899784e-01,  5.54061585e-01,\n",
       "         2.01291899e-01, -7.49909572e-01, -6.89641976e-01, -4.94474370e-01,\n",
       "        -1.13263482e+00,  2.21386542e-01,  7.63341487e-01, -1.56441112e-02,\n",
       "         4.18307297e-01,  1.32721020e-01, -5.88861019e-01, -1.07271617e-01,\n",
       "         2.03122142e-01, -7.88055151e-01, -3.26485335e-01,  7.50764625e-02,\n",
       "         7.23492991e-01, -2.35748214e-01, -6.49709774e-01, -2.35298704e-01,\n",
       "        -6.33332548e-01, -1.06260650e+00,  2.05857589e-01, -6.80459050e-02,\n",
       "        -1.22376622e+00, -4.64233051e-01, -1.11698668e+00, -7.11190020e-01,\n",
       "         3.72989633e-01, -1.52051799e+00,  1.40637108e+00,  1.29444074e-02,\n",
       "         4.25794528e-01, -1.24770069e+00, -6.49644362e-01,  1.22591478e+00,\n",
       "        -1.20649579e-01, -1.51140143e+00,  1.69467721e+00, -7.46884336e-01,\n",
       "        -4.22599002e-01,  3.83518513e-01, -2.43445755e-01, -6.66177933e-01,\n",
       "         6.85857765e-01, -1.50804736e+00, -6.39790995e-01,  2.89083926e-01,\n",
       "         7.47300341e-01, -1.55961492e-01, -5.39336090e-01, -1.76116344e-01,\n",
       "        -1.74203004e+00, -2.79478681e-01,  2.37858308e-01,  9.21959661e-01,\n",
       "        -1.72143787e-01, -7.00186808e-01, -7.67419732e-02, -2.23679791e-01,\n",
       "        -7.17159375e-01,  1.16540294e+00, -1.18165431e+00,  9.80501327e-01,\n",
       "        -8.48009804e-01, -4.68876135e-01, -9.36557053e-01, -1.17101035e-01,\n",
       "         2.34051658e-01,  3.05725597e-01,  6.78791227e-01,  4.89210421e-01,\n",
       "         4.43211830e-01,  3.96808771e-02,  1.40324080e+00,  6.66092729e-01,\n",
       "        -4.00699117e-01, -7.85838417e-01,  4.05874657e-01, -5.45667366e-01,\n",
       "        -1.98098705e-01, -4.27177199e-01,  2.97654541e-01,  1.00413433e-01,\n",
       "        -1.37340928e+00,  3.38371580e-01,  1.24212087e+00, -1.80251077e+00,\n",
       "         6.96757322e-01,  9.61314133e-01,  6.90109455e-01,  1.41156771e-01,\n",
       "        -6.83343948e-01,  9.91361609e-01, -3.70001762e-03,  6.06567691e-01,\n",
       "        -3.83960429e-01,  7.39021739e-01, -2.09169302e+00,  4.14892448e-01,\n",
       "        -5.24166852e-01, -9.64582719e-02,  5.52512090e-01,  7.80444256e-01,\n",
       "        -5.46447700e-01,  5.90387538e-01,  8.32323481e-01,  6.37590048e-01,\n",
       "        -4.14161411e-02, -3.16609715e-01, -7.79263602e-01,  4.81505544e-01,\n",
       "        -5.28562138e-01, -5.03191492e-01, -3.85338214e-01, -5.86457842e-01,\n",
       "        -3.21043248e-01,  8.33004883e-01,  3.95241066e-01, -6.52620672e-01,\n",
       "         5.10536207e-01, -5.87156189e-01, -1.91842611e+00,  2.76802145e-01,\n",
       "        -6.96339251e-01, -6.10842103e-01,  3.99857691e-01,  5.45821793e-01,\n",
       "         9.20798273e-01, -2.66865077e-01,  1.15853003e-01, -5.64884309e-01,\n",
       "         8.03585567e-01, -7.54896633e-02, -7.61231919e-01, -1.05741981e+00,\n",
       "        -7.91043711e-01,  4.83711874e-01, -1.17144926e-01,  9.80194406e-02,\n",
       "        -2.42150624e-01,  3.66392650e-01,  2.51981239e-01, -7.63362783e-01,\n",
       "         7.28156270e-01,  3.70142700e-01,  4.22155100e-01, -1.34387426e+00,\n",
       "         1.91351338e-01,  6.91529545e-01,  5.57802051e-01, -4.77718249e-01,\n",
       "        -2.65224267e-01, -1.38354239e-01,  4.26715722e-02,  6.13570690e-01,\n",
       "         8.79391868e-01, -3.48017886e-01, -8.74480741e-01, -8.27100811e-01,\n",
       "        -1.41058069e-01, -7.45262352e-02,  1.26797261e-01,  1.03174016e+00,\n",
       "        -7.97006119e-01, -3.84649701e-01,  3.26392923e-01,  1.58475583e-01,\n",
       "        -2.97489665e-01,  8.22119467e-01, -1.40398608e-01,  3.59845171e-01,\n",
       "         9.50477800e-01, -1.29889817e+00,  7.70101939e-01, -5.31567212e-01,\n",
       "         1.74101659e-02, -1.82624479e-02, -5.34948497e-01, -6.88033082e-01,\n",
       "        -3.73636004e-01,  1.04064092e+00,  1.18226498e+00,  7.39532506e-01,\n",
       "        -1.48140705e-01, -5.84759712e-01, -4.74641222e-01,  1.07136131e+00,\n",
       "        -2.03894247e-01,  7.76424532e-01,  7.92298089e-01,  1.00849331e+00,\n",
       "         3.25825079e-03, -7.82830038e-01, -2.68201889e-02, -1.39118896e+00,\n",
       "         1.88420945e-01,  2.52217862e-01, -2.00047898e-01, -2.65512019e-01,\n",
       "        -4.25473873e-01, -1.77895239e-01, -7.17459797e-01, -7.14480879e-02,\n",
       "        -4.00668435e-01,  6.07874735e-02,  1.65899355e-01, -7.48821570e-01,\n",
       "         3.63199044e-01,  3.72282882e-01, -1.15564359e+00, -2.14150348e-01,\n",
       "        -4.90373357e-01,  4.27562141e-01, -2.53525632e-01, -4.31219207e-01,\n",
       "        -6.35937793e-01,  9.13464457e-02,  4.66166169e-01,  1.35308797e-01,\n",
       "         6.45629220e-01,  8.85423180e-02,  5.24924595e-02, -5.21427498e-02,\n",
       "         1.18360581e-01,  9.18332668e-01, -6.66333014e-01, -6.74355374e-01,\n",
       "        -6.01944010e-01, -8.85169518e-02, -4.21398344e-01,  6.16737155e-01,\n",
       "         7.21334241e-01,  6.88990981e-01,  2.31372319e-01, -2.36753983e-01,\n",
       "        -9.63447257e-01, -3.27078084e-01, -9.37487145e-02, -1.51672548e+00,\n",
       "         1.05127832e-01, -9.83889429e-01,  5.29256725e-01,  1.21327587e+00,\n",
       "         3.90553918e-02, -9.42993641e-01,  6.84637066e-01, -6.76488517e-01,\n",
       "        -9.50220254e-01, -9.56427938e-01, -6.17903819e-01, -1.28951230e+00,\n",
       "         6.20072510e-01,  1.82459380e-01, -4.42614433e-02,  1.01919374e+00,\n",
       "         1.09536514e+00,  1.11189693e+00, -6.01565232e-01,  8.21904644e-01,\n",
       "        -5.90489714e-01, -1.69610014e-01, -7.30000679e-02,  8.24857824e-01,\n",
       "         3.07108931e-01, -5.53198225e-01, -8.76447117e-03,  9.08149111e-01,\n",
       "        -9.46823282e-01, -6.48132811e-01, -4.01107476e-01, -9.61975322e-02,\n",
       "         1.29179191e+00,  1.39611916e+00, -2.83313670e-01,  6.10959528e-01,\n",
       "         7.75125853e-04, -6.09842934e-01,  5.10860262e-01, -6.71177842e-01,\n",
       "        -4.84212579e-02,  5.21367150e-01,  1.14404882e-01,  9.16083641e-01,\n",
       "         9.19317069e-01, -1.36510140e+00, -1.06303403e+00,  4.13542525e-01,\n",
       "        -2.82244104e-01, -1.03753093e+00, -3.78087590e-01,  4.70094143e-01,\n",
       "         4.81443034e-01, -5.15859810e-01,  8.22864753e-01, -2.95152608e-01,\n",
       "         3.02045488e-02, -1.19418506e-01,  4.59781097e-02,  1.94670480e-01,\n",
       "         6.34357435e-01, -1.99609977e+00, -2.85608957e-01, -1.22978104e-01,\n",
       "        -4.52983712e-01, -3.50043873e-01, -9.76321034e-01,  5.77766099e-01,\n",
       "        -6.56239138e-01,  5.90425625e-01, -5.91061574e-01,  9.92808887e-01,\n",
       "        -2.17886361e-02,  3.24452916e-01, -9.59827433e-02, -1.57877156e+00,\n",
       "         4.70866354e-01,  7.43772146e-01, -6.68240543e-01, -1.34856479e-01,\n",
       "         8.74758219e-01, -4.21411585e-01, -7.38273522e-01, -1.64688626e-01,\n",
       "         1.25971142e-01,  7.73398418e-01,  3.14950753e-01, -2.80656107e-01,\n",
       "         3.67459169e-03,  7.30032331e-01,  5.88975316e-01, -7.16541071e-01,\n",
       "        -5.65754910e-02,  4.37232420e-01,  5.67062757e-01,  8.86178906e-01,\n",
       "        -6.77743815e-01, -1.46326604e+00, -1.16420515e+00, -2.85317468e-01,\n",
       "         5.14106540e-01, -1.90586131e-01, -3.60367650e-01, -6.89604984e-01,\n",
       "        -1.35480770e-01, -3.16999584e-01,  3.29331431e-01,  1.05684459e+00,\n",
       "        -7.73774028e-01, -3.72524748e-01,  7.96737404e-01, -1.01941324e+00,\n",
       "        -1.63098893e-02, -9.29368421e-01, -1.72914608e-01,  2.29697043e-01,\n",
       "        -2.08629675e-01,  4.00393409e-01, -2.46771940e-01,  4.75693837e-02,\n",
       "        -4.00821395e-01,  4.82036052e-01,  2.41730806e-01, -1.24139319e+00,\n",
       "         3.01945610e-01,  4.91303656e-01, -1.75237201e-01, -9.89260627e-01,\n",
       "        -5.60758781e-01, -1.52601433e-04, -1.14187577e-01, -4.93473788e-01,\n",
       "         5.01359124e-01,  2.69964470e-01,  6.20067536e-01, -5.48219600e-01,\n",
       "        -3.17566001e-01,  4.36975307e-02,  1.33347227e+00, -3.42183866e-01,\n",
       "         8.22025723e-01,  9.46127478e-01, -5.59376009e-02,  5.61197555e-01,\n",
       "        -4.69404793e-01,  3.76612683e-01,  4.17072454e-01,  3.30595822e-01,\n",
       "        -1.64008328e-01, -6.71790483e-02,  3.53454100e-01, -7.81973484e-01,\n",
       "         4.73237991e-01,  4.99481230e-01,  8.68725281e-01,  8.25411335e-01,\n",
       "        -3.63934098e-01, -3.25614896e-02,  6.74221525e-01,  2.64841606e-01,\n",
       "         1.99016228e+00, -1.89758054e-01, -1.41240662e-01,  1.85580351e-01,\n",
       "        -9.16613770e-01, -4.45993216e-01, -1.09140532e+00,  1.14918020e+00,\n",
       "        -1.09260333e+00,  6.79603869e-01,  2.21717418e-01, -4.60443478e-02,\n",
       "         1.22990028e-01,  2.37491367e-01,  4.05027421e-01, -7.40919806e-01,\n",
       "         2.76521339e-01,  1.76125165e+00, -4.74944904e-01, -1.73676142e-01,\n",
       "        -1.06003456e+00,  1.13385011e-01, -1.43062409e+00, -1.04065840e+00,\n",
       "         1.07242197e+00,  1.16365992e-02,  1.01293412e+00, -1.17748558e-03,\n",
       "        -3.93850216e-01,  2.02277705e-01, -6.74391271e-02,  8.87088408e-02,\n",
       "        -1.09307527e+00,  6.99832729e-01, -7.84236515e-01, -3.00722949e-02,\n",
       "        -2.68476663e-02,  5.13458041e-01, -1.46084416e-02, -1.30881277e-01,\n",
       "        -2.95688405e-01,  9.34132529e-01, -3.05079315e-01, -7.94924029e-01,\n",
       "         3.08441160e-01, -6.97486935e-02,  7.64650785e-01, -4.62829385e-01,\n",
       "         8.69359168e-01, -7.78180031e-01,  4.64950550e-01,  6.29646196e-01,\n",
       "        -3.83749961e-01,  2.73938581e-01, -6.09341037e-01, -6.37990894e-01,\n",
       "        -3.54875045e-01,  3.48716212e-01,  1.31700141e-01, -1.37949714e-01,\n",
       "         7.95340803e-01,  1.14348948e+00,  2.68016708e-01, -4.86234600e-01,\n",
       "         7.10932089e-01,  2.51281695e-01, -1.26975993e-01, -8.06399609e-01,\n",
       "         2.49632371e-02, -7.37003027e-01, -1.89366605e-01,  5.24597818e-01,\n",
       "        -6.85020511e-01, -1.20548884e+00, -1.05244512e+00, -1.08103244e+00,\n",
       "        -9.29181773e-03, -9.50625980e-01,  2.39996069e-01, -2.90210612e-01,\n",
       "         1.20598679e+00,  3.28392820e-01,  1.20517999e+00,  5.43719785e-02]),\n",
       " -0.7055209826139105)"
      ]
     },
     "execution_count": 25,
     "metadata": {},
     "output_type": "execute_result"
    }
   ],
   "source": [
    "clf.coef_, clf.intercept_"
   ]
  },
  {
   "cell_type": "code",
   "execution_count": null,
   "metadata": {},
   "outputs": [],
   "source": []
  }
 ],
 "metadata": {
  "kernelspec": {
   "display_name": "Python 3",
   "language": "python",
   "name": "python3"
  },
  "language_info": {
   "codemirror_mode": {
    "name": "ipython",
    "version": 3
   },
   "file_extension": ".py",
   "mimetype": "text/x-python",
   "name": "python",
   "nbconvert_exporter": "python",
   "pygments_lexer": "ipython3",
   "version": "3.7.3"
  }
 },
 "nbformat": 4,
 "nbformat_minor": 2
}
