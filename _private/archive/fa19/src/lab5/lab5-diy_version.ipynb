{
 "cells": [
  {
   "cell_type": "markdown",
   "metadata": {},
   "source": [
    "# Lab 5: Feature Engineering and Model Selection"
   ]
  },
  {
   "cell_type": "code",
   "execution_count": 1,
   "metadata": {},
   "outputs": [],
   "source": [
    "# Imports\n",
    "import numpy as np\n",
    "import pandas as pd\n",
    "import matplotlib.pyplot as plt\n",
    "import seaborn as sns\n",
    "from sklearn.neighbors import KNeighborsRegressor\n",
    "from sklearn.linear_model import LinearRegression\n",
    "from sklearn import metrics\n",
    "%matplotlib inline\n",
    "\n",
    "# Set some display settings.\n",
    "sns.set(context='notebook')"
   ]
  },
  {
   "cell_type": "markdown",
   "metadata": {},
   "source": [
    "# Defining a \"plot\" dataset\n",
    "\n",
    "We're going to be fitting models to 1-D data, so we'll be able to plot it. It will be convenient to have a \"plot\" dataset that we can ask our models to predict on that's in exactly the same form as our actual data.\n",
    "\n",
    "Notice that it only has an \"x\"."
   ]
  },
  {
   "cell_type": "code",
   "execution_count": 2,
   "metadata": {},
   "outputs": [],
   "source": [
    "plot_dataset = pd.DataFrame({\"x\": np.linspace(0.0, 1.0, 500)})"
   ]
  },
  {
   "cell_type": "markdown",
   "metadata": {},
   "source": [
    "# Make the data\n",
    "(This will get moved to the end.)"
   ]
  },
  {
   "cell_type": "code",
   "execution_count": 3,
   "metadata": {},
   "outputs": [],
   "source": [
    "data = pd.DataFrame({\"x\": np.linspace(0., 1., 200)})\n",
    "#data['y'] = .75 - abs(2 * (data['x'] - .75)) + .15 * np.random.RandomState(0).standard_normal(len(data.x))\n",
    "data['y'] = .5 + 1. * np.sin(3 * data['x']) + .25 * np.random.RandomState(0).standard_normal(len(data.x))\n",
    "data = data.sample(frac=1., random_state=0)\n",
    "train = data.iloc[:50]\n",
    "test = data.iloc[50:]\n",
    "len(train), len(test)\n",
    "del data"
   ]
  },
  {
   "cell_type": "code",
   "execution_count": 4,
   "metadata": {},
   "outputs": [],
   "source": [
    "train.to_csv('data/train.csv', index=False)\n",
    "test.to_csv('data/test.csv', index=False)"
   ]
  },
  {
   "cell_type": "markdown",
   "metadata": {},
   "source": [
    "# Load and visualize our data"
   ]
  },
  {
   "cell_type": "markdown",
   "metadata": {},
   "source": [
    "Load up 'train.csv' (don't look at test.csv yet)."
   ]
  },
  {
   "cell_type": "code",
   "execution_count": 5,
   "metadata": {},
   "outputs": [
    {
     "name": "stdout",
     "output_type": "stream",
     "text": [
      "50 datapoints\n"
     ]
    },
    {
     "data": {
      "text/html": [
       "<div>\n",
       "<style scoped>\n",
       "    .dataframe tbody tr th:only-of-type {\n",
       "        vertical-align: middle;\n",
       "    }\n",
       "\n",
       "    .dataframe tbody tr th {\n",
       "        vertical-align: top;\n",
       "    }\n",
       "\n",
       "    .dataframe thead th {\n",
       "        text-align: right;\n",
       "    }\n",
       "</style>\n",
       "<table border=\"1\" class=\"dataframe\">\n",
       "  <thead>\n",
       "    <tr style=\"text-align: right;\">\n",
       "      <th></th>\n",
       "      <th>x</th>\n",
       "      <th>y</th>\n",
       "    </tr>\n",
       "  </thead>\n",
       "  <tbody>\n",
       "    <tr>\n",
       "      <th>0</th>\n",
       "      <td>0.090452</td>\n",
       "      <td>0.846306</td>\n",
       "    </tr>\n",
       "    <tr>\n",
       "      <th>1</th>\n",
       "      <td>0.854271</td>\n",
       "      <td>1.277217</td>\n",
       "    </tr>\n",
       "    <tr>\n",
       "      <th>2</th>\n",
       "      <td>0.537688</td>\n",
       "      <td>1.312243</td>\n",
       "    </tr>\n",
       "    <tr>\n",
       "      <th>3</th>\n",
       "      <td>0.492462</td>\n",
       "      <td>1.527369</td>\n",
       "    </tr>\n",
       "    <tr>\n",
       "      <th>4</th>\n",
       "      <td>0.889447</td>\n",
       "      <td>0.783395</td>\n",
       "    </tr>\n",
       "  </tbody>\n",
       "</table>\n",
       "</div>"
      ],
      "text/plain": [
       "          x         y\n",
       "0  0.090452  0.846306\n",
       "1  0.854271  1.277217\n",
       "2  0.537688  1.312243\n",
       "3  0.492462  1.527369\n",
       "4  0.889447  0.783395"
      ]
     },
     "execution_count": 5,
     "metadata": {},
     "output_type": "execute_result"
    }
   ],
   "source": [
    "train = pd.read_csv('data/train.csv')\n",
    "print(len(train), 'datapoints')\n",
    "train.head()"
   ]
  },
  {
   "cell_type": "code",
   "execution_count": 7,
   "metadata": {},
   "outputs": [
    {
     "data": {
      "text/plain": [
       "<matplotlib.collections.PathCollection at 0x1a1d98bb00>"
      ]
     },
     "execution_count": 7,
     "metadata": {},
     "output_type": "execute_result"
    },
    {
     "data": {
      "image/png": "[encoded data removed]",
      "text/plain": [
       "<Figure size 432x288 with 1 Axes>"
      ]
     },
     "metadata": {
      "needs_background": "light"
     },
     "output_type": "display_data"
    }
   ],
   "source": [
    "plt.scatter(train['x'], train['y'])"
   ]
  },
  {
   "cell_type": "markdown",
   "metadata": {},
   "source": [
    "It looks like it's increasing for lower values of `x`, then decreasing for higher values of `x`."
   ]
  },
  {
   "cell_type": "markdown",
   "metadata": {},
   "source": [
    "# Simple linear fit"
   ]
  },
  {
   "cell_type": "code",
   "execution_count": 8,
   "metadata": {},
   "outputs": [],
   "source": [
    "def transform(data):\n",
    "    X = data[['x']]\n",
    "    return X\n",
    "\n",
    "train_X = transform(train)\n",
    "train_y = train.y"
   ]
  },
  {
   "cell_type": "code",
   "execution_count": 9,
   "metadata": {},
   "outputs": [],
   "source": [
    "linreg = LinearRegression().fit(train_X, train_y)"
   ]
  },
  {
   "cell_type": "code",
   "execution_count": 11,
   "metadata": {},
   "outputs": [
    {
     "name": "stdout",
     "output_type": "stream",
     "text": [
      "Training R^2 0.0405868946813569\n"
     ]
    },
    {
     "data": {
      "image/png": "[encoded data removed]",
      "text/plain": [
       "<Figure size 432x288 with 1 Axes>"
      ]
     },
     "metadata": {
      "needs_background": "light"
     },
     "output_type": "display_data"
    }
   ],
   "source": [
    "plt.scatter(train.x, train.y, color=\"red\")\n",
    "plt.plot(plot_dataset.x, linreg.predict(transform(plot_dataset)))\n",
    "print(\"Training R^2\", metrics.r2_score(train_y, linreg.predict(train_X)))"
   ]
  },
  {
   "cell_type": "markdown",
   "metadata": {},
   "source": [
    "# Add a polynomial feature"
   ]
  },
  {
   "cell_type": "code",
   "execution_count": 22,
   "metadata": {},
   "outputs": [
    {
     "data": {
      "text/plain": [
       "(50, 2)"
      ]
     },
     "execution_count": 22,
     "metadata": {},
     "output_type": "execute_result"
    }
   ],
   "source": [
    "def transform(data):\n",
    "    x = data['x'].values\n",
    "    predictors = [\n",
    "        x,\n",
    "        x ** 2\n",
    "    ]\n",
    "    return np.stack(predictors, axis=1)\n",
    "\n",
    "train_X = transform(train)\n",
    "train_y = train.y\n",
    "train_X.shape"
   ]
  },
  {
   "cell_type": "code",
   "execution_count": 23,
   "metadata": {},
   "outputs": [],
   "source": [
    "linreg = LinearRegression().fit(train_X, train_y)"
   ]
  },
  {
   "cell_type": "code",
   "execution_count": 24,
   "metadata": {},
   "outputs": [
    {
     "name": "stdout",
     "output_type": "stream",
     "text": [
      "Training R^2 0.5343181760700715\n"
     ]
    },
    {
     "data": {
      "image/png": "[encoded data removed]",
      "text/plain": [
       "<Figure size 432x288 with 1 Axes>"
      ]
     },
     "metadata": {
      "needs_background": "light"
     },
     "output_type": "display_data"
    }
   ],
   "source": [
    "plt.scatter(train.x, train.y, color=\"red\")\n",
    "plt.plot(plot_dataset.x, linreg.predict(transform(plot_dataset)))\n",
    "print(\"Training R^2\", metrics.r2_score(train_y, linreg.predict(train_X)))"
   ]
  },
  {
   "cell_type": "markdown",
   "metadata": {},
   "source": [
    "# Try improving that fit even more\n",
    "\n",
    "Things you might try adding:\n",
    "\n",
    "* higher-degree polynomial terms ($x^3$, etc.)\n",
    "* ReLUs (`np.maximum(0, x - .5)`, etc.)\n",
    "* Periodic functions ($\\sin(x)$, $\\sin(5x)$, $\\cos(5x)$, etc.)\n",
    "* $\\log(x+.1)$, $\\exp$, ...\n",
    "\n",
    "See if you can get the R^2 to be above 0.8."
   ]
  },
  {
   "cell_type": "code",
   "execution_count": 69,
   "metadata": {},
   "outputs": [
    {
     "name": "stdout",
     "output_type": "stream",
     "text": [
      "Training R^2 0.8044771490510917\n"
     ]
    },
    {
     "data": {
      "image/png": "[encoded data removed]",
      "text/plain": [
       "<Figure size 432x288 with 1 Axes>"
      ]
     },
     "metadata": {
      "needs_background": "light"
     },
     "output_type": "display_data"
    }
   ],
   "source": [
    "def transform(data):\n",
    "    x = data['x'].values\n",
    "    predictors = [\n",
    "        x,\n",
    "        x ** 2,\n",
    "#         np.maximum(0, x - .5),\n",
    "#         np.maximum(0, x - .25),\n",
    "#         np.maximum(0, x - .75),\n",
    "#         x ** 3,\n",
    "#         x ** 4,\n",
    "        np.sin(x),\n",
    "        np.cos(x),\n",
    "        np.sin(2*x),\n",
    "        np.cos(2*x),\n",
    "        np.sin(3*x),\n",
    "        np.cos(3*x),\n",
    "        np.sin(4*x),\n",
    "        np.cos(4*x),\n",
    "        np.sin(5*x),\n",
    "        np.cos(5*x),\n",
    "        np.sin(6*x),\n",
    "        np.cos(6*x),\n",
    "        np.sin(7*x),\n",
    "        np.cos(7*x),\n",
    "        np.sin(8*x),\n",
    "        np.cos(8*x),\n",
    "        np.sin(9*x),\n",
    "        np.cos(9*x),\n",
    "        np.sin(10*x),\n",
    "        np.cos(10*x),\n",
    "        #np.log(x + .1),\n",
    "#         np.exp(x),\n",
    "#         x ** 5,\n",
    "#         x ** 6,\n",
    "#         x ** 7,\n",
    "#         x ** 8,\n",
    "#         x ** 9,\n",
    "#         x ** 10\n",
    "    ]\n",
    "    return np.stack(predictors, axis=1)\n",
    "\n",
    "train_X = transform(train)\n",
    "train_y = train.y\n",
    "\n",
    "linreg = LinearRegression().fit(train_X, train_y)\n",
    "\n",
    "plt.scatter(train.x, train.y, color=\"red\")\n",
    "plt.plot(plot_dataset.x, linreg.predict(transform(plot_dataset)))\n",
    "plt.ylim([0, 3])\n",
    "print(\"Training R^2\", metrics.r2_score(train_y, linreg.predict(train_X)))"
   ]
  },
  {
   "cell_type": "code",
   "execution_count": 59,
   "metadata": {},
   "outputs": [
    {
     "data": {
      "text/plain": [
       "array([-7.68854190e+11, -9.32490151e+11,  1.30341532e+00, -3.38904601e+01,\n",
       "       -2.26949908e+01, -4.00887814e+10,  3.42146512e+10,  2.69282563e+11,\n",
       "       -1.37689032e+12, -1.02434914e+09,  3.38258427e+09,  5.01620325e+11,\n",
       "       -6.15141408e+09, -2.30772247e+09, -7.25753684e+07])"
      ]
     },
     "execution_count": 59,
     "metadata": {},
     "output_type": "execute_result"
    }
   ],
   "source": [
    "linreg.coef_"
   ]
  },
  {
   "cell_type": "markdown",
   "metadata": {},
   "source": [
    "# Generalization\n",
    "Ok, we got a model that worked great! Now let's test it on some data it hasn't seen before. Load the test data!"
   ]
  },
  {
   "cell_type": "code",
   "execution_count": 70,
   "metadata": {},
   "outputs": [],
   "source": [
    "test = pd.read_csv('data/test.csv')"
   ]
  },
  {
   "cell_type": "markdown",
   "metadata": {},
   "source": [
    "Now let's make that plot and R^2 like above, but with the test data instead of the training data.\n",
    "\n",
    "**Important**: *don't* re-fit the model here! Just use the `linreg` model from above."
   ]
  },
  {
   "cell_type": "code",
   "execution_count": 71,
   "metadata": {},
   "outputs": [
    {
     "name": "stdout",
     "output_type": "stream",
     "text": [
      "Test R^2: -2073.889849345129\n"
     ]
    },
    {
     "data": {
      "image/png": "[encoded data removed]",
      "text/plain": [
       "<Figure size 432x288 with 1 Axes>"
      ]
     },
     "metadata": {
      "needs_background": "light"
     },
     "output_type": "display_data"
    }
   ],
   "source": [
    "test_X = transform(test)\n",
    "test_y = test.y\n",
    "plt.scatter(train.x, train.y, color='grey')\n",
    "plt.scatter(test.x, test.y, color='red', marker='x')\n",
    "plt.plot(plot_dataset.x, linreg.predict(transform(plot_dataset)))\n",
    "plt.ylim([0.0, 2.5])\n",
    "print(\"Test R^2:\", metrics.r2_score(test_y, linreg.predict(test_X)))"
   ]
  },
  {
   "cell_type": "markdown",
   "metadata": {},
   "source": [
    "1. What do you notice? \n",
    "2. Why do you think that happened?"
   ]
  },
  {
   "cell_type": "markdown",
   "metadata": {},
   "source": []
  },
  {
   "cell_type": "markdown",
   "metadata": {},
   "source": [
    "# Varying num predictors"
   ]
  },
  {
   "cell_type": "code",
   "execution_count": 74,
   "metadata": {},
   "outputs": [],
   "source": [
    "train_r2s = []\n",
    "test_r2s = []\n",
    "num_predictors_vals = np.arange(1, train_X.shape[1])\n",
    "for num_predictors in num_predictors_vals:\n",
    "    linreg = LinearRegression().fit(train_X[:,:num_predictors], train_y)\n",
    "    train_r2s.append(metrics.r2_score(train_y, linreg.predict(train_X[:,:num_predictors])))\n",
    "\n",
    "    test_X = transform(test)\n",
    "    test_y = test.y\n",
    "    test_r2s.append(metrics.r2_score(test_y, linreg.predict(test_X[:,:num_predictors])))"
   ]
  },
  {
   "cell_type": "code",
   "execution_count": 77,
   "metadata": {},
   "outputs": [
    {
     "data": {
      "text/plain": [
       "(-0.1, 1)"
      ]
     },
     "execution_count": 77,
     "metadata": {},
     "output_type": "execute_result"
    },
    {
     "data": {
      "image/png": "[encoded data removed]",
      "text/plain": [
       "<Figure size 432x288 with 1 Axes>"
      ]
     },
     "metadata": {
      "needs_background": "light"
     },
     "output_type": "display_data"
    }
   ],
   "source": [
    "plt.plot(num_predictors_vals, train_r2s, marker='.', label=\"training set R^2\")\n",
    "plt.plot(num_predictors_vals, test_r2s, marker='x', label=\"test set R^2\")\n",
    "plt.legend()\n",
    "plt.ylim([-.1, 1])"
   ]
  },
  {
   "cell_type": "markdown",
   "metadata": {},
   "source": [
    "Below here, copy and paste the `transform` function, but change it to the one you would now use."
   ]
  },
  {
   "cell_type": "code",
   "execution_count": null,
   "metadata": {},
   "outputs": [],
   "source": []
  },
  {
   "cell_type": "markdown",
   "metadata": {},
   "source": [
    "Why did you include those predictors?"
   ]
  },
  {
   "cell_type": "code",
   "execution_count": null,
   "metadata": {},
   "outputs": [],
   "source": []
  },
  {
   "cell_type": "markdown",
   "metadata": {},
   "source": [
    "How could we have realized that we were going to do so badly on unseen data?"
   ]
  },
  {
   "cell_type": "code",
   "execution_count": null,
   "metadata": {},
   "outputs": [],
   "source": []
  }
 ],
 "metadata": {
  "kernelspec": {
   "display_name": "Python 3",
   "language": "python",
   "name": "python3"
  },
  "language_info": {
   "codemirror_mode": {
    "name": "ipython",
    "version": 3
   },
   "file_extension": ".py",
   "mimetype": "text/x-python",
   "name": "python",
   "nbconvert_exporter": "python",
   "pygments_lexer": "ipython3",
   "version": "3.7.3"
  }
 },
 "nbformat": 4,
 "nbformat_minor": 2
}
