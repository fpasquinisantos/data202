{
 "cells": [
  {
   "cell_type": "code",
   "execution_count": 11,
   "metadata": {},
   "outputs": [],
   "source": [
    "import pandas as pd"
   ]
  },
  {
   "cell_type": "code",
   "execution_count": 12,
   "metadata": {},
   "outputs": [],
   "source": [
    "students = pd.read_excel('202 Student Demographics.xlsx', sheet_name=\"Students\")\n",
    "months = pd.read_excel('202 Student Demographics.xlsx', sheet_name=\"Months\")"
   ]
  },
  {
   "cell_type": "code",
   "execution_count": 13,
   "metadata": {},
   "outputs": [
    {
     "data": {
      "text/html": [
       "<div>\n",
       "<style scoped>\n",
       "    .dataframe tbody tr th:only-of-type {\n",
       "        vertical-align: middle;\n",
       "    }\n",
       "\n",
       "    .dataframe tbody tr th {\n",
       "        vertical-align: top;\n",
       "    }\n",
       "\n",
       "    .dataframe thead th {\n",
       "        text-align: right;\n",
       "    }\n",
       "</style>\n",
       "<table border=\"1\" class=\"dataframe\">\n",
       "  <thead>\n",
       "    <tr style=\"text-align: right;\">\n",
       "      <th></th>\n",
       "      <th>Student Name</th>\n",
       "      <th>Birth month</th>\n",
       "      <th>Birth day</th>\n",
       "      <th>Height (inches)</th>\n",
       "      <th># semesters completed at Calvin</th>\n",
       "    </tr>\n",
       "  </thead>\n",
       "  <tbody>\n",
       "    <tr>\n",
       "      <th>0</th>\n",
       "      <td>Catherine DeJager</td>\n",
       "      <td>November</td>\n",
       "      <td>7</td>\n",
       "      <td>61.0</td>\n",
       "      <td>5</td>\n",
       "    </tr>\n",
       "    <tr>\n",
       "      <th>1</th>\n",
       "      <td>Olivia den Dulk</td>\n",
       "      <td>July</td>\n",
       "      <td>30</td>\n",
       "      <td>65.5</td>\n",
       "      <td>6</td>\n",
       "    </tr>\n",
       "    <tr>\n",
       "      <th>2</th>\n",
       "      <td>Nick Beery</td>\n",
       "      <td>February</td>\n",
       "      <td>25</td>\n",
       "      <td>72.0</td>\n",
       "      <td>2</td>\n",
       "    </tr>\n",
       "    <tr>\n",
       "      <th>3</th>\n",
       "      <td>Cliff Anderson</td>\n",
       "      <td>April</td>\n",
       "      <td>21</td>\n",
       "      <td>71.0</td>\n",
       "      <td>2</td>\n",
       "    </tr>\n",
       "  </tbody>\n",
       "</table>\n",
       "</div>"
      ],
      "text/plain": [
       "        Student Name Birth month  Birth day  Height (inches)  \\\n",
       "0  Catherine DeJager    November          7             61.0   \n",
       "1    Olivia den Dulk        July         30             65.5   \n",
       "2         Nick Beery    February         25             72.0   \n",
       "3     Cliff Anderson       April         21             71.0   \n",
       "\n",
       "   # semesters completed at Calvin  \n",
       "0                                5  \n",
       "1                                6  \n",
       "2                                2  \n",
       "3                                2  "
      ]
     },
     "execution_count": 13,
     "metadata": {},
     "output_type": "execute_result"
    }
   ],
   "source": [
    "students.head()"
   ]
  },
  {
   "cell_type": "code",
   "execution_count": 14,
   "metadata": {},
   "outputs": [
    {
     "data": {
      "text/html": [
       "<div>\n",
       "<style scoped>\n",
       "    .dataframe tbody tr th:only-of-type {\n",
       "        vertical-align: middle;\n",
       "    }\n",
       "\n",
       "    .dataframe tbody tr th {\n",
       "        vertical-align: top;\n",
       "    }\n",
       "\n",
       "    .dataframe thead th {\n",
       "        text-align: right;\n",
       "    }\n",
       "</style>\n",
       "<table border=\"1\" class=\"dataframe\">\n",
       "  <thead>\n",
       "    <tr style=\"text-align: right;\">\n",
       "      <th></th>\n",
       "      <th>Month Name</th>\n",
       "      <th>Number</th>\n",
       "    </tr>\n",
       "  </thead>\n",
       "  <tbody>\n",
       "    <tr>\n",
       "      <th>0</th>\n",
       "      <td>January</td>\n",
       "      <td>1</td>\n",
       "    </tr>\n",
       "    <tr>\n",
       "      <th>1</th>\n",
       "      <td>February</td>\n",
       "      <td>2</td>\n",
       "    </tr>\n",
       "    <tr>\n",
       "      <th>2</th>\n",
       "      <td>March</td>\n",
       "      <td>3</td>\n",
       "    </tr>\n",
       "    <tr>\n",
       "      <th>3</th>\n",
       "      <td>April</td>\n",
       "      <td>4</td>\n",
       "    </tr>\n",
       "    <tr>\n",
       "      <th>4</th>\n",
       "      <td>May</td>\n",
       "      <td>5</td>\n",
       "    </tr>\n",
       "  </tbody>\n",
       "</table>\n",
       "</div>"
      ],
      "text/plain": [
       "  Month Name  Number\n",
       "0    January       1\n",
       "1   February       2\n",
       "2      March       3\n",
       "3      April       4\n",
       "4        May       5"
      ]
     },
     "execution_count": 14,
     "metadata": {},
     "output_type": "execute_result"
    }
   ],
   "source": [
    "months.head()"
   ]
  },
  {
   "cell_type": "markdown",
   "metadata": {},
   "source": [
    "# Look up month names (`join`)"
   ]
  },
  {
   "cell_type": "code",
   "execution_count": 40,
   "metadata": {},
   "outputs": [
    {
     "data": {
      "text/html": [
       "<div>\n",
       "<style scoped>\n",
       "    .dataframe tbody tr th:only-of-type {\n",
       "        vertical-align: middle;\n",
       "    }\n",
       "\n",
       "    .dataframe tbody tr th {\n",
       "        vertical-align: top;\n",
       "    }\n",
       "\n",
       "    .dataframe thead th {\n",
       "        text-align: right;\n",
       "    }\n",
       "</style>\n",
       "<table border=\"1\" class=\"dataframe\">\n",
       "  <thead>\n",
       "    <tr style=\"text-align: right;\">\n",
       "      <th></th>\n",
       "      <th>Student Name</th>\n",
       "      <th>Birth month</th>\n",
       "      <th>Birth day</th>\n",
       "      <th>Height (inches)</th>\n",
       "      <th># semesters completed at Calvin</th>\n",
       "      <th>Month Name</th>\n",
       "      <th>Number</th>\n",
       "    </tr>\n",
       "  </thead>\n",
       "  <tbody>\n",
       "    <tr>\n",
       "      <th>0</th>\n",
       "      <td>Catherine DeJager</td>\n",
       "      <td>November</td>\n",
       "      <td>7</td>\n",
       "      <td>61.0</td>\n",
       "      <td>5</td>\n",
       "      <td>November</td>\n",
       "      <td>11</td>\n",
       "    </tr>\n",
       "    <tr>\n",
       "      <th>1</th>\n",
       "      <td>Olivia den Dulk</td>\n",
       "      <td>July</td>\n",
       "      <td>30</td>\n",
       "      <td>65.5</td>\n",
       "      <td>6</td>\n",
       "      <td>July</td>\n",
       "      <td>7</td>\n",
       "    </tr>\n",
       "    <tr>\n",
       "      <th>2</th>\n",
       "      <td>Nick Beery</td>\n",
       "      <td>February</td>\n",
       "      <td>25</td>\n",
       "      <td>72.0</td>\n",
       "      <td>2</td>\n",
       "      <td>February</td>\n",
       "      <td>2</td>\n",
       "    </tr>\n",
       "    <tr>\n",
       "      <th>3</th>\n",
       "      <td>Cliff Anderson</td>\n",
       "      <td>April</td>\n",
       "      <td>21</td>\n",
       "      <td>71.0</td>\n",
       "      <td>2</td>\n",
       "      <td>April</td>\n",
       "      <td>4</td>\n",
       "    </tr>\n",
       "  </tbody>\n",
       "</table>\n",
       "</div>"
      ],
      "text/plain": [
       "        Student Name Birth month  Birth day  Height (inches)  \\\n",
       "0  Catherine DeJager    November          7             61.0   \n",
       "1    Olivia den Dulk        July         30             65.5   \n",
       "2         Nick Beery    February         25             72.0   \n",
       "3     Cliff Anderson       April         21             71.0   \n",
       "\n",
       "   # semesters completed at Calvin Month Name  Number  \n",
       "0                                5   November      11  \n",
       "1                                6       July       7  \n",
       "2                                2   February       2  \n",
       "3                                2      April       4  "
      ]
     },
     "execution_count": 40,
     "metadata": {},
     "output_type": "execute_result"
    }
   ],
   "source": [
    "students_months = pd.merge(students, months, left_on=\"Birth month\", right_on=\"Month Name\", how=\"left\")\n",
    "students_months.head()"
   ]
  },
  {
   "cell_type": "code",
   "execution_count": 39,
   "metadata": {},
   "outputs": [
    {
     "data": {
      "text/html": [
       "<div>\n",
       "<style scoped>\n",
       "    .dataframe tbody tr th:only-of-type {\n",
       "        vertical-align: middle;\n",
       "    }\n",
       "\n",
       "    .dataframe tbody tr th {\n",
       "        vertical-align: top;\n",
       "    }\n",
       "\n",
       "    .dataframe thead th {\n",
       "        text-align: right;\n",
       "    }\n",
       "</style>\n",
       "<table border=\"1\" class=\"dataframe\">\n",
       "  <thead>\n",
       "    <tr style=\"text-align: right;\">\n",
       "      <th></th>\n",
       "      <th>Student Name</th>\n",
       "      <th>Birth month</th>\n",
       "      <th>Birth day</th>\n",
       "      <th>height_inches</th>\n",
       "      <th>n_semesters</th>\n",
       "      <th>Month Name</th>\n",
       "      <th>Month</th>\n",
       "    </tr>\n",
       "  </thead>\n",
       "  <tbody>\n",
       "    <tr>\n",
       "      <th>0</th>\n",
       "      <td>Catherine DeJager</td>\n",
       "      <td>November</td>\n",
       "      <td>7</td>\n",
       "      <td>61.0</td>\n",
       "      <td>5</td>\n",
       "      <td>November</td>\n",
       "      <td>11</td>\n",
       "    </tr>\n",
       "    <tr>\n",
       "      <th>1</th>\n",
       "      <td>Olivia den Dulk</td>\n",
       "      <td>July</td>\n",
       "      <td>30</td>\n",
       "      <td>65.5</td>\n",
       "      <td>6</td>\n",
       "      <td>July</td>\n",
       "      <td>7</td>\n",
       "    </tr>\n",
       "    <tr>\n",
       "      <th>2</th>\n",
       "      <td>Nick Beery</td>\n",
       "      <td>February</td>\n",
       "      <td>25</td>\n",
       "      <td>72.0</td>\n",
       "      <td>2</td>\n",
       "      <td>February</td>\n",
       "      <td>2</td>\n",
       "    </tr>\n",
       "    <tr>\n",
       "      <th>3</th>\n",
       "      <td>Cliff Anderson</td>\n",
       "      <td>April</td>\n",
       "      <td>21</td>\n",
       "      <td>71.0</td>\n",
       "      <td>2</td>\n",
       "      <td>April</td>\n",
       "      <td>4</td>\n",
       "    </tr>\n",
       "  </tbody>\n",
       "</table>\n",
       "</div>"
      ],
      "text/plain": [
       "        Student Name Birth month  Birth day  height_inches  n_semesters  \\\n",
       "0  Catherine DeJager    November          7           61.0            5   \n",
       "1    Olivia den Dulk        July         30           65.5            6   \n",
       "2         Nick Beery    February         25           72.0            2   \n",
       "3     Cliff Anderson       April         21           71.0            2   \n",
       "\n",
       "  Month Name  Month  \n",
       "0   November     11  \n",
       "1       July      7  \n",
       "2   February      2  \n",
       "3      April      4  "
      ]
     },
     "execution_count": 39,
     "metadata": {},
     "output_type": "execute_result"
    }
   ],
   "source": [
    "renamed = students_months.rename(columns={\n",
    "    \"Number\": \"Month\",\n",
    "    \"# semesters completed at Calvin\": \"n_semesters\",\n",
    "    \"Height (inches)\": \"height_inches\"\n",
    "})\n",
    "renamed"
   ]
  },
  {
   "cell_type": "markdown",
   "metadata": {},
   "source": [
    "# Query by birth month (`query`)"
   ]
  },
  {
   "cell_type": "code",
   "execution_count": 46,
   "metadata": {},
   "outputs": [
    {
     "data": {
      "text/html": [
       "<div>\n",
       "<style scoped>\n",
       "    .dataframe tbody tr th:only-of-type {\n",
       "        vertical-align: middle;\n",
       "    }\n",
       "\n",
       "    .dataframe tbody tr th {\n",
       "        vertical-align: top;\n",
       "    }\n",
       "\n",
       "    .dataframe thead th {\n",
       "        text-align: right;\n",
       "    }\n",
       "</style>\n",
       "<table border=\"1\" class=\"dataframe\">\n",
       "  <thead>\n",
       "    <tr style=\"text-align: right;\">\n",
       "      <th></th>\n",
       "      <th>Student Name</th>\n",
       "      <th>Birth month</th>\n",
       "      <th>Birth day</th>\n",
       "      <th>height_inches</th>\n",
       "      <th>n_semesters</th>\n",
       "      <th>Month Name</th>\n",
       "      <th>Month</th>\n",
       "    </tr>\n",
       "  </thead>\n",
       "  <tbody>\n",
       "    <tr>\n",
       "      <th>1</th>\n",
       "      <td>Olivia den Dulk</td>\n",
       "      <td>July</td>\n",
       "      <td>30</td>\n",
       "      <td>65.5</td>\n",
       "      <td>6</td>\n",
       "      <td>July</td>\n",
       "      <td>7</td>\n",
       "    </tr>\n",
       "    <tr>\n",
       "      <th>2</th>\n",
       "      <td>Nick Beery</td>\n",
       "      <td>February</td>\n",
       "      <td>25</td>\n",
       "      <td>72.0</td>\n",
       "      <td>2</td>\n",
       "      <td>February</td>\n",
       "      <td>2</td>\n",
       "    </tr>\n",
       "    <tr>\n",
       "      <th>3</th>\n",
       "      <td>Cliff Anderson</td>\n",
       "      <td>April</td>\n",
       "      <td>21</td>\n",
       "      <td>71.0</td>\n",
       "      <td>2</td>\n",
       "      <td>April</td>\n",
       "      <td>4</td>\n",
       "    </tr>\n",
       "  </tbody>\n",
       "</table>\n",
       "</div>"
      ],
      "text/plain": [
       "      Student Name Birth month  Birth day  height_inches  n_semesters  \\\n",
       "1  Olivia den Dulk        July         30           65.5            6   \n",
       "2       Nick Beery    February         25           72.0            2   \n",
       "3   Cliff Anderson       April         21           71.0            2   \n",
       "\n",
       "  Month Name  Month  \n",
       "1       July      7  \n",
       "2   February      2  \n",
       "3      April      4  "
      ]
     },
     "execution_count": 46,
     "metadata": {},
     "output_type": "execute_result"
    }
   ],
   "source": [
    "before_september = renamed.query('Month < 9')\n",
    "before_september"
   ]
  },
  {
   "cell_type": "code",
   "execution_count": 47,
   "metadata": {},
   "outputs": [
    {
     "data": {
      "text/html": [
       "<div>\n",
       "<style scoped>\n",
       "    .dataframe tbody tr th:only-of-type {\n",
       "        vertical-align: middle;\n",
       "    }\n",
       "\n",
       "    .dataframe tbody tr th {\n",
       "        vertical-align: top;\n",
       "    }\n",
       "\n",
       "    .dataframe thead th {\n",
       "        text-align: right;\n",
       "    }\n",
       "</style>\n",
       "<table border=\"1\" class=\"dataframe\">\n",
       "  <thead>\n",
       "    <tr style=\"text-align: right;\">\n",
       "      <th></th>\n",
       "      <th>Student Name</th>\n",
       "      <th>Birth month</th>\n",
       "      <th>Birth day</th>\n",
       "      <th>height_inches</th>\n",
       "      <th>n_semesters</th>\n",
       "      <th>Month Name</th>\n",
       "      <th>Month</th>\n",
       "    </tr>\n",
       "  </thead>\n",
       "  <tbody>\n",
       "    <tr>\n",
       "      <th>1</th>\n",
       "      <td>Olivia den Dulk</td>\n",
       "      <td>July</td>\n",
       "      <td>30</td>\n",
       "      <td>65.5</td>\n",
       "      <td>6</td>\n",
       "      <td>July</td>\n",
       "      <td>7</td>\n",
       "    </tr>\n",
       "    <tr>\n",
       "      <th>2</th>\n",
       "      <td>Nick Beery</td>\n",
       "      <td>February</td>\n",
       "      <td>25</td>\n",
       "      <td>72.0</td>\n",
       "      <td>2</td>\n",
       "      <td>February</td>\n",
       "      <td>2</td>\n",
       "    </tr>\n",
       "    <tr>\n",
       "      <th>3</th>\n",
       "      <td>Cliff Anderson</td>\n",
       "      <td>April</td>\n",
       "      <td>21</td>\n",
       "      <td>71.0</td>\n",
       "      <td>2</td>\n",
       "      <td>April</td>\n",
       "      <td>4</td>\n",
       "    </tr>\n",
       "  </tbody>\n",
       "</table>\n",
       "</div>"
      ],
      "text/plain": [
       "      Student Name Birth month  Birth day  height_inches  n_semesters  \\\n",
       "1  Olivia den Dulk        July         30           65.5            6   \n",
       "2       Nick Beery    February         25           72.0            2   \n",
       "3   Cliff Anderson       April         21           71.0            2   \n",
       "\n",
       "  Month Name  Month  \n",
       "1       July      7  \n",
       "2   February      2  \n",
       "3      April      4  "
      ]
     },
     "execution_count": 47,
     "metadata": {},
     "output_type": "execute_result"
    }
   ],
   "source": [
    "renamed[renamed.Month < 9]"
   ]
  },
  {
   "cell_type": "markdown",
   "metadata": {},
   "source": [
    "# Summarize by group (`aggregate`)"
   ]
  },
  {
   "cell_type": "code",
   "execution_count": 41,
   "metadata": {},
   "outputs": [
    {
     "data": {
      "text/plain": [
       "n_semesters\n",
       "2    2\n",
       "5    1\n",
       "6    1\n",
       "dtype: int64"
      ]
     },
     "execution_count": 41,
     "metadata": {},
     "output_type": "execute_result"
    }
   ],
   "source": [
    "renamed.groupby('n_semesters').size()"
   ]
  },
  {
   "cell_type": "code",
   "execution_count": 42,
   "metadata": {},
   "outputs": [
    {
     "data": {
      "text/plain": [
       "n_semesters\n",
       "2    2\n",
       "5    1\n",
       "6    1\n",
       "dtype: int64"
      ]
     },
     "execution_count": 42,
     "metadata": {},
     "output_type": "execute_result"
    }
   ],
   "source": [
    "renamed.groupby(renamed['n_semesters']).size()"
   ]
  },
  {
   "cell_type": "code",
   "execution_count": 43,
   "metadata": {},
   "outputs": [
    {
     "data": {
      "text/plain": [
       "n_semesters\n",
       "2     2\n",
       "5    11\n",
       "6     7\n",
       "Name: Month, dtype: int64"
      ]
     },
     "execution_count": 43,
     "metadata": {},
     "output_type": "execute_result"
    }
   ],
   "source": [
    "renamed['Month'].groupby(renamed['n_semesters']).min()"
   ]
  },
  {
   "cell_type": "code",
   "execution_count": 44,
   "metadata": {},
   "outputs": [
    {
     "data": {
      "text/plain": [
       "n_semesters\n",
       "2    71.5\n",
       "5    61.0\n",
       "6    65.5\n",
       "Name: height_inches, dtype: float64"
      ]
     },
     "execution_count": 44,
     "metadata": {},
     "output_type": "execute_result"
    }
   ],
   "source": [
    "renamed['height_inches'].groupby(renamed['n_semesters']).mean()"
   ]
  },
  {
   "cell_type": "markdown",
   "metadata": {},
   "source": [
    "# Dump to SQL"
   ]
  },
  {
   "cell_type": "code",
   "execution_count": 35,
   "metadata": {},
   "outputs": [],
   "source": [
    "students.to_sql('students', con=\"sqlite:///students.db\", if_exists='replace')\n",
    "months.to_sql('months', con=\"sqlite:///students.db\", if_exists='replace')"
   ]
  }
 ],
 "metadata": {
  "kernelspec": {
   "display_name": "Python 3",
   "language": "python",
   "name": "python3"
  },
  "language_info": {
   "codemirror_mode": {
    "name": "ipython",
    "version": 3
   },
   "file_extension": ".py",
   "mimetype": "text/x-python",
   "name": "python",
   "nbconvert_exporter": "python",
   "pygments_lexer": "ipython3",
   "version": "3.7.3"
  }
 },
 "nbformat": 4,
 "nbformat_minor": 2
}
