{
 "cells": [
  {
   "cell_type": "code",
   "execution_count": 1,
   "metadata": {},
   "outputs": [],
   "source": [
    "import nbformat\n",
    "\n",
    "import re"
   ]
  },
  {
   "cell_type": "code",
   "execution_count": 56,
   "metadata": {},
   "outputs": [],
   "source": [
    "def strip_code(source):\n",
    "    res = []\n",
    "    skip_until_indent_le = None\n",
    "    for line in source.splitlines():\n",
    "        cur_indent = len(line) - len(line.lstrip(' '))\n",
    "        if skip_until_indent_le is not None:\n",
    "            if len(line) == 0:\n",
    "                pass\n",
    "            elif cur_indent > skip_until_indent_le:\n",
    "                continue\n",
    "            else:\n",
    "                skip_until_indent_le = None\n",
    "        if 'REFERENCE(' in line:\n",
    "            print('<', line)\n",
    "            line = re.sub(r\"REFERENCE\\(.*, ['\\\"](.+)['\\\"]\\)\", \"\\\\1\", line)\n",
    "            print('>', line)\n",
    "        elif 'with REFBLOCK' in line:\n",
    "            skip_until_indent_le = cur_indent\n",
    "            continue\n",
    "        res.append(line)\n",
    "    return \"\\n\".join(res)\n"
   ]
  },
  {
   "cell_type": "code",
   "execution_count": 58,
   "metadata": {},
   "outputs": [],
   "source": [
    "nb = nbformat.read(\"credit_scoring_ref.ipynb\", as_version=nbformat.NO_CONVERT)"
   ]
  },
  {
   "cell_type": "code",
   "execution_count": 59,
   "metadata": {},
   "outputs": [
    {
     "name": "stdout",
     "output_type": "stream",
     "text": [
      "< def REFERENCE(solution, placeholder):\n",
      "> def REFERENCE(solution, placeholder):\n",
      "< predicted = (predicted_score > REFERENCE(1.753, \"0.\")).astype(int)\n",
      "> predicted = (predicted_score > 0.).astype(int)\n",
      "< false_positives = REFERENCE(np.sum((predicted == 1) & (y_true == 0)), \"...\")\n",
      "> false_positives = ...\n",
      "< false_negatives = REFERENCE(np.sum((predicted == 0) & (y_true == 1)), \"...\")\n",
      "> false_negatives = ...\n",
      "< cost_to_bank = REFERENCE(5 * false_positives + 1 * false_negatives, \"...\")\n",
      "> cost_to_bank = ...\n",
      "< threshold = REFERENCE(1.458961, \"...\")\n",
      "> threshold = ...\n",
      "< threshold = REFERENCE(1.458961, \"...\")\n",
      "> threshold = ...\n",
      "< positive_rate_young = REFERENCE(np.sum((predicted == 1) & (age == '< 25')) / num_young, \"...\")\n",
      "> positive_rate_young = ...\n",
      "< positive_rate_old = REFERENCE(np.sum((predicted == 1) & (age == '>= 25')) / num_old, \"...\")\n",
      "> positive_rate_old = ...\n",
      "< true_positive_rate_young = REFERENCE(true_positives_young / num_young, \"...\")\n",
      "> true_positive_rate_young = ...\n",
      "< true_positive_rate_old = REFERENCE(true_positives_old / num_old, \"...\")\n",
      "> true_positive_rate_old = ...\n",
      "<             \"positive_rate\": REFERENCE(positives_age / num_of_this_age, '...'),\n",
      ">             \"positive_rate\": ...,\n",
      "<             \"true_positive_rate\": REFERENCE(true_positives_age / num_of_this_age, '...')\n",
      ">             \"true_positive_rate\": ...\n",
      "< threshold_young = REFERENCE(1.0, \"...\")\n",
      "> threshold_young = ...\n",
      "< threshold_old = REFERENCE(2.0, \"...\")\n",
      "> threshold_old = ...\n",
      "< positive_rate_young = REFERENCE(np.sum((predicted == 1) & (age == '< 25')) / num_young, \"...\")\n",
      "> positive_rate_young = ...\n",
      "< positive_rate_old = REFERENCE(np.sum((predicted == 1) & (age == '>= 25')) / num_old, \"...\")\n",
      "> positive_rate_old = ...\n",
      "< true_positive_rate_young = REFERENCE(true_positives_young / num_young, \"...\")\n",
      "> true_positive_rate_young = ...\n",
      "< true_positive_rate_old = REFERENCE(true_positives_old / num_old, \"...\")\n",
      "> true_positive_rate_old = ...\n"
     ]
    }
   ],
   "source": [
    "for cell in nb['cells']:\n",
    "    if cell['cell_type'] != 'code':\n",
    "        continue\n",
    "    cell.source = strip_code(cell.source)\n",
    "    #print(strip_code(cell.source))"
   ]
  },
  {
   "cell_type": "code",
   "execution_count": 60,
   "metadata": {},
   "outputs": [],
   "source": [
    "nbformat.write(nb, \"hw7_students.ipynb\")"
   ]
  },
  {
   "cell_type": "code",
   "execution_count": null,
   "metadata": {},
   "outputs": [],
   "source": []
  }
 ],
 "metadata": {
  "kernelspec": {
   "display_name": "Python 3",
   "language": "python",
   "name": "python3"
  },
  "language_info": {
   "codemirror_mode": {
    "name": "ipython",
    "version": 3
   },
   "file_extension": ".py",
   "mimetype": "text/x-python",
   "name": "python",
   "nbconvert_exporter": "python",
   "pygments_lexer": "ipython3",
   "version": "3.7.3"
  }
 },
 "nbformat": 4,
 "nbformat_minor": 2
}
