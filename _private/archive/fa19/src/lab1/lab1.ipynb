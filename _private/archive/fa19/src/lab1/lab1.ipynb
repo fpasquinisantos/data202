{
  "cells": [
    {
      "cell_type": "markdown",
      "metadata": {},
      "source": [
        "# DATA 202 @ Calvin U\n",
        "## Lab 1: First Steps with Jupyter Notebooks and Pandas\n",
        "Adapted with permission from materials from Harvard CS109A, Berkeley DS100, and from \"Introduction to Data Analysis with Python\" by Ofra Amir at the Technion"
      ]
    },
    {
      "cell_type": "markdown",
      "metadata": {},
      "source": [
        "## Objectives\n",
        "\n",
        "In this lab, we will:\n",
        "\n",
        "* Get familiar with Jupyter Notebooks (like this one!)\n",
        "* Review a bit of Python\n",
        "* Practice with Pandas"
      ]
    },
    {
      "cell_type": "markdown",
      "metadata": {},
      "source": [
        "### Collaboration Policy\n",
        "\n",
        "Data science is a collaborative activity. While you may talk with others about the labs, we ask that you **write your solutions individually**. If you do discuss the assignments with others please **include their names** below. (That's a good way to learn your classmates' names.)"
      ]
    },
    {
      "cell_type": "markdown",
      "metadata": {},
      "source": [
        "**Collaborators**: *list collaborators here*"
      ]
    },
    {
      "cell_type": "markdown",
      "metadata": {},
      "source": [
        "## Documentation\n",
        "\n",
        "- **General**: Look under the Help menu for quick links to reference quides\n",
        "- **Jupyter Notebooks**: skim [this tutorial](http://nbviewer.jupyter.org/github/jupyter/notebook/blob/master/docs/source/examples/Notebook/Notebook%20Basics.ipynb)\n",
        "- **Python** [documentation](https://docs.python.org/3/)\n",
        "- **Pandas** Cheatsheets: [1](https://pandas.pydata.org/Pandas_Cheat_Sheet.pdf) and [2](https://www.datacamp.com/community/blog/python-pandas-cheat-sheet)"
      ]
    },
    {
      "cell_type": "markdown",
      "metadata": {
        "nbgrader": {
          "grade": false,
          "grade_id": "running-a-cell",
          "locked": true,
          "schema_version": 2,
          "solution": false
        }
      },
      "source": [
        "# Using Jupyter\n",
        "\n",
        "### Running Cells and Displaying Output\n",
        "\n",
        "Run the following cell."
      ]
    },
    {
      "cell_type": "code",
      "execution_count": 2,
      "metadata": {
        "ExecuteTime": {
          "end_time": "2019-01-18T23:27:51.557447Z",
          "start_time": "2019-01-18T23:27:51.552368Z"
        },
        "nbgrader": {
          "grade": false,
          "grade_id": "hello-world",
          "locked": true,
          "schema_version": 2,
          "solution": false
        }
      },
      "outputs": [],
      "source": [
        "print(\"Hello World!\")"
      ]
    },
    {
      "cell_type": "markdown",
      "metadata": {},
      "source": [
        "In Jupyter notebooks, all print statements are displayed below the cell. Furthermore, the output of the last line is displayed following the cell upon execution."
      ]
    },
    {
      "cell_type": "code",
      "execution_count": 3,
      "metadata": {
        "ExecuteTime": {
          "end_time": "2019-01-18T23:27:51.593806Z",
          "start_time": "2019-01-18T23:27:51.559501Z"
        }
      },
      "outputs": [],
      "source": [
        "\"Will this line be displayed?\"\n",
        "\n",
        "print(\"Hello\" + \",\", \"world!\")\n",
        "\n",
        "5 + 3"
      ]
    },
    {
      "cell_type": "markdown",
      "metadata": {},
      "source": [
        "### Viewing Documentation\n",
        "There are a few ways you can get to documentation:\n",
        "\n",
        "* Type a `?` after a function or method (e.g., `min?`) and run the cell\n",
        "* Use the `help` function (e.g., `help(min)`)\n",
        "* Press Shift-TAB several times when your cursor is over the function name. Each press (in quick sequence) will open a successively larger help window.\n",
        "* Open the documentation from the Help menu\n",
        "\n",
        "The object you're trying to get help about must already be defined in the kernel for this to work."
      ]
    },
    {
      "cell_type": "markdown",
      "metadata": {},
      "source": [
        "**Try two of these ways now.**"
      ]
    },
    {
      "cell_type": "markdown",
      "metadata": {},
      "source": [
        "### Importing Libraries"
      ]
    },
    {
      "cell_type": "markdown",
      "metadata": {},
      "source": [
        "In DATA 202, we will be using common Python libraries to help us process data. By convention, we import all libraries at the very top of the notebook. There are also a set of standard aliases that are used to shorten the library names. Below are some of the libraries that you may encounter throughout the course, along with their respective aliases. Run this cell now."
      ]
    },
    {
      "cell_type": "code",
      "execution_count": 4,
      "metadata": {
        "ExecuteTime": {
          "end_time": "2019-01-18T23:27:53.746048Z",
          "start_time": "2019-01-18T23:27:51.644613Z"
        }
      },
      "outputs": [],
      "source": [
        "import pandas as pd\n",
        "import numpy as np\n",
        "import matplotlib.pyplot as plt\n",
        "import seaborn as sns\n",
        "\n",
        "%matplotlib inline"
      ]
    },
    {
      "cell_type": "markdown",
      "metadata": {},
      "source": [
        "* Pandas is a \"Python Data Analysis Library\" (hence the name). We'll be using it extensively.\n",
        "* Numpy is the standard Python numerical computing library. It provides the underlying math operations for Pandas, and we'll very occasionally use it directly.\n",
        "* Matplotlib is the standard Python plotting library. We'll sometimes use it directly too.\n",
        "* Seaborn is a layer on top of matplotlib that makes it easy to produce nice-looking plots. It can't do everything, though.\n",
        "\n",
        "`%matplotlib inline` is a Jupyter \"magic command\" that configures the notebook so that Matplotlib displays any plots that you draw directly in the notebook (rather than to a separate window or a file), allowing you to view the plots upon executing your code. You don't need to know anything about how it works, but if your plots don't show up, make sure you didn't forget this line :)"
      ]
    },
    {
      "cell_type": "markdown",
      "metadata": {
        "nbgrader": {
          "grade": false,
          "grade_id": "shortcuts",
          "locked": true,
          "schema_version": 2,
          "solution": false
        }
      },
      "source": [
        "### Keyboard Shortcuts\n",
        "\n",
        "Even if you are familiar with Jupyter, we strongly encourage you to become proficient with keyboard shortcuts (this will save you time in the future). To learn about keyboard shortcuts, go to **Help --> Keyboard Shortcuts** in the menu above. \n",
        "\n",
        "Here are a few that we like:\n",
        "1. `Ctrl` + `Return` : *Evaluate the current cell*\n",
        "1. `Shift` + `Return`: *Evaluate the current cell and move to the next*\n",
        "1. `ESC` : *command mode* (may need to press before using any of the commands below)\n",
        "1. `a` : *create a cell above*\n",
        "1. `b` : *create a cell below*\n",
        "1. `dd` : *delete a cell*\n",
        "1. `z` : *undo the last cell operation*\n",
        "1. `m` : *convert a cell to markdown*\n",
        "1. `y` : *convert a cell to code*"
      ]
    },
    {
      "cell_type": "markdown",
      "metadata": {},
      "source": [
        "### Python\n",
        "\n",
        "Python is the main programming language we'll use in the course. We expect that you've taken CS 104/106/108, so we will not be covering general Python syntax. If any of the below exercises are challenging (or if you would like to refresh your Python knowledge), please review one or more of the following materials.\n",
        "\n",
        "- **[Python Tutorial](https://docs.python.org/3.7/tutorial/)**: Introduction to Python from the creators of Python.\n",
        "- **[Composing Programs Chapter 1](http://composingprograms.com/pages/11-getting-started.html)**: This is more of a introduction to programming with Python.\n",
        "- **[Advanced Crash Course](http://cs231n.github.io/python-numpy-tutorial/)**: A fast crash course which assumes some programming background.\n",
        "- **[Practice Exercises](http://www.practicepython.org/)**\n",
        "- **[Python Data Science Handbook](https://jakevdp.github.io/PythonDataScienceHandbook/)**\n",
        "- Some people have found [this](https://chrisalbon.com/) helpful."
      ]
    },
    {
      "cell_type": "markdown",
      "metadata": {},
      "source": [
        "# Loading and Summarizing Data"
      ]
    },
    {
      "cell_type": "markdown",
      "metadata": {},
      "source": [
        "**1**: Use your web browser to download `temperature-anomaly.csv` by clicking on the Data tab on [this \"Our World in Data\" chart](https://ourworldindata.org/co2-and-other-greenhouse-gas-emissions#introduction)."
      ]
    },
    {
      "cell_type": "markdown",
      "metadata": {},
      "source": [
        "**2**: Load it into a variable called `anomaly_df` using the `pd.read_csv` function."
      ]
    },
    {
      "cell_type": "code",
      "execution_count": 5,
      "metadata": {},
      "outputs": [],
      "source": [
        "# Your code here\n"
      ]
    },
    {
      "cell_type": "markdown",
      "metadata": {},
      "source": [
        "**3**: Use the `head` method to see the first few rows of `anomaly_df`."
      ]
    },
    {
      "cell_type": "code",
      "execution_count": 6,
      "metadata": {},
      "outputs": [],
      "source": [
        "anomaly_df.head()"
      ]
    },
    {
      "cell_type": "markdown",
      "metadata": {},
      "source": [
        "**4**: Use the `info` method to see the structure of `anomaly_df`."
      ]
    },
    {
      "cell_type": "code",
      "execution_count": 7,
      "metadata": {},
      "outputs": [],
      "source": [
        "# Your code here\n"
      ]
    },
    {
      "cell_type": "markdown",
      "metadata": {},
      "source": [
        "**5**: Use the `describe` method to get a summary of the numeric columns."
      ]
    },
    {
      "cell_type": "code",
      "execution_count": 8,
      "metadata": {},
      "outputs": [],
      "source": [
        "# your code here\n"
      ]
    },
    {
      "cell_type": "markdown",
      "metadata": {},
      "source": [
        "**6**: Use the outputs above to answer the following questions:"
      ]
    },
    {
      "cell_type": "markdown",
      "metadata": {},
      "source": [
        "* How many total rows are in the dataset?\n",
        "* What is the range of years covered? If there was one row per year, how many rows would you expect?\n",
        "* What is the mean of the \"Median (\u2103)\" column?"
      ]
    },
    {
      "cell_type": "markdown",
      "metadata": {},
      "source": [
        "You can access a single column using square-bracket notation. For example, here is how to get the \"Median (\u2103)\" column. (Yes, that \"\u2103\" is a special character. You can either write \"Median (\\u2103)\" or just copy and paste the name from one of the outputs above.)"
      ]
    },
    {
      "cell_type": "code",
      "execution_count": 10,
      "metadata": {},
      "outputs": [],
      "source": [
        "anomaly_df[\"Median (\u2103)\"]"
      ]
    },
    {
      "cell_type": "markdown",
      "metadata": {},
      "source": [
        "**7**: Call the `mean`, `min`, and `max` methods on the \"Median (\u2103)\" column and verify that the results are the same as what was shown in the `describe` output above."
      ]
    },
    {
      "cell_type": "code",
      "execution_count": 12,
      "metadata": {},
      "outputs": [],
      "source": [
        "# Your code here\n"
      ]
    },
    {
      "cell_type": "markdown",
      "metadata": {},
      "source": [
        "**8**: The `Entity` column is not numeric. Use the `value_counts` method to see what values the `Entity` column takes on. Do the values make sense in light of your answer to the question above about the range of years?"
      ]
    },
    {
      "cell_type": "code",
      "execution_count": 14,
      "metadata": {},
      "outputs": [],
      "source": [
        "# Your code here\n"
      ]
    },
    {
      "cell_type": "markdown",
      "metadata": {},
      "source": [
        "**9**: Now let's plot. Run the two plotting commands below, which use the `seaborn` library to quickly make reasonable-looking plots."
      ]
    },
    {
      "cell_type": "code",
      "execution_count": 65,
      "metadata": {},
      "outputs": [],
      "source": [
        "sns.lineplot(x=\"Year\", y=\"Median (\u2103)\", hue=\"Entity\", data=anomaly_df);"
      ]
    },
    {
      "cell_type": "code",
      "execution_count": 66,
      "metadata": {},
      "outputs": [],
      "source": [
        "sns.lmplot(x=\"Year\", y=\"Median (\u2103)\", col=\"Entity\", data=anomaly_df, fit_reg=False);"
      ]
    },
    {
      "cell_type": "markdown",
      "metadata": {},
      "source": [
        "**10**: Compare and contrast the two plots. Are there trends or relationships that are easier to see in the first plot than in the second? Vice versa?"
      ]
    },
    {
      "cell_type": "markdown",
      "metadata": {},
      "source": [
        "**your answer here**"
      ]
    },
    {
      "cell_type": "markdown",
      "metadata": {},
      "source": [
        "**11**: Try tweaking the `lmplot` command in the following ways. Look in the documentation if necessary (don't Google it at this point)."
      ]
    },
    {
      "cell_type": "markdown",
      "metadata": {},
      "source": [
        "**11a**: Each column is a region in the plot above; try making each row a region."
      ]
    },
    {
      "cell_type": "code",
      "execution_count": 68,
      "metadata": {},
      "outputs": [],
      "source": [
        "# Your code here\n"
      ]
    },
    {
      "cell_type": "markdown",
      "metadata": {},
      "source": [
        "**11b**: Add a line of best fit. (Hint: you won't need to add any code.)"
      ]
    },
    {
      "cell_type": "code",
      "execution_count": 69,
      "metadata": {},
      "outputs": [],
      "source": [
        "# Your code here.\n"
      ]
    },
    {
      "cell_type": "markdown",
      "metadata": {},
      "source": [
        "**11c**: Try using a \"lowess\" curve instead of a line. What's the same, what's different?"
      ]
    },
    {
      "cell_type": "code",
      "execution_count": 70,
      "metadata": {},
      "outputs": [],
      "source": [
        "# Your code here\n"
      ]
    },
    {
      "cell_type": "code",
      "execution_count": null,
      "metadata": {},
      "outputs": [],
      "source": []
    }
  ],
  "metadata": {
    "kernelspec": {
      "display_name": "Python 3",
      "language": "python",
      "name": "python3"
    },
    "language_info": {
      "codemirror_mode": {
        "name": "ipython",
        "version": 3
      },
      "file_extension": ".py",
      "mimetype": "text/x-python",
      "name": "python",
      "nbconvert_exporter": "python",
      "pygments_lexer": "ipython3",
      "version": "3.7.3"
    }
  },
  "nbformat": 4,
  "nbformat_minor": 2
}