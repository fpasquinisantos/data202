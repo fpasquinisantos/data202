{
 "cells": [
  {
   "cell_type": "markdown",
   "metadata": {},
   "source": [
    "# Homework 3: k-NN, measuring errors\n",
    "\n",
    "DATA 202 - Fall 2019 - Calvin University\n",
    "\n",
    "Based on Harvard-CS109a-FA18 lec4 prep"
   ]
  },
  {
   "cell_type": "code",
   "execution_count": 1,
   "metadata": {},
   "outputs": [],
   "source": [
    "%matplotlib inline\n",
    "import matplotlib.pylab as plt\n",
    "import numpy as np\n",
    "import pandas as pd\n",
    "\n",
    "# New imports this time:\n",
    "from sklearn.neighbors import KNeighborsRegressor\n",
    "from sklearn import linear_model\n"
   ]
  },
  {
   "cell_type": "code",
   "execution_count": 2,
   "metadata": {},
   "outputs": [],
   "source": [
    "# This data file is downloaded from http://faculty.marshall.usc.edu/gareth-james/ISL/data.html\n",
    "df_adv = pd.read_csv('data/Advertising.csv', index_col=0)"
   ]
  },
  {
   "cell_type": "code",
   "execution_count": 3,
   "metadata": {},
   "outputs": [
    {
     "name": "stdout",
     "output_type": "stream",
     "text": [
      "<class 'pandas.core.frame.DataFrame'>\n",
      "Int64Index: 200 entries, 1 to 200\n",
      "Data columns (total 4 columns):\n",
      "TV           200 non-null float64\n",
      "radio        200 non-null float64\n",
      "newspaper    200 non-null float64\n",
      "sales        200 non-null float64\n",
      "dtypes: float64(4)\n",
      "memory usage: 7.8 KB\n"
     ]
    }
   ],
   "source": [
    "df_adv.info()"
   ]
  },
  {
   "cell_type": "code",
   "execution_count": 4,
   "metadata": {},
   "outputs": [
    {
     "data": {
      "text/html": [
       "<div>\n",
       "<style scoped>\n",
       "    .dataframe tbody tr th:only-of-type {\n",
       "        vertical-align: middle;\n",
       "    }\n",
       "\n",
       "    .dataframe tbody tr th {\n",
       "        vertical-align: top;\n",
       "    }\n",
       "\n",
       "    .dataframe thead th {\n",
       "        text-align: right;\n",
       "    }\n",
       "</style>\n",
       "<table border=\"1\" class=\"dataframe\">\n",
       "  <thead>\n",
       "    <tr style=\"text-align: right;\">\n",
       "      <th></th>\n",
       "      <th>TV</th>\n",
       "      <th>radio</th>\n",
       "      <th>newspaper</th>\n",
       "      <th>sales</th>\n",
       "    </tr>\n",
       "  </thead>\n",
       "  <tbody>\n",
       "    <tr>\n",
       "      <th>1</th>\n",
       "      <td>230.1</td>\n",
       "      <td>37.8</td>\n",
       "      <td>69.2</td>\n",
       "      <td>22.1</td>\n",
       "    </tr>\n",
       "    <tr>\n",
       "      <th>2</th>\n",
       "      <td>44.5</td>\n",
       "      <td>39.3</td>\n",
       "      <td>45.1</td>\n",
       "      <td>10.4</td>\n",
       "    </tr>\n",
       "    <tr>\n",
       "      <th>3</th>\n",
       "      <td>17.2</td>\n",
       "      <td>45.9</td>\n",
       "      <td>69.3</td>\n",
       "      <td>9.3</td>\n",
       "    </tr>\n",
       "    <tr>\n",
       "      <th>4</th>\n",
       "      <td>151.5</td>\n",
       "      <td>41.3</td>\n",
       "      <td>58.5</td>\n",
       "      <td>18.5</td>\n",
       "    </tr>\n",
       "    <tr>\n",
       "      <th>5</th>\n",
       "      <td>180.8</td>\n",
       "      <td>10.8</td>\n",
       "      <td>58.4</td>\n",
       "      <td>12.9</td>\n",
       "    </tr>\n",
       "  </tbody>\n",
       "</table>\n",
       "</div>"
      ],
      "text/plain": [
       "      TV  radio  newspaper  sales\n",
       "1  230.1   37.8       69.2   22.1\n",
       "2   44.5   39.3       45.1   10.4\n",
       "3   17.2   45.9       69.3    9.3\n",
       "4  151.5   41.3       58.5   18.5\n",
       "5  180.8   10.8       58.4   12.9"
      ]
     },
     "execution_count": 4,
     "metadata": {},
     "output_type": "execute_result"
    }
   ],
   "source": [
    "df_adv.head()"
   ]
  },
  {
   "cell_type": "code",
   "execution_count": 5,
   "metadata": {},
   "outputs": [],
   "source": [
    "all_x_values = df_adv['TV'].values\n",
    "all_y_values = df_adv['sales'].values"
   ]
  },
  {
   "cell_type": "code",
   "execution_count": 6,
   "metadata": {},
   "outputs": [
    {
     "data": {
      "text/plain": [
       "(200,)"
      ]
     },
     "execution_count": 6,
     "metadata": {},
     "output_type": "execute_result"
    }
   ],
   "source": [
    "# sklearn predictors want to see 2d arrays,\n",
    "# with each row being an observation\n",
    "# and each column a predictor.\n",
    "# Since we only grabbed out a single column,\n",
    "# the array is just a 1d array.\n",
    "all_x_values.shape"
   ]
  },
  {
   "cell_type": "code",
   "execution_count": 7,
   "metadata": {},
   "outputs": [
    {
     "data": {
      "text/plain": [
       "(200, 1)"
      ]
     },
     "execution_count": 7,
     "metadata": {},
     "output_type": "execute_result"
    }
   ],
   "source": [
    "# In NumPy there is a difference between a 1D array (like a vector) and a 2D array (like a matrix)\n",
    "# To make a 1d array into a 2d array,\n",
    "# we add a new \"axis\".\n",
    "# Convince yourself why the new axis needs to be the second one.\n",
    "all_x_values = all_x_values[:, np.newaxis]\n",
    "\n",
    "# Now we have an array of observations by predictors.\n",
    "all_x_values.shape"
   ]
  },
  {
   "cell_type": "markdown",
   "metadata": {},
   "source": [
    "# Nearest Neighbors on Small Subset"
   ]
  },
  {
   "cell_type": "markdown",
   "metadata": {},
   "source": [
    "*Instructions*: Use observations 5 through 13. Fit a 1-NN model predicting the `sales` response from only the `TV` predictor. Plot both the data points and the mdel predictions."
   ]
  },
  {
   "cell_type": "code",
   "execution_count": 30,
   "metadata": {},
   "outputs": [
    {
     "data": {
      "text/plain": [
       "array([[0.        ],\n",
       "       [0.6012024 ],\n",
       "       [1.20240481],\n",
       "       [1.80360721],\n",
       "       [2.40480962],\n",
       "       [3.00601202],\n",
       "       [3.60721443],\n",
       "       [4.20841683],\n",
       "       [4.80961924],\n",
       "       [5.41082164]])"
      ]
     },
     "execution_count": 30,
     "metadata": {},
     "output_type": "execute_result"
    }
   ],
   "source": [
    "data_x = all_x_values[5:13]\n",
    "data_y = all_y_values[5:13]\n",
    "\n",
    "# define the points where we're going to evaluate the model (asking it for predictions)\n",
    "x = np.linspace(start=0, stop=300, num=500)\n",
    "# Again we need to make this into a 2d array.\n",
    "x = x[:, np.newaxis]\n",
    "# here's what the first 10 rows look like. notice it's an array of arrays.\n",
    "x[:10]"
   ]
  },
  {
   "cell_type": "code",
   "execution_count": 22,
   "metadata": {},
   "outputs": [
    {
     "data": {
      "text/plain": [
       "Text(0, 0.5, 'Sales ($1k)')"
      ]
     },
     "execution_count": 22,
     "metadata": {},
     "output_type": "execute_result"
    },
    {
     "data": {
      "image/png": "[encoded data removed]",
      "text/plain": [
       "<Figure size 432x288 with 1 Axes>"
      ]
     },
     "metadata": {
      "needs_background": "light"
     },
     "output_type": "display_data"
    }
   ],
   "source": [
    "# Warm-up: plot 1-NN\n",
    "n_neighbors = 1\n",
    "plt.scatter(data_x, data_y, color='black', marker='x', label='data')\n",
    "\n",
    "knn = KNeighborsRegressor(n_neighbors)\n",
    "knn.fit(data_x, data_y)\n",
    "y_hat = knn.predict(x)\n",
    "\n",
    "plt.plot(x, y_hat, label=f\"model, k={n_neighbors}\", color='black', drawstyle=\"steps-mid\")\n",
    "plt.legend()\n",
    "plt.xlabel(\"TV budget ($1k)\")\n",
    "plt.ylabel(\"Sales ($1k)\");"
   ]
  },
  {
   "cell_type": "markdown",
   "metadata": {},
   "source": [
    "Now plot k=1 and k=5 side by side."
   ]
  },
  {
   "cell_type": "code",
   "execution_count": 23,
   "metadata": {},
   "outputs": [
    {
     "name": "stdout",
     "output_type": "stream",
     "text": [
      "1 a\n",
      "2 b\n",
      "3 c\n"
     ]
    }
   ],
   "source": [
    "# 'zip' puts two or more sequences together into one:\n",
    "for a, b in zip([1, 2, 3], 'abc'):\n",
    "    print(a, b)"
   ]
  },
  {
   "cell_type": "code",
   "execution_count": 24,
   "metadata": {},
   "outputs": [
    {
     "data": {
      "image/png": "[encoded data removed]",
      "text/plain": [
       "<Figure size 1152x432 with 2 Axes>"
      ]
     },
     "metadata": {
      "needs_background": "light"
     },
     "output_type": "display_data"
    }
   ],
   "source": [
    "# make two plots side by side.\n",
    "# axs[0] is the left plot \"axes\", axs[1] is the right one\n",
    "fig, axs = plt.subplots(ncols=2, figsize=(16, 6))\n",
    "\n",
    "for ax, n_neighbors in zip(axs, [1, 5]):\n",
    "    # for the most part, \"axes\" have the same methods as \"plt\".\n",
    "    ax.scatter(data_x, data_y, color='black', marker='x', label='data')\n",
    "\n",
    "    knn = KNeighborsRegressor(n_neighbors)\n",
    "    knn.fit(data_x, data_y)\n",
    "    y_hat = knn.predict(x)\n",
    "\n",
    "    ax.plot(x, y_hat, label=f\"model, k={n_neighbors}\", color='black', drawstyle=\"steps-mid\")\n",
    "    ax.legend()\n",
    "    \n",
    "    # Notice these labeling commands are slightly different.\n",
    "    ax.set_xlabel(\"TV budget ($1k)\")\n",
    "    ax.set_ylabel(\"Sales ($1k)\")\n",
    "    ax.set_title(f\"k={n_neighbors}\")\n"
   ]
  },
  {
   "cell_type": "markdown",
   "metadata": {},
   "source": [
    "# Larger Dataset"
   ]
  },
  {
   "cell_type": "markdown",
   "metadata": {},
   "source": [
    "*Instructions*: Make the same plots as above, but using the first 100 observations, and k=1, 10, and 100."
   ]
  },
  {
   "cell_type": "code",
   "execution_count": 31,
   "metadata": {},
   "outputs": [],
   "source": [
    "data_x = all_x_values[:100]\n",
    "data_y = all_y_values[:100]"
   ]
  },
  {
   "cell_type": "code",
   "execution_count": 32,
   "metadata": {},
   "outputs": [
    {
     "data": {
      "image/png": "[encoded data removed]",
      "text/plain": [
       "<Figure size 1152x360 with 3 Axes>"
      ]
     },
     "metadata": {
      "needs_background": "light"
     },
     "output_type": "display_data"
    }
   ],
   "source": [
    "x = np.linspace(np.min(data_x), np.max(data_x), 1000)[:, None]\n",
    "\n",
    "fig, axs = plt.subplots(ncols=3, figsize=(16, 5))\n",
    "\n",
    "for ax, n_neighbors, label in zip(axs, [1, 10, 100], 'abc'):\n",
    "    ax.scatter(data_x, data_y, color='black', marker='x', label='data')\n",
    "\n",
    "    knn = KNeighborsRegressor(n_neighbors)\n",
    "    knn.fit(data_x, data_y)\n",
    "    y_hat = knn.predict(x)\n",
    "\n",
    "    ax.plot(x, y_hat, label=f\"model, k={n_neighbors}\", color='black', drawstyle=\"steps-mid\")\n",
    "    ax.legend()\n",
    "    \n",
    "    # Notice these labeling commands are slightly different.\n",
    "    ax.set_xlabel(\"TV budget ($1k)\")\n",
    "    ax.set_ylabel(\"Sales ($1k)\")\n",
    "    ax.set_title(f\"k={n_neighbors}\")\n",
    "    ax.set_xlabel(f'({label})', fontsize=20)\n"
   ]
  },
  {
   "cell_type": "markdown",
   "metadata": {},
   "source": [
    "(does the above look familiar?)"
   ]
  },
  {
   "cell_type": "markdown",
   "metadata": {},
   "source": [
    "# Evaluate error on test set"
   ]
  },
  {
   "cell_type": "markdown",
   "metadata": {},
   "source": [
    "Evaluate and plot the MSE on the training set for k=(1, 2, 3, 4, 5)."
   ]
  },
  {
   "cell_type": "code",
   "execution_count": 41,
   "metadata": {},
   "outputs": [],
   "source": [
    "train_x = all_x_values[:100]\n",
    "train_y = all_y_values[:100]\n",
    "\n",
    "n_neighbors_vals = [1, 2, 3, 4, 5, 6]\n",
    "training_mses = []\n",
    "for n_neighbors in n_neighbors_vals:\n",
    "    # Train the model on the training set.\n",
    "    knn = KNeighborsRegressor(n_neighbors)\n",
    "    knn.fit(train_x, train_y)\n",
    "    \n",
    "    # Evaluate the model on the training set.\n",
    "    y_hat = knn.predict(train_x) # note that this isn't the 'x' we got from linspace above. Why?\n",
    "    residuals = train_y - y_hat\n",
    "    mse = np.mean(residuals ** 2)\n",
    "    training_mses.append(mse)"
   ]
  },
  {
   "cell_type": "code",
   "execution_count": 45,
   "metadata": {},
   "outputs": [
    {
     "data": {
      "image/png": "[encoded data removed]",
      "text/plain": [
       "<Figure size 432x288 with 1 Axes>"
      ]
     },
     "metadata": {
      "needs_background": "light"
     },
     "output_type": "display_data"
    }
   ],
   "source": [
    "plt.plot(n_neighbors_vals, training_mses, label=\"Training Set\")\n",
    "plt.xlabel(\"k (# neighbors)\")\n",
    "plt.ylabel(\"mean squared error\");"
   ]
  },
  {
   "cell_type": "markdown",
   "metadata": {},
   "source": [
    "Use the other 100 observations as a test set. Evaluate the MSE on the test set, for the same k values. Plot both the training and test error."
   ]
  },
  {
   "cell_type": "code",
   "execution_count": 42,
   "metadata": {},
   "outputs": [],
   "source": [
    "test_x = all_x_values[100:]\n",
    "test_y = all_y_values[100:]\n",
    "\n",
    "test_mses = []\n",
    "for n_neighbors in n_neighbors_vals:\n",
    "    # Train the model on the training set.\n",
    "    knn = KNeighborsRegressor(n_neighbors)\n",
    "    knn.fit(train_x, train_y)\n",
    "    \n",
    "    # Evaluate the model on the TEST set.\n",
    "    y_hat = knn.predict(test_x) # note that this isn't 'x'. Why?\n",
    "    residuals = test_y - y_hat\n",
    "    mse = np.mean(residuals ** 2)\n",
    "    test_mses.append(mse)"
   ]
  },
  {
   "cell_type": "code",
   "execution_count": 48,
   "metadata": {},
   "outputs": [
    {
     "data": {
      "image/png": "[encoded data removed]",
      "text/plain": [
       "<Figure size 432x288 with 1 Axes>"
      ]
     },
     "metadata": {
      "needs_background": "light"
     },
     "output_type": "display_data"
    }
   ],
   "source": [
    "plt.plot(n_neighbors_vals, training_mses, marker='x', label=\"Training Set\")\n",
    "plt.plot(n_neighbors_vals, test_mses, marker='*', label=\"Test Set\")\n",
    "plt.xlabel(\"k (# neighbors)\")\n",
    "plt.ylabel(\"mean squared error\");\n",
    "plt.legend();"
   ]
  },
  {
   "cell_type": "markdown",
   "metadata": {},
   "source": [
    "We notice that:\n",
    "\n",
    "* The training set error is lower than the test set error (but it doesn't actually reach 0... why?)\n",
    "* As k increases, the training set error increases.\n",
    "* As k increases, the test set error generally decreases (but there's still some variance, and maybe it starts to plateau above 5, but we'd need to plot more to be sure).\n",
    "* This makes sense because ____"
   ]
  },
  {
   "cell_type": "code",
   "execution_count": null,
   "metadata": {},
   "outputs": [],
   "source": []
  }
 ],
 "metadata": {
  "kernelspec": {
   "display_name": "Python 3",
   "language": "python",
   "name": "python3"
  },
  "language_info": {
   "codemirror_mode": {
    "name": "ipython",
    "version": 3
   },
   "file_extension": ".py",
   "mimetype": "text/x-python",
   "name": "python",
   "nbconvert_exporter": "python",
   "pygments_lexer": "ipython3",
   "version": "3.7.3"
  }
 },
 "nbformat": 4,
 "nbformat_minor": 2
}
