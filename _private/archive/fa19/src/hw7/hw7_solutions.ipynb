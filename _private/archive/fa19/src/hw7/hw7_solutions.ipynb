{
 "cells": [
  {
   "cell_type": "code",
   "execution_count": 1,
   "metadata": {},
   "outputs": [],
   "source": [
    "import sklearn.datasets\n",
    "from sklearn.model_selection import train_test_split\n",
    "from sklearn.metrics import confusion_matrix\n",
    "from sklearn.linear_model import LinearRegression, LogisticRegression\n",
    "from sklearn.neighbors import KNeighborsClassifier\n",
    "from sklearn.tree import DecisionTreeClassifier\n",
    "import numpy as np\n",
    "import pandas as pd\n",
    "import matplotlib.pyplot as plt\n",
    "import seaborn as sns\n",
    "%matplotlib inline\n",
    "sns.set()"
   ]
  },
  {
   "cell_type": "code",
   "execution_count": 2,
   "metadata": {},
   "outputs": [],
   "source": [
    "from contextlib import contextmanager\n",
    "\n",
    "def REFERENCE(solution, placeholder):\n",
    "    return solution\n",
    "@contextmanager\n",
    "def REFBLOCK():\n",
    "    yield"
   ]
  },
  {
   "cell_type": "code",
   "execution_count": 3,
   "metadata": {},
   "outputs": [],
   "source": [
    "# Code based on: https://scikit-learn.org/stable/auto_examples/model_selection/plot_confusion_matrix.html\n",
    "def plot_confusion_matrix(y_true, y_pred, classes,\n",
    "                          normalize=False,\n",
    "                          title=None,\n",
    "                          cmap=plt.cm.Blues,\n",
    "                          ax=None):\n",
    "    \"\"\"\n",
    "    This function prints and plots the confusion matrix.\n",
    "    Normalization can be applied by setting `normalize=True`.\n",
    "    \"\"\"\n",
    "    if ax is None:\n",
    "        ax = plt.gca()\n",
    "\n",
    "    cm = confusion_matrix(y_true, y_pred)\n",
    "        \n",
    "    if normalize:\n",
    "        cm = cm.astype('float') / cm.sum(axis=1)[:, np.newaxis]\n",
    "        if title is None:\n",
    "            title = \"Normalized confusion matrix\"\n",
    "    elif title is None:\n",
    "        title = 'Confusion matrix (without normalization)'\n",
    "\n",
    "    img = ax.imshow(cm, interpolation='nearest', cmap=cmap)\n",
    "    plt.colorbar(img, ax=ax)\n",
    "    tick_marks = np.arange(len(classes))\n",
    "    ax.set(xticks=tick_marks, yticks=tick_marks)\n",
    "    ax.set_xticklabels(classes, rotation=0)\n",
    "    ax.set_yticklabels(classes)\n",
    "\n",
    "    fmt = '.2f' if normalize else 'd'\n",
    "    thresh = cm.max() / 2.\n",
    "    for i in range(cm.shape[0]):\n",
    "        for j in range(cm.shape[1]):\n",
    "            ax.text(j, i, format(cm[i, j], fmt),\n",
    "                     horizontalalignment=\"center\",\n",
    "                     color=\"white\" if cm[i, j] > thresh else \"black\")\n",
    "\n",
    "    ax.set(title=title, ylabel='True label', xlabel='Predicted label')\n",
    "    ax.grid(False)"
   ]
  },
  {
   "cell_type": "markdown",
   "metadata": {},
   "source": [
    "# Load and Preprocess the data"
   ]
  },
  {
   "cell_type": "markdown",
   "metadata": {},
   "source": [
    "* Download the data file from https://archive.ics.uci.edu/ml/machine-learning-databases/statlog/german/german.data\n",
    "* Dataset source: https://archive.ics.uci.edu/ml/datasets/Statlog+(German+Credit+Data)"
   ]
  },
  {
   "cell_type": "code",
   "execution_count": 4,
   "metadata": {},
   "outputs": [
    {
     "data": {
      "text/html": [
       "<div>\n",
       "<style scoped>\n",
       "    .dataframe tbody tr th:only-of-type {\n",
       "        vertical-align: middle;\n",
       "    }\n",
       "\n",
       "    .dataframe tbody tr th {\n",
       "        vertical-align: top;\n",
       "    }\n",
       "\n",
       "    .dataframe thead th {\n",
       "        text-align: right;\n",
       "    }\n",
       "</style>\n",
       "<table border=\"1\" class=\"dataframe\">\n",
       "  <thead>\n",
       "    <tr style=\"text-align: right;\">\n",
       "      <th></th>\n",
       "      <th>checking_status</th>\n",
       "      <th>duration</th>\n",
       "      <th>credit_history</th>\n",
       "      <th>purpose</th>\n",
       "      <th>credit_amount</th>\n",
       "      <th>savings_status</th>\n",
       "      <th>employment</th>\n",
       "      <th>installment_commitment</th>\n",
       "      <th>personal_status</th>\n",
       "      <th>other_parties</th>\n",
       "      <th>...</th>\n",
       "      <th>property_magnitude</th>\n",
       "      <th>age</th>\n",
       "      <th>other_payment_plans</th>\n",
       "      <th>housing</th>\n",
       "      <th>existing_credits</th>\n",
       "      <th>job</th>\n",
       "      <th>num_dependents</th>\n",
       "      <th>own_telephone</th>\n",
       "      <th>foreign_worker</th>\n",
       "      <th>actual</th>\n",
       "    </tr>\n",
       "  </thead>\n",
       "  <tbody>\n",
       "    <tr>\n",
       "      <th>0</th>\n",
       "      <td>A11</td>\n",
       "      <td>6</td>\n",
       "      <td>A34</td>\n",
       "      <td>A43</td>\n",
       "      <td>1169</td>\n",
       "      <td>A65</td>\n",
       "      <td>A75</td>\n",
       "      <td>4</td>\n",
       "      <td>A93</td>\n",
       "      <td>A101</td>\n",
       "      <td>...</td>\n",
       "      <td>A121</td>\n",
       "      <td>67</td>\n",
       "      <td>A143</td>\n",
       "      <td>A152</td>\n",
       "      <td>2</td>\n",
       "      <td>A173</td>\n",
       "      <td>1</td>\n",
       "      <td>A192</td>\n",
       "      <td>A201</td>\n",
       "      <td>1</td>\n",
       "    </tr>\n",
       "    <tr>\n",
       "      <th>1</th>\n",
       "      <td>A12</td>\n",
       "      <td>48</td>\n",
       "      <td>A32</td>\n",
       "      <td>A43</td>\n",
       "      <td>5951</td>\n",
       "      <td>A61</td>\n",
       "      <td>A73</td>\n",
       "      <td>2</td>\n",
       "      <td>A92</td>\n",
       "      <td>A101</td>\n",
       "      <td>...</td>\n",
       "      <td>A121</td>\n",
       "      <td>22</td>\n",
       "      <td>A143</td>\n",
       "      <td>A152</td>\n",
       "      <td>1</td>\n",
       "      <td>A173</td>\n",
       "      <td>1</td>\n",
       "      <td>A191</td>\n",
       "      <td>A201</td>\n",
       "      <td>2</td>\n",
       "    </tr>\n",
       "    <tr>\n",
       "      <th>2</th>\n",
       "      <td>A14</td>\n",
       "      <td>12</td>\n",
       "      <td>A34</td>\n",
       "      <td>A46</td>\n",
       "      <td>2096</td>\n",
       "      <td>A61</td>\n",
       "      <td>A74</td>\n",
       "      <td>2</td>\n",
       "      <td>A93</td>\n",
       "      <td>A101</td>\n",
       "      <td>...</td>\n",
       "      <td>A121</td>\n",
       "      <td>49</td>\n",
       "      <td>A143</td>\n",
       "      <td>A152</td>\n",
       "      <td>1</td>\n",
       "      <td>A172</td>\n",
       "      <td>2</td>\n",
       "      <td>A191</td>\n",
       "      <td>A201</td>\n",
       "      <td>1</td>\n",
       "    </tr>\n",
       "    <tr>\n",
       "      <th>3</th>\n",
       "      <td>A11</td>\n",
       "      <td>42</td>\n",
       "      <td>A32</td>\n",
       "      <td>A42</td>\n",
       "      <td>7882</td>\n",
       "      <td>A61</td>\n",
       "      <td>A74</td>\n",
       "      <td>2</td>\n",
       "      <td>A93</td>\n",
       "      <td>A103</td>\n",
       "      <td>...</td>\n",
       "      <td>A122</td>\n",
       "      <td>45</td>\n",
       "      <td>A143</td>\n",
       "      <td>A153</td>\n",
       "      <td>1</td>\n",
       "      <td>A173</td>\n",
       "      <td>2</td>\n",
       "      <td>A191</td>\n",
       "      <td>A201</td>\n",
       "      <td>1</td>\n",
       "    </tr>\n",
       "    <tr>\n",
       "      <th>4</th>\n",
       "      <td>A11</td>\n",
       "      <td>24</td>\n",
       "      <td>A33</td>\n",
       "      <td>A40</td>\n",
       "      <td>4870</td>\n",
       "      <td>A61</td>\n",
       "      <td>A73</td>\n",
       "      <td>3</td>\n",
       "      <td>A93</td>\n",
       "      <td>A101</td>\n",
       "      <td>...</td>\n",
       "      <td>A124</td>\n",
       "      <td>53</td>\n",
       "      <td>A143</td>\n",
       "      <td>A153</td>\n",
       "      <td>2</td>\n",
       "      <td>A173</td>\n",
       "      <td>2</td>\n",
       "      <td>A191</td>\n",
       "      <td>A201</td>\n",
       "      <td>2</td>\n",
       "    </tr>\n",
       "  </tbody>\n",
       "</table>\n",
       "<p>5 rows × 21 columns</p>\n",
       "</div>"
      ],
      "text/plain": [
       "  checking_status  duration credit_history purpose  credit_amount  \\\n",
       "0             A11         6            A34     A43           1169   \n",
       "1             A12        48            A32     A43           5951   \n",
       "2             A14        12            A34     A46           2096   \n",
       "3             A11        42            A32     A42           7882   \n",
       "4             A11        24            A33     A40           4870   \n",
       "\n",
       "  savings_status employment  installment_commitment personal_status  \\\n",
       "0            A65        A75                       4             A93   \n",
       "1            A61        A73                       2             A92   \n",
       "2            A61        A74                       2             A93   \n",
       "3            A61        A74                       2             A93   \n",
       "4            A61        A73                       3             A93   \n",
       "\n",
       "  other_parties  ...  property_magnitude age  other_payment_plans housing  \\\n",
       "0          A101  ...                A121  67                 A143    A152   \n",
       "1          A101  ...                A121  22                 A143    A152   \n",
       "2          A101  ...                A121  49                 A143    A152   \n",
       "3          A103  ...                A122  45                 A143    A153   \n",
       "4          A101  ...                A124  53                 A143    A153   \n",
       "\n",
       "  existing_credits   job num_dependents  own_telephone foreign_worker actual  \n",
       "0                2  A173              1           A192           A201      1  \n",
       "1                1  A173              1           A191           A201      2  \n",
       "2                1  A172              2           A191           A201      1  \n",
       "3                1  A173              2           A191           A201      1  \n",
       "4                2  A173              2           A191           A201      2  \n",
       "\n",
       "[5 rows x 21 columns]"
      ]
     },
     "execution_count": 4,
     "metadata": {},
     "output_type": "execute_result"
    }
   ],
   "source": [
    "column_names = 'checking_status duration credit_history purpose credit_amount savings_status employment installment_commitment personal_status other_parties residence_since property_magnitude age other_payment_plans housing existing_credits job num_dependents own_telephone foreign_worker actual'.split()\n",
    "credit_data = pd.read_csv(\n",
    "    \"german.data\",\n",
    "    delimiter=' ', index_col=False,\n",
    "    names=column_names)\n",
    "\n",
    "credit_data.head()"
   ]
  },
  {
   "cell_type": "code",
   "execution_count": 5,
   "metadata": {},
   "outputs": [],
   "source": [
    "credit_data['actual'] = credit_data['actual'].map({1: \"good\", 2: \"bad\"})"
   ]
  },
  {
   "cell_type": "code",
   "execution_count": 6,
   "metadata": {},
   "outputs": [
    {
     "data": {
      "text/html": [
       "<div>\n",
       "<style scoped>\n",
       "    .dataframe tbody tr th:only-of-type {\n",
       "        vertical-align: middle;\n",
       "    }\n",
       "\n",
       "    .dataframe tbody tr th {\n",
       "        vertical-align: top;\n",
       "    }\n",
       "\n",
       "    .dataframe thead th {\n",
       "        text-align: right;\n",
       "    }\n",
       "</style>\n",
       "<table border=\"1\" class=\"dataframe\">\n",
       "  <thead>\n",
       "    <tr style=\"text-align: right;\">\n",
       "      <th></th>\n",
       "      <th>checking_status</th>\n",
       "      <th>duration</th>\n",
       "      <th>credit_history</th>\n",
       "      <th>purpose</th>\n",
       "      <th>credit_amount</th>\n",
       "      <th>savings_status</th>\n",
       "      <th>employment</th>\n",
       "      <th>installment_commitment</th>\n",
       "      <th>personal_status</th>\n",
       "      <th>other_parties</th>\n",
       "      <th>...</th>\n",
       "      <th>other_payment_plans</th>\n",
       "      <th>housing</th>\n",
       "      <th>existing_credits</th>\n",
       "      <th>job</th>\n",
       "      <th>num_dependents</th>\n",
       "      <th>own_telephone</th>\n",
       "      <th>foreign_worker</th>\n",
       "      <th>actual</th>\n",
       "      <th>sex</th>\n",
       "      <th>marital_status</th>\n",
       "    </tr>\n",
       "  </thead>\n",
       "  <tbody>\n",
       "    <tr>\n",
       "      <th>0</th>\n",
       "      <td>A11</td>\n",
       "      <td>6</td>\n",
       "      <td>A34</td>\n",
       "      <td>A43</td>\n",
       "      <td>1169</td>\n",
       "      <td>A65</td>\n",
       "      <td>A75</td>\n",
       "      <td>4</td>\n",
       "      <td>A93</td>\n",
       "      <td>A101</td>\n",
       "      <td>...</td>\n",
       "      <td>A143</td>\n",
       "      <td>A152</td>\n",
       "      <td>2</td>\n",
       "      <td>A173</td>\n",
       "      <td>1</td>\n",
       "      <td>A192</td>\n",
       "      <td>A201</td>\n",
       "      <td>good</td>\n",
       "      <td>male</td>\n",
       "      <td>single</td>\n",
       "    </tr>\n",
       "    <tr>\n",
       "      <th>1</th>\n",
       "      <td>A12</td>\n",
       "      <td>48</td>\n",
       "      <td>A32</td>\n",
       "      <td>A43</td>\n",
       "      <td>5951</td>\n",
       "      <td>A61</td>\n",
       "      <td>A73</td>\n",
       "      <td>2</td>\n",
       "      <td>A92</td>\n",
       "      <td>A101</td>\n",
       "      <td>...</td>\n",
       "      <td>A143</td>\n",
       "      <td>A152</td>\n",
       "      <td>1</td>\n",
       "      <td>A173</td>\n",
       "      <td>1</td>\n",
       "      <td>A191</td>\n",
       "      <td>A201</td>\n",
       "      <td>bad</td>\n",
       "      <td>female</td>\n",
       "      <td>divorced/separated/married</td>\n",
       "    </tr>\n",
       "    <tr>\n",
       "      <th>2</th>\n",
       "      <td>A14</td>\n",
       "      <td>12</td>\n",
       "      <td>A34</td>\n",
       "      <td>A46</td>\n",
       "      <td>2096</td>\n",
       "      <td>A61</td>\n",
       "      <td>A74</td>\n",
       "      <td>2</td>\n",
       "      <td>A93</td>\n",
       "      <td>A101</td>\n",
       "      <td>...</td>\n",
       "      <td>A143</td>\n",
       "      <td>A152</td>\n",
       "      <td>1</td>\n",
       "      <td>A172</td>\n",
       "      <td>2</td>\n",
       "      <td>A191</td>\n",
       "      <td>A201</td>\n",
       "      <td>good</td>\n",
       "      <td>male</td>\n",
       "      <td>single</td>\n",
       "    </tr>\n",
       "    <tr>\n",
       "      <th>3</th>\n",
       "      <td>A11</td>\n",
       "      <td>42</td>\n",
       "      <td>A32</td>\n",
       "      <td>A42</td>\n",
       "      <td>7882</td>\n",
       "      <td>A61</td>\n",
       "      <td>A74</td>\n",
       "      <td>2</td>\n",
       "      <td>A93</td>\n",
       "      <td>A103</td>\n",
       "      <td>...</td>\n",
       "      <td>A143</td>\n",
       "      <td>A153</td>\n",
       "      <td>1</td>\n",
       "      <td>A173</td>\n",
       "      <td>2</td>\n",
       "      <td>A191</td>\n",
       "      <td>A201</td>\n",
       "      <td>good</td>\n",
       "      <td>male</td>\n",
       "      <td>single</td>\n",
       "    </tr>\n",
       "    <tr>\n",
       "      <th>4</th>\n",
       "      <td>A11</td>\n",
       "      <td>24</td>\n",
       "      <td>A33</td>\n",
       "      <td>A40</td>\n",
       "      <td>4870</td>\n",
       "      <td>A61</td>\n",
       "      <td>A73</td>\n",
       "      <td>3</td>\n",
       "      <td>A93</td>\n",
       "      <td>A101</td>\n",
       "      <td>...</td>\n",
       "      <td>A143</td>\n",
       "      <td>A153</td>\n",
       "      <td>2</td>\n",
       "      <td>A173</td>\n",
       "      <td>2</td>\n",
       "      <td>A191</td>\n",
       "      <td>A201</td>\n",
       "      <td>bad</td>\n",
       "      <td>male</td>\n",
       "      <td>single</td>\n",
       "    </tr>\n",
       "  </tbody>\n",
       "</table>\n",
       "<p>5 rows × 23 columns</p>\n",
       "</div>"
      ],
      "text/plain": [
       "  checking_status  duration credit_history purpose  credit_amount  \\\n",
       "0             A11         6            A34     A43           1169   \n",
       "1             A12        48            A32     A43           5951   \n",
       "2             A14        12            A34     A46           2096   \n",
       "3             A11        42            A32     A42           7882   \n",
       "4             A11        24            A33     A40           4870   \n",
       "\n",
       "  savings_status employment  installment_commitment personal_status  \\\n",
       "0            A65        A75                       4             A93   \n",
       "1            A61        A73                       2             A92   \n",
       "2            A61        A74                       2             A93   \n",
       "3            A61        A74                       2             A93   \n",
       "4            A61        A73                       3             A93   \n",
       "\n",
       "  other_parties  ...  other_payment_plans housing  existing_credits   job  \\\n",
       "0          A101  ...                 A143    A152                 2  A173   \n",
       "1          A101  ...                 A143    A152                 1  A173   \n",
       "2          A101  ...                 A143    A152                 1  A172   \n",
       "3          A103  ...                 A143    A153                 1  A173   \n",
       "4          A101  ...                 A143    A153                 2  A173   \n",
       "\n",
       "  num_dependents  own_telephone foreign_worker  actual     sex  \\\n",
       "0              1           A192           A201    good    male   \n",
       "1              1           A191           A201     bad  female   \n",
       "2              2           A191           A201    good    male   \n",
       "3              2           A191           A201    good    male   \n",
       "4              2           A191           A201     bad    male   \n",
       "\n",
       "               marital_status  \n",
       "0                      single  \n",
       "1  divorced/separated/married  \n",
       "2                      single  \n",
       "3                      single  \n",
       "4                      single  \n",
       "\n",
       "[5 rows x 23 columns]"
      ]
     },
     "execution_count": 6,
     "metadata": {},
     "output_type": "execute_result"
    }
   ],
   "source": [
    "# The \"personal status\" attribute encodes a few different quantities. Let's split them apart.\n",
    "credit_data[['sex', 'marital_status']] = credit_data['personal_status'].map({\n",
    "    'A91': \"male : divorced/separated\",\n",
    "    'A92': \"female : divorced/separated/married\",\n",
    "    'A93': \"male : single\",\n",
    "    'A94': \"male : married/widowed\",\n",
    "    'A95': \"female : single\",\n",
    "}).str.split(\" : \", expand=True)\n",
    "credit_data.head()"
   ]
  },
  {
   "cell_type": "markdown",
   "metadata": {},
   "source": [
    "# Classifying Credit Risk"
   ]
  },
  {
   "cell_type": "markdown",
   "metadata": {},
   "source": [
    "How does credit history relate with current credit risk?"
   ]
  },
  {
   "cell_type": "code",
   "execution_count": 7,
   "metadata": {},
   "outputs": [
    {
     "data": {
      "text/html": [
       "<div>\n",
       "<style scoped>\n",
       "    .dataframe tbody tr th:only-of-type {\n",
       "        vertical-align: middle;\n",
       "    }\n",
       "\n",
       "    .dataframe tbody tr th {\n",
       "        vertical-align: top;\n",
       "    }\n",
       "\n",
       "    .dataframe thead th {\n",
       "        text-align: right;\n",
       "    }\n",
       "</style>\n",
       "<table border=\"1\" class=\"dataframe\">\n",
       "  <thead>\n",
       "    <tr style=\"text-align: right;\">\n",
       "      <th>actual</th>\n",
       "      <th>bad</th>\n",
       "      <th>good</th>\n",
       "    </tr>\n",
       "    <tr>\n",
       "      <th>credit_history</th>\n",
       "      <th></th>\n",
       "      <th></th>\n",
       "    </tr>\n",
       "  </thead>\n",
       "  <tbody>\n",
       "    <tr>\n",
       "      <th>A30</th>\n",
       "      <td>0.625000</td>\n",
       "      <td>0.375000</td>\n",
       "    </tr>\n",
       "    <tr>\n",
       "      <th>A31</th>\n",
       "      <td>0.571429</td>\n",
       "      <td>0.428571</td>\n",
       "    </tr>\n",
       "    <tr>\n",
       "      <th>A32</th>\n",
       "      <td>0.318868</td>\n",
       "      <td>0.681132</td>\n",
       "    </tr>\n",
       "    <tr>\n",
       "      <th>A33</th>\n",
       "      <td>0.318182</td>\n",
       "      <td>0.681818</td>\n",
       "    </tr>\n",
       "    <tr>\n",
       "      <th>A34</th>\n",
       "      <td>0.170648</td>\n",
       "      <td>0.829352</td>\n",
       "    </tr>\n",
       "    <tr>\n",
       "      <th>All</th>\n",
       "      <td>0.300000</td>\n",
       "      <td>0.700000</td>\n",
       "    </tr>\n",
       "  </tbody>\n",
       "</table>\n",
       "</div>"
      ],
      "text/plain": [
       "actual               bad      good\n",
       "credit_history                    \n",
       "A30             0.625000  0.375000\n",
       "A31             0.571429  0.428571\n",
       "A32             0.318868  0.681132\n",
       "A33             0.318182  0.681818\n",
       "A34             0.170648  0.829352\n",
       "All             0.300000  0.700000"
      ]
     },
     "execution_count": 7,
     "metadata": {},
     "output_type": "execute_result"
    }
   ],
   "source": [
    "pd.crosstab(credit_data['credit_history'], credit_data['actual'], margins=True, normalize='index')"
   ]
  },
  {
   "cell_type": "code",
   "execution_count": 8,
   "metadata": {},
   "outputs": [
    {
     "data": {
      "text/html": [
       "<div>\n",
       "<style scoped>\n",
       "    .dataframe tbody tr th:only-of-type {\n",
       "        vertical-align: middle;\n",
       "    }\n",
       "\n",
       "    .dataframe tbody tr th {\n",
       "        vertical-align: top;\n",
       "    }\n",
       "\n",
       "    .dataframe thead th {\n",
       "        text-align: right;\n",
       "    }\n",
       "</style>\n",
       "<table border=\"1\" class=\"dataframe\">\n",
       "  <thead>\n",
       "    <tr style=\"text-align: right;\">\n",
       "      <th></th>\n",
       "      <th>checking_status_A12</th>\n",
       "      <th>checking_status_A13</th>\n",
       "      <th>checking_status_A14</th>\n",
       "      <th>savings_status_A62</th>\n",
       "      <th>savings_status_A63</th>\n",
       "      <th>savings_status_A64</th>\n",
       "      <th>savings_status_A65</th>\n",
       "      <th>credit_history_A31</th>\n",
       "      <th>credit_history_A32</th>\n",
       "      <th>credit_history_A33</th>\n",
       "      <th>credit_history_A34</th>\n",
       "      <th>employment_A72</th>\n",
       "      <th>employment_A73</th>\n",
       "      <th>employment_A74</th>\n",
       "      <th>employment_A75</th>\n",
       "      <th>job_A172</th>\n",
       "      <th>job_A173</th>\n",
       "      <th>job_A174</th>\n",
       "    </tr>\n",
       "  </thead>\n",
       "  <tbody>\n",
       "    <tr>\n",
       "      <th>0</th>\n",
       "      <td>0</td>\n",
       "      <td>0</td>\n",
       "      <td>0</td>\n",
       "      <td>0</td>\n",
       "      <td>0</td>\n",
       "      <td>0</td>\n",
       "      <td>1</td>\n",
       "      <td>0</td>\n",
       "      <td>0</td>\n",
       "      <td>0</td>\n",
       "      <td>1</td>\n",
       "      <td>0</td>\n",
       "      <td>0</td>\n",
       "      <td>0</td>\n",
       "      <td>1</td>\n",
       "      <td>0</td>\n",
       "      <td>1</td>\n",
       "      <td>0</td>\n",
       "    </tr>\n",
       "    <tr>\n",
       "      <th>1</th>\n",
       "      <td>1</td>\n",
       "      <td>0</td>\n",
       "      <td>0</td>\n",
       "      <td>0</td>\n",
       "      <td>0</td>\n",
       "      <td>0</td>\n",
       "      <td>0</td>\n",
       "      <td>0</td>\n",
       "      <td>1</td>\n",
       "      <td>0</td>\n",
       "      <td>0</td>\n",
       "      <td>0</td>\n",
       "      <td>1</td>\n",
       "      <td>0</td>\n",
       "      <td>0</td>\n",
       "      <td>0</td>\n",
       "      <td>1</td>\n",
       "      <td>0</td>\n",
       "    </tr>\n",
       "    <tr>\n",
       "      <th>2</th>\n",
       "      <td>0</td>\n",
       "      <td>0</td>\n",
       "      <td>1</td>\n",
       "      <td>0</td>\n",
       "      <td>0</td>\n",
       "      <td>0</td>\n",
       "      <td>0</td>\n",
       "      <td>0</td>\n",
       "      <td>0</td>\n",
       "      <td>0</td>\n",
       "      <td>1</td>\n",
       "      <td>0</td>\n",
       "      <td>0</td>\n",
       "      <td>1</td>\n",
       "      <td>0</td>\n",
       "      <td>1</td>\n",
       "      <td>0</td>\n",
       "      <td>0</td>\n",
       "    </tr>\n",
       "    <tr>\n",
       "      <th>3</th>\n",
       "      <td>0</td>\n",
       "      <td>0</td>\n",
       "      <td>0</td>\n",
       "      <td>0</td>\n",
       "      <td>0</td>\n",
       "      <td>0</td>\n",
       "      <td>0</td>\n",
       "      <td>0</td>\n",
       "      <td>1</td>\n",
       "      <td>0</td>\n",
       "      <td>0</td>\n",
       "      <td>0</td>\n",
       "      <td>0</td>\n",
       "      <td>1</td>\n",
       "      <td>0</td>\n",
       "      <td>0</td>\n",
       "      <td>1</td>\n",
       "      <td>0</td>\n",
       "    </tr>\n",
       "    <tr>\n",
       "      <th>4</th>\n",
       "      <td>0</td>\n",
       "      <td>0</td>\n",
       "      <td>0</td>\n",
       "      <td>0</td>\n",
       "      <td>0</td>\n",
       "      <td>0</td>\n",
       "      <td>0</td>\n",
       "      <td>0</td>\n",
       "      <td>0</td>\n",
       "      <td>1</td>\n",
       "      <td>0</td>\n",
       "      <td>0</td>\n",
       "      <td>1</td>\n",
       "      <td>0</td>\n",
       "      <td>0</td>\n",
       "      <td>0</td>\n",
       "      <td>1</td>\n",
       "      <td>0</td>\n",
       "    </tr>\n",
       "  </tbody>\n",
       "</table>\n",
       "</div>"
      ],
      "text/plain": [
       "   checking_status_A12  checking_status_A13  checking_status_A14  \\\n",
       "0                    0                    0                    0   \n",
       "1                    1                    0                    0   \n",
       "2                    0                    0                    1   \n",
       "3                    0                    0                    0   \n",
       "4                    0                    0                    0   \n",
       "\n",
       "   savings_status_A62  savings_status_A63  savings_status_A64  \\\n",
       "0                   0                   0                   0   \n",
       "1                   0                   0                   0   \n",
       "2                   0                   0                   0   \n",
       "3                   0                   0                   0   \n",
       "4                   0                   0                   0   \n",
       "\n",
       "   savings_status_A65  credit_history_A31  credit_history_A32  \\\n",
       "0                   1                   0                   0   \n",
       "1                   0                   0                   1   \n",
       "2                   0                   0                   0   \n",
       "3                   0                   0                   1   \n",
       "4                   0                   0                   0   \n",
       "\n",
       "   credit_history_A33  credit_history_A34  employment_A72  employment_A73  \\\n",
       "0                   0                   1               0               0   \n",
       "1                   0                   0               0               1   \n",
       "2                   0                   1               0               0   \n",
       "3                   0                   0               0               0   \n",
       "4                   1                   0               0               1   \n",
       "\n",
       "   employment_A74  employment_A75  job_A172  job_A173  job_A174  \n",
       "0               0               1         0         1         0  \n",
       "1               0               0         0         1         0  \n",
       "2               1               0         1         0         0  \n",
       "3               1               0         0         1         0  \n",
       "4               0               0         0         1         0  "
      ]
     },
     "execution_count": 8,
     "metadata": {},
     "output_type": "execute_result"
    }
   ],
   "source": [
    "X = pd.get_dummies(credit_data[['checking_status', 'savings_status', 'credit_history', 'employment', 'job']], drop_first=True)\n",
    "X.head()"
   ]
  },
  {
   "cell_type": "code",
   "execution_count": 9,
   "metadata": {},
   "outputs": [
    {
     "name": "stdout",
     "output_type": "stream",
     "text": [
      "Fraction of 'good' customers in the dataset: 0.7\n"
     ]
    }
   ],
   "source": [
    "y_true = (credit_data['actual'] == 'good').astype(int)\n",
    "\n",
    "# Compute the \"prevalence\" (see https://en.wikipedia.org/wiki/Sensitivity_and_specificity#Confusion_matrix)\n",
    "total_population = len(credit_data)\n",
    "total_positive = np.sum(y_true)\n",
    "prevalence = total_positive / total_population\n",
    "print(\"Fraction of 'good' customers in the dataset:\", prevalence)"
   ]
  },
  {
   "cell_type": "markdown",
   "metadata": {},
   "source": [
    "In lab we tried using a Linear Regression to make this score.\n",
    "\n",
    "```\n",
    "clf = LinearRegression().fit(X, y_true)\n",
    "```\n",
    "\n",
    "Logistic Regression uses the same kind of linear model to create a score, but it accounts for the fact that a difference of, say, plus or minus 1.0 in the score makes a bigger difference when the score is close to the decision boundary. Notice the following things about `LogisticRegression`:\n",
    "\n",
    "* The interface is almost identical to `LinearRegression`, at least in the case of a binary classification (e.g., good vs bad credit).\n",
    "* The `predict` function gives the classifier's single decision. If we want the *score*, we need to ask it for the `decision_function`.\n",
    "* The `decision_function` is very much like `LinearRegression`'s `.predict`, but the score is defined such that positive scores correspond to a decision of \"1\" and negative scores to \"0\". This makes more sense when we extend to more than two classes."
   ]
  },
  {
   "cell_type": "code",
   "execution_count": 10,
   "metadata": {},
   "outputs": [],
   "source": [
    "clf = LogisticRegression(solver='lbfgs').fit(X, y_true)"
   ]
  },
  {
   "cell_type": "code",
   "execution_count": 11,
   "metadata": {},
   "outputs": [
    {
     "data": {
      "text/plain": [
       "(1000,)"
      ]
     },
     "execution_count": 11,
     "metadata": {},
     "output_type": "execute_result"
    }
   ],
   "source": [
    "predicted_score = clf.decision_function(X)\n",
    "predicted_score.shape"
   ]
  },
  {
   "cell_type": "code",
   "execution_count": 12,
   "metadata": {},
   "outputs": [
    {
     "data": {
      "image/png": "[encoded data removed]",
      "text/plain": [
       "<Figure size 432x288 with 1 Axes>"
      ]
     },
     "metadata": {
      "needs_background": "light"
     },
     "output_type": "display_data"
    }
   ],
   "source": [
    "plt.hist(predicted_score);"
   ]
  },
  {
   "cell_type": "markdown",
   "metadata": {},
   "source": [
    "Let's make a prediction by thresholding the score. First we'll try setting a threshold at 0. To summarize how this threshold does, we can plot the \"confusion matrix\". We'll use a function (defined up top) to make a nice plot."
   ]
  },
  {
   "cell_type": "code",
   "execution_count": 13,
   "metadata": {},
   "outputs": [
    {
     "name": "stdout",
     "output_type": "stream",
     "text": [
      "First 5 predictions: [1 1 1 1 0]\n"
     ]
    },
    {
     "data": {
      "image/png": "[encoded data removed]",
      "text/plain": [
       "<Figure size 432x288 with 2 Axes>"
      ]
     },
     "metadata": {
      "needs_background": "light"
     },
     "output_type": "display_data"
    }
   ],
   "source": [
    "predicted = (predicted_score > 0.).astype(int)\n",
    "print(\"First 5 predictions:\", predicted[:5])\n",
    "plot_confusion_matrix(y_true, predicted, classes=[\"Bad\", \"Good\"])"
   ]
  },
  {
   "cell_type": "markdown",
   "metadata": {},
   "source": [
    "## Exercise 1: Try a different threshold.\n",
    "**Change the threshold so that all four boxes are non-zero**."
   ]
  },
  {
   "cell_type": "code",
   "execution_count": 14,
   "metadata": {},
   "outputs": [
    {
     "name": "stdout",
     "output_type": "stream",
     "text": [
      "First 5 predictions: [0 0 1 0 0]\n"
     ]
    },
    {
     "data": {
      "image/png": "[encoded data removed]",
      "text/plain": [
       "<Figure size 432x288 with 2 Axes>"
      ]
     },
     "metadata": {
      "needs_background": "light"
     },
     "output_type": "display_data"
    }
   ],
   "source": [
    "predicted = (predicted_score > REFERENCE(1.753, \"0.\")).astype(int)\n",
    "print(\"First 5 predictions:\", predicted[:5])\n",
    "plot_confusion_matrix(y_true, predicted, classes=[\"Bad\", \"Good\"])"
   ]
  },
  {
   "cell_type": "markdown",
   "metadata": {},
   "source": [
    "## Exercise 2: Label false positives vs false negatives\n",
    "Fill in the following cell with the counts corresponding to the threshold you chose in Exercise 1.\n",
    "\n",
    "You may refer to the reading to clarify the definitions."
   ]
  },
  {
   "cell_type": "markdown",
   "metadata": {},
   "source": [
    "* True positives: **###**\n",
    "* True negatives: **###**\n",
    "* False positives: **###**\n",
    "* False negatives: **###**"
   ]
  },
  {
   "cell_type": "markdown",
   "metadata": {},
   "source": [
    "# Exercise 3: Write expressions to calculate FP/FN"
   ]
  },
  {
   "cell_type": "markdown",
   "metadata": {},
   "source": [
    "Fill in the blanks in the following cell:"
   ]
  },
  {
   "cell_type": "code",
   "execution_count": 15,
   "metadata": {},
   "outputs": [
    {
     "name": "stdout",
     "output_type": "stream",
     "text": [
      "True positives: 268\n",
      "True negatives: 272\n",
      "False positives: 28\n",
      "False negatives: 432\n"
     ]
    }
   ],
   "source": [
    "true_positives = np.sum((predicted == 1) & (y_true == 1))\n",
    "true_negatives = np.sum((predicted == 0) & (y_true == 0))\n",
    "false_positives = REFERENCE(np.sum((predicted == 1) & (y_true == 0)), \"...\")\n",
    "false_negatives = REFERENCE(np.sum((predicted == 0) & (y_true == 1)), \"...\")\n",
    "\n",
    "print(\"True positives:\", true_positives)\n",
    "print(\"True negatives:\", true_negatives)\n",
    "print(\"False positives:\", false_positives)\n",
    "print(\"False negatives:\", false_negatives)"
   ]
  },
  {
   "cell_type": "markdown",
   "metadata": {},
   "source": [
    "# Exercise 4: Compute derived quantities\n",
    "Fill in the blanks in the following cell:"
   ]
  },
  {
   "cell_type": "code",
   "execution_count": 16,
   "metadata": {},
   "outputs": [
    {
     "name": "stdout",
     "output_type": "stream",
     "text": [
      "Precision: Ellipsis\n",
      "Recall: Ellipsis\n",
      "Positive rate: Ellipsis\n",
      "True positive rate Ellipsis\n"
     ]
    }
   ],
   "source": [
    "print(\"Precision:\", ...)\n",
    "print(\"Recall:\", ...)\n",
    "print(\"Positive rate:\", ...)\n",
    "print(\"True positive rate\", ...)"
   ]
  },
  {
   "cell_type": "markdown",
   "metadata": {},
   "source": [
    "# Exercise 5: Calculate cost"
   ]
  },
  {
   "cell_type": "markdown",
   "metadata": {},
   "source": [
    "According to the dataset description (see above), the bank assigned a cost of *5* to giving a loan to a \"bad\" customer (presumably because the customer defaulted on the loan) but a cost of only *1* to not giving a loan to a customer who actually would have been good (presumably because they would have paid the loan back with interest).\n",
    "\n",
    "*Using your variables for `true_positive`, `true_negative`, `false_positive` and `false_negative`*, **fill in the blanks in the following cell** to *calculate* the cost to the bank associated with the threshold you chose. You may not need to use all four variables."
   ]
  },
  {
   "cell_type": "code",
   "execution_count": 17,
   "metadata": {},
   "outputs": [
    {
     "name": "stdout",
     "output_type": "stream",
     "text": [
      "Cost to bank is 572.0, an average of 0.57 per person\n"
     ]
    }
   ],
   "source": [
    "cost_to_bank = REFERENCE(5 * false_positives + 1 * false_negatives, \"...\")\n",
    "avg_cost_per_person = cost_to_bank / total_population\n",
    "print(f\"Cost to bank is {cost_to_bank:.1f}, an average of {avg_cost_per_person:.2f} per person\")"
   ]
  },
  {
   "cell_type": "markdown",
   "metadata": {},
   "source": [
    "# Exercise 6: Minimize cost (maximize profit)"
   ]
  },
  {
   "cell_type": "markdown",
   "metadata": {},
   "source": [
    "1. Use your answers to the previous exercises to fill in the blanks in the code below that plots cost vs threshold.\n",
    "2. Use that plot (and perhaps `results.sort_values`) to select a threshold value.\n",
    "3. Go back to Exercise 1 and put this threshold value there.\n",
    "4. Report the threshold value and its corresponding cost, positive rate, and true positive rate. (You can re-run the calculations above with your new threshold to get these numbers, but write them here for reference.)"
   ]
  },
  {
   "cell_type": "code",
   "execution_count": 18,
   "metadata": {},
   "outputs": [],
   "source": [
    "# Note: this is a common pattern for collecting data into a Pandas DataFrame.\n",
    "results = []\n",
    "for threshold in np.linspace(np.min(predicted_score), np.max(predicted_score), 100):\n",
    "    predicted = (predicted_score > threshold).astype(int)\n",
    "    \n",
    "    with REFBLOCK():\n",
    "        false_positives = np.sum((predicted == 1) & (y_true == 0))\n",
    "        false_negatives = np.sum((predicted == 0) & (y_true == 1))\n",
    "        cost_to_bank = 5 * false_positives + 1 * false_negatives\n",
    "        avg_cost_per_person = cost_to_bank / total_population\n",
    "\n",
    "    results.append({\n",
    "        \"threshold\": threshold,\n",
    "        \"avg_cost\": avg_cost_per_person\n",
    "    })\n",
    "results = pd.DataFrame(results)"
   ]
  },
  {
   "cell_type": "code",
   "execution_count": 19,
   "metadata": {},
   "outputs": [
    {
     "data": {
      "image/png": "[encoded data removed]",
      "text/plain": [
       "<Figure size 432x288 with 1 Axes>"
      ]
     },
     "metadata": {
      "needs_background": "light"
     },
     "output_type": "display_data"
    }
   ],
   "source": [
    "# It's almost always a good idea to separate the code that *makes a plot* from the code that *generates the data*. \n",
    "plt.plot(results.threshold, results.avg_cost)\n",
    "plt.xlabel(\"Score threshold\")\n",
    "plt.ylabel(\"Cost for the bank, per person\");"
   ]
  },
  {
   "cell_type": "code",
   "execution_count": 20,
   "metadata": {},
   "outputs": [
    {
     "data": {
      "text/plain": [
       "avg_cost     0.547000\n",
       "threshold    1.458961\n",
       "Name: 59, dtype: float64"
      ]
     },
     "metadata": {},
     "output_type": "display_data"
    }
   ],
   "source": [
    "with REFBLOCK():\n",
    "    display(results.sort_values('avg_cost').iloc[0])"
   ]
  },
  {
   "cell_type": "code",
   "execution_count": 21,
   "metadata": {},
   "outputs": [
    {
     "name": "stdout",
     "output_type": "stream",
     "text": [
      "My selected threshold was 1.458961\n",
      "At that threshold, the cost to the bank is 547\n",
      "... the positive rate is 0.381\n",
      "... and the true positive rate is 0.343\n"
     ]
    }
   ],
   "source": [
    "threshold = REFERENCE(1.458961, \"...\")\n",
    "predicted = (predicted_score > threshold).astype(int)\n",
    "with REFBLOCK():\n",
    "    false_positives = np.sum((predicted == 1) & (y_true == 0))\n",
    "    false_negatives = np.sum((predicted == 0) & (y_true == 1))\n",
    "    cost = 5 * false_positives + 1 * false_negatives\n",
    "\n",
    "    positive_rate = np.sum(predicted == 1) / total_population\n",
    "    true_positives = np.sum((predicted == 1) & (y_true == 1))\n",
    "    true_positive_rate = true_positives / total_population\n",
    "\n",
    "print(\"My selected threshold was\", threshold)\n",
    "print(\"At that threshold, the cost to the bank is\", cost)\n",
    "print(\"... the positive rate is\", positive_rate)\n",
    "print(\"... and the true positive rate is\", true_positive_rate)\n"
   ]
  },
  {
   "cell_type": "markdown",
   "metadata": {},
   "source": [
    "# Exercise 7: Evaluating Ageism\n",
    "\n",
    "The [Equal Credit Opportunity Act (ECOA)](https://www.consumer.ftc.gov/articles/0347-your-equal-credit-opportunity-rights) protects against lending discrimination on the basis of age. The Treasury Dept's [summary](https://www.occ.treas.gov/topics/consumers-and-communities/consumer-protection/fair-lending/index-fair-lending.html) says that \"A lender's policies, *even when applied equally to all its credit applicants*, may have a negative effect on certain applicants.\" (emphasis mine.)\n",
    "\n",
    "Even though our classifier does not consider age as a factor in making a decision, it is possible that it has *disparate impact* depending on an individual's age.\n",
    "\n",
    "**Fill in the blanks in the following cell** to evaluate the classifier *that uses the threshold you chose above*."
   ]
  },
  {
   "cell_type": "code",
   "execution_count": 22,
   "metadata": {},
   "outputs": [],
   "source": [
    "credit_data['age_bin'] = np.where(credit_data['age'] >= 25, \">= 25\", \"< 25\")"
   ]
  },
  {
   "cell_type": "code",
   "execution_count": 23,
   "metadata": {},
   "outputs": [
    {
     "name": "stdout",
     "output_type": "stream",
     "text": [
      "149 young, 851 old\n",
      "The positive rate is 0.23 for young and 0.41 for old\n",
      "The true positive rate is 0.18 for young and 0.37 for old\n"
     ]
    }
   ],
   "source": [
    "threshold = REFERENCE(1.458961, \"...\")\n",
    "predicted = (predicted_score > threshold).astype(int)\n",
    "\n",
    "age = credit_data['age_bin']\n",
    "num_young = np.sum(age == '< 25')\n",
    "num_old = np.sum(age == '>= 25')\n",
    "print(f\"{num_young} young, {num_old} old\")\n",
    "\n",
    "true_positives_young = np.sum((predicted == 1) & (y_true == 1) & (age == '< 25'))\n",
    "true_positives_old = np.sum((predicted == 1) & (y_true == 1) & (age == '>= 25'))\n",
    "\n",
    "positive_rate_young = REFERENCE(np.sum((predicted == 1) & (age == '< 25')) / num_young, \"...\")\n",
    "positive_rate_old = REFERENCE(np.sum((predicted == 1) & (age == '>= 25')) / num_old, \"...\")\n",
    "\n",
    "true_positive_rate_young = REFERENCE(true_positives_young / num_young, \"...\")\n",
    "true_positive_rate_old = REFERENCE(true_positives_old / num_old, \"...\")\n",
    "\n",
    "print(f\"The positive rate is {positive_rate_young:.2f} for young and {positive_rate_old:.2f} for old\")\n",
    "print(f\"The true positive rate is {true_positive_rate_young:.2f} for young and {true_positive_rate_old:.2f} for old\")"
   ]
  },
  {
   "cell_type": "markdown",
   "metadata": {},
   "source": [
    "# Exercise 8\n",
    "1. Does this classifier exhibit **demographic parity**? Explain.\n",
    "2. Does this classifier exhibit **equal opportunity** (considering \"good\" as the \"favorable\" class)? Explain.\n",
    "\n",
    "Refer to the readings to remind yourself of the definitions of these terms."
   ]
  },
  {
   "cell_type": "markdown",
   "metadata": {},
   "source": [
    "1. *Your answer here*\n",
    "2. *Your answer here*"
   ]
  },
  {
   "cell_type": "markdown",
   "metadata": {},
   "source": [
    "Fill in the blanks in the following cell to make plots by age."
   ]
  },
  {
   "cell_type": "code",
   "execution_count": 24,
   "metadata": {},
   "outputs": [
    {
     "data": {
      "text/html": [
       "<div>\n",
       "<style scoped>\n",
       "    .dataframe tbody tr th:only-of-type {\n",
       "        vertical-align: middle;\n",
       "    }\n",
       "\n",
       "    .dataframe tbody tr th {\n",
       "        vertical-align: top;\n",
       "    }\n",
       "\n",
       "    .dataframe thead th {\n",
       "        text-align: right;\n",
       "    }\n",
       "</style>\n",
       "<table border=\"1\" class=\"dataframe\">\n",
       "  <thead>\n",
       "    <tr style=\"text-align: right;\">\n",
       "      <th></th>\n",
       "      <th>age</th>\n",
       "      <th>avg_cost</th>\n",
       "      <th>positive_rate</th>\n",
       "      <th>threshold</th>\n",
       "      <th>true_positive_rate</th>\n",
       "    </tr>\n",
       "  </thead>\n",
       "  <tbody>\n",
       "    <tr>\n",
       "      <th>0</th>\n",
       "      <td>&lt; 25</td>\n",
       "      <td>2.046980</td>\n",
       "      <td>1.000000</td>\n",
       "      <td>-1.542171</td>\n",
       "      <td>0.590604</td>\n",
       "    </tr>\n",
       "    <tr>\n",
       "      <th>1</th>\n",
       "      <td>&gt;= 25</td>\n",
       "      <td>1.405405</td>\n",
       "      <td>0.998825</td>\n",
       "      <td>-1.542171</td>\n",
       "      <td>0.717979</td>\n",
       "    </tr>\n",
       "    <tr>\n",
       "      <th>2</th>\n",
       "      <td>&lt; 25</td>\n",
       "      <td>2.046980</td>\n",
       "      <td>1.000000</td>\n",
       "      <td>-1.491304</td>\n",
       "      <td>0.590604</td>\n",
       "    </tr>\n",
       "    <tr>\n",
       "      <th>3</th>\n",
       "      <td>&gt;= 25</td>\n",
       "      <td>1.405405</td>\n",
       "      <td>0.998825</td>\n",
       "      <td>-1.491304</td>\n",
       "      <td>0.717979</td>\n",
       "    </tr>\n",
       "    <tr>\n",
       "      <th>4</th>\n",
       "      <td>&lt; 25</td>\n",
       "      <td>2.046980</td>\n",
       "      <td>1.000000</td>\n",
       "      <td>-1.440438</td>\n",
       "      <td>0.590604</td>\n",
       "    </tr>\n",
       "  </tbody>\n",
       "</table>\n",
       "</div>"
      ],
      "text/plain": [
       "     age  avg_cost  positive_rate  threshold  true_positive_rate\n",
       "0   < 25  2.046980       1.000000  -1.542171            0.590604\n",
       "1  >= 25  1.405405       0.998825  -1.542171            0.717979\n",
       "2   < 25  2.046980       1.000000  -1.491304            0.590604\n",
       "3  >= 25  1.405405       0.998825  -1.491304            0.717979\n",
       "4   < 25  2.046980       1.000000  -1.440438            0.590604"
      ]
     },
     "execution_count": 24,
     "metadata": {},
     "output_type": "execute_result"
    }
   ],
   "source": [
    "results_age = []\n",
    "for threshold in np.linspace(np.min(predicted_score), np.max(predicted_score), 100):\n",
    "    predicted = (predicted_score > threshold).astype(int)\n",
    "    \n",
    "    for cur_age in ['< 25', '>= 25']:\n",
    "        num_of_this_age = np.sum(age == cur_age)\n",
    "        true_positives_age = np.sum((predicted == 1) & (y_true == 1) & (age == cur_age))\n",
    "\n",
    "        with REFBLOCK():\n",
    "            false_positives_age = np.sum((predicted == 1) & (y_true == 0) & (age == cur_age))\n",
    "            false_negatives_age = np.sum((predicted == 0) & (y_true == 1) & (age == cur_age))\n",
    "            positives_age = np.sum((predicted == 1) & (age == cur_age))\n",
    "            cost_age = 5 * false_positives_age + 1 * false_negatives_age\n",
    "\n",
    "        results_age.append({\n",
    "            \"age\": cur_age,\n",
    "            \"threshold\": threshold,\n",
    "            \"avg_cost\": cost_age / num_of_this_age,\n",
    "            \"positive_rate\": REFERENCE(positives_age / num_of_this_age, '...'),\n",
    "            \"true_positive_rate\": REFERENCE(true_positives_age / num_of_this_age, '...')\n",
    "        })\n",
    "results_age = pd.DataFrame(results_age)\n",
    "results_age.head()"
   ]
  },
  {
   "cell_type": "code",
   "execution_count": 25,
   "metadata": {},
   "outputs": [
    {
     "data": {
      "text/html": [
       "<div>\n",
       "<style scoped>\n",
       "    .dataframe tbody tr th:only-of-type {\n",
       "        vertical-align: middle;\n",
       "    }\n",
       "\n",
       "    .dataframe tbody tr th {\n",
       "        vertical-align: top;\n",
       "    }\n",
       "\n",
       "    .dataframe thead th {\n",
       "        text-align: right;\n",
       "    }\n",
       "</style>\n",
       "<table border=\"1\" class=\"dataframe\">\n",
       "  <thead>\n",
       "    <tr style=\"text-align: right;\">\n",
       "      <th></th>\n",
       "      <th>threshold</th>\n",
       "      <th>age</th>\n",
       "      <th>measure</th>\n",
       "      <th>value</th>\n",
       "    </tr>\n",
       "  </thead>\n",
       "  <tbody>\n",
       "    <tr>\n",
       "      <th>0</th>\n",
       "      <td>-1.542171</td>\n",
       "      <td>&lt; 25</td>\n",
       "      <td>avg_cost</td>\n",
       "      <td>2.046980</td>\n",
       "    </tr>\n",
       "    <tr>\n",
       "      <th>1</th>\n",
       "      <td>-1.542171</td>\n",
       "      <td>&gt;= 25</td>\n",
       "      <td>avg_cost</td>\n",
       "      <td>1.405405</td>\n",
       "    </tr>\n",
       "    <tr>\n",
       "      <th>2</th>\n",
       "      <td>-1.491304</td>\n",
       "      <td>&lt; 25</td>\n",
       "      <td>avg_cost</td>\n",
       "      <td>2.046980</td>\n",
       "    </tr>\n",
       "    <tr>\n",
       "      <th>3</th>\n",
       "      <td>-1.491304</td>\n",
       "      <td>&gt;= 25</td>\n",
       "      <td>avg_cost</td>\n",
       "      <td>1.405405</td>\n",
       "    </tr>\n",
       "    <tr>\n",
       "      <th>4</th>\n",
       "      <td>-1.440438</td>\n",
       "      <td>&lt; 25</td>\n",
       "      <td>avg_cost</td>\n",
       "      <td>2.046980</td>\n",
       "    </tr>\n",
       "  </tbody>\n",
       "</table>\n",
       "</div>"
      ],
      "text/plain": [
       "   threshold    age   measure     value\n",
       "0  -1.542171   < 25  avg_cost  2.046980\n",
       "1  -1.542171  >= 25  avg_cost  1.405405\n",
       "2  -1.491304   < 25  avg_cost  2.046980\n",
       "3  -1.491304  >= 25  avg_cost  1.405405\n",
       "4  -1.440438   < 25  avg_cost  2.046980"
      ]
     },
     "execution_count": 25,
     "metadata": {},
     "output_type": "execute_result"
    }
   ],
   "source": [
    "results_age_tidy = pd.melt(results_age, id_vars=['threshold', 'age'], var_name=\"measure\")\n",
    "results_age_tidy.head()"
   ]
  },
  {
   "cell_type": "code",
   "execution_count": 26,
   "metadata": {},
   "outputs": [
    {
     "data": {
      "text/plain": [
       "<seaborn.axisgrid.FacetGrid at 0x1a1dcaf780>"
      ]
     },
     "execution_count": 26,
     "metadata": {},
     "output_type": "execute_result"
    },
    {
     "data": {
      "image/png": "[encoded data removed]",
      "text/plain": [
       "<Figure size 1147.47x360 with 3 Axes>"
      ]
     },
     "metadata": {
      "needs_background": "light"
     },
     "output_type": "display_data"
    }
   ],
   "source": [
    "sns.relplot(\n",
    "    x=\"threshold\", y=\"value\", hue=\"age\",\n",
    "    col=\"measure\", facet_kws={'sharey': False},\n",
    "    kind='line',\n",
    "    data=results_age_tidy\n",
    ")"
   ]
  },
  {
   "cell_type": "markdown",
   "metadata": {},
   "source": [
    "# Exercise 9: Making a fairer classifier (maybe)\n",
    "Pick one of \"demographic parity\" or \"equal opportunity\".\n",
    "\n",
    "Use the charts above to select **two different thresholds**, one for each age group, that lead to a fairer classification by that metric. Fill in the code below to evaluate the fairness of your classifier as well as its cost to the bank."
   ]
  },
  {
   "cell_type": "code",
   "execution_count": 27,
   "metadata": {},
   "outputs": [
    {
     "name": "stdout",
     "output_type": "stream",
     "text": [
      "149 young, 851 old\n",
      "The average cost per person is 0.59\n",
      "The positive rate is 0.33 for young and 0.27 for old\n",
      "The true positive rate is 0.26 for young and 0.25 for old\n"
     ]
    }
   ],
   "source": [
    "threshold_young = REFERENCE(1.0, \"...\")\n",
    "threshold_old = REFERENCE(2.0, \"...\")\n",
    "predicted = (predicted_score > np.where(age == \">= 25\", threshold_old, threshold_young)).astype(int)\n",
    "\n",
    "age = credit_data['age_bin']\n",
    "num_young = np.sum(age == '< 25')\n",
    "num_old = np.sum(age == '>= 25')\n",
    "print(f\"{num_young} young, {num_old} old\")\n",
    "\n",
    "true_positives_young = np.sum((predicted == 1) & (y_true == 1) & (age == '< 25'))\n",
    "true_positives_old = np.sum((predicted == 1) & (y_true == 1) & (age == '>= 25'))\n",
    "\n",
    "positive_rate_young = REFERENCE(np.sum((predicted == 1) & (age == '< 25')) / num_young, \"...\")\n",
    "positive_rate_old = REFERENCE(np.sum((predicted == 1) & (age == '>= 25')) / num_old, \"...\")\n",
    "\n",
    "true_positive_rate_young = REFERENCE(true_positives_young / num_young, \"...\")\n",
    "true_positive_rate_old = REFERENCE(true_positives_old / num_old, \"...\")\n",
    "\n",
    "with REFBLOCK():\n",
    "    false_positives = np.sum((predicted == 1) & (y_true == 0))\n",
    "    false_negatives = np.sum((predicted == 0) & (y_true == 1))\n",
    "    cost_to_bank = 5 * false_positives + 1 * false_negatives\n",
    "    avg_cost_per_person = cost_to_bank / total_population\n",
    "\n",
    "print(f\"The average cost per person is {avg_cost_per_person:.2f}\")\n",
    "print(f\"The positive rate is {positive_rate_young:.2f} for young and {positive_rate_old:.2f} for old\")\n",
    "print(f\"The true positive rate is {true_positive_rate_young:.2f} for young and {true_positive_rate_old:.2f} for old\")"
   ]
  },
  {
   "cell_type": "markdown",
   "metadata": {},
   "source": [
    "# Exercise 10: Reflection\n",
    "\n",
    "1. Does your new classifier exhibit **demographic parity**? Explain.\n",
    "2. Does your new classifier exhibit **equal opportunity** (considering \"good\" as the \"favorable\" class)? Explain.\n",
    "3. Suppose you were going to recommend that the bank use a specific classifier. (a) How would you *choose the thresholds* for this classifier? (b) How would you *argue to the bank* that your choice of thresholds is *good*, in light of considerations of cost (profit) and fairness?"
   ]
  },
  {
   "cell_type": "markdown",
   "metadata": {},
   "source": [
    "1. *your answer here*\n",
    "2. *your answer here*\n",
    "3. \n",
    "    1. *your answer here*\n",
    "    2. *your answer here*"
   ]
  }
 ],
 "metadata": {
  "kernelspec": {
   "display_name": "Python 3",
   "language": "python",
   "name": "python3"
  },
  "language_info": {
   "codemirror_mode": {
    "name": "ipython",
    "version": 3
   },
   "file_extension": ".py",
   "mimetype": "text/x-python",
   "name": "python",
   "nbconvert_exporter": "python",
   "pygments_lexer": "ipython3",
   "version": "3.7.3"
  }
 },
 "nbformat": 4,
 "nbformat_minor": 2
}
