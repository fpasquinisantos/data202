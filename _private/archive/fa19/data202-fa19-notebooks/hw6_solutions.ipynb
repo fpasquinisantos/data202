{
 "cells": [
  {
   "cell_type": "code",
   "execution_count": 1,
   "metadata": {},
   "outputs": [],
   "source": [
    "import pandas as pd\n",
    "from pandas.tseries.holiday import USFederalHolidayCalendar\n",
    "import datetime"
   ]
  },
  {
   "cell_type": "code",
   "execution_count": 2,
   "metadata": {},
   "outputs": [
    {
     "name": "stdout",
     "output_type": "stream",
     "text": [
      "<class 'pandas.core.frame.DataFrame'>\n",
      "RangeIndex: 1226767 entries, 0 to 1226766\n",
      "Data columns (total 9 columns):\n",
      "Duration                1226767 non-null int64\n",
      "Start date              1226767 non-null object\n",
      "End date                1226767 non-null object\n",
      "Start station number    1226767 non-null int64\n",
      "Start station           1226767 non-null object\n",
      "End station number      1226767 non-null int64\n",
      "End station             1226767 non-null object\n",
      "Bike number             1226767 non-null object\n",
      "Member type             1226767 non-null object\n",
      "dtypes: int64(3), object(6)\n",
      "memory usage: 84.2+ MB\n"
     ]
    }
   ],
   "source": [
    "rides = pd.read_csv(\"2011-capitalbikeshare-tripdata.zip\")\n",
    "rides.info()"
   ]
  },
  {
   "cell_type": "code",
   "execution_count": 3,
   "metadata": {},
   "outputs": [
    {
     "data": {
      "text/html": [
       "<div>\n",
       "<style scoped>\n",
       "    .dataframe tbody tr th:only-of-type {\n",
       "        vertical-align: middle;\n",
       "    }\n",
       "\n",
       "    .dataframe tbody tr th {\n",
       "        vertical-align: top;\n",
       "    }\n",
       "\n",
       "    .dataframe thead th {\n",
       "        text-align: right;\n",
       "    }\n",
       "</style>\n",
       "<table border=\"1\" class=\"dataframe\">\n",
       "  <thead>\n",
       "    <tr style=\"text-align: right;\">\n",
       "      <th></th>\n",
       "      <th>Duration</th>\n",
       "      <th>Start date</th>\n",
       "      <th>End date</th>\n",
       "      <th>Start station number</th>\n",
       "      <th>Start station</th>\n",
       "      <th>End station number</th>\n",
       "      <th>End station</th>\n",
       "      <th>Bike number</th>\n",
       "      <th>Member type</th>\n",
       "    </tr>\n",
       "  </thead>\n",
       "  <tbody>\n",
       "    <tr>\n",
       "      <th>0</th>\n",
       "      <td>3548</td>\n",
       "      <td>2011-01-01 00:01:29</td>\n",
       "      <td>2011-01-01 01:00:37</td>\n",
       "      <td>31620</td>\n",
       "      <td>5th &amp; F St NW</td>\n",
       "      <td>31620</td>\n",
       "      <td>5th &amp; F St NW</td>\n",
       "      <td>W00247</td>\n",
       "      <td>Member</td>\n",
       "    </tr>\n",
       "    <tr>\n",
       "      <th>1</th>\n",
       "      <td>346</td>\n",
       "      <td>2011-01-01 00:02:46</td>\n",
       "      <td>2011-01-01 00:08:32</td>\n",
       "      <td>31105</td>\n",
       "      <td>14th &amp; Harvard St NW</td>\n",
       "      <td>31101</td>\n",
       "      <td>14th &amp; V St NW</td>\n",
       "      <td>W00675</td>\n",
       "      <td>Casual</td>\n",
       "    </tr>\n",
       "    <tr>\n",
       "      <th>2</th>\n",
       "      <td>562</td>\n",
       "      <td>2011-01-01 00:06:13</td>\n",
       "      <td>2011-01-01 00:15:36</td>\n",
       "      <td>31400</td>\n",
       "      <td>Georgia &amp; New Hampshire Ave NW</td>\n",
       "      <td>31104</td>\n",
       "      <td>Adams Mill &amp; Columbia Rd NW</td>\n",
       "      <td>W00357</td>\n",
       "      <td>Member</td>\n",
       "    </tr>\n",
       "    <tr>\n",
       "      <th>3</th>\n",
       "      <td>434</td>\n",
       "      <td>2011-01-01 00:09:21</td>\n",
       "      <td>2011-01-01 00:16:36</td>\n",
       "      <td>31111</td>\n",
       "      <td>10th &amp; U St NW</td>\n",
       "      <td>31503</td>\n",
       "      <td>Florida Ave &amp; R St NW</td>\n",
       "      <td>W00970</td>\n",
       "      <td>Member</td>\n",
       "    </tr>\n",
       "    <tr>\n",
       "      <th>4</th>\n",
       "      <td>233</td>\n",
       "      <td>2011-01-01 00:28:26</td>\n",
       "      <td>2011-01-01 00:32:19</td>\n",
       "      <td>31104</td>\n",
       "      <td>Adams Mill &amp; Columbia Rd NW</td>\n",
       "      <td>31106</td>\n",
       "      <td>Calvert &amp; Biltmore St NW</td>\n",
       "      <td>W00346</td>\n",
       "      <td>Casual</td>\n",
       "    </tr>\n",
       "  </tbody>\n",
       "</table>\n",
       "</div>"
      ],
      "text/plain": [
       "   Duration           Start date             End date  Start station number  \\\n",
       "0      3548  2011-01-01 00:01:29  2011-01-01 01:00:37                 31620   \n",
       "1       346  2011-01-01 00:02:46  2011-01-01 00:08:32                 31105   \n",
       "2       562  2011-01-01 00:06:13  2011-01-01 00:15:36                 31400   \n",
       "3       434  2011-01-01 00:09:21  2011-01-01 00:16:36                 31111   \n",
       "4       233  2011-01-01 00:28:26  2011-01-01 00:32:19                 31104   \n",
       "\n",
       "                    Start station  End station number  \\\n",
       "0                   5th & F St NW               31620   \n",
       "1            14th & Harvard St NW               31101   \n",
       "2  Georgia & New Hampshire Ave NW               31104   \n",
       "3                  10th & U St NW               31503   \n",
       "4     Adams Mill & Columbia Rd NW               31106   \n",
       "\n",
       "                   End station Bike number Member type  \n",
       "0                5th & F St NW      W00247      Member  \n",
       "1               14th & V St NW      W00675      Casual  \n",
       "2  Adams Mill & Columbia Rd NW      W00357      Member  \n",
       "3        Florida Ave & R St NW      W00970      Member  \n",
       "4     Calvert & Biltmore St NW      W00346      Casual  "
      ]
     },
     "execution_count": 3,
     "metadata": {},
     "output_type": "execute_result"
    }
   ],
   "source": [
    "rides.head()"
   ]
  },
  {
   "cell_type": "code",
   "execution_count": 4,
   "metadata": {},
   "outputs": [],
   "source": [
    "del rides[\"Start station\"]\n",
    "del rides[\"End station\"]"
   ]
  },
  {
   "cell_type": "code",
   "execution_count": 5,
   "metadata": {},
   "outputs": [
    {
     "data": {
      "text/plain": [
       "Member     979814\n",
       "Casual     246949\n",
       "Unknown         4\n",
       "Name: Member type, dtype: int64"
      ]
     },
     "execution_count": 5,
     "metadata": {},
     "output_type": "execute_result"
    }
   ],
   "source": [
    "rides['Member type'].value_counts()"
   ]
  },
  {
   "cell_type": "code",
   "execution_count": 6,
   "metadata": {},
   "outputs": [
    {
     "name": "stdout",
     "output_type": "stream",
     "text": [
      "979,814 Member rides\n"
     ]
    }
   ],
   "source": [
    "# your code here\n",
    "rides = rides[rides['Member type'] == \"Member\"]\n",
    "print('{:,d} Member rides'.format(len(rides)))"
   ]
  },
  {
   "cell_type": "code",
   "execution_count": 7,
   "metadata": {},
   "outputs": [
    {
     "data": {
      "text/plain": [
       "Timestamp('2011-01-01 00:01:29')"
      ]
     },
     "execution_count": 7,
     "metadata": {},
     "output_type": "execute_result"
    }
   ],
   "source": [
    "rides['start'] = pd.to_datetime(rides['Start date'])\n",
    "rides['start'].iloc[0]"
   ]
  },
  {
   "cell_type": "code",
   "execution_count": 8,
   "metadata": {},
   "outputs": [
    {
     "data": {
      "text/plain": [
       "1226757    2011-12-31\n",
       "1226758    2011-12-31\n",
       "1226759    2011-12-31\n",
       "1226760    2011-12-31\n",
       "1226761    2011-12-31\n",
       "1226762    2011-12-31\n",
       "1226763    2011-12-31\n",
       "1226764    2011-12-31\n",
       "1226765    2011-12-31\n",
       "1226766    2011-12-31\n",
       "Name: start, dtype: object"
      ]
     },
     "execution_count": 8,
     "metadata": {},
     "output_type": "execute_result"
    }
   ],
   "source": [
    "rides['start'].tail(10).dt.strftime(\"%Y-%m-%d\")"
   ]
  },
  {
   "cell_type": "code",
   "execution_count": 9,
   "metadata": {},
   "outputs": [],
   "source": [
    "rides['date'] = rides['start'].dt.date#strftime(\"%Y-%m-%d\")\n",
    "rides['hour'] = rides['start'].dt.hour"
   ]
  },
  {
   "cell_type": "code",
   "execution_count": 10,
   "metadata": {},
   "outputs": [],
   "source": [
    "# Here's something that might help with missing hours.\n",
    "# pd.crosstab(index=rides[\"date\"], columns=rides[\"hour\"])"
   ]
  },
  {
   "cell_type": "code",
   "execution_count": 11,
   "metadata": {},
   "outputs": [
    {
     "data": {
      "text/html": [
       "<div>\n",
       "<style scoped>\n",
       "    .dataframe tbody tr th:only-of-type {\n",
       "        vertical-align: middle;\n",
       "    }\n",
       "\n",
       "    .dataframe tbody tr th {\n",
       "        vertical-align: top;\n",
       "    }\n",
       "\n",
       "    .dataframe thead th {\n",
       "        text-align: right;\n",
       "    }\n",
       "</style>\n",
       "<table border=\"1\" class=\"dataframe\">\n",
       "  <thead>\n",
       "    <tr style=\"text-align: right;\">\n",
       "      <th></th>\n",
       "      <th>date</th>\n",
       "      <th>hour</th>\n",
       "      <th>rides</th>\n",
       "    </tr>\n",
       "  </thead>\n",
       "  <tbody>\n",
       "    <tr>\n",
       "      <th>0</th>\n",
       "      <td>2011-01-01</td>\n",
       "      <td>0</td>\n",
       "      <td>13</td>\n",
       "    </tr>\n",
       "    <tr>\n",
       "      <th>1</th>\n",
       "      <td>2011-01-01</td>\n",
       "      <td>1</td>\n",
       "      <td>30</td>\n",
       "    </tr>\n",
       "    <tr>\n",
       "      <th>2</th>\n",
       "      <td>2011-01-01</td>\n",
       "      <td>2</td>\n",
       "      <td>26</td>\n",
       "    </tr>\n",
       "    <tr>\n",
       "      <th>3</th>\n",
       "      <td>2011-01-01</td>\n",
       "      <td>3</td>\n",
       "      <td>9</td>\n",
       "    </tr>\n",
       "    <tr>\n",
       "      <th>4</th>\n",
       "      <td>2011-01-01</td>\n",
       "      <td>4</td>\n",
       "      <td>1</td>\n",
       "    </tr>\n",
       "  </tbody>\n",
       "</table>\n",
       "</div>"
      ],
      "text/plain": [
       "         date  hour  rides\n",
       "0  2011-01-01     0     13\n",
       "1  2011-01-01     1     30\n",
       "2  2011-01-01     2     26\n",
       "3  2011-01-01     3      9\n",
       "4  2011-01-01     4      1"
      ]
     },
     "execution_count": 11,
     "metadata": {},
     "output_type": "execute_result"
    }
   ],
   "source": [
    "# your code here. Use groupby and size. You'll end up with a Series with a hierarchical index; remember that the \"get out of jail card\" is .to_frame(name=\"NAME_GOES_HERE\").reset_index(). \n",
    "grouped_as_index = rides.groupby(['date', 'hour']).size()\n",
    "rides_by_hour = grouped_as_index.to_frame(name=\"rides\").reset_index()\n",
    "rides_by_hour.head()"
   ]
  },
  {
   "cell_type": "code",
   "execution_count": 12,
   "metadata": {},
   "outputs": [
    {
     "data": {
      "text/plain": [
       "8623"
      ]
     },
     "execution_count": 12,
     "metadata": {},
     "output_type": "execute_result"
    }
   ],
   "source": [
    "len(rides_by_hour)"
   ]
  },
  {
   "cell_type": "code",
   "execution_count": 13,
   "metadata": {},
   "outputs": [],
   "source": [
    "assert len(rides_by_hour) > 365 * 23\n",
    "assert 'date' in rides_by_hour.columns\n",
    "assert 'hour' in rides_by_hour.columns\n",
    "assert 'rides' in rides_by_hour.columns"
   ]
  },
  {
   "cell_type": "markdown",
   "metadata": {},
   "source": [
    "# Exercise 2: Compute rides by day.\n",
    "The resulting table should have 365 rows."
   ]
  },
  {
   "cell_type": "code",
   "execution_count": 14,
   "metadata": {},
   "outputs": [],
   "source": [
    "# your code here\n",
    "rides_by_day = rides.groupby('date').size().to_frame('rides').reset_index()"
   ]
  },
  {
   "cell_type": "code",
   "execution_count": 15,
   "metadata": {},
   "outputs": [],
   "source": [
    "assert len(rides_by_day) == 365\n",
    "assert 'date' in rides_by_day.columns\n",
    "assert 'rides' in rides_by_day.columns"
   ]
  },
  {
   "cell_type": "markdown",
   "metadata": {},
   "source": [
    "# Exercise 3: Mark holidays."
   ]
  },
  {
   "cell_type": "markdown",
   "metadata": {},
   "source": [
    "The following code gets us a table of federal holidays. Please run it without changing it."
   ]
  },
  {
   "cell_type": "code",
   "execution_count": 16,
   "metadata": {},
   "outputs": [
    {
     "data": {
      "text/html": [
       "<div>\n",
       "<style scoped>\n",
       "    .dataframe tbody tr th:only-of-type {\n",
       "        vertical-align: middle;\n",
       "    }\n",
       "\n",
       "    .dataframe tbody tr th {\n",
       "        vertical-align: top;\n",
       "    }\n",
       "\n",
       "    .dataframe thead th {\n",
       "        text-align: right;\n",
       "    }\n",
       "</style>\n",
       "<table border=\"1\" class=\"dataframe\">\n",
       "  <thead>\n",
       "    <tr style=\"text-align: right;\">\n",
       "      <th></th>\n",
       "      <th>date</th>\n",
       "      <th>is_holiday</th>\n",
       "    </tr>\n",
       "  </thead>\n",
       "  <tbody>\n",
       "    <tr>\n",
       "      <th>0</th>\n",
       "      <td>2011-01-17</td>\n",
       "      <td>True</td>\n",
       "    </tr>\n",
       "    <tr>\n",
       "      <th>1</th>\n",
       "      <td>2011-02-21</td>\n",
       "      <td>True</td>\n",
       "    </tr>\n",
       "    <tr>\n",
       "      <th>2</th>\n",
       "      <td>2011-05-30</td>\n",
       "      <td>True</td>\n",
       "    </tr>\n",
       "    <tr>\n",
       "      <th>3</th>\n",
       "      <td>2011-07-04</td>\n",
       "      <td>True</td>\n",
       "    </tr>\n",
       "    <tr>\n",
       "      <th>4</th>\n",
       "      <td>2011-09-05</td>\n",
       "      <td>True</td>\n",
       "    </tr>\n",
       "  </tbody>\n",
       "</table>\n",
       "</div>"
      ],
      "text/plain": [
       "         date  is_holiday\n",
       "0  2011-01-17        True\n",
       "1  2011-02-21        True\n",
       "2  2011-05-30        True\n",
       "3  2011-07-04        True\n",
       "4  2011-09-05        True"
      ]
     },
     "execution_count": 16,
     "metadata": {},
     "output_type": "execute_result"
    }
   ],
   "source": [
    "# Run this code unchanged.\n",
    "holidays = pd.DataFrame({\n",
    "    'date': USFederalHolidayCalendar().holidays(datetime.date(2011,1,1), datetime.date(2015,12,31)).date,\n",
    "    'is_holiday': True})\n",
    "holidays.head()"
   ]
  },
  {
   "cell_type": "markdown",
   "metadata": {},
   "source": [
    "## 3.1: `join`\n",
    "Join the `rides_by_hour` table with the `holidays` table to get a new table that has a column for whether the hour occurred on a holiday."
   ]
  },
  {
   "cell_type": "markdown",
   "metadata": {},
   "source": [
    "# Weather Data\n",
    "Our main goal will be to get the hourly temperature data.\n",
    "\n",
    "The original wranglers used a weather data source that does not seem to provide downloadable data anymore. But we can use the US government's records. They're in a cumbersome format, which will provide us an excuse to practice some **data cleaning**!"
   ]
  },
  {
   "cell_type": "markdown",
   "metadata": {},
   "source": [
    "First challenge is where to find the data. Here's how we solved this hard problem:\n",
    "\n",
    "There's a \"Find a Station\" tool, but it's confusing how to use the results. https://www.ncdc.noaa.gov/data-access/land-based-station-data/station-metadata has a link to a [station list file](ftp://ftp.ncdc.noaa.gov/pub/data/noaa/isd-history.txt). Searching that, it looks like the code for Reagan Airport is 724050 13743. So the file is\n",
    "https://www.ncei.noaa.gov/data/global-hourly/access/2011/72405013743.csv\n",
    "\n",
    "Poking around in that site revealed two documents that look very important:\n",
    "- https://www.ncei.noaa.gov/data/global-hourly/doc/isd-format-document.pdf\n",
    "- https://www.ncei.noaa.gov/data/global-hourly/doc/CSV_HELP.pdf\n",
    "\n"
   ]
  },
  {
   "cell_type": "code",
   "execution_count": 17,
   "metadata": {},
   "outputs": [
    {
     "name": "stderr",
     "output_type": "stream",
     "text": [
      "//anaconda3/lib/python3.7/site-packages/IPython/core/interactiveshell.py:3057: DtypeWarning: Columns (43,47,51,55) have mixed types. Specify dtype option on import or set low_memory=False.\n",
      "  interactivity=interactivity, compiler=compiler, result=result)\n"
     ]
    }
   ],
   "source": [
    "# Run this to load the file directly from the NOAA website.\n",
    "# You may want to make a local copy and read it in from there instead.\n",
    "weather = pd.read_csv(\"https://www.ncei.noaa.gov/data/global-hourly/access/2011/72405013743.csv\")"
   ]
  },
  {
   "cell_type": "code",
   "execution_count": 18,
   "metadata": {},
   "outputs": [
    {
     "name": "stdout",
     "output_type": "stream",
     "text": [
      "14558\n"
     ]
    },
    {
     "data": {
      "text/html": [
       "<div>\n",
       "<style scoped>\n",
       "    .dataframe tbody tr th:only-of-type {\n",
       "        vertical-align: middle;\n",
       "    }\n",
       "\n",
       "    .dataframe tbody tr th {\n",
       "        vertical-align: top;\n",
       "    }\n",
       "\n",
       "    .dataframe thead th {\n",
       "        text-align: right;\n",
       "    }\n",
       "</style>\n",
       "<table border=\"1\" class=\"dataframe\">\n",
       "  <thead>\n",
       "    <tr style=\"text-align: right;\">\n",
       "      <th></th>\n",
       "      <th>STATION</th>\n",
       "      <th>DATE</th>\n",
       "      <th>SOURCE</th>\n",
       "      <th>LATITUDE</th>\n",
       "      <th>LONGITUDE</th>\n",
       "      <th>ELEVATION</th>\n",
       "      <th>NAME</th>\n",
       "      <th>REPORT_TYPE</th>\n",
       "      <th>CALL_SIGN</th>\n",
       "      <th>QUALITY_CONTROL</th>\n",
       "      <th>...</th>\n",
       "      <th>OC1</th>\n",
       "      <th>OD1</th>\n",
       "      <th>OE1</th>\n",
       "      <th>OE2</th>\n",
       "      <th>OE3</th>\n",
       "      <th>RH1</th>\n",
       "      <th>RH2</th>\n",
       "      <th>RH3</th>\n",
       "      <th>REM</th>\n",
       "      <th>EQD</th>\n",
       "    </tr>\n",
       "  </thead>\n",
       "  <tbody>\n",
       "    <tr>\n",
       "      <th>0</th>\n",
       "      <td>72405013743</td>\n",
       "      <td>2011-01-01T00:00:00</td>\n",
       "      <td>4</td>\n",
       "      <td>38.8472</td>\n",
       "      <td>-77.03454</td>\n",
       "      <td>3.0</td>\n",
       "      <td>WASHINGTON REAGAN NATIONAL AIRPORT, VA US</td>\n",
       "      <td>FM-12</td>\n",
       "      <td>KDCA</td>\n",
       "      <td>V020</td>\n",
       "      <td>...</td>\n",
       "      <td>NaN</td>\n",
       "      <td>NaN</td>\n",
       "      <td>NaN</td>\n",
       "      <td>NaN</td>\n",
       "      <td>NaN</td>\n",
       "      <td>NaN</td>\n",
       "      <td>NaN</td>\n",
       "      <td>NaN</td>\n",
       "      <td>SYN092AAXX  01004 72405 32966 21704 10056 2101...</td>\n",
       "      <td>NaN</td>\n",
       "    </tr>\n",
       "    <tr>\n",
       "      <th>1</th>\n",
       "      <td>72405013743</td>\n",
       "      <td>2011-01-01T00:52:00</td>\n",
       "      <td>7</td>\n",
       "      <td>38.8472</td>\n",
       "      <td>-77.03454</td>\n",
       "      <td>3.0</td>\n",
       "      <td>WASHINGTON REAGAN NATIONAL AIRPORT, VA US</td>\n",
       "      <td>FM-15</td>\n",
       "      <td>KDCA</td>\n",
       "      <td>V030</td>\n",
       "      <td>...</td>\n",
       "      <td>NaN</td>\n",
       "      <td>NaN</td>\n",
       "      <td>NaN</td>\n",
       "      <td>NaN</td>\n",
       "      <td>NaN</td>\n",
       "      <td>NaN</td>\n",
       "      <td>NaN</td>\n",
       "      <td>NaN</td>\n",
       "      <td>MET10012/31/10 19:52:03 METAR KDCA 010052Z 000...</td>\n",
       "      <td>NaN</td>\n",
       "    </tr>\n",
       "    <tr>\n",
       "      <th>2</th>\n",
       "      <td>72405013743</td>\n",
       "      <td>2011-01-01T01:52:00</td>\n",
       "      <td>7</td>\n",
       "      <td>38.8472</td>\n",
       "      <td>-77.03454</td>\n",
       "      <td>3.0</td>\n",
       "      <td>WASHINGTON REAGAN NATIONAL AIRPORT, VA US</td>\n",
       "      <td>FM-15</td>\n",
       "      <td>KDCA</td>\n",
       "      <td>V030</td>\n",
       "      <td>...</td>\n",
       "      <td>NaN</td>\n",
       "      <td>NaN</td>\n",
       "      <td>NaN</td>\n",
       "      <td>NaN</td>\n",
       "      <td>NaN</td>\n",
       "      <td>NaN</td>\n",
       "      <td>NaN</td>\n",
       "      <td>NaN</td>\n",
       "      <td>MET10012/31/10 20:52:03 METAR KDCA 010152Z 000...</td>\n",
       "      <td>NaN</td>\n",
       "    </tr>\n",
       "    <tr>\n",
       "      <th>3</th>\n",
       "      <td>72405013743</td>\n",
       "      <td>2011-01-01T02:52:00</td>\n",
       "      <td>7</td>\n",
       "      <td>38.8472</td>\n",
       "      <td>-77.03454</td>\n",
       "      <td>3.0</td>\n",
       "      <td>WASHINGTON REAGAN NATIONAL AIRPORT, VA US</td>\n",
       "      <td>FM-15</td>\n",
       "      <td>KDCA</td>\n",
       "      <td>V030</td>\n",
       "      <td>...</td>\n",
       "      <td>NaN</td>\n",
       "      <td>NaN</td>\n",
       "      <td>NaN</td>\n",
       "      <td>NaN</td>\n",
       "      <td>NaN</td>\n",
       "      <td>NaN</td>\n",
       "      <td>NaN</td>\n",
       "      <td>NaN</td>\n",
       "      <td>MET10612/31/10 21:52:03 METAR KDCA 010252Z 180...</td>\n",
       "      <td>NaN</td>\n",
       "    </tr>\n",
       "    <tr>\n",
       "      <th>4</th>\n",
       "      <td>72405013743</td>\n",
       "      <td>2011-01-01T03:00:00</td>\n",
       "      <td>4</td>\n",
       "      <td>38.8472</td>\n",
       "      <td>-77.03454</td>\n",
       "      <td>3.0</td>\n",
       "      <td>WASHINGTON REAGAN NATIONAL AIRPORT, VA US</td>\n",
       "      <td>FM-12</td>\n",
       "      <td>KDCA</td>\n",
       "      <td>V020</td>\n",
       "      <td>...</td>\n",
       "      <td>NaN</td>\n",
       "      <td>NaN</td>\n",
       "      <td>NaN</td>\n",
       "      <td>NaN</td>\n",
       "      <td>NaN</td>\n",
       "      <td>NaN</td>\n",
       "      <td>NaN</td>\n",
       "      <td>NaN</td>\n",
       "      <td>SYN076AAXX  01034 72405 32966 41803 10039 2100...</td>\n",
       "      <td>NaN</td>\n",
       "    </tr>\n",
       "  </tbody>\n",
       "</table>\n",
       "<p>5 rows × 98 columns</p>\n",
       "</div>"
      ],
      "text/plain": [
       "       STATION                 DATE  SOURCE  LATITUDE  LONGITUDE  ELEVATION  \\\n",
       "0  72405013743  2011-01-01T00:00:00       4   38.8472  -77.03454        3.0   \n",
       "1  72405013743  2011-01-01T00:52:00       7   38.8472  -77.03454        3.0   \n",
       "2  72405013743  2011-01-01T01:52:00       7   38.8472  -77.03454        3.0   \n",
       "3  72405013743  2011-01-01T02:52:00       7   38.8472  -77.03454        3.0   \n",
       "4  72405013743  2011-01-01T03:00:00       4   38.8472  -77.03454        3.0   \n",
       "\n",
       "                                        NAME REPORT_TYPE CALL_SIGN  \\\n",
       "0  WASHINGTON REAGAN NATIONAL AIRPORT, VA US       FM-12     KDCA    \n",
       "1  WASHINGTON REAGAN NATIONAL AIRPORT, VA US       FM-15     KDCA    \n",
       "2  WASHINGTON REAGAN NATIONAL AIRPORT, VA US       FM-15     KDCA    \n",
       "3  WASHINGTON REAGAN NATIONAL AIRPORT, VA US       FM-15     KDCA    \n",
       "4  WASHINGTON REAGAN NATIONAL AIRPORT, VA US       FM-12     KDCA    \n",
       "\n",
       "  QUALITY_CONTROL  ...  OC1  OD1  OE1  OE2  OE3  RH1  RH2  RH3  \\\n",
       "0            V020  ...  NaN  NaN  NaN  NaN  NaN  NaN  NaN  NaN   \n",
       "1            V030  ...  NaN  NaN  NaN  NaN  NaN  NaN  NaN  NaN   \n",
       "2            V030  ...  NaN  NaN  NaN  NaN  NaN  NaN  NaN  NaN   \n",
       "3            V030  ...  NaN  NaN  NaN  NaN  NaN  NaN  NaN  NaN   \n",
       "4            V020  ...  NaN  NaN  NaN  NaN  NaN  NaN  NaN  NaN   \n",
       "\n",
       "                                                 REM  EQD  \n",
       "0  SYN092AAXX  01004 72405 32966 21704 10056 2101...  NaN  \n",
       "1  MET10012/31/10 19:52:03 METAR KDCA 010052Z 000...  NaN  \n",
       "2  MET10012/31/10 20:52:03 METAR KDCA 010152Z 000...  NaN  \n",
       "3  MET10612/31/10 21:52:03 METAR KDCA 010252Z 180...  NaN  \n",
       "4  SYN076AAXX  01034 72405 32966 41803 10039 2100...  NaN  \n",
       "\n",
       "[5 rows x 98 columns]"
      ]
     },
     "execution_count": 18,
     "metadata": {},
     "output_type": "execute_result"
    }
   ],
   "source": [
    "print(len(weather))\n",
    "weather.head()"
   ]
  },
  {
   "cell_type": "code",
   "execution_count": 19,
   "metadata": {},
   "outputs": [
    {
     "data": {
      "text/plain": [
       "0   2011-01-01 00:00:00\n",
       "1   2011-01-01 00:52:00\n",
       "2   2011-01-01 01:52:00\n",
       "3   2011-01-01 02:52:00\n",
       "4   2011-01-01 03:00:00\n",
       "Name: timestamp, dtype: datetime64[ns]"
      ]
     },
     "execution_count": 19,
     "metadata": {},
     "output_type": "execute_result"
    }
   ],
   "source": [
    "weather['timestamp'] = pd.to_datetime(weather['DATE'])\n",
    "weather['timestamp'].head()"
   ]
  },
  {
   "cell_type": "markdown",
   "metadata": {},
   "source": [
    "Looking at the CSV help document, we see:\n",
    "\n",
    "> AIR-TEMPERATURE-OBSERVATION air temperature is abbreviated as the column header TMP\n",
    "\n",
    "So we'll look at the TMP column:"
   ]
  },
  {
   "cell_type": "code",
   "execution_count": 21,
   "metadata": {},
   "outputs": [
    {
     "data": {
      "text/plain": [
       "0    +0056,1\n",
       "1    +0056,5\n",
       "2    +0050,5\n",
       "3    +0039,5\n",
       "4    +0039,1\n",
       "Name: TMP, dtype: object"
      ]
     },
     "execution_count": 21,
     "metadata": {},
     "output_type": "execute_result"
    }
   ],
   "source": [
    "weather['TMP'].head()"
   ]
  },
  {
   "cell_type": "markdown",
   "metadata": {},
   "source": [
    "**Huh? What's that format?**  See pages 10 and 11 of \"isd-format-document.pdf\"."
   ]
  },
  {
   "cell_type": "code",
   "execution_count": 22,
   "metadata": {},
   "outputs": [
    {
     "data": {
      "text/html": [
       "<div>\n",
       "<style scoped>\n",
       "    .dataframe tbody tr th:only-of-type {\n",
       "        vertical-align: middle;\n",
       "    }\n",
       "\n",
       "    .dataframe tbody tr th {\n",
       "        vertical-align: top;\n",
       "    }\n",
       "\n",
       "    .dataframe thead th {\n",
       "        text-align: right;\n",
       "    }\n",
       "</style>\n",
       "<table border=\"1\" class=\"dataframe\">\n",
       "  <thead>\n",
       "    <tr style=\"text-align: right;\">\n",
       "      <th></th>\n",
       "      <th>temp_raw</th>\n",
       "      <th>temp_quality_code</th>\n",
       "    </tr>\n",
       "  </thead>\n",
       "  <tbody>\n",
       "    <tr>\n",
       "      <th>0</th>\n",
       "      <td>+0056</td>\n",
       "      <td>1</td>\n",
       "    </tr>\n",
       "    <tr>\n",
       "      <th>1</th>\n",
       "      <td>+0056</td>\n",
       "      <td>5</td>\n",
       "    </tr>\n",
       "    <tr>\n",
       "      <th>2</th>\n",
       "      <td>+0050</td>\n",
       "      <td>5</td>\n",
       "    </tr>\n",
       "    <tr>\n",
       "      <th>3</th>\n",
       "      <td>+0039</td>\n",
       "      <td>5</td>\n",
       "    </tr>\n",
       "    <tr>\n",
       "      <th>4</th>\n",
       "      <td>+0039</td>\n",
       "      <td>1</td>\n",
       "    </tr>\n",
       "  </tbody>\n",
       "</table>\n",
       "</div>"
      ],
      "text/plain": [
       "  temp_raw temp_quality_code\n",
       "0    +0056                 1\n",
       "1    +0056                 5\n",
       "2    +0050                 5\n",
       "3    +0039                 5\n",
       "4    +0039                 1"
      ]
     },
     "execution_count": 22,
     "metadata": {},
     "output_type": "execute_result"
    }
   ],
   "source": [
    "weather[['temp_raw', 'temp_quality_code']] = weather['TMP'].str.split(',', n=1, expand=True)\n",
    "weather[['temp_raw', 'temp_quality_code']].head()"
   ]
  },
  {
   "cell_type": "markdown",
   "metadata": {},
   "source": [
    "Note that there are some negative temperatures; we can't just truncate that `+`."
   ]
  },
  {
   "cell_type": "code",
   "execution_count": 23,
   "metadata": {},
   "outputs": [
    {
     "data": {
      "text/plain": [
       "+    13889\n",
       "-      669\n",
       "Name: temp_raw, dtype: int64"
      ]
     },
     "execution_count": 23,
     "metadata": {},
     "output_type": "execute_result"
    }
   ],
   "source": [
    "weather['temp_raw'].str[0].value_counts()"
   ]
  },
  {
   "cell_type": "markdown",
   "metadata": {},
   "source": [
    "What are those \"quality codes\"?? Let's look them up."
   ]
  },
  {
   "cell_type": "code",
   "execution_count": 24,
   "metadata": {},
   "outputs": [
    {
     "data": {
      "text/plain": [
       "5    11266\n",
       "1     2906\n",
       "9      378\n",
       "A        7\n",
       "6        1\n",
       "Name: temp_quality_code, dtype: int64"
      ]
     },
     "execution_count": 24,
     "metadata": {},
     "output_type": "execute_result"
    }
   ],
   "source": [
    "weather['temp_quality_code'].value_counts(dropna=False)"
   ]
  },
  {
   "cell_type": "markdown",
   "metadata": {},
   "source": [
    "Meanings:\n",
    "\n",
    "* 5: Passed QC\n",
    "* 1: Passed QC\n",
    "* 9: Outside of limits\n",
    "* A: suspect but good\n",
    "\n",
    "Let's treat 5, 1, and A as ok."
   ]
  },
  {
   "cell_type": "code",
   "execution_count": 25,
   "metadata": {},
   "outputs": [],
   "source": [
    "weather['temp_is_valid'] = weather['temp_quality_code'].isin([\"5\", \"1\", \"A\"])\n",
    "weather = weather[weather['temp_is_valid']].copy()"
   ]
  },
  {
   "cell_type": "code",
   "execution_count": 26,
   "metadata": {},
   "outputs": [],
   "source": [
    "weather['temp_C'] = pd.to_numeric(weather['temp_raw']) / 10."
   ]
  },
  {
   "cell_type": "code",
   "execution_count": 27,
   "metadata": {},
   "outputs": [],
   "source": [
    "weather['date'] = weather['timestamp'].dt.date\n",
    "weather['hour'] = weather['timestamp'].dt.hour"
   ]
  },
  {
   "cell_type": "code",
   "execution_count": 28,
   "metadata": {},
   "outputs": [
    {
     "data": {
      "text/html": [
       "<div>\n",
       "<style scoped>\n",
       "    .dataframe tbody tr th:only-of-type {\n",
       "        vertical-align: middle;\n",
       "    }\n",
       "\n",
       "    .dataframe tbody tr th {\n",
       "        vertical-align: top;\n",
       "    }\n",
       "\n",
       "    .dataframe thead th {\n",
       "        text-align: right;\n",
       "    }\n",
       "</style>\n",
       "<table border=\"1\" class=\"dataframe\">\n",
       "  <thead>\n",
       "    <tr style=\"text-align: right;\">\n",
       "      <th></th>\n",
       "      <th>date</th>\n",
       "      <th>hour</th>\n",
       "      <th>temp_C</th>\n",
       "    </tr>\n",
       "  </thead>\n",
       "  <tbody>\n",
       "    <tr>\n",
       "      <th>0</th>\n",
       "      <td>2011-01-01</td>\n",
       "      <td>0</td>\n",
       "      <td>5.60</td>\n",
       "    </tr>\n",
       "    <tr>\n",
       "      <th>1</th>\n",
       "      <td>2011-01-01</td>\n",
       "      <td>1</td>\n",
       "      <td>5.00</td>\n",
       "    </tr>\n",
       "    <tr>\n",
       "      <th>2</th>\n",
       "      <td>2011-01-01</td>\n",
       "      <td>2</td>\n",
       "      <td>3.90</td>\n",
       "    </tr>\n",
       "    <tr>\n",
       "      <th>3</th>\n",
       "      <td>2011-01-01</td>\n",
       "      <td>3</td>\n",
       "      <td>3.05</td>\n",
       "    </tr>\n",
       "    <tr>\n",
       "      <th>4</th>\n",
       "      <td>2011-01-01</td>\n",
       "      <td>4</td>\n",
       "      <td>3.30</td>\n",
       "    </tr>\n",
       "  </tbody>\n",
       "</table>\n",
       "</div>"
      ],
      "text/plain": [
       "         date  hour  temp_C\n",
       "0  2011-01-01     0    5.60\n",
       "1  2011-01-01     1    5.00\n",
       "2  2011-01-01     2    3.90\n",
       "3  2011-01-01     3    3.05\n",
       "4  2011-01-01     4    3.30"
      ]
     },
     "execution_count": 28,
     "metadata": {},
     "output_type": "execute_result"
    }
   ],
   "source": [
    "hourly_temp_data = weather.groupby(['date', 'hour'])['temp_C'].mean().reset_index()\n",
    "hourly_temp_data.head()"
   ]
  },
  {
   "cell_type": "code",
   "execution_count": 29,
   "metadata": {},
   "outputs": [
    {
     "name": "stdout",
     "output_type": "stream",
     "text": [
      "<class 'pandas.core.frame.DataFrame'>\n",
      "Int64Index: 8760 entries, 0 to 8759\n",
      "Data columns (total 4 columns):\n",
      "date      8760 non-null object\n",
      "hour      8760 non-null int64\n",
      "rides     8760 non-null float64\n",
      "temp_C    8759 non-null float64\n",
      "dtypes: float64(2), int64(1), object(1)\n",
      "memory usage: 342.2+ KB\n"
     ]
    }
   ],
   "source": [
    "rides_by_hour_with_weather = pd.merge(\n",
    "    rides_by_hour,\n",
    "    hourly_temp_data,\n",
    "    on=['date', 'hour'],\n",
    "    how='outer')\n",
    "\n",
    "# For hours with no rides, there was no entry in the rides_by_hour table.\n",
    "rides_by_hour_with_weather['rides'] = rides_by_hour_with_weather['rides'].fillna(0.)\n",
    "\n",
    "rides_by_hour_with_weather.info()"
   ]
  },
  {
   "cell_type": "code",
   "execution_count": 30,
   "metadata": {},
   "outputs": [],
   "source": [
    "assert len(rides_by_hour_with_weather.dropna()) == len(hourly_temp_data)"
   ]
  },
  {
   "cell_type": "code",
   "execution_count": 31,
   "metadata": {},
   "outputs": [
    {
     "name": "stdout",
     "output_type": "stream",
     "text": [
      "8760\n"
     ]
    },
    {
     "data": {
      "text/html": [
       "<div>\n",
       "<style scoped>\n",
       "    .dataframe tbody tr th:only-of-type {\n",
       "        vertical-align: middle;\n",
       "    }\n",
       "\n",
       "    .dataframe tbody tr th {\n",
       "        vertical-align: top;\n",
       "    }\n",
       "\n",
       "    .dataframe thead th {\n",
       "        text-align: right;\n",
       "    }\n",
       "</style>\n",
       "<table border=\"1\" class=\"dataframe\">\n",
       "  <thead>\n",
       "    <tr style=\"text-align: right;\">\n",
       "      <th></th>\n",
       "      <th>date</th>\n",
       "      <th>hour</th>\n",
       "      <th>rides</th>\n",
       "      <th>temp_C</th>\n",
       "      <th>is_holiday</th>\n",
       "    </tr>\n",
       "  </thead>\n",
       "  <tbody>\n",
       "    <tr>\n",
       "      <th>0</th>\n",
       "      <td>2011-01-01</td>\n",
       "      <td>0</td>\n",
       "      <td>13.0</td>\n",
       "      <td>5.60</td>\n",
       "      <td>NaN</td>\n",
       "    </tr>\n",
       "    <tr>\n",
       "      <th>1</th>\n",
       "      <td>2011-01-01</td>\n",
       "      <td>1</td>\n",
       "      <td>30.0</td>\n",
       "      <td>5.00</td>\n",
       "      <td>NaN</td>\n",
       "    </tr>\n",
       "    <tr>\n",
       "      <th>2</th>\n",
       "      <td>2011-01-01</td>\n",
       "      <td>2</td>\n",
       "      <td>26.0</td>\n",
       "      <td>3.90</td>\n",
       "      <td>NaN</td>\n",
       "    </tr>\n",
       "    <tr>\n",
       "      <th>3</th>\n",
       "      <td>2011-01-01</td>\n",
       "      <td>3</td>\n",
       "      <td>9.0</td>\n",
       "      <td>3.05</td>\n",
       "      <td>NaN</td>\n",
       "    </tr>\n",
       "    <tr>\n",
       "      <th>4</th>\n",
       "      <td>2011-01-01</td>\n",
       "      <td>4</td>\n",
       "      <td>1.0</td>\n",
       "      <td>3.30</td>\n",
       "      <td>NaN</td>\n",
       "    </tr>\n",
       "  </tbody>\n",
       "</table>\n",
       "</div>"
      ],
      "text/plain": [
       "         date  hour  rides  temp_C is_holiday\n",
       "0  2011-01-01     0   13.0    5.60        NaN\n",
       "1  2011-01-01     1   30.0    5.00        NaN\n",
       "2  2011-01-01     2   26.0    3.90        NaN\n",
       "3  2011-01-01     3    9.0    3.05        NaN\n",
       "4  2011-01-01     4    1.0    3.30        NaN"
      ]
     },
     "execution_count": 31,
     "metadata": {},
     "output_type": "execute_result"
    }
   ],
   "source": [
    "# your code here\n",
    "rides_by_hour_with_holidays = pd.merge(\n",
    "    rides_by_hour_with_weather,\n",
    "    holidays,\n",
    "    left_on='date',\n",
    "    right_on='date',\n",
    "    how='left')\n",
    "print(len(rides_by_hour_with_holidays))\n",
    "rides_by_hour_with_holidays.head()"
   ]
  },
  {
   "cell_type": "code",
   "execution_count": 32,
   "metadata": {},
   "outputs": [],
   "source": [
    "assert len(rides_by_hour_with_holidays) == len(rides_by_hour_with_weather), \"Oops, lengths inconsistent!\"\n",
    "assert 'is_holiday' in rides_by_hour_with_holidays.columns"
   ]
  },
  {
   "cell_type": "code",
   "execution_count": 33,
   "metadata": {},
   "outputs": [
    {
     "data": {
      "text/html": [
       "<div>\n",
       "<style scoped>\n",
       "    .dataframe tbody tr th:only-of-type {\n",
       "        vertical-align: middle;\n",
       "    }\n",
       "\n",
       "    .dataframe tbody tr th {\n",
       "        vertical-align: top;\n",
       "    }\n",
       "\n",
       "    .dataframe thead th {\n",
       "        text-align: right;\n",
       "    }\n",
       "</style>\n",
       "<table border=\"1\" class=\"dataframe\">\n",
       "  <thead>\n",
       "    <tr style=\"text-align: right;\">\n",
       "      <th></th>\n",
       "      <th>date</th>\n",
       "      <th>hour</th>\n",
       "      <th>rides</th>\n",
       "      <th>temp_C</th>\n",
       "      <th>is_holiday</th>\n",
       "    </tr>\n",
       "  </thead>\n",
       "  <tbody>\n",
       "    <tr>\n",
       "      <th>0</th>\n",
       "      <td>2011-01-01</td>\n",
       "      <td>0</td>\n",
       "      <td>13.0</td>\n",
       "      <td>5.60</td>\n",
       "      <td>False</td>\n",
       "    </tr>\n",
       "    <tr>\n",
       "      <th>1</th>\n",
       "      <td>2011-01-01</td>\n",
       "      <td>1</td>\n",
       "      <td>30.0</td>\n",
       "      <td>5.00</td>\n",
       "      <td>False</td>\n",
       "    </tr>\n",
       "    <tr>\n",
       "      <th>2</th>\n",
       "      <td>2011-01-01</td>\n",
       "      <td>2</td>\n",
       "      <td>26.0</td>\n",
       "      <td>3.90</td>\n",
       "      <td>False</td>\n",
       "    </tr>\n",
       "    <tr>\n",
       "      <th>3</th>\n",
       "      <td>2011-01-01</td>\n",
       "      <td>3</td>\n",
       "      <td>9.0</td>\n",
       "      <td>3.05</td>\n",
       "      <td>False</td>\n",
       "    </tr>\n",
       "    <tr>\n",
       "      <th>4</th>\n",
       "      <td>2011-01-01</td>\n",
       "      <td>4</td>\n",
       "      <td>1.0</td>\n",
       "      <td>3.30</td>\n",
       "      <td>False</td>\n",
       "    </tr>\n",
       "  </tbody>\n",
       "</table>\n",
       "</div>"
      ],
      "text/plain": [
       "         date  hour  rides  temp_C  is_holiday\n",
       "0  2011-01-01     0   13.0    5.60       False\n",
       "1  2011-01-01     1   30.0    5.00       False\n",
       "2  2011-01-01     2   26.0    3.90       False\n",
       "3  2011-01-01     3    9.0    3.05       False\n",
       "4  2011-01-01     4    1.0    3.30       False"
      ]
     },
     "execution_count": 33,
     "metadata": {},
     "output_type": "execute_result"
    }
   ],
   "source": [
    "rides_by_hour_with_holidays['is_holiday'] = rides_by_hour_with_holidays['is_holiday'].fillna(False)\n",
    "rides_by_hour_with_holidays.head()"
   ]
  },
  {
   "cell_type": "code",
   "execution_count": 34,
   "metadata": {},
   "outputs": [],
   "source": [
    "assert not any(rides_by_hour_with_holidays['is_holiday'].isna())"
   ]
  },
  {
   "cell_type": "code",
   "execution_count": 35,
   "metadata": {},
   "outputs": [
    {
     "data": {
      "text/html": [
       "<div>\n",
       "<style scoped>\n",
       "    .dataframe tbody tr th:only-of-type {\n",
       "        vertical-align: middle;\n",
       "    }\n",
       "\n",
       "    .dataframe tbody tr th {\n",
       "        vertical-align: top;\n",
       "    }\n",
       "\n",
       "    .dataframe thead th {\n",
       "        text-align: right;\n",
       "    }\n",
       "</style>\n",
       "<table border=\"1\" class=\"dataframe\">\n",
       "  <thead>\n",
       "    <tr style=\"text-align: right;\">\n",
       "      <th></th>\n",
       "      <th>date</th>\n",
       "      <th>hour</th>\n",
       "      <th>rides</th>\n",
       "      <th>temp_C</th>\n",
       "      <th>is_holiday</th>\n",
       "      <th>day_of_week</th>\n",
       "    </tr>\n",
       "  </thead>\n",
       "  <tbody>\n",
       "    <tr>\n",
       "      <th>589</th>\n",
       "      <td>2011-01-27</td>\n",
       "      <td>20</td>\n",
       "      <td>54.0</td>\n",
       "      <td>2.20</td>\n",
       "      <td>False</td>\n",
       "      <td>3</td>\n",
       "    </tr>\n",
       "    <tr>\n",
       "      <th>8643</th>\n",
       "      <td>2011-01-18</td>\n",
       "      <td>6</td>\n",
       "      <td>0.0</td>\n",
       "      <td>-0.90</td>\n",
       "      <td>False</td>\n",
       "      <td>1</td>\n",
       "    </tr>\n",
       "    <tr>\n",
       "      <th>6707</th>\n",
       "      <td>2011-10-12</td>\n",
       "      <td>22</td>\n",
       "      <td>40.0</td>\n",
       "      <td>18.38</td>\n",
       "      <td>False</td>\n",
       "      <td>2</td>\n",
       "    </tr>\n",
       "    <tr>\n",
       "      <th>4447</th>\n",
       "      <td>2011-07-09</td>\n",
       "      <td>21</td>\n",
       "      <td>151.0</td>\n",
       "      <td>32.50</td>\n",
       "      <td>False</td>\n",
       "      <td>5</td>\n",
       "    </tr>\n",
       "    <tr>\n",
       "      <th>2715</th>\n",
       "      <td>2011-04-28</td>\n",
       "      <td>15</td>\n",
       "      <td>115.0</td>\n",
       "      <td>21.80</td>\n",
       "      <td>False</td>\n",
       "      <td>3</td>\n",
       "    </tr>\n",
       "    <tr>\n",
       "      <th>2526</th>\n",
       "      <td>2011-04-20</td>\n",
       "      <td>18</td>\n",
       "      <td>381.0</td>\n",
       "      <td>27.80</td>\n",
       "      <td>False</td>\n",
       "      <td>2</td>\n",
       "    </tr>\n",
       "    <tr>\n",
       "      <th>1798</th>\n",
       "      <td>2011-03-21</td>\n",
       "      <td>1</td>\n",
       "      <td>6.0</td>\n",
       "      <td>8.30</td>\n",
       "      <td>False</td>\n",
       "      <td>0</td>\n",
       "    </tr>\n",
       "    <tr>\n",
       "      <th>6065</th>\n",
       "      <td>2011-09-16</td>\n",
       "      <td>3</td>\n",
       "      <td>4.0</td>\n",
       "      <td>13.05</td>\n",
       "      <td>False</td>\n",
       "      <td>4</td>\n",
       "    </tr>\n",
       "    <tr>\n",
       "      <th>6037</th>\n",
       "      <td>2011-09-14</td>\n",
       "      <td>23</td>\n",
       "      <td>62.0</td>\n",
       "      <td>26.10</td>\n",
       "      <td>False</td>\n",
       "      <td>2</td>\n",
       "    </tr>\n",
       "    <tr>\n",
       "      <th>5280</th>\n",
       "      <td>2011-08-13</td>\n",
       "      <td>15</td>\n",
       "      <td>206.0</td>\n",
       "      <td>27.50</td>\n",
       "      <td>False</td>\n",
       "      <td>5</td>\n",
       "    </tr>\n",
       "  </tbody>\n",
       "</table>\n",
       "</div>"
      ],
      "text/plain": [
       "            date  hour  rides  temp_C  is_holiday  day_of_week\n",
       "589   2011-01-27    20   54.0    2.20       False            3\n",
       "8643  2011-01-18     6    0.0   -0.90       False            1\n",
       "6707  2011-10-12    22   40.0   18.38       False            2\n",
       "4447  2011-07-09    21  151.0   32.50       False            5\n",
       "2715  2011-04-28    15  115.0   21.80       False            3\n",
       "2526  2011-04-20    18  381.0   27.80       False            2\n",
       "1798  2011-03-21     1    6.0    8.30       False            0\n",
       "6065  2011-09-16     3    4.0   13.05       False            4\n",
       "6037  2011-09-14    23   62.0   26.10       False            2\n",
       "5280  2011-08-13    15  206.0   27.50       False            5"
      ]
     },
     "execution_count": 35,
     "metadata": {},
     "output_type": "execute_result"
    }
   ],
   "source": [
    "rides_by_hour_with_holidays['day_of_week'] = [date.weekday() for date in rides_by_hour_with_holidays['date']]\n",
    "rides_by_hour_with_holidays.sample(n=10)"
   ]
  },
  {
   "cell_type": "code",
   "execution_count": 36,
   "metadata": {},
   "outputs": [],
   "source": [
    "# Monday is 0. So Sunday is 6, Saturday is 5\n",
    "rides_by_hour_with_holidays['is_weekend'] = rides_by_hour_with_holidays['day_of_week'].isin([5, 6])\n",
    "rides_by_hour_with_holidays['is_workingday'] = (\n",
    "    ~rides_by_hour_with_holidays['is_holiday'] & ~rides_by_hour_with_holidays['is_weekend'])"
   ]
  },
  {
   "cell_type": "code",
   "execution_count": 37,
   "metadata": {},
   "outputs": [
    {
     "name": "stdout",
     "output_type": "stream",
     "text": [
      "<class 'pandas.core.frame.DataFrame'>\n",
      "Int64Index: 8760 entries, 0 to 8759\n",
      "Data columns (total 8 columns):\n",
      "date             8760 non-null object\n",
      "hour             8760 non-null int64\n",
      "rides            8760 non-null float64\n",
      "temp_C           8759 non-null float64\n",
      "is_holiday       8760 non-null bool\n",
      "day_of_week      8760 non-null int64\n",
      "is_weekend       8760 non-null bool\n",
      "is_workingday    8760 non-null bool\n",
      "dtypes: bool(3), float64(2), int64(2), object(1)\n",
      "memory usage: 436.3+ KB\n"
     ]
    }
   ],
   "source": [
    "rides_by_hour_with_holidays.info()"
   ]
  },
  {
   "cell_type": "code",
   "execution_count": 38,
   "metadata": {},
   "outputs": [
    {
     "data": {
      "text/html": [
       "<div>\n",
       "<style scoped>\n",
       "    .dataframe tbody tr th:only-of-type {\n",
       "        vertical-align: middle;\n",
       "    }\n",
       "\n",
       "    .dataframe tbody tr th {\n",
       "        vertical-align: top;\n",
       "    }\n",
       "\n",
       "    .dataframe thead th {\n",
       "        text-align: right;\n",
       "    }\n",
       "</style>\n",
       "<table border=\"1\" class=\"dataframe\">\n",
       "  <thead>\n",
       "    <tr style=\"text-align: right;\">\n",
       "      <th></th>\n",
       "      <th>date</th>\n",
       "      <th>hour</th>\n",
       "      <th>rides</th>\n",
       "      <th>temp_C</th>\n",
       "      <th>is_holiday</th>\n",
       "      <th>day_of_week</th>\n",
       "      <th>is_weekend</th>\n",
       "      <th>is_workingday</th>\n",
       "    </tr>\n",
       "  </thead>\n",
       "  <tbody>\n",
       "    <tr>\n",
       "      <th>2906</th>\n",
       "      <td>2011-05-06</td>\n",
       "      <td>14</td>\n",
       "      <td>125.0</td>\n",
       "      <td>NaN</td>\n",
       "      <td>False</td>\n",
       "      <td>4</td>\n",
       "      <td>False</td>\n",
       "      <td>True</td>\n",
       "    </tr>\n",
       "  </tbody>\n",
       "</table>\n",
       "</div>"
      ],
      "text/plain": [
       "            date  hour  rides  temp_C  is_holiday  day_of_week  is_weekend  \\\n",
       "2906  2011-05-06    14  125.0     NaN       False            4       False   \n",
       "\n",
       "      is_workingday  \n",
       "2906           True  "
      ]
     },
     "execution_count": 38,
     "metadata": {},
     "output_type": "execute_result"
    }
   ],
   "source": [
    "rides_by_hour_with_holidays[rides_by_hour_with_holidays.temp_C.isna()]"
   ]
  },
  {
   "cell_type": "markdown",
   "metadata": {},
   "source": [
    "Oops, a missing temperature value.\n",
    "\n",
    "Let's impute it by interpolation. (`fillna(method='ffill')` would have been perfectly fine too.)"
   ]
  },
  {
   "cell_type": "code",
   "execution_count": 39,
   "metadata": {},
   "outputs": [],
   "source": [
    "rides_by_hour_with_holidays['temp_C'] = rides_by_hour_with_holidays.temp_C.interpolate(method=\"linear\")"
   ]
  },
  {
   "cell_type": "code",
   "execution_count": 40,
   "metadata": {},
   "outputs": [
    {
     "data": {
      "text/html": [
       "<div>\n",
       "<style scoped>\n",
       "    .dataframe tbody tr th:only-of-type {\n",
       "        vertical-align: middle;\n",
       "    }\n",
       "\n",
       "    .dataframe tbody tr th {\n",
       "        vertical-align: top;\n",
       "    }\n",
       "\n",
       "    .dataframe thead th {\n",
       "        text-align: right;\n",
       "    }\n",
       "</style>\n",
       "<table border=\"1\" class=\"dataframe\">\n",
       "  <thead>\n",
       "    <tr style=\"text-align: right;\">\n",
       "      <th></th>\n",
       "      <th>date</th>\n",
       "      <th>hour</th>\n",
       "      <th>rides</th>\n",
       "      <th>temp_C</th>\n",
       "      <th>is_holiday</th>\n",
       "      <th>day_of_week</th>\n",
       "      <th>is_weekend</th>\n",
       "      <th>is_workingday</th>\n",
       "    </tr>\n",
       "  </thead>\n",
       "  <tbody>\n",
       "    <tr>\n",
       "      <th>2900</th>\n",
       "      <td>2011-05-06</td>\n",
       "      <td>8</td>\n",
       "      <td>405.0</td>\n",
       "      <td>8.90</td>\n",
       "      <td>False</td>\n",
       "      <td>4</td>\n",
       "      <td>False</td>\n",
       "      <td>True</td>\n",
       "    </tr>\n",
       "    <tr>\n",
       "      <th>2901</th>\n",
       "      <td>2011-05-06</td>\n",
       "      <td>9</td>\n",
       "      <td>159.0</td>\n",
       "      <td>8.60</td>\n",
       "      <td>False</td>\n",
       "      <td>4</td>\n",
       "      <td>False</td>\n",
       "      <td>True</td>\n",
       "    </tr>\n",
       "    <tr>\n",
       "      <th>2902</th>\n",
       "      <td>2011-05-06</td>\n",
       "      <td>10</td>\n",
       "      <td>94.0</td>\n",
       "      <td>8.90</td>\n",
       "      <td>False</td>\n",
       "      <td>4</td>\n",
       "      <td>False</td>\n",
       "      <td>True</td>\n",
       "    </tr>\n",
       "    <tr>\n",
       "      <th>2903</th>\n",
       "      <td>2011-05-06</td>\n",
       "      <td>11</td>\n",
       "      <td>119.0</td>\n",
       "      <td>10.60</td>\n",
       "      <td>False</td>\n",
       "      <td>4</td>\n",
       "      <td>False</td>\n",
       "      <td>True</td>\n",
       "    </tr>\n",
       "    <tr>\n",
       "      <th>2904</th>\n",
       "      <td>2011-05-06</td>\n",
       "      <td>12</td>\n",
       "      <td>193.0</td>\n",
       "      <td>11.15</td>\n",
       "      <td>False</td>\n",
       "      <td>4</td>\n",
       "      <td>False</td>\n",
       "      <td>True</td>\n",
       "    </tr>\n",
       "    <tr>\n",
       "      <th>2905</th>\n",
       "      <td>2011-05-06</td>\n",
       "      <td>13</td>\n",
       "      <td>179.0</td>\n",
       "      <td>14.40</td>\n",
       "      <td>False</td>\n",
       "      <td>4</td>\n",
       "      <td>False</td>\n",
       "      <td>True</td>\n",
       "    </tr>\n",
       "    <tr>\n",
       "      <th>2906</th>\n",
       "      <td>2011-05-06</td>\n",
       "      <td>14</td>\n",
       "      <td>125.0</td>\n",
       "      <td>16.35</td>\n",
       "      <td>False</td>\n",
       "      <td>4</td>\n",
       "      <td>False</td>\n",
       "      <td>True</td>\n",
       "    </tr>\n",
       "    <tr>\n",
       "      <th>2907</th>\n",
       "      <td>2011-05-06</td>\n",
       "      <td>15</td>\n",
       "      <td>170.0</td>\n",
       "      <td>18.30</td>\n",
       "      <td>False</td>\n",
       "      <td>4</td>\n",
       "      <td>False</td>\n",
       "      <td>True</td>\n",
       "    </tr>\n",
       "    <tr>\n",
       "      <th>2908</th>\n",
       "      <td>2011-05-06</td>\n",
       "      <td>16</td>\n",
       "      <td>260.0</td>\n",
       "      <td>19.40</td>\n",
       "      <td>False</td>\n",
       "      <td>4</td>\n",
       "      <td>False</td>\n",
       "      <td>True</td>\n",
       "    </tr>\n",
       "    <tr>\n",
       "      <th>2909</th>\n",
       "      <td>2011-05-06</td>\n",
       "      <td>17</td>\n",
       "      <td>461.0</td>\n",
       "      <td>20.00</td>\n",
       "      <td>False</td>\n",
       "      <td>4</td>\n",
       "      <td>False</td>\n",
       "      <td>True</td>\n",
       "    </tr>\n",
       "  </tbody>\n",
       "</table>\n",
       "</div>"
      ],
      "text/plain": [
       "            date  hour  rides  temp_C  is_holiday  day_of_week  is_weekend  \\\n",
       "2900  2011-05-06     8  405.0    8.90       False            4       False   \n",
       "2901  2011-05-06     9  159.0    8.60       False            4       False   \n",
       "2902  2011-05-06    10   94.0    8.90       False            4       False   \n",
       "2903  2011-05-06    11  119.0   10.60       False            4       False   \n",
       "2904  2011-05-06    12  193.0   11.15       False            4       False   \n",
       "2905  2011-05-06    13  179.0   14.40       False            4       False   \n",
       "2906  2011-05-06    14  125.0   16.35       False            4       False   \n",
       "2907  2011-05-06    15  170.0   18.30       False            4       False   \n",
       "2908  2011-05-06    16  260.0   19.40       False            4       False   \n",
       "2909  2011-05-06    17  461.0   20.00       False            4       False   \n",
       "\n",
       "      is_workingday  \n",
       "2900           True  \n",
       "2901           True  \n",
       "2902           True  \n",
       "2903           True  \n",
       "2904           True  \n",
       "2905           True  \n",
       "2906           True  \n",
       "2907           True  \n",
       "2908           True  \n",
       "2909           True  "
      ]
     },
     "execution_count": 40,
     "metadata": {},
     "output_type": "execute_result"
    }
   ],
   "source": [
    "rides_by_hour_with_holidays.iloc[2900:2910]"
   ]
  },
  {
   "cell_type": "markdown",
   "metadata": {},
   "source": [
    "That looks reasonable."
   ]
  },
  {
   "cell_type": "code",
   "execution_count": 41,
   "metadata": {},
   "outputs": [
    {
     "name": "stdout",
     "output_type": "stream",
     "text": [
      "<class 'pandas.core.frame.DataFrame'>\n",
      "Int64Index: 8760 entries, 0 to 8759\n",
      "Data columns (total 8 columns):\n",
      "date             8760 non-null object\n",
      "hour             8760 non-null int64\n",
      "rides            8760 non-null float64\n",
      "temp_C           8760 non-null float64\n",
      "is_holiday       8760 non-null bool\n",
      "day_of_week      8760 non-null int64\n",
      "is_weekend       8760 non-null bool\n",
      "is_workingday    8760 non-null bool\n",
      "dtypes: bool(3), float64(2), int64(2), object(1)\n",
      "memory usage: 436.3+ KB\n"
     ]
    }
   ],
   "source": [
    "rides_by_hour_with_holidays.info()"
   ]
  },
  {
   "cell_type": "code",
   "execution_count": 42,
   "metadata": {},
   "outputs": [
    {
     "data": {
      "text/html": [
       "<div>\n",
       "<style scoped>\n",
       "    .dataframe tbody tr th:only-of-type {\n",
       "        vertical-align: middle;\n",
       "    }\n",
       "\n",
       "    .dataframe tbody tr th {\n",
       "        vertical-align: top;\n",
       "    }\n",
       "\n",
       "    .dataframe thead th {\n",
       "        text-align: right;\n",
       "    }\n",
       "</style>\n",
       "<table border=\"1\" class=\"dataframe\">\n",
       "  <thead>\n",
       "    <tr style=\"text-align: right;\">\n",
       "      <th></th>\n",
       "      <th>date</th>\n",
       "      <th>hour</th>\n",
       "      <th>rides</th>\n",
       "      <th>temp_C</th>\n",
       "      <th>is_holiday</th>\n",
       "      <th>day_of_week</th>\n",
       "      <th>is_weekend</th>\n",
       "      <th>is_workingday</th>\n",
       "    </tr>\n",
       "  </thead>\n",
       "  <tbody>\n",
       "    <tr>\n",
       "      <th>0</th>\n",
       "      <td>2011-01-01</td>\n",
       "      <td>0</td>\n",
       "      <td>13.0</td>\n",
       "      <td>5.60</td>\n",
       "      <td>False</td>\n",
       "      <td>5</td>\n",
       "      <td>True</td>\n",
       "      <td>False</td>\n",
       "    </tr>\n",
       "    <tr>\n",
       "      <th>1000</th>\n",
       "      <td>2011-02-14</td>\n",
       "      <td>12</td>\n",
       "      <td>97.0</td>\n",
       "      <td>9.15</td>\n",
       "      <td>False</td>\n",
       "      <td>0</td>\n",
       "      <td>False</td>\n",
       "      <td>True</td>\n",
       "    </tr>\n",
       "    <tr>\n",
       "      <th>2000</th>\n",
       "      <td>2011-03-29</td>\n",
       "      <td>16</td>\n",
       "      <td>119.0</td>\n",
       "      <td>8.30</td>\n",
       "      <td>False</td>\n",
       "      <td>1</td>\n",
       "      <td>False</td>\n",
       "      <td>True</td>\n",
       "    </tr>\n",
       "    <tr>\n",
       "      <th>3000</th>\n",
       "      <td>2011-05-10</td>\n",
       "      <td>12</td>\n",
       "      <td>166.0</td>\n",
       "      <td>14.45</td>\n",
       "      <td>False</td>\n",
       "      <td>1</td>\n",
       "      <td>False</td>\n",
       "      <td>True</td>\n",
       "    </tr>\n",
       "    <tr>\n",
       "      <th>4000</th>\n",
       "      <td>2011-06-21</td>\n",
       "      <td>6</td>\n",
       "      <td>105.0</td>\n",
       "      <td>21.95</td>\n",
       "      <td>False</td>\n",
       "      <td>1</td>\n",
       "      <td>False</td>\n",
       "      <td>True</td>\n",
       "    </tr>\n",
       "    <tr>\n",
       "      <th>5000</th>\n",
       "      <td>2011-08-01</td>\n",
       "      <td>22</td>\n",
       "      <td>113.0</td>\n",
       "      <td>30.00</td>\n",
       "      <td>False</td>\n",
       "      <td>0</td>\n",
       "      <td>False</td>\n",
       "      <td>True</td>\n",
       "    </tr>\n",
       "    <tr>\n",
       "      <th>6000</th>\n",
       "      <td>2011-09-13</td>\n",
       "      <td>10</td>\n",
       "      <td>92.0</td>\n",
       "      <td>18.90</td>\n",
       "      <td>False</td>\n",
       "      <td>1</td>\n",
       "      <td>False</td>\n",
       "      <td>True</td>\n",
       "    </tr>\n",
       "    <tr>\n",
       "      <th>7000</th>\n",
       "      <td>2011-10-25</td>\n",
       "      <td>4</td>\n",
       "      <td>4.0</td>\n",
       "      <td>12.80</td>\n",
       "      <td>False</td>\n",
       "      <td>1</td>\n",
       "      <td>False</td>\n",
       "      <td>True</td>\n",
       "    </tr>\n",
       "    <tr>\n",
       "      <th>8000</th>\n",
       "      <td>2011-12-05</td>\n",
       "      <td>21</td>\n",
       "      <td>160.0</td>\n",
       "      <td>13.90</td>\n",
       "      <td>False</td>\n",
       "      <td>0</td>\n",
       "      <td>False</td>\n",
       "      <td>True</td>\n",
       "    </tr>\n",
       "  </tbody>\n",
       "</table>\n",
       "</div>"
      ],
      "text/plain": [
       "            date  hour  rides  temp_C  is_holiday  day_of_week  is_weekend  \\\n",
       "0     2011-01-01     0   13.0    5.60       False            5        True   \n",
       "1000  2011-02-14    12   97.0    9.15       False            0       False   \n",
       "2000  2011-03-29    16  119.0    8.30       False            1       False   \n",
       "3000  2011-05-10    12  166.0   14.45       False            1       False   \n",
       "4000  2011-06-21     6  105.0   21.95       False            1       False   \n",
       "5000  2011-08-01    22  113.0   30.00       False            0       False   \n",
       "6000  2011-09-13    10   92.0   18.90       False            1       False   \n",
       "7000  2011-10-25     4    4.0   12.80       False            1       False   \n",
       "8000  2011-12-05    21  160.0   13.90       False            0       False   \n",
       "\n",
       "      is_workingday  \n",
       "0             False  \n",
       "1000           True  \n",
       "2000           True  \n",
       "3000           True  \n",
       "4000           True  \n",
       "5000           True  \n",
       "6000           True  \n",
       "7000           True  \n",
       "8000           True  "
      ]
     },
     "execution_count": 42,
     "metadata": {},
     "output_type": "execute_result"
    }
   ],
   "source": [
    "merged_data = rides_by_hour_with_holidays\n",
    "merged_data.iloc[::1000]"
   ]
  },
  {
   "cell_type": "code",
   "execution_count": 43,
   "metadata": {},
   "outputs": [],
   "source": [
    "assert len(merged_data) > 365 * 23\n",
    "assert 'date' in merged_data.columns\n",
    "assert 'hour' in merged_data.columns\n",
    "assert 'is_holiday' in merged_data.columns\n",
    "assert 'temp_C' in merged_data.columns\n",
    "assert 'rides' in merged_data.columns\n",
    "assert len(merged_data.dropna()) == len(merged_data)"
   ]
  }
 ],
 "metadata": {
  "kernelspec": {
   "display_name": "Python 3",
   "language": "python",
   "name": "python3"
  },
  "language_info": {
   "codemirror_mode": {
    "name": "ipython",
    "version": 3
   },
   "file_extension": ".py",
   "mimetype": "text/x-python",
   "name": "python",
   "nbconvert_exporter": "python",
   "pygments_lexer": "ipython3",
   "version": "3.7.3"
  }
 },
 "nbformat": 4,
 "nbformat_minor": 2
}
