{
  "cells": [
    {
      "cell_type": "markdown",
      "metadata": {},
      "source": [
        "# 09-06 - Lab practice 1\n",
        "\n",
        "# 1. test\n",
        "\n",
        "testing\n",
        "\n",
        "as"
      ],
      "id": "39e53d4b-1703-469f-98e7-c94064e64819"
    },
    {
      "cell_type": "code",
      "execution_count": 1,
      "metadata": {},
      "outputs": [],
      "source": [
        "x = 1"
      ],
      "id": "3a145a17"
    },
    {
      "cell_type": "markdown",
      "metadata": {},
      "source": [
        "testing"
      ],
      "id": "42903915-5592-41d6-8509-40c213200bb6"
    }
  ],
  "nbformat": 4,
  "nbformat_minor": 5,
  "metadata": {
    "kernelspec": {
      "name": "python3",
      "display_name": "Python 3 (ipykernel)",
      "language": "python",
      "path": "C:"
    },
    "language_info": {
      "name": "python",
      "codemirror_mode": {
        "name": "ipython",
        "version": "3"
      },
      "file_extension": ".py",
      "mimetype": "text/x-python",
      "nbconvert_exporter": "python",
      "pygments_lexer": "ipython3",
      "version": "3.12.4"
    }
  }
}