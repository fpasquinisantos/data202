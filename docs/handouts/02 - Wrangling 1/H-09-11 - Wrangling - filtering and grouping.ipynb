{
  "cells": [
    {
      "cell_type": "markdown",
      "metadata": {},
      "source": [
        "# 1. Filter by a Single Condition\n",
        "\n",
        "# 1. 09-11 - Wrangling - filtering and grouping (Handout)\n",
        "\n",
        "## Retrieval\n",
        "\n",
        "Our dataset for this class is about alcohol consumption by secondary\n",
        "school students. The data were obtained in a survey of students math and\n",
        "portuguese language courses, in two schools, and can be found at\n",
        "[Kaggle](https://www.kaggle.com/datasets/uciml/student-alcohol-consumption/data).\n",
        "\n",
        "Each row represents a student, and the columns are:\n",
        "\n",
        "-   school - student’s school (binary: ‘GP’ - Gabriel Pereira or ‘MS’ -\n",
        "    Mousinho da Silveira)\n",
        "-   sex - student’s sex (binary: ‘F’ - female or ‘M’ - male)\n",
        "-   age - student’s age (numeric: from 15 to 22)\n",
        "-   address - student’s home address type (binary: ‘U’ - urban or ‘R’ -\n",
        "    rural)\n",
        "-   famsize - family size (binary: ‘LE3’ - less or equal to 3 or ‘GT3’ -\n",
        "    greater than 3)\n",
        "-   Pstatus - parent’s cohabitation status (binary: ‘T’ - living\n",
        "    together or ‘A’ - apart)\n",
        "-   Medu - mother’s education (numeric: 0 - none, 1 - primary education\n",
        "    (4th grade), 2 – 5th to 9th grade, 3 – secondary education or 4 –\n",
        "    higher education)\n",
        "-   Fedu - father’s education (numeric: 0 - none, 1 - primary education\n",
        "    (4th grade), 2 – 5th to 9th grade, 3 – secondary education or 4 –\n",
        "    higher education)\n",
        "-   Mjob - mother’s job (nominal: ‘teacher’, ‘health’ care related,\n",
        "    civil ‘services’ (e.g. administrative or police), ‘at_home’ or\n",
        "    ‘other’)\n",
        "-   Fjob - father’s job (nominal: ‘teacher’, ‘health’ care related,\n",
        "    civil ‘services’ (e.g. administrative or police), ‘at_home’ or\n",
        "    ‘other’)\n",
        "-   reason - reason to choose this school (nominal: close to ‘home’,\n",
        "    school ‘reputation’, ‘course’ preference or ‘other’)\n",
        "-   guardian - student’s guardian (nominal: ‘mother’, ‘father’ or\n",
        "    ‘other’)\n",
        "-   traveltime - home to school travel time (numeric: 1 - \\<15 min., 2 -\n",
        "    15 to 30 min., 3 - 30 min. to 1 hour, or 4 - \\>1 hour)\n",
        "-   studytime - weekly study time (numeric: 1 - \\<2 hours, 2 - 2 to 5\n",
        "    hours, 3 - 5 to 10 hours, or 4 - \\>10 hours)\n",
        "-   failures - number of past class failures (numeric: n if 1\\<=n\\<3,\n",
        "    else 4)\n",
        "-   schoolsup - extra educational support (binary: yes or no)\n",
        "-   famsup - family educational support (binary: yes or no)\n",
        "-   paid - extra paid classes within the course subject (Math or\n",
        "    Portuguese) (binary: yes or no)\n",
        "-   activities - extra-curricular activities (binary: yes or no)\n",
        "-   nursery - attended nursery school (binary: yes or no)\n",
        "-   higher - wants to take higher education (binary: yes or no)\n",
        "-   internet - Internet access at home (binary: yes or no)\n",
        "-   romantic - with a romantic relationship (binary: yes or no)\n",
        "-   famrel - quality of family relationships (numeric: from 1 - very bad\n",
        "    to 5 - excellent)\n",
        "-   freetime - free time after school (numeric: from 1 - very low to 5 -\n",
        "    very high)\n",
        "-   goout - going out with friends (numeric: from 1 - very low to 5 -\n",
        "    very high)\n",
        "-   Dalc - workday alcohol consumption (numeric: from 1 - very low to\n",
        "    5 - very high)\n",
        "-   Walc - weekend alcohol consumption (numeric: from 1 - very low to\n",
        "    5 - very high)\n",
        "-   health - current health status (numeric: from 1 - very bad to 5 -\n",
        "    very good)\n",
        "-   absences - number of school absences (numeric: from 0 to 93)\n",
        "-   G1 - first period grade (numeric: from 0 to 20)\n",
        "-   G2 - second period grade (numeric: from 0 to 20)\n",
        "-   G3 - final grade (numeric: from 0 to 20, output target)\n",
        "\n",
        "Let’s retrieve what we learned last time:\n",
        "\n",
        "------------------------------------------------------------------------\n",
        "\n",
        "-   Load the CSV file (`student-mat.csv`) into a Pandas DataFrame named\n",
        "    `students`.\n",
        "\n",
        "------------------------------------------------------------------------\n",
        "\n",
        "-   Select and display the data for the student at index 5.\n",
        "\n",
        "------------------------------------------------------------------------\n",
        "\n",
        "-   Select and display the G3 column (final grade) for all students.\n",
        "\n",
        "------------------------------------------------------------------------\n",
        "\n",
        "-   Create a new column named `total_grade` which is the sum of G1 and\n",
        "    G2 and display the first few rows.\n",
        "\n",
        "------------------------------------------------------------------------\n",
        "\n",
        "-   Sort the DataFrame by age in ascending order and display the first\n",
        "    few rows.\n",
        "\n",
        "------------------------------------------------------------------------\n",
        "\n",
        "-   Calculate and display the mean of the G3 column (final grade).\n",
        "\n",
        "# 2. Filtering"
      ],
      "id": "dee9dd69-80a1-41ed-84c7-0259fd282cc8"
    },
    {
      "cell_type": "code",
      "execution_count": 2,
      "metadata": {},
      "outputs": [
        {
          "output_type": "display_data",
          "metadata": {},
          "data": {
            "text/html": [
              "\n",
              "<p>5 rows × 33 columns</p>\n",
              "</div>"
            ]
          }
        }
      ],
      "source": [
        "# Filter rows where 'age' is greater than 18\n",
        "students_age_filtered = students[students['age'] > 18]\n",
        "students_age_filtered.head()"
      ],
      "id": "bd35b4ee"
    },
    {
      "cell_type": "markdown",
      "metadata": {},
      "source": [
        "------------------------------------------------------------------------\n",
        "\n",
        "-   In the same way, let’s now filter rows where ‘G3’ is greater than\n",
        "    15."
      ],
      "id": "3e5f348c-1d7e-4e53-b4c7-ed844dd062ba"
    },
    {
      "cell_type": "raw",
      "metadata": {
        "raw_mimetype": "text/html"
      },
      "source": [
        "<!---\n",
        "```python\n",
        "students_grade_filtered = students[students['G3'] > 15]\n",
        "print(students_grade_filtered.head())\n",
        "```\n",
        "-->"
      ],
      "id": "a012176b-0793-45e3-a01f-ef4a138ba87f"
    },
    {
      "cell_type": "markdown",
      "metadata": {},
      "source": [
        "## 2. Filter by Multiple Conditions"
      ],
      "id": "15b35de2-32b8-446c-899c-b40bcfd7f617"
    },
    {
      "cell_type": "code",
      "execution_count": 3,
      "metadata": {},
      "outputs": [
        {
          "output_type": "display_data",
          "metadata": {},
          "data": {
            "text/html": [
              "\n",
              "<p>1 rows × 33 columns</p>\n",
              "</div>"
            ]
          }
        }
      ],
      "source": [
        "# Filter rows where 'age' > 18 and 'G3' > 15\n",
        "students_multiple_conditions = students[(students['age'] > 18) & (students['G3'] > 15)]\n",
        "students_multiple_conditions.head()"
      ],
      "id": "17e2adb3"
    },
    {
      "cell_type": "markdown",
      "metadata": {},
      "source": [
        "------------------------------------------------------------------------\n",
        "\n",
        "-   In the same way, let’s now filter rows where ‘age’ \\<= 18 OR\n",
        "    ‘studytime’ = 4."
      ],
      "id": "48c21d49-20d2-4be5-bf38-ddd5708dc3e6"
    },
    {
      "cell_type": "raw",
      "metadata": {
        "raw_mimetype": "text/html"
      },
      "source": [
        "<!---\n",
        "  ```python\n",
        "  # Filter rows where 'age' <= 18 or 'studytime' = 4\n",
        "  students_or_condition = students[(students['age'] <= 18) | (students['studytime'] == 4)]\n",
        "  print(students_or_condition.head())\n",
        "  ```\n",
        "-->"
      ],
      "id": "7ecda8de-dda1-4016-8c2f-3d9e0a373f53"
    },
    {
      "cell_type": "markdown",
      "metadata": {},
      "source": [
        "## 3. Filter by Categorical Column"
      ],
      "id": "4a4ac13d-bf54-43e6-8f03-c9d9bebb86d4"
    },
    {
      "cell_type": "code",
      "execution_count": 4,
      "metadata": {},
      "outputs": [
        {
          "output_type": "display_data",
          "metadata": {},
          "data": {
            "text/html": [
              "\n",
              "<p>5 rows × 33 columns</p>\n",
              "</div>"
            ]
          }
        }
      ],
      "source": [
        "# Filter rows where 'school' is 'GP'\n",
        "students_school_gp = students[students['school'] == 'GP']\n",
        "students_school_gp.head()"
      ],
      "id": "3c3156d5"
    },
    {
      "cell_type": "markdown",
      "metadata": {},
      "source": [
        "------------------------------------------------------------------------\n",
        "\n",
        "-   In the same way, let’s now filter rows where ‘activities’\n",
        "    (extra-curricular activities) is ‘yes’."
      ],
      "id": "1b810919-8e46-4e8d-9cca-5f0065f808f0"
    },
    {
      "cell_type": "raw",
      "metadata": {
        "raw_mimetype": "text/html"
      },
      "source": [
        "<!---\n",
        "  ```python\n",
        "  # Filter rows where 'activities' is 'yes'\n",
        "  students_activities_yes = students[students['activities'] == 'yes']\n",
        "  print(students_activities_yes.head())\n",
        "  ```\n",
        "-->"
      ],
      "id": "3a49afe7-999f-47a0-9ee8-96baf77567e8"
    },
    {
      "cell_type": "markdown",
      "metadata": {},
      "source": [
        "## Filtering with the `query()` method\n",
        "\n",
        "### 1. **Filter with `query()` Method**"
      ],
      "id": "a70cfd3f-d41d-4045-ad0e-48cd5514ad90"
    },
    {
      "cell_type": "code",
      "execution_count": 5,
      "metadata": {},
      "outputs": [
        {
          "output_type": "display_data",
          "metadata": {},
          "data": {
            "text/html": [
              "\n",
              "<p>5 rows × 33 columns</p>\n",
              "</div>"
            ]
          }
        }
      ],
      "source": [
        "# Filter using query method\n",
        "students_query = students.query(\"famsize == 'GT3' and famsup == 'no'\")\n",
        "students_query.head()"
      ],
      "id": "5a44a696"
    },
    {
      "cell_type": "markdown",
      "metadata": {},
      "source": [
        "------------------------------------------------------------------------\n",
        "\n",
        "-   In the same way, let’s now filter rows where `failures < 2` and\n",
        "    `higher == yes`."
      ],
      "id": "fd1b99a5-3320-4bdd-9c38-7205d4c12c50"
    },
    {
      "cell_type": "raw",
      "metadata": {
        "raw_mimetype": "text/html"
      },
      "source": [
        "<!---\n",
        "  ```python\n",
        "  # Filter using query method\n",
        "  students_query_education = students.query(\"failures < 2 and higher == 'yes'\")\n",
        "  print(students_query_education.head())\n",
        "  ```\n",
        "-->"
      ],
      "id": "8190a557-69c6-42a3-96b2-ee4f2517a15c"
    },
    {
      "cell_type": "markdown",
      "metadata": {},
      "source": [
        "## Key Points\n",
        "\n",
        "-   **Single Condition**: Use simple boolean conditions for basic\n",
        "    filtering.\n",
        "-   **Multiple Conditions**: Combine conditions using `&` (and) or `|`\n",
        "    (or) operators.\n",
        "-   **`query()` Method**: Use `query()` for a more readable and\n",
        "    expressive way to filter.\n",
        "\n",
        "# 3. Grouping / Aggregating\n",
        "\n",
        "## Why?\n",
        "\n",
        "-   Quickly compute summary statistics (e.g., mean, sum, count) across\n",
        "    different categories or groups.\n",
        "\n",
        "-   Thus, we can identify trends, patterns, or differences between\n",
        "    groups.\n",
        "\n",
        "-   Main idea:\n",
        "\n",
        "    1.  *Split* the data in groups\n",
        "    2.  *Apply* some operation (count, sum, mean, etc)\n",
        "    3.  *Combine* again in a new dataframe.\n",
        "\n",
        "## Example 1: Calculate mean of final grade (`G3`) for each school\n",
        "\n",
        "-   Let’s group by school:"
      ],
      "id": "a566f0a7-d9f8-4ae3-9dfb-ca90f47e8bb2"
    },
    {
      "cell_type": "code",
      "execution_count": 6,
      "metadata": {},
      "outputs": [
        {
          "output_type": "stream",
          "name": "stdout",
          "text": [
            "<pandas.core.groupby.generic.DataFrameGroupBy object at 0x7d5abcdcf370>\n",
            "<class 'pandas.core.groupby.generic.DataFrameGroupBy'>"
          ]
        }
      ],
      "source": [
        "# Group by 'school' and calculate mean of 'G3'\n",
        "students_grouped_school = students.groupby('school')\n",
        "print(students_grouped_school)\n",
        "print(type(students_grouped_school))"
      ],
      "id": "17d09fc1"
    },
    {
      "cell_type": "markdown",
      "metadata": {},
      "source": [
        "------------------------------------------------------------------------\n",
        "\n",
        "What is the following code doing?"
      ],
      "id": "e1a7af86-2909-46b2-908c-eb9545bdd40b"
    },
    {
      "cell_type": "code",
      "execution_count": 7,
      "metadata": {},
      "outputs": [
        {
          "output_type": "stream",
          "name": "stdout",
          "text": [
            "GP has students with mean age 16.521489971346703\n",
            "MS has students with mean age 18.02173913043478"
          ]
        }
      ],
      "source": [
        "for school, group in students.groupby(\"school\"):\n",
        "  print(school, \"has students with mean age\", group[\"age\"].mean())"
      ],
      "id": "2ef15460"
    },
    {
      "cell_type": "markdown",
      "metadata": {},
      "source": [
        "## Checking group size"
      ],
      "id": "86de6d19-261f-4018-bbb1-98110474e679"
    },
    {
      "cell_type": "code",
      "execution_count": 8,
      "metadata": {},
      "outputs": [
        {
          "output_type": "display_data",
          "metadata": {},
          "data": {
            "text/plain": [
              "school\n",
              "GP    349\n",
              "MS     46\n",
              "dtype: int64"
            ]
          }
        }
      ],
      "source": [
        "students.groupby(\"school\").size()"
      ],
      "id": "23dcbfe4"
    },
    {
      "cell_type": "code",
      "execution_count": 9,
      "metadata": {},
      "outputs": [
        {
          "output_type": "display_data",
          "metadata": {},
          "data": {
            "text/plain": [
              "school  sex\n",
              "GP      F      183\n",
              "        M      166\n",
              "MS      F       25\n",
              "        M       21\n",
              "dtype: int64"
            ]
          }
        }
      ],
      "source": [
        "students.groupby([\"school\", \"sex\"]).size()"
      ],
      "id": "afd078a7"
    },
    {
      "cell_type": "markdown",
      "metadata": {},
      "source": [
        "## Aggregating"
      ],
      "id": "50a06cda-ea7b-49e9-9e8e-f507e0a99b3b"
    },
    {
      "cell_type": "code",
      "execution_count": 10,
      "metadata": {},
      "outputs": [
        {
          "output_type": "display_data",
          "metadata": {},
          "data": {
            "text/html": [
              "\n",
              "</div>"
            ]
          }
        }
      ],
      "source": [
        "students_by_school = (\n",
        "  students\n",
        "  .groupby(\"school\", as_index=False)\n",
        "  .agg(mean_G3=('G3', 'mean'))\n",
        ")\n",
        "students_by_school"
      ],
      "id": "ec24d45e"
    },
    {
      "cell_type": "markdown",
      "metadata": {},
      "source": [
        "## Lazy method"
      ],
      "id": "47da9aed-5845-47c9-9e23-51180c6909da"
    },
    {
      "cell_type": "code",
      "execution_count": 11,
      "metadata": {},
      "outputs": [
        {
          "output_type": "display_data",
          "metadata": {},
          "data": {
            "text/plain": [
              "school  sex\n",
              "GP      F       9.972678\n",
              "        M      11.060241\n",
              "MS      F       9.920000\n",
              "        M       9.761905\n",
              "Name: G3, dtype: float64"
            ]
          }
        }
      ],
      "source": [
        "students.groupby([\"school\", \"sex\"])['G3'].mean()"
      ],
      "id": "c626c099"
    },
    {
      "cell_type": "markdown",
      "metadata": {},
      "source": [
        "-   Problem: not so easy to understand, and doesn’t set the right column\n",
        "    name!\n",
        "\n",
        "------------------------------------------------------------------------\n",
        "\n",
        "Your turn: let’s now group by `sex` and calculate average age. Test the\n",
        "more explicit and the more lazy methods."
      ],
      "id": "d5687f78-eb56-4817-a7ef-8f5cd20d776c"
    },
    {
      "cell_type": "raw",
      "metadata": {
        "raw_mimetype": "text/html"
      },
      "source": [
        "<!---\n",
        "    ```python\n",
        "    # Group by 'sex' and calculate mean age\n",
        "    students_grouped_sex = students.groupby('sex')['age'].mean()\n",
        "    print(students_grouped_sex)\n",
        "    ```\n",
        "-->"
      ],
      "id": "52a1f811-e3a4-466e-a1b9-dd4ec2085698"
    },
    {
      "cell_type": "markdown",
      "metadata": {},
      "source": [
        "## Grouping by multiple columns"
      ],
      "id": "d2ebccb0-ad44-4f13-a200-03795526c18d"
    },
    {
      "cell_type": "code",
      "execution_count": 12,
      "metadata": {},
      "outputs": [
        {
          "output_type": "display_data",
          "metadata": {},
          "data": {
            "text/html": [
              "\n",
              "</div>"
            ]
          }
        }
      ],
      "source": [
        "# Group by 'school' and 'sex' and calculate mean of 'G3'\n",
        "students_grouped_school_sex = (\n",
        "    students\n",
        "    .groupby(['school', 'sex'])\n",
        "    .agg(mean_G3=('G3', 'mean'))\n",
        ")\n",
        "students_grouped_school_sex"
      ],
      "id": "578ab29e"
    },
    {
      "cell_type": "markdown",
      "metadata": {},
      "source": [
        "## Custom Aggregation with `agg()`"
      ],
      "id": "2e422923-ee24-4574-993e-8af6191c8ea0"
    },
    {
      "cell_type": "code",
      "execution_count": 13,
      "metadata": {},
      "outputs": [
        {
          "output_type": "stream",
          "name": "stdout",
          "text": [
            "             mean  max  <lambda_0>\n",
            "school                            \n",
            "GP      10.489971   20   11.489971\n",
            "MS       9.847826   19   10.847826"
          ]
        }
      ],
      "source": [
        "# Custom aggregation functions\n",
        "custom_agg = students.groupby('school')['G3'].agg(['mean', 'max', lambda x: x.mean() + 1])\n",
        "print(custom_agg)"
      ],
      "id": "bc2aa06d"
    },
    {
      "cell_type": "markdown",
      "metadata": {},
      "source": [
        "## Multiple functions with `agg()`"
      ],
      "id": "a7549613-9999-4535-abc3-e78224501889"
    },
    {
      "cell_type": "code",
      "execution_count": 14,
      "metadata": {},
      "outputs": [
        {
          "output_type": "stream",
          "name": "stdout",
          "text": [
            "              age                G3              \n",
            "             mean median       mean       std max\n",
            "school                                           \n",
            "GP      16.521490   16.0  10.489971  4.625397  20\n",
            "MS      18.021739   18.0   9.847826  4.237229  19"
          ]
        }
      ],
      "source": [
        "# Aggregation with multiple functions\n",
        "multi_agg = students.groupby('school').agg({\n",
        "  'age': ['mean', 'median'],\n",
        "  'G3': ['mean', 'std', 'max']\n",
        "})\n",
        "print(multi_agg)"
      ],
      "id": "6f5996a7"
    },
    {
      "cell_type": "markdown",
      "metadata": {},
      "source": [
        "# 4. Exploratory Data Analysis\n",
        "\n",
        "## \n",
        "\n",
        "-   A first look at the dataset, in order to visualize and summarize\n",
        "    their main characteristics\n",
        "    -   Understand the data structure, detect patterns, identify\n",
        "        anomalies, test hypotheses, and check assumptions.\n",
        "\n",
        "------------------------------------------------------------------------\n",
        "\n",
        "-   In our student dataset, we can ask, for example:\n",
        "    -   What is the distribution of student ages?\n",
        "    -   How many students are in each school (‘GP’ vs. ‘MS’)?\n",
        "    -   Do male and female students have different average grades?\n",
        "    -   How do grades vary based on the mother’s education level (Medu)?\n",
        "    -   Does having internet access at home influence grades?\n",
        "    -   What is the relationship between family educational support\n",
        "        (famsup) and student performance?\n",
        "    -   Does the family relationship quality (famrel) affect free time\n",
        "        or study time?\n",
        "\n",
        "------------------------------------------------------------------------\n",
        "\n",
        "-   Let’s try to create some visualizations for these questions!\n",
        "\n",
        "# 5. Love and visilibily\n",
        "\n",
        "Hagar, who is Sarah’s Egyptian servant, flees into the desert after\n",
        "mistreatment by Sarah. There, she encounters an angel of the Lord who\n",
        "speaks to her and points to a fountain of water. In response to this\n",
        "divine encounter, Hagar declares:\n",
        "\n",
        "> “So she called the name of the Lord who spoke to her, ‘You are a God\n",
        "> of seeing,’ for she said, ‘Truly here I have seen him who looks after\n",
        "> me.’” — Genesis 16:13 (ESV)\n",
        "\n",
        "------------------------------------------------------------------------\n",
        "\n",
        "What if we understand data collection and dissemination as a form of\n",
        "love and compassion?\n",
        "\n",
        "> “The common gaze is surveillance for the common good, inflected with a\n",
        "> preferential optic for those who are poor.” (Eric Stoddard, p. 41)\n",
        "\n",
        "> “Corporations accumulate vast domains of new knowledge from us, but\n",
        "> not for us.” (p. 11)\n",
        "\n",
        "-   What is, instead of watching people, we could “watch for”, “watch\n",
        "    with”, and “watch over” people?\n",
        "\n",
        "![](attachment:../../img/commongaze.jpg)\n",
        "\n",
        "------------------------------------------------------------------------\n",
        "\n",
        "-   Maybe we could call that “comveillance”: the practice of watching\n",
        "    with one another in solidarity.\n",
        "-   Privacy is not an absolute value: crime and injustice needs to be\n",
        "    brought to light!\n",
        "-   The question could be: **who is allowed to watch whom?**"
      ],
      "attachments": {
        "../../img/commongaze.jpg": {
          "image/jpeg": "[encoded data removed]"
        }
      },
      "id": "3b6c9fc4-c2bc-4188-8aa7-f20704125af7"
    }
  ],
  "nbformat": 4,
  "nbformat_minor": 5,
  "metadata": {
    "kernelspec": {
      "name": "python3",
      "display_name": "Python 3 (ipykernel)",
      "language": "python",
      "path": "/home/fernandopasquini/.local/share/jupyter/kernels/python3"
    },
    "language_info": {
      "name": "python",
      "codemirror_mode": {
        "name": "ipython",
        "version": "3"
      },
      "file_extension": ".py",
      "mimetype": "text/x-python",
      "nbconvert_exporter": "python",
      "pygments_lexer": "ipython3",
      "version": "3.10.12"
    }
  }
}