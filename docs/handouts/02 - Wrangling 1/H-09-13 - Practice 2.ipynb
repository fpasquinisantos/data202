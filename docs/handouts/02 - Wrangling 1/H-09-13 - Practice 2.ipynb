{
  "cells": [
    {
      "cell_type": "markdown",
      "metadata": {},
      "source": [
        "# \n",
        "\n",
        "# 1. 09-13 - Lab practice 2 (Handout)"
      ],
      "id": "7efe4fa2-b555-471d-827d-0f1f7b16582d"
    }
  ],
  "nbformat": 4,
  "nbformat_minor": 5,
  "metadata": {
    "kernelspec": {
      "display_name": "Python 3",
      "language": "python",
      "name": "python3"
    }
  }
}